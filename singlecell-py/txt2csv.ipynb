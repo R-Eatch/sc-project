{
 "cells": [
  {
   "cell_type": "code",
   "execution_count": 22,
   "id": "8a3a675f-bebb-43c6-8268-107c587528d4",
   "metadata": {},
   "outputs": [],
   "source": [
    "import pandas as pd\n",
    "import os"
   ]
  },
  {
   "cell_type": "code",
   "execution_count": 23,
   "id": "92e75c5f-00a2-4f11-85a7-0450d4494859",
   "metadata": {},
   "outputs": [],
   "source": [
    "name = 'KEGG'\n",
    "path= '/public/home/sunxuebo2023/project/CHAO/'"
   ]
  },
  {
   "cell_type": "code",
   "execution_count": 24,
   "id": "5b4e47ca-def6-4e13-bc82-58e988461906",
   "metadata": {},
   "outputs": [],
   "source": [
    "def txttocsv(name,path):\n",
    "    df = pd.read_csv(f'{path}{name}.txt',encoding='UTF-8',sep='\\t')\n",
    "    df.to_csv(f'{path}{name}.csv',index=False)"
   ]
  },
  {
   "cell_type": "code",
   "execution_count": 25,
   "id": "9c063faf-442a-4d4e-903f-450ffa4b5a06",
   "metadata": {},
   "outputs": [],
   "source": [
    "#txttocsv(name,path)"
   ]
  },
  {
   "cell_type": "code",
   "execution_count": 26,
   "id": "8f61a091-cbd8-436c-9fd9-6e7ab0c08c59",
   "metadata": {},
   "outputs": [],
   "source": [
    "for filename in os.listdir(path):\n",
    "    if filename.endswith('txt'):\n",
    "        name=os.path.splitext(filename)[0]\n",
    "        txttocsv(name,path)"
   ]
  }
 ],
 "metadata": {
  "kernelspec": {
   "display_name": "Python 3 (ipykernel)",
   "language": "python",
   "name": "python3"
  },
  "language_info": {
   "codemirror_mode": {
    "name": "ipython",
    "version": 3
   },
   "file_extension": ".py",
   "mimetype": "text/x-python",
   "name": "python",
   "nbconvert_exporter": "python",
   "pygments_lexer": "ipython3",
   "version": "3.11.11"
  }
 },
 "nbformat": 4,
 "nbformat_minor": 5
}
