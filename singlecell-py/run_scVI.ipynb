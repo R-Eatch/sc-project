{
 "cells": [
  {
   "cell_type": "code",
   "execution_count": null,
   "id": "c0c748e3-e8b0-46ce-9b57-85ae3c612fab",
   "metadata": {},
   "outputs": [],
   "source": [
    "import scanpy as  sc\n",
    "import anndata as ad\n",
    "import matplotlib.pyplot as plt\n",
    "import pandas as pd\n",
    "import numpy as np\n",
    "import random\n",
    "import os\n",
    "import tempfile\n",
    "import scvi\n",
    "import seaborn as sns\n",
    "import torch\n",
    "from rich import print\n",
    "from scib_metrics.benchmark import Benchmarker"
   ]
  },
  {
   "cell_type": "code",
   "execution_count": null,
   "id": "9fed97bb-91db-4930-bd73-e3ab35cf86da",
   "metadata": {},
   "outputs": [],
   "source": [
    "def run_scvi(adata,batch,res):\n",
    "    scvi.model.SCVI.setup_anndata(adata, batch_key=batch)\n",
    "    model = scvi.model.SCVI(adata, n_layers=2, n_latent=30, gene_likelihood=\"nb\")\n",
    "    model.train()\n",
    "    SCVI_LATENT_KEY = \"X_scVI\"\n",
    "    adata.obsm[SCVI_LATENT_KEY] = model.get_latent_representation()\n",
    "    return(adata)"
   ]
  },
  {
   "cell_type": "code",
   "execution_count": null,
   "id": "8e377fcd-b5af-4011-8772-bf04a564998a",
   "metadata": {},
   "outputs": [],
   "source": [
    "###global variable###\n",
    "PCs = 10 \n",
    "res = 0.2\n",
    "dataset1='R-MG'\n",
    "dataset2='R-AG'\n",
    "dataset = 'R-MAG'\n",
    "path1=f\"../../{dataset1}/1.subset/{dataset1}_cleaned.h5ad\"\n",
    "path2=f\"../../{dataset2}/1.subset/{dataset2}_cleaned.h5ad\"\n",
    "vars_use = ['gland', 'stage']\n",
    "random.seed(12345)\n",
    "np.random.seed(12345)\n",
    "NewCellType = {\n",
    "    \"StemCells\": [0,5,6]\n",
    "}\n",
    "Featuregenes = ['Esr1','Epcam','Top2a','Acta2','Prlr','Tcf4','Ar','Lalba','Elf5','Gata3']\n",
    "doFeatureplot = True\n",
    "subset_celltype = True\n",
    "re_find_hvgenes = True\n",
    "random_state=2024\n",
    "celltypelist = ['Lum-Immun-like','Lum-Ker-like','Lum-Fibro-like']\n",
    "sc.settings.figdir = ''\n",
    "#########################"
   ]
  },
  {
   "cell_type": "code",
   "execution_count": null,
   "id": "3882cac5-9ff4-452a-8dc9-95dbce889e3d",
   "metadata": {},
   "outputs": [],
   "source": [
    "adata1 = sc.read_h5ad(path1)\n",
    "adata2 = sc.read_h5ad(path2)"
   ]
  },
  {
   "cell_type": "code",
   "execution_count": null,
   "id": "3ccd1a06-6c29-4426-8a5a-08c16b27395b",
   "metadata": {},
   "outputs": [],
   "source": [
    "adata1.obs = adata1.obs.drop(columns=[\"cellid\"])\n",
    "adata2.obs = adata2.obs.drop(columns=[\"cellid\"])"
   ]
  },
  {
   "cell_type": "code",
   "execution_count": null,
   "id": "8f6dfa6e-143c-496d-8f78-963c82a9e03d",
   "metadata": {},
   "outputs": [],
   "source": [
    "if subset_celltype:\n",
    "    adata1 = subsetcelltype(adata1,celltypelist)\n",
    "    adata2 = subsetcelltype(adata2,celltypelist)\n",
    "    unique_gland = '-'.join(adata1.obs['gland'].unique().tolist())\n",
    "    adata1.obs['newcelltype'] = [unique_gland + '-' + str(newtype) for newtype in adata1.obs['newcelltype']]\n",
    "    unique_gland = '-'.join(adata2.obs['gland'].unique().tolist())\n",
    "    adata2.obs['newcelltype'] = [unique_gland + '-' + str(newtype) for newtype in adata2.obs['newcelltype']]"
   ]
  },
  {
   "cell_type": "code",
   "execution_count": null,
   "id": "b67fe829-d6a6-449c-89f9-3ac98b3c1f48",
   "metadata": {},
   "outputs": [],
   "source": [
    "adata_combined = adata1.concatenate(adata2,batch_key = 'glandbatch')"
   ]
  },
  {
   "cell_type": "code",
   "execution_count": null,
   "id": "8fb1ef95-d749-4d9d-b2d3-620416be168d",
   "metadata": {},
   "outputs": [],
   "source": [
    "if re_find_hvgenes:\n",
    "    adata_combined.X = adata_combined.layers['normalized']\n",
    "    # Normalizing to median total counts\n",
    "    sc.pp.normalize_total(adata_combined,target_sum= 1e4)\n",
    "    # Logarithmize the data\n",
    "    sc.pp.log1p(adata_combined)\n",
    "    print('Finish normalized')\n",
    "    sc.pp.highly_variable_genes(adata_combined, n_top_genes=2000)\n",
    "    print('Finish Varible genes')\n",
    "    #sc.pp.scale(adata_combined,max_value=10)"
   ]
  },
  {
   "cell_type": "code",
   "execution_count": null,
   "id": "aa348035-1b7c-4ce7-9f72-1ddd22652dfd",
   "metadata": {},
   "outputs": [],
   "source": [
    "run_scvi(adata=adata_combined,batch='glandbatch',res=res)"
   ]
  },
  {
   "cell_type": "code",
   "execution_count": null,
   "id": "de458fe1-6079-4722-ac6b-7b5afba99498",
   "metadata": {},
   "outputs": [],
   "source": [
    "sc.pp.neighbors(adata_combined,use_rep=SCVI_LATENT_KEY,random_state=random_state)\n",
    "sc.tl.leiden(adata_combined,resolution = res,random_state=random_state)\n",
    "print('Finish clustering')\n",
    "sc.tl.umap(adata_combined,random_state=random_state)\n",
    "print('Finish UMAP')"
   ]
  },
  {
   "cell_type": "code",
   "execution_count": null,
   "id": "fadf12fa-f1b5-456a-9bf7-6b6c197479b5",
   "metadata": {},
   "outputs": [],
   "source": [
    "sc.pl.umap(\n",
    "        adata_combined,\n",
    "        color=[\"newcelltype\", \"celltype\", \"stage\",'sample','leiden','gland'],\n",
    "        # increase horizontal space between panels\n",
    "        wspace=0.5,\n",
    "        size=3,\n",
    "    ncols=3,\n",
    "    save=f'{dataset}_merged_celltype.png',\n",
    "    color_map='viridis'\n",
    "    )"
   ]
  },
  {
   "cell_type": "code",
   "execution_count": null,
   "id": "ddb8b21d-d080-4b87-bb9e-0e953131f189",
   "metadata": {},
   "outputs": [],
   "source": [
    "adata_combined.write(f'{dataset}_cleaned.h5ad')"
   ]
  }
 ],
 "metadata": {
  "kernelspec": {
   "display_name": "Python 3.10 Scanpy",
   "language": "python",
   "name": "py310"
  },
  "language_info": {
   "codemirror_mode": {
    "name": "ipython",
    "version": 3
   },
   "file_extension": ".py",
   "mimetype": "text/x-python",
   "name": "python",
   "nbconvert_exporter": "python",
   "pygments_lexer": "ipython3",
   "version": "3.10.15"
  }
 },
 "nbformat": 4,
 "nbformat_minor": 5
}
