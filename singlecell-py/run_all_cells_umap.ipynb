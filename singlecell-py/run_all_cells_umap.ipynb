{
 "cells": [
  {
   "cell_type": "code",
   "execution_count": 4,
   "id": "a734f4cc-b105-4def-b482-c2a1702a7b04",
   "metadata": {},
   "outputs": [
    {
     "name": "stdout",
     "output_type": "stream",
     "text": [
      "import successful\n"
     ]
    }
   ],
   "source": [
    "import scanpy as sc\n",
    "import pandas as pd\n",
    "import numpy as np\n",
    "import matplotlib.pyplot as plt\n",
    "from scipy.stats import spearmanr\n",
    "import scipy\n",
    "import scanpy as  sc\n",
    "import anndata as ad\n",
    "import warnings\n",
    "import seaborn as sns\n",
    "warnings.filterwarnings(\"ignore\", category=UserWarning, message=\"ImplicitModificationWarning\")\n",
    "print('import successful')"
   ]
  },
  {
   "cell_type": "code",
   "execution_count": null,
   "id": "b567784d-1fda-47c7-8b7d-d8e54d2eba31",
   "metadata": {},
   "outputs": [],
   "source": [
    "####global variable####\n",
    "path=\"../../h5ad2seurat/allspecies_v8_nosg_raw_re2.h5ad\""
   ]
  },
  {
   "cell_type": "code",
   "execution_count": 1,
   "id": "6de8639e-327c-4895-9f58-49cd7d8c4ba5",
   "metadata": {},
   "outputs": [],
   "source": [
    "def draw_umap_plot(adata,dataset):\n",
    "    sc.settings.figdir = ''\n",
    "    sc.pl.umap(\n",
    "        adata,\n",
    "        color=[\"celltype\", \"species\", \"stage\",'sample','leiden','gland'],\n",
    "        # increase horizontal space between panels\n",
    "        wspace=0.5,\n",
    "        size=3,\n",
    "    ncols=3,\n",
    "    save=f'{dataset}_ac_celltype.png',\n",
    "    color_map='viridis'\n",
    "    )\n",
    "    plt.close()"
   ]
  },
  {
   "cell_type": "code",
   "execution_count": 2,
   "id": "2fb803b2-d457-4e24-b4c2-9f82fbeb97ac",
   "metadata": {},
   "outputs": [],
   "source": [
    "def do_DEG(ea,dataset):\n",
    "    sc.tl.rank_genes_groups(ea,groupby='celltype',method = 'wilcoxon')\n",
    "    sc.pl.rank_genes_groups_dotplot(ea,groupby='celltype',n_genes=5,save=f'{dataset}_ac_dotplot.png',min_logfoldchange=0.25)\n",
    "    plt.close()"
   ]
  },
  {
   "cell_type": "code",
   "execution_count": 3,
   "id": "d6fdab1f-769d-49b4-9b56-2851686a57ae",
   "metadata": {},
   "outputs": [],
   "source": [
    "def do_cell_barplot(ea,dataset):\n",
    "    celltype_counts = ea.obs.groupby(['stage', 'celltype']).size().unstack(fill_value=0)\n",
    "    celltype_percentages = celltype_counts.div(celltype_counts.sum(axis=1), axis=0) * 100\n",
    "    celltype_percentages_long = celltype_percentages.reset_index().melt(id_vars='stage', var_name='Celltype', value_name='Percentage')\n",
    "    default_palette = ea.uns['newcelltype_colors']\n",
    "    plt.figure(figsize=(14, 8))\n",
    "    sns.set(style=\"whitegrid\")\n",
    "    \n",
    "    times = celltype_percentages.index\n",
    "    cell_types = celltype_percentages.columns\n",
    "    \n",
    "    colors = sns.color_palette(\"magma\", len(cell_types))\n",
    "    colors = default_palette\n",
    "    \n",
    "    bottom = pd.Series([0] * len(times), index=times)\n",
    "    \n",
    "    \n",
    "    fig3, ax = plt.subplots(figsize=(14, 8))\n",
    "    \n",
    "    for cell_type, color in zip(cell_types, colors):\n",
    "        percentages = celltype_percentages[cell_type]\n",
    "        ax.bar(times, percentages, bottom=bottom, color=color, label=cell_type)\n",
    "        bottom += percentages\n",
    "    \n",
    "    ax.set_title(f'Percentage of Each Celltype Over Time - {dataset}', fontsize=16)\n",
    "    ax.set_xlabel('Stage', fontsize=14)\n",
    "    ax.set_ylabel('Percentage', fontsize=14)\n",
    "    \n",
    "    ax.legend(title='Celltype', bbox_to_anchor=(1.05, 1), loc='upper left')\n",
    "    \n",
    "    plt.xticks(rotation=45)\n",
    "    plt.tight_layout()\n",
    "    plt.show()\n",
    "    fig3.savefig(f\"{dataset}_ac_bar_plot.png\")\n",
    "    plt.close()"
   ]
  },
  {
   "cell_type": "code",
   "execution_count": null,
   "id": "0d40d95b-26ad-4155-a355-5b979aa3a077",
   "metadata": {},
   "outputs": [],
   "source": [
    "def split_h5ad_file(input_file):\n",
    "    adata = sc.read_h5ad(input_file)\n",
    "    conditions = {\n",
    "        \"M-MG\": (adata.obs['species'] == \"M\") & (adata.obs['gland'] == \"MG\"),\n",
    "        \"R-MG\": (adata.obs['species'] == \"R\") & (adata.obs['gland'] == \"MG\"),\n",
    "        \"R-AG\": (adata.obs['species'] == \"R\") & (adata.obs['gland'] == \"AG\"),\n",
    "        \"S-MG\": (adata.obs['species'] == \"S\") & (adata.obs['gland'] == \"MG\"),\n",
    "        \"S-AG\": (adata.obs['species'] == \"S\") & (adata.obs['gland'] == \"AG\"),\n",
    "        \"R-CG\": (adata.obs['species'] == \"R\") & (adata.obs['gland'] == \"CG\")\n",
    "    }\n",
    "    sc.settings.figdir = ''\n",
    "    for i, (group_name, condition) in enumerate(conditions.items()):\n",
    "        subset_adata = adata[condition].copy()\n",
    "        # 在每个子图中绘制 UMAP 图\n",
    "        sc.pl.umap(subset_adata,\n",
    "                   color=[\"celltype\"],\n",
    "                   title=group_name,  \n",
    "                   show=True\n",
    "                  save=f'{group_name}_ac1.png')  \n",
    "\n",
    "        # 调用其他函数并保存图像，但不影响当前子图\n",
    "        draw_umap_plot(subset_adata, group_name)  # 其他绘图函数会保存自己的图像\n",
    "        do_DEG(subset_adata, group_name)          # DEG 绘图函数会保存自己的图像\n",
    "        do_cell_barplot(subset_adata, group_name) # 条形图绘图函数会保存自己的图像\n",
    "\n",
    "    plt.close()\n"
   ]
  },
  {
   "cell_type": "code",
   "execution_count": null,
   "id": "ee1d7ef6-7de0-4ad7-896e-d0185f2914d9",
   "metadata": {},
   "outputs": [],
   "source": [
    "if __name__ == \"__main__\":\n",
    "    split_h5ad_file(path)"
   ]
  }
 ],
 "metadata": {
  "kernelspec": {
   "display_name": "Python 3.10 Scanpy",
   "language": "python",
   "name": "py310"
  },
  "language_info": {
   "codemirror_mode": {
    "name": "ipython",
    "version": 3
   },
   "file_extension": ".py",
   "mimetype": "text/x-python",
   "name": "python",
   "nbconvert_exporter": "python",
   "pygments_lexer": "ipython3",
   "version": "3.10.15"
  }
 },
 "nbformat": 4,
 "nbformat_minor": 5
}
