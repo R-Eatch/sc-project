{
 "cells": [
  {
   "cell_type": "code",
   "execution_count": 1,
   "id": "67624a38-4f6f-44bf-9f60-f00491191bd4",
   "metadata": {},
   "outputs": [],
   "source": [
    "import loompy\n",
    "import scvelo as scv\n",
    "import scanpy as sc\n",
    "import os\n",
    "import re\n",
    "import pandas as pd\n",
    "import numpy as np\n",
    "from scipy.sparse import csr_matrix"
   ]
  },
  {
   "cell_type": "code",
   "execution_count": 2,
   "id": "13449522-f6ae-4ee8-b9cc-71f634e0dbfd",
   "metadata": {},
   "outputs": [
    {
     "name": "stdout",
     "output_type": "stream",
     "text": [
      "Running scvelo 0.3.2 (python 3.10.15) on 2024-11-20 10:16.\n"
     ]
    }
   ],
   "source": [
    "scv.logging.print_version()\n",
    "\n",
    "scv.settings.verbosity = 3  # show errors(0), warnings(1), info(2), hints(3)\n",
    "scv.settings.presenter_view = True  # set max width size for presenter view\n",
    "scv.set_figure_params('scvelo')  # for beautified visualization"
   ]
  },
  {
   "cell_type": "code",
   "execution_count": null,
   "id": "90bb2ec9-a5ff-42d6-9542-540f32827060",
   "metadata": {},
   "outputs": [],
   "source": [
    "###global variable###\n",
    "\n",
    "#mapping_dict = {'S-MG-3MTH': 'S-3MTh-MG-v','S-MG-8M-3': 'S-8M-MG-3-v','S-MG-8M-4': 'S-8M-MG-4-v','S-MG-GES14': 'S-GES14-MG','S-MG-LA14': 'S-LA14-MG','S-MG-P20': 'S-P20-MG-v','S-MG-P7': 'S-P7-MG-v'}\n",
    "#mapping_dict = { 'S-AG-1MTH-1': 'SG-AG-1Mth-1-v','S-AG-1MTH-2': 'SG-AG-1Mth-2-v','S-AG-8M-2': 'S-8m-AG-2-v','S-AG-8M-3': 'S-8m-AG-3-v','S-AG-GES14': 'S-GES14-AG', 'S-AG-LA-1': 'SG-LA-AG-1-v','S-AG-LA-2': 'SG-LA-AG-2-v', 'S-AG-P20': 'S-P20-AG-v'}\n",
    "#mapping_dict = { 'M-MG-3WK-1': 'MG-3WK-1', 'M-MG-3WK-2': 'MG-3WK-2','M-MG-8WK-1': 'MG-8WK-1','M-MG-8WK-2': 'MG-8WK-2','M-MG-E13_5': 'M-E13_5-MG','M-MG-E16_5': 'M-E16-5-MG','M-MG-GES13_5': 'M-GES13_5-MG','M-MG-GES16_5': 'M-GES16-5-SG','M-MG-LA-1': 'M-LA-MG-1','M-MG-LA-2': 'M-LA-MG-2', 'M-MG-P1': 'M-P1-MG'}\n",
    "#mapping_dict ={'R-AG-10WK-1': 'R-10wk-AG-1', 'R-AG-25WK-1': 'R-25wk-AG-1', 'R-AG-25WK-2': 'R-25WK-AG-2-r-bam', 'R-AG-8WK-1': 'R-8wk-AG-1', 'R-AG-E26': 'R-E26-AG', 'R-AG-GES12': 'R-GES12-AG', 'R-AG-GES17': 'R-GES17-AG', 'R-AG-GES23': 'R-GES23-AG', 'R-AG-LA-2': 'R-LA-AG-2', 'R-AG-LA': 'J103660_R-La-AG', 'R-AG-P1': 'R-P1-AG'}\n",
    "mapping_dict ={'R-MG-23WK-3': 'J103660_R-MG-23WK-3', 'R-MG-23WK-4': 'J103660_R-MG-23WK-4', 'R-MG-8WK-1': 'J103660_R-MG-8WK-1', 'R-MG-8WK-2': 'J103660_R-MG-8WK-2', 'R-MG-E17': 'R-E17-MG', 'R-MG-E23': 'R-E23-MG', 'R-MG-GES12': 'R-GES12-MG', 'R-MG-GES17': 'R-GES17-MG', 'R-MG-GES23': 'R-GES23-MG-r-bam', 'R-MG-LA-2': 'R-LA-MG-2', 'R-MG-LA': 'J103660_R-La-MG', 'R-MG-P1': 'R-P1-MG'}\n",
    "#mapping_dict ={'R-CG-13WK': 'R-13WK-CG', 'R-CG-23WK': 'R-23WK-CG', 'R-CG-E26': 'R-E26-CG', 'R-CG-GES17': 'R-GES17-CG', 'R-CG-GES30': 'R-GES30-CG', 'R-CG-LA': 'R-LAC-CG', 'R-CG-P1': 'R-P1-CG'}\n",
    "dataset = 'R-MG'\n",
    "fill_na = True ##S-MG,S-AG =TRUE\n",
    "run_geneconvert=True## R,S =TRUE\n",
    "\n",
    "output_loom = f'{dataset}_loom_merged.loom'\n",
    "adata_path = f'../{dataset}.h5ad'"
   ]
  },
  {
   "cell_type": "code",
   "execution_count": null,
   "id": "9230ad83-cbce-415f-9910-6f0b7b060b56",
   "metadata": {},
   "outputs": [],
   "source": [
    "def gene_convert(ldata,df):\n",
    "    df1=df[(['sg','Gene name'])]\n",
    "    df1=df1.rename(columns={'sg':'Accession'})\n",
    "    df2 = pd.DataFrame(ldata.var['Accession'])\n",
    "    df2=df2.reset_index()\n",
    "    df3=pd.merge(df1,df2,on='Accession')\n",
    "    gene_dict=dict(zip(df3['Gene'],df3['Gene name']))\n",
    "    print(df3.shape)\n",
    "    var_names = pd.Series(ldata.var_names, index=ldata.var_names)\n",
    "    mapped_var_names = var_names.map(gene_dict).fillna(var_names)\n",
    "    ldata.var_names = mapped_var_names.values\n",
    "    # 提取Accession列\n",
    "    set1 = set(df1['Accession'])\n",
    "    set2 = set(df2['Accession'])\n",
    "    intersection = set1 & set2  # 重合部分\n",
    "    only_in_df1 = set1 - set2   # 仅在df1中\n",
    "    only_in_df2 = set2 - set1   # 仅在df2中\n",
    "    result = {\n",
    "        \"Intersection\": len(list(intersection)),\n",
    "        \"Only in DF1\": len(list(only_in_df1)),\n",
    "        \"Only in DF2\": len(list(only_in_df2))\n",
    "    }\n",
    "    \n",
    "    result_df = pd.DataFrame(dict([(k, pd.Series(v)) for k, v in result.items()]))\n",
    "    print(result)\n",
    "    return ldata"
   ]
  },
  {
   "cell_type": "code",
   "execution_count": null,
   "id": "a9623e09-e419-4e8b-a042-c7a1e09bf74e",
   "metadata": {},
   "outputs": [],
   "source": [
    "def fill_ldata_with_nan(adata, ldata):\n",
    "    \"\"\"\n",
    "    直接重建 ldata，使其基因与 adata 的基因集合完全对齐，缺失部分填充 NaN，并保持 X 和 layers 为稀疏矩阵。\n",
    "    \n",
    "    参数：\n",
    "        adata (AnnData): 包含完整基因集合的 AnnData 对象。\n",
    "        ldata (AnnData): 需要调整基因集合的 AnnData 对象。\n",
    "    \n",
    "    返回：\n",
    "        AnnData: 重建后的 ldata 对象，基因与 adata.var_names 对齐，缺失值填充为 NaN。\n",
    "    \"\"\"\n",
    "    # 确保 var_names 唯一\n",
    "    ldata.var_names_make_unique()\n",
    "    adata.var_names_make_unique()\n",
    "\n",
    "    # 创建一个完整的基因集合\n",
    "    all_genes = pd.Index(adata.var_names).union(pd.Index(ldata.var_names)).unique()\n",
    "\n",
    "    # 创建新的 layers\n",
    "    new_layers = {}\n",
    "    for layer in ldata.layers.keys():\n",
    "        # 初始化新的稀疏矩阵，形状为 (n_obs, len(all_genes))\n",
    "        new_layer = csr_matrix((ldata.n_obs, len(all_genes)), dtype=np.float32)\n",
    "\n",
    "        # 找到 ldata 当前基因的位置索引\n",
    "        existing_genes_idx = [list(all_genes).index(g) for g in ldata.var_names if g in all_genes]\n",
    "\n",
    "        # 将已有数据填入稀疏矩阵\n",
    "        new_layer[:, existing_genes_idx] = csr_matrix(ldata.layers[layer])\n",
    "\n",
    "        # 添加到新的 layers\n",
    "        new_layers[layer] = new_layer\n",
    "\n",
    "    # 创建新的 var 数据框\n",
    "    new_var = pd.DataFrame(index=all_genes)\n",
    "    for col in ldata.var.columns:\n",
    "        new_var[col] = ldata.var[col].reindex(all_genes)\n",
    "\n",
    "    # 创建新的 ldata 对象，初始化为稀疏矩阵\n",
    "    new_ldata = sc.AnnData(\n",
    "        X=csr_matrix((ldata.n_obs, len(all_genes))),  # 初始化为空的稀疏矩阵\n",
    "        obs=ldata.obs.copy(),\n",
    "        var=new_var\n",
    "    )\n",
    "\n",
    "    # 添加稀疏 layers\n",
    "    for layer, data in new_layers.items():\n",
    "        new_ldata.layers[layer] = data\n",
    "\n",
    "    return new_ldata\n"
   ]
  },
  {
   "cell_type": "code",
   "execution_count": null,
   "id": "653e26c0-3f9e-40a3-aa08-e5388f6c633b",
   "metadata": {},
   "outputs": [],
   "source": [
    "### merge loom file ###\n",
    "loom_files = []\n",
    "for key,value in mapping_dict.items():\n",
    "    loom_filename = f'../../data/loom/{key}.loom'\n",
    "    #loom_filename = f'D:/BaiduNetdiskDownload/loom/{key}.loom'\n",
    "    loom_files.append(loom_filename)\n",
    "if os.path.exists(output_loom) and os.path.getsize(output_loom) > 0:\n",
    "    print('loom exists and is valid, skip!',flush=True)\n",
    "else:\n",
    "    print(f'merging loom file of {dataset} {\"#\"*50}',flush=True)\n",
    "    loompy.combine(loom_files, output_loom,key=\"Accession\")\n",
    "    print(f'merge loom file completed {dataset}',flush=True)"
   ]
  },
  {
   "cell_type": "code",
   "execution_count": null,
   "id": "3cb9ad81-d426-4f11-b260-0b10749adb2c",
   "metadata": {},
   "outputs": [],
   "source": [
    "ldata = scv.read(output_loom)\n",
    "adata = sc.read_h5ad(adata_path)\n",
    "print(\"here are the stupid loom data\")\n",
    "print(ldata)\n",
    "adata.raw=adata\n",
    "adata.obs['celltype']=adata.obs['anno']\n",
    "adata.obs['stage']=adata.obs['stage_new']\n",
    "adata.layers['counts']=adata.X"
   ]
  },
  {
   "cell_type": "code",
   "execution_count": null,
   "id": "68a98ee8-71a8-47b6-a044-a2c786b9e747",
   "metadata": {},
   "outputs": [],
   "source": [
    "if run_geneconvert:\n",
    "    print('convert human genes to mouse genes')\n",
    "    ldata = gene_convert(ldata=ldata,df=pd.read_csv('../../data/ortho_mrs.csv'))#ortho_mrs.csv"
   ]
  },
  {
   "cell_type": "code",
   "execution_count": null,
   "id": "01ac9219-0cf3-4d12-886e-acaab68b917b",
   "metadata": {},
   "outputs": [],
   "source": [
    "#ldata = scv.read('D:/111/M-MG_loom_merged.loom')\n",
    "#adata = sc.read_h5ad('D:/111/M-MG.h5ad')"
   ]
  },
  {
   "cell_type": "code",
   "execution_count": null,
   "id": "d2580b98-f306-4763-931f-5f29a05e8e6a",
   "metadata": {},
   "outputs": [],
   "source": [
    "###  Standardize adata cell ID format ###\n",
    "adata.obs['cellid'] = (\n",
    "    adata.obs['sample'].astype(str) + '-' + adata.obs_names.astype(str)\n",
    ").str.replace(r'(-\\d+)+$', '', regex=True)\n",
    "len(adata.obs['cellid'].unique())"
   ]
  },
  {
   "cell_type": "code",
   "execution_count": null,
   "id": "8557b078-35d8-4c05-bfd7-928aa2b83d9f",
   "metadata": {},
   "outputs": [],
   "source": [
    "### Standardize loomfile cell ID format ###\n",
    "loom_cell_ids = ldata.obs_names\n",
    "new_loom_cell_ids = loom_cell_ids.copy()\n",
    "for key, value in mapping_dict.items():\n",
    "    new_loom_cell_ids = [cell_id.replace(value, key).replace(\":\", \"-\").rstrip('x') for cell_id in new_loom_cell_ids]\n",
    "ldata.obs_names = new_loom_cell_ids"
   ]
  },
  {
   "cell_type": "code",
   "execution_count": null,
   "id": "c8a82d99-dfd0-48e8-973b-c3958e7484ee",
   "metadata": {},
   "outputs": [],
   "source": [
    "if fill_na:\n",
    "    ldata=fill_ldata_with_nan(adata=adata,ldata=ldata)"
   ]
  },
  {
   "cell_type": "code",
   "execution_count": null,
   "id": "d3c8caad-6152-4fa7-960d-b66e79b07e33",
   "metadata": {},
   "outputs": [],
   "source": [
    "print(adata)"
   ]
  },
  {
   "cell_type": "code",
   "execution_count": null,
   "id": "25ac1ccb-e445-4f10-b21e-a0d52fa25865",
   "metadata": {},
   "outputs": [],
   "source": [
    "### merge adata and loom ###\n",
    "h5ad_uids = set(adata.obs['cellid'])\n",
    "ldata_cellid = set(ldata.obs_names)\n",
    "common_cells = h5ad_uids.intersection(ldata_cellid)\n",
    "if len(common_cells) != len(h5ad_uids):\n",
    "    print(f\"WARNING:The number of common cells ({len(common_cells)}) does not match the number of cells in 'adata' ({len(h5ad_uids)}).\")\n",
    "common_genes = adata.var_names.intersection(ldata.var_names)\n",
    "adata_sub = adata[adata.obs['cellid'].isin(common_cells),adata.var_names.isin(common_genes)]\n",
    "print\n",
    "print(adata_sub)\n",
    "ldata_sub = ldata[ldata.obs_names.isin(common_cells),ldata.var_names.isin(common_genes)]\n",
    "print(ldata_sub)\n",
    "adata_sub.obs_names=adata_sub.obs['cellid']\n",
    "print(f'{len(common_cells)},{len(common_genes)} {\"#\"*80}',flush=True)\n",
    "adata1 = scv.utils.merge(adata_sub, ldata_sub)\n",
    "print(adata1)\n",
    "adata1.write(f'{dataset}_for_subset.h5ad')"
   ]
  },
  {
   "cell_type": "code",
   "execution_count": null,
   "id": "c90f867e-0657-476d-915d-ed272ab18c5f",
   "metadata": {},
   "outputs": [],
   "source": [
    "###test code do not run ##########"
   ]
  },
  {
   "cell_type": "code",
   "execution_count": null,
   "id": "67f7bea0-112d-401b-a6b0-35abe8b6fccb",
   "metadata": {},
   "outputs": [],
   "source": [
    "#################################"
   ]
  }
 ],
 "metadata": {
  "kernelspec": {
   "display_name": "Python 3.10 Scanpy",
   "language": "python",
   "name": "py310"
  },
  "language_info": {
   "codemirror_mode": {
    "name": "ipython",
    "version": 3
   },
   "file_extension": ".py",
   "mimetype": "text/x-python",
   "name": "python",
   "nbconvert_exporter": "python",
   "pygments_lexer": "ipython3",
   "version": "3.10.15"
  }
 },
 "nbformat": 4,
 "nbformat_minor": 5
}
