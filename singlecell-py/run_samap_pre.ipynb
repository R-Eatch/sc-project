{
 "cells": [
  {
   "cell_type": "code",
   "execution_count": 2,
   "id": "f67daeed-9214-465d-91a4-d3486852e562",
   "metadata": {},
   "outputs": [
    {
     "name": "stderr",
     "output_type": "stream",
     "text": [
      "C:\\Users\\Lenovo\\miniconda3\\envs\\SAMap\\lib\\site-packages\\tqdm\\auto.py:21: TqdmWarning: IProgress not found. Please update jupyter and ipywidgets. See https://ipywidgets.readthedocs.io/en/stable/user_install.html\n",
      "  from .autonotebook import tqdm as notebook_tqdm\n"
     ]
    }
   ],
   "source": [
    "from samap.mapping import SAMAP\n",
    "from samap.analysis import (get_mapping_scores, GenePairFinder,\n",
    "                            sankey_plot, chord_plot, CellTypeTriangles, \n",
    "                            ParalogSubstitutions, FunctionalEnrichment,\n",
    "                            convert_eggnog_to_homologs, GeneTriangles)\n",
    "from samalg import SAM\n",
    "import pandas as pd\n",
    "import scanpy as sc\n",
    "from scipy.sparse import csr_matrix\n",
    "import os"
   ]
  },
  {
   "cell_type": "code",
   "execution_count": 3,
   "id": "f20b7c0d-6a3b-4c17-98ec-0589698e14ac",
   "metadata": {},
   "outputs": [],
   "source": [
    "#A=pd.read_csv('D:/111/maps/msrb/ms_to_rb.txt',sep='\\t',index_col=0,header=None)\n",
    "#A.head()"
   ]
  },
  {
   "cell_type": "code",
   "execution_count": null,
   "id": "6a19468b-1ca5-47a5-9b19-4485cde91a10",
   "metadata": {},
   "outputs": [],
   "source": [
    "####function#####"
   ]
  },
  {
   "cell_type": "code",
   "execution_count": 4,
   "id": "5605195d-3ee9-4acf-948f-300ff829d759",
   "metadata": {},
   "outputs": [],
   "source": [
    "def cut_version_number(sp1,sp2):\n",
    "    df=pd.read_csv(f'./maps/{sp1}{sp2}/{sp1}_to_{sp2}.txt',sep='\\t',index_col=0,header=None)\n",
    "    df.index=df.index.str.replace(r'\\.\\d+$','',regex=True)\n",
    "    df[1]=df[1].str.replace(r'\\.\\d+$','',regex=True)\n",
    "    df.to_csv(f'./maps/{sp1}{sp2}/{sp1}_to_{sp2}.txt',sep='\\t',header=None)\n",
    "    \n",
    "    df=pd.read_csv(f'./maps/{sp1}{sp2}/{sp2}_to_{sp1}.txt',sep='\\t',index_col=0,header=None)\n",
    "    df.index=df.index.str.replace(r'\\.\\d+$','',regex=True)\n",
    "    df[1]=df[1].str.replace(r'\\.\\d+$','',regex=True)\n",
    "    df.to_csv(f'./maps/{sp1}{sp2}/{sp2}_to_{sp1}.txt',sep='\\t',header=None)\n",
    "    return None"
   ]
  },
  {
   "cell_type": "code",
   "execution_count": 62,
   "id": "f09bb9bc-92a3-4103-8fc1-c9dc2d9ddc2e",
   "metadata": {},
   "outputs": [],
   "source": [
    "def dropobs(adata,obslist,sp):\n",
    "    for i in adata.obs.columns:\n",
    "        if i not in obslist:\n",
    "            del adata.obs[i]\n",
    "        else:\n",
    "            adata.obs[i] = adata.obs[i].astype('category')\n",
    "    del adata.var\n",
    "    del adata.varm\n",
    "    del adata.obsm\n",
    "    del adata.uns\n",
    "    del adata.obsp\n",
    "    print(adata)\n",
    "    return adata"
   ]
  },
  {
   "cell_type": "code",
   "execution_count": 63,
   "id": "77939e61-1c18-4940-93d6-e67310d9a0af",
   "metadata": {},
   "outputs": [],
   "source": [
    "def clean_h5ad(dataset,df,sp,obslist):\n",
    "    adata=sc.read_h5ad(f\"/data01/sunxuebo/project/scrnaseq/v8-python/{dataset}/1.subset/{dataset}_cleaned.h5ad\")\n",
    "    if sp == 'ms':\n",
    "        mapping=dict(zip(df[\"Gene name\"],df[\"Gene stable ID\"]))\n",
    "    if sp =='rb':\n",
    "        mapping=dict(zip(df[\"Gene name\"],df[\"Rabbit gene stable ID\"]))\n",
    "    if sp=='sg':\n",
    "        mapping=dict(zip(df[\"Gene name\"],df[\"sg\"]))\n",
    "    adata.X=adata.layers['normalized']\n",
    "    adata.X = csr_matrix(adata.X)\n",
    "    adata.var_names = adata.var_names.map(mapping)\n",
    "    del adata.layers\n",
    "    adata=dropobs(adata,obslist,sp=sp)\n",
    "    adata.write(f\"./{dataset}_counts.h5ad\")\n",
    "    print(adata)\n",
    "    return None   "
   ]
  },
  {
   "cell_type": "code",
   "execution_count": null,
   "id": "1cc4c0af-fa1a-45da-b5a3-b54767bdbf06",
   "metadata": {},
   "outputs": [],
   "source": [
    "def preprocess_h5ad(dataset1, dataset2, df, sp1, sp2, obslist):\n",
    "    # 检查 fn1 和 fn2 文件是否都存在\n",
    "    fn1 = f'./{dataset1}_counts.h5ad'\n",
    "    fn2 = f'./{dataset2}_counts.h5ad'\n",
    "    # 如果 fn1 和 fn2 都存在，跳过整个函数\n",
    "    if os.path.exists(fn1) and os.path.exists(fn2):\n",
    "        print(f\"Skipping preprocessing: Both files already exist: {fn1}, {fn2}\")\n",
    "        return  # 直接返回，跳过后续的操作\n",
    "\n",
    "    # 清理数据\n",
    "    clean_h5ad(dataset=dataset1, df=df, sp=sp1, obslist=obslist)\n",
    "    clean_h5ad(dataset=dataset2, df=df, sp=sp2, obslist=obslist)\n",
    "\n",
    "    ##### SAMAP - generate SAM file #############\n",
    "    resolutions = {sp1: 0.3, sp2: 0.3}\n",
    "    filenames = {sp1: fn1, sp2: fn2}\n",
    "    sams = {sp1: fn1, sp2: fn2}\n",
    "\n",
    "    # 执行 SAMAP\n",
    "    sm = SAMAP(\n",
    "        sams,\n",
    "        f_maps='/data01/sunxuebo/project/scrnaseq/v8-python/samap/re-maps/',\n",
    "        save_processed=True,\n",
    "        resolutions=resolutions\n",
    "    )"
   ]
  },
  {
   "cell_type": "code",
   "execution_count": null,
   "id": "a40b7edf-ad16-45e1-9b71-88d58ecb3d56",
   "metadata": {},
   "outputs": [],
   "source": [
    "###########global variable############"
   ]
  },
  {
   "cell_type": "code",
   "execution_count": 23,
   "id": "9995efcf-9807-44cb-b2c7-ef18d8d1aae5",
   "metadata": {},
   "outputs": [],
   "source": [
    "obslist=['newcelltype','celltype','gland','species']\n",
    "cut_df=False ## first run set true\n",
    "datasetlist=['M-MG','R-MG','S-MG','R-AG','R-CG','S-AG']\n",
    "processed_pairs=set()"
   ]
  },
  {
   "cell_type": "code",
   "execution_count": 3,
   "id": "89731fb3-1094-4b7c-8fe0-d877dcdf92da",
   "metadata": {},
   "outputs": [
    {
     "data": {
      "text/html": [
       "<div>\n",
       "<style scoped>\n",
       "    .dataframe tbody tr th:only-of-type {\n",
       "        vertical-align: middle;\n",
       "    }\n",
       "\n",
       "    .dataframe tbody tr th {\n",
       "        vertical-align: top;\n",
       "    }\n",
       "\n",
       "    .dataframe thead th {\n",
       "        text-align: right;\n",
       "    }\n",
       "</style>\n",
       "<table border=\"1\" class=\"dataframe\">\n",
       "  <thead>\n",
       "    <tr style=\"text-align: right;\">\n",
       "      <th></th>\n",
       "      <th>Unnamed: 0</th>\n",
       "      <th>Gene stable ID</th>\n",
       "      <th>Rabbit gene stable ID</th>\n",
       "      <th>sg</th>\n",
       "      <th>Gene name</th>\n",
       "    </tr>\n",
       "  </thead>\n",
       "  <tbody>\n",
       "    <tr>\n",
       "      <th>0</th>\n",
       "      <td>15</td>\n",
       "      <td>ENSMUSG00000064351</td>\n",
       "      <td>ENSOCUG00000029096</td>\n",
       "      <td>sugarglider016993</td>\n",
       "      <td>mt-Co1</td>\n",
       "    </tr>\n",
       "    <tr>\n",
       "      <th>1</th>\n",
       "      <td>38</td>\n",
       "      <td>ENSMUSG00000064367</td>\n",
       "      <td>ENSOCUG00000029112</td>\n",
       "      <td>sugarglider013710</td>\n",
       "      <td>mt-Nd5</td>\n",
       "    </tr>\n",
       "    <tr>\n",
       "      <th>2</th>\n",
       "      <td>39</td>\n",
       "      <td>ENSMUSG00000064368</td>\n",
       "      <td>ENSOCUG00000029113</td>\n",
       "      <td>sugarglider013709</td>\n",
       "      <td>mt-Nd6</td>\n",
       "    </tr>\n",
       "    <tr>\n",
       "      <th>3</th>\n",
       "      <td>2452</td>\n",
       "      <td>ENSMUSG00000047161</td>\n",
       "      <td>ENSOCUG00000004444</td>\n",
       "      <td>sugarglider018254</td>\n",
       "      <td>Chst9</td>\n",
       "    </tr>\n",
       "    <tr>\n",
       "      <th>4</th>\n",
       "      <td>2464</td>\n",
       "      <td>ENSMUSG00000024304</td>\n",
       "      <td>ENSOCUG00000003656</td>\n",
       "      <td>sugarglider018255</td>\n",
       "      <td>Cdh2</td>\n",
       "    </tr>\n",
       "  </tbody>\n",
       "</table>\n",
       "</div>"
      ],
      "text/plain": [
       "   Unnamed: 0      Gene stable ID Rabbit gene stable ID                 sg  \\\n",
       "0          15  ENSMUSG00000064351    ENSOCUG00000029096  sugarglider016993   \n",
       "1          38  ENSMUSG00000064367    ENSOCUG00000029112  sugarglider013710   \n",
       "2          39  ENSMUSG00000064368    ENSOCUG00000029113  sugarglider013709   \n",
       "3        2452  ENSMUSG00000047161    ENSOCUG00000004444  sugarglider018254   \n",
       "4        2464  ENSMUSG00000024304    ENSOCUG00000003656  sugarglider018255   \n",
       "\n",
       "  Gene name  \n",
       "0    mt-Co1  \n",
       "1    mt-Nd5  \n",
       "2    mt-Nd6  \n",
       "3     Chst9  \n",
       "4      Cdh2  "
      ]
     },
     "execution_count": 3,
     "metadata": {},
     "output_type": "execute_result"
    }
   ],
   "source": [
    "df=pd.read_csv(\"/data01/sunxuebo/project/scrnaseq/v8-python/data/ortho_mrs.csv\")\n",
    "#df=pd.read_csv('D:/111/ortho_mrs.csv')\n",
    "df.head()"
   ]
  },
  {
   "cell_type": "code",
   "execution_count": 9,
   "id": "53dd1279-d10a-45f1-a34e-0f7d44c106fa",
   "metadata": {},
   "outputs": [],
   "source": [
    "####adjust data format######"
   ]
  },
  {
   "cell_type": "code",
   "execution_count": 11,
   "id": "8a907662-865f-4851-8aff-2aede8c74deb",
   "metadata": {},
   "outputs": [],
   "source": [
    "if cut_df:\n",
    "    cut_version_number(sp1,sp2)\n",
    "    print(\"cut finfished\")"
   ]
  },
  {
   "cell_type": "code",
   "execution_count": null,
   "id": "ceddee25-573b-4316-9854-f6179473bba5",
   "metadata": {},
   "outputs": [],
   "source": [
    "for dataset1 in datasetlist:\n",
    "    for dataset2 in datasetlist:  \n",
    "        if dataset1:\n",
    "            ls=dataset1.split(sep='-')\n",
    "        if ls[0]=='M':\n",
    "            sp1='ms'\n",
    "        elif ls[0]=='R':\n",
    "            sp1='rb'\n",
    "        elif ls[0]=='S':\n",
    "            sp1='sg'\n",
    "        gd1=ls[1]\n",
    "        if dataset2:\n",
    "            ls=dataset2.split(sep='-')\n",
    "        if ls[0]=='M':\n",
    "            sp2='ms'\n",
    "        elif ls[0]=='R':\n",
    "            sp2='rb'\n",
    "        elif ls[0]=='S':\n",
    "            sp2='sg'\n",
    "        gd2=ls[1] \n",
    "        if dataset1 == dataset2:\n",
    "            continue\n",
    "        pair = tuple(sorted([dataset1, dataset2]))\n",
    "        if pair in processed_pairs:\n",
    "            continue\n",
    "        preprocess_h5ad(dataset1,dataset2,df,sp1,sp2,obslist)\n",
    "        processed_pairs.add(pair)\n",
    "        print(pair)"
   ]
  }
 ],
 "metadata": {
  "kernelspec": {
   "display_name": "Python (SAMap)",
   "language": "python",
   "name": "samap"
  },
  "language_info": {
   "codemirror_mode": {
    "name": "ipython",
    "version": 3
   },
   "file_extension": ".py",
   "mimetype": "text/x-python",
   "name": "python",
   "nbconvert_exporter": "python",
   "pygments_lexer": "ipython3",
   "version": "3.9.20"
  }
 },
 "nbformat": 4,
 "nbformat_minor": 5
}
