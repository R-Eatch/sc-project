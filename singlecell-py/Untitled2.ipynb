{
 "cells": [
  {
   "cell_type": "code",
   "execution_count": 2,
   "id": "51299b93-b0d5-49ed-bf61-676b87de5417",
   "metadata": {},
   "outputs": [
    {
     "name": "stdout",
     "output_type": "stream",
     "text": [
      "合并完成！已保存为：Final_Merged_Document.pdf\n"
     ]
    }
   ],
   "source": [
    "from PyPDF2 import PdfMerger\n",
    "\n",
    "# 文件路径列表，按合并顺序排列\n",
    "pdf_files = [\n",
    "    r\"C:\\Users\\Lenovo\\Desktop\\2025.5.15乳腺项目汇报.pdf\",  # Word 导出的 PDF\n",
    "    r\"D:\\111\\FIG\\FIG2.pdf\",              # 图1\n",
    "    r\"D:\\111\\FIG\\FIG3.pdf\"               # 图2\n",
    "]\n",
    "\n",
    "# 创建合并器对象\n",
    "merger = PdfMerger()\n",
    "\n",
    "# 依次添加 PDF 文件\n",
    "for pdf in pdf_files:\n",
    "    merger.append(pdf)\n",
    "\n",
    "# 保存合并后的 PDF\n",
    "output_filename = \"Final_Merged_Document.pdf\"\n",
    "merger.write(output_filename)\n",
    "merger.close()\n",
    "\n",
    "print(f\"合并完成！已保存为：{output_filename}\")\n"
   ]
  },
  {
   "cell_type": "code",
   "execution_count": null,
   "id": "9a81caea-65ba-48fc-92d4-46951c0921ef",
   "metadata": {},
   "outputs": [],
   "source": []
  }
 ],
 "metadata": {
  "kernelspec": {
   "display_name": "Python 3.10 Scanpy",
   "language": "python",
   "name": "py310"
  },
  "language_info": {
   "codemirror_mode": {
    "name": "ipython",
    "version": 3
   },
   "file_extension": ".py",
   "mimetype": "text/x-python",
   "name": "python",
   "nbconvert_exporter": "python",
   "pygments_lexer": "ipython3",
   "version": "3.10.15"
  }
 },
 "nbformat": 4,
 "nbformat_minor": 5
}
