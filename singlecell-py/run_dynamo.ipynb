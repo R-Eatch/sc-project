{
 "cells": [
  {
   "cell_type": "code",
   "execution_count": 1,
   "id": "eb5bd191-458d-4dd2-95fc-07d80032f312",
   "metadata": {},
   "outputs": [
    {
     "data": {
      "text/html": [
       "<div>\n",
       "<style scoped>\n",
       "    .dataframe tbody tr th:only-of-type {\n",
       "        vertical-align: middle;\n",
       "    }\n",
       "\n",
       "    .dataframe tbody tr th {\n",
       "        vertical-align: top;\n",
       "    }\n",
       "\n",
       "    .dataframe thead th {\n",
       "        text-align: right;\n",
       "    }\n",
       "</style>\n",
       "<table border=\"1\" class=\"dataframe\">\n",
       "  <thead>\n",
       "    <tr style=\"text-align: right;\">\n",
       "      <th>package</th>\n",
       "      <th>umap-learn</th>\n",
       "      <th>typing-extensions</th>\n",
       "      <th>tqdm</th>\n",
       "      <th>statsmodels</th>\n",
       "      <th>setuptools</th>\n",
       "      <th>session-info</th>\n",
       "      <th>seaborn</th>\n",
       "      <th>scipy</th>\n",
       "      <th>pynndescent</th>\n",
       "      <th>pre-commit</th>\n",
       "      <th>pandas</th>\n",
       "      <th>openpyxl</th>\n",
       "      <th>numdifftools</th>\n",
       "      <th>numba</th>\n",
       "      <th>networkx</th>\n",
       "      <th>matplotlib</th>\n",
       "      <th>loompy</th>\n",
       "      <th>igraph</th>\n",
       "      <th>get-version</th>\n",
       "      <th>colorcet</th>\n",
       "      <th>anndata</th>\n",
       "      <th>leidenalg</th>\n",
       "      <th>dynamo-release</th>\n",
       "    </tr>\n",
       "  </thead>\n",
       "  <tbody>\n",
       "    <tr>\n",
       "      <th>version</th>\n",
       "      <td>0.5.4</td>\n",
       "      <td>4.11.0</td>\n",
       "      <td>4.66.5</td>\n",
       "      <td>0.14.2</td>\n",
       "      <td>75.1.0</td>\n",
       "      <td>1.0.0</td>\n",
       "      <td>0.13.2</td>\n",
       "      <td>1.13.1</td>\n",
       "      <td>0.5.10</td>\n",
       "      <td>3.4.0</td>\n",
       "      <td>2.2.2</td>\n",
       "      <td>3.1.5</td>\n",
       "      <td>0.9.41</td>\n",
       "      <td>0.60.0</td>\n",
       "      <td>3.3</td>\n",
       "      <td>3.9.2</td>\n",
       "      <td>3.0.6</td>\n",
       "      <td>0.11.6</td>\n",
       "      <td>3.5.5</td>\n",
       "      <td>3.1.0</td>\n",
       "      <td>0.10.9</td>\n",
       "      <td>0.10.2</td>\n",
       "      <td>1.4.1</td>\n",
       "    </tr>\n",
       "  </tbody>\n",
       "</table>\n",
       "</div>"
      ],
      "text/plain": [
       "package umap-learn typing-extensions    tqdm statsmodels setuptools  \\\n",
       "version      0.5.4            4.11.0  4.66.5      0.14.2     75.1.0   \n",
       "\n",
       "package session-info seaborn   scipy pynndescent pre-commit pandas openpyxl  \\\n",
       "version        1.0.0  0.13.2  1.13.1      0.5.10      3.4.0  2.2.2    3.1.5   \n",
       "\n",
       "package numdifftools   numba networkx matplotlib loompy  igraph get-version  \\\n",
       "version       0.9.41  0.60.0      3.3      3.9.2  3.0.6  0.11.6       3.5.5   \n",
       "\n",
       "package colorcet anndata leidenalg dynamo-release  \n",
       "version    3.1.0  0.10.9    0.10.2          1.4.1  "
      ]
     },
     "metadata": {},
     "output_type": "display_data"
    },
    {
     "name": "stdout",
     "output_type": "stream",
     "text": [
      "import successful\n"
     ]
    }
   ],
   "source": [
    "import warnings\n",
    "warnings.filterwarnings('ignore')\n",
    "import pandas as pd\n",
    "import numpy as np\n",
    "import anndata\n",
    "import dynamo as dyn\n",
    "import scanpy as  sc\n",
    "import plotly.express as px\n",
    "import matplotlib.pyplot as plt\n",
    "import sys\n",
    "import plotly\n",
    "dyn.get_all_dependencies_version()\n",
    "dyn.configuration.set_figure_params(background='white')\n",
    "print('import successful')"
   ]
  },
  {
   "cell_type": "code",
   "execution_count": 2,
   "id": "4fa5cb56-252e-4ab3-b8bd-20077414295c",
   "metadata": {},
   "outputs": [
    {
     "name": "stdout",
     "output_type": "stream",
     "text": [
      "Running scvelo 0.3.2 (python 3.11.10) on 2025-03-19 15:02.\n"
     ]
    }
   ],
   "source": [
    "import scvelo as scv\n",
    "scv.logging.print_version()\n",
    "\n",
    "scv.settings.verbosity = 3  # show errors(0), warnings(1), info(2), hints(3)\n",
    "scv.settings.presenter_view = True  # set max width size for presenter view\n",
    "#scv.set_figure_params('scvelo')  # for beautified visualization"
   ]
  },
  {
   "cell_type": "code",
   "execution_count": 3,
   "id": "1bd43a57-f351-4ea5-b47b-884dcb15347d",
   "metadata": {},
   "outputs": [],
   "source": [
    "def run_plotly(adata):\n",
    "    umap_data = pd.DataFrame(adata.obsm['X_umap'], columns=['UMAP1', 'UMAP2'])\n",
    "    umap_data['cell_ids'] = adata.obs.index \n",
    "    umap_data['time'] = adata.obs['time'] \n",
    "    fig = px.scatter(umap_data, x='UMAP1', y='UMAP2', hover_data=['cell_ids', 'stage'],width=800,height=450)\n",
    "    fig.show()\n",
    "    fig.write_html('interactive_umap_plot.html')"
   ]
  },
  {
   "cell_type": "code",
   "execution_count": 4,
   "id": "fbc3f073-d2a4-4552-9f2f-6e33fa20f318",
   "metadata": {},
   "outputs": [],
   "source": [
    "def run_raw_data(adata):\n",
    "    adata.X = adata.layers['counts'] ### Reset matrix X to the original matrix\n",
    "    return(adata)"
   ]
  },
  {
   "cell_type": "code",
   "execution_count": 5,
   "id": "10d72115-a2d6-4fba-9ea5-c61dd48412ef",
   "metadata": {},
   "outputs": [],
   "source": [
    "def dropcelltype(adata,celltypelist):\n",
    "    adata=adata[~adata.obs['newcelltype'].isin(celltypelist),:]\n",
    "    return adata"
   ]
  },
  {
   "cell_type": "code",
   "execution_count": 6,
   "id": "209e6937-e5b2-46c6-8fe5-01657b808ba2",
   "metadata": {},
   "outputs": [],
   "source": [
    "###global variable###\n",
    "dataset = 'S-MAG'\n",
    "ad_path = f'../{dataset}_cleaned_real.h5ad'\n",
    "#ad_path2 = f'../2.scvelo/{dataset}_velo_for_dynamo.h5ad'\n",
    "subset_celltype = False\n",
    "cores = 8\n",
    "PCs=10\n",
    "max_genes=50\n",
    "use_fixed_points = True\n",
    "run_preprocess=True\n",
    "run_animation = False\n",
    "run_scvelo = False\n",
    "run_LAPS = True\n",
    "use_rawdata=True\n",
    "run_umap=True\n",
    "use_negbin=False\n",
    "stem = 'StemCells'\n",
    "cell1 = 'LumSEC'\n",
    "cell2 = 'LumHR'\n",
    "cell3 = 'Basal'\n",
    "cell4 = 'LumSEC-MG-like'\n",
    "cell5 = 'LumSEC-Lip'\n",
    "good_fixed_points = [50,5,22,28,2,46]"
   ]
  },
  {
   "cell_type": "code",
   "execution_count": 7,
   "id": "9f65f8c6-8bd0-4ce6-abf5-b4ff398a6cf2",
   "metadata": {},
   "outputs": [],
   "source": [
    "#ad_path=\"D:/111/R-AG_cleaned.h5ad\"\n",
    "#ad_path2=\"D:/111/M-MG_velo_for_dynamo.h5ad\""
   ]
  },
  {
   "cell_type": "code",
   "execution_count": null,
   "id": "ec5bc697-bb89-4109-bc78-a930e51cf941",
   "metadata": {},
   "outputs": [],
   "source": [
    "dyn.configuration.set_figure_params('', background='white')"
   ]
  },
  {
   "cell_type": "code",
   "execution_count": 8,
   "id": "c9f11d83-e65d-4429-a1db-a9ae82ee6f19",
   "metadata": {},
   "outputs": [],
   "source": [
    "adata = anndata.read(ad_path)"
   ]
  },
  {
   "cell_type": "code",
   "execution_count": 9,
   "id": "e9f323ff-6bf7-4e06-b47a-aec59ccf1da7",
   "metadata": {},
   "outputs": [
    {
     "data": {
      "text/plain": [
       "AnnData object with n_obs × n_vars = 19637 × 12071\n",
       "    obs: 'species', 'n_genes_by_counts', 'total_counts', 'doublet_score', 'predicted_doublet', 'sample', 'gland', 'stage', 'log1p_n_genes_by_counts', 'log1p_total_counts', 'total_counts_MT', 'pct_counts_MT', 'log1p_total_counts_MT', 'total_counts_RIBO', 'pct_counts_RIBO', 'log1p_total_counts_RIBO', 'leiden', 'celltype', 'cellid', 'initial_size_unspliced', 'initial_size_spliced', 'initial_size', 'newcelltype'\n",
       "    var: 'MT', 'RIBO', 'n_cells_by_counts', 'total_counts', 'mean_counts', 'pct_dropout_by_counts', 'log1p_total_counts', 'log1p_mean_counts', 'highly_variable', 'highly_variable_rank', 'means', 'variances', 'variances_norm', 'highly_variable_nbatches', 'Accession', 'Chromosome', 'End', 'Start', 'Strand', 'dispersions', 'dispersions_norm'\n",
       "    uns: 'hvg', 'leiden', 'leiden_colors', 'log1p', 'louvain', 'louvain_colors', 'neighbors', 'pca', 'rank_genes_groups', 'umap'\n",
       "    obsm: 'X_pca', 'X_pca_harmony', 'X_umap'\n",
       "    varm: 'PCs'\n",
       "    layers: 'ambiguous', 'matrix', 'normalized', 'spliced', 'unspliced'\n",
       "    obsp: 'connectivities', 'distances'"
      ]
     },
     "execution_count": 9,
     "metadata": {},
     "output_type": "execute_result"
    }
   ],
   "source": [
    "adata"
   ]
  },
  {
   "cell_type": "code",
   "execution_count": 10,
   "id": "f1a14828-6a28-44bc-9fe7-cfaf09a0295f",
   "metadata": {},
   "outputs": [],
   "source": [
    "if use_rawdata:\n",
    "    adata=run_raw_data(adata)"
   ]
  },
  {
   "cell_type": "code",
   "execution_count": 11,
   "id": "1ced65d3-221f-4ae0-ae6b-345657c1cb4d",
   "metadata": {},
   "outputs": [],
   "source": [
    "if subset_celltype:\n",
    "    adata=dropcelltype(adata=adata,celltypelist=celltypelist)"
   ]
  },
  {
   "cell_type": "code",
   "execution_count": 13,
   "id": "2a3737a5-cecb-4879-8aa9-061f31f2da78",
   "metadata": {},
   "outputs": [
    {
     "data": {
      "text/plain": [
       "AnnData object with n_obs × n_vars = 19637 × 12071\n",
       "    obs: 'species', 'n_genes_by_counts', 'total_counts', 'doublet_score', 'predicted_doublet', 'sample', 'gland', 'stage', 'log1p_n_genes_by_counts', 'log1p_total_counts', 'total_counts_MT', 'pct_counts_MT', 'log1p_total_counts_MT', 'total_counts_RIBO', 'pct_counts_RIBO', 'log1p_total_counts_RIBO', 'leiden', 'celltype', 'cellid', 'initial_size_unspliced', 'initial_size_spliced', 'initial_size', 'newcelltype'\n",
       "    var: 'MT', 'RIBO', 'n_cells_by_counts', 'total_counts', 'mean_counts', 'pct_dropout_by_counts', 'log1p_total_counts', 'log1p_mean_counts', 'highly_variable', 'highly_variable_rank', 'means', 'variances', 'variances_norm', 'highly_variable_nbatches', 'Accession', 'Chromosome', 'End', 'Start', 'Strand', 'dispersions', 'dispersions_norm'\n",
       "    uns: 'hvg', 'leiden', 'log1p', 'louvain', 'louvain_colors', 'neighbors', 'pca', 'rank_genes_groups', 'umap'\n",
       "    obsm: 'X_pca', 'X_pca_harmony', 'X_umap'\n",
       "    varm: 'PCs'\n",
       "    layers: 'ambiguous', 'matrix', 'spliced', 'unspliced'\n",
       "    obsp: 'connectivities', 'distances'"
      ]
     },
     "execution_count": 13,
     "metadata": {},
     "output_type": "execute_result"
    }
   ],
   "source": [
    "adata"
   ]
  },
  {
   "cell_type": "code",
   "execution_count": 14,
   "id": "ec08ecd6-1d3c-4df0-8c7e-bb0379d518e9",
   "metadata": {},
   "outputs": [
    {
     "name": "stdout",
     "output_type": "stream",
     "text": [
      "|-----? dynamo.preprocessing.deprecated is deprecated.\n",
      "|-----> recipe_monocle_keep_filtered_cells_key is None. Using default value from DynamoAdataConfig: recipe_monocle_keep_filtered_cells_key=True\n",
      "|-----> recipe_monocle_keep_filtered_genes_key is None. Using default value from DynamoAdataConfig: recipe_monocle_keep_filtered_genes_key=True\n",
      "|-----> recipe_monocle_keep_raw_layers_key is None. Using default value from DynamoAdataConfig: recipe_monocle_keep_raw_layers_key=True\n",
      "|-----> apply Monocole recipe to adata...\n",
      "|-----> ensure all cell and variable names unique.\n",
      "|-----> ensure all data in different layers in csr sparse matrix format.\n",
      "|-----> ensure all labeling data properly collapased\n",
      "|-----? dynamo detects your data is size factor normalized and/or log transformed. If this is not right, plese set `normalized = False.\n",
      "|-----> filtering cells...\n",
      "|-----> 19635 cells passed basic filters.\n",
      "|-----> filtering gene...\n",
      "|-----> 5966 genes passed basic filters.\n",
      "|-----> calculating size factor...\n",
      "|-----> selecting genes in layer: X, sort method: SVR...\n",
      "|-----> applying PCA ...\n",
      "|-----> <insert> X_pca to obsm in AnnData Object.\n",
      "|-----> cell cycle scoring...\n",
      "|-----> computing cell phase...\n",
      "|-----> [Cell Phase Estimation] completed [68.1175s]\n",
      "|-----> [Cell Cycle Scores Estimation] completed [8.6393s]\n",
      "|-----> [recipe_monocle preprocess] completed [27.2847s]\n"
     ]
    }
   ],
   "source": [
    "if run_preprocess:\n",
    "    from dynamo.preprocessing import Preprocessor\n",
    "    preprocessor = Preprocessor()\n",
    "    preprocessor.preprocess_adata(adata, recipe=\"monocle\")\n",
    "    #dyn.pp.recipe_monocle(adata)"
   ]
  },
  {
   "cell_type": "code",
   "execution_count": 15,
   "id": "dbac02fa-7c54-4bc2-a2ae-adb5479b2354",
   "metadata": {},
   "outputs": [
    {
     "name": "stdout",
     "output_type": "stream",
     "text": [
      "|-----> dynamics_del_2nd_moments_key is None. Using default value from DynamoAdataConfig: dynamics_del_2nd_moments_key=False\n",
      "|-----------> removing existing M layers:[]...\n",
      "|-----------> making adata smooth...\n",
      "|-----> calculating first/second moments...\n",
      "|-----> [moments calculation] completed [71.5204s]\n",
      "|-----> retrieve data for non-linear dimension reduction...\n",
      "|-----? adata already have basis umap. dimension reduction umap will be skipped! \n",
      "set enforce=True to re-performing dimension reduction.\n",
      "|-----> [UMAP] completed [0.0020s]\n",
      "|-----> [calculating transition matrix via pearson kernel with sqrt transform.] in progress: 100.0000%|-----> [calculating transition matrix via pearson kernel with sqrt transform.] completed [45.3216s]\n",
      "|-----> [projecting velocity vector to low dimensional embedding] in progress: 100.0000%|-----> [projecting velocity vector to low dimensional embedding] completed [4.8635s]\n",
      "|-----> method arg is None, choosing methods automatically...\n",
      "|-----------> method kd_tree selected\n",
      "Using existing pearson_transition_matrix found in .obsp.\n",
      "|-----> [projecting velocity vector to low dimensional embedding] in progress: 100.0000%|-----> [projecting velocity vector to low dimensional embedding] completed [5.5677s]\n",
      "|-----> method arg is None, choosing methods automatically...\n",
      "|-----------> method kd_tree selected\n"
     ]
    },
    {
     "data": {
      "text/plain": [
       "AnnData object with n_obs × n_vars = 19637 × 12071\n",
       "    obs: 'species', 'n_genes_by_counts', 'total_counts', 'doublet_score', 'predicted_doublet', 'sample', 'gland', 'stage', 'log1p_n_genes_by_counts', 'log1p_total_counts', 'total_counts_MT', 'pct_counts_MT', 'log1p_total_counts_MT', 'total_counts_RIBO', 'pct_counts_RIBO', 'log1p_total_counts_RIBO', 'leiden', 'celltype', 'cellid', 'initial_size_unspliced', 'initial_size_spliced', 'initial_size', 'newcelltype', 'nGenes', 'nCounts', 'pMito', 'pass_basic_filter', 'unspliced_Size_Factor', 'initial_unspliced_cell_size', 'Size_Factor', 'initial_cell_size', 'spliced_Size_Factor', 'initial_spliced_cell_size', 'ntr', 'cell_cycle_phase'\n",
       "    var: 'MT', 'RIBO', 'n_cells_by_counts', 'total_counts', 'mean_counts', 'pct_dropout_by_counts', 'log1p_total_counts', 'log1p_mean_counts', 'highly_variable', 'highly_variable_rank', 'means', 'variances', 'variances_norm', 'highly_variable_nbatches', 'Accession', 'Chromosome', 'End', 'Start', 'Strand', 'dispersions', 'dispersions_norm', 'nCells', 'nCounts', 'pass_basic_filter', 'log_cv', 'log_m', 'score', 'frac', 'use_for_pca', 'ntr', 'use_for_dynamics', 'use_for_transition'\n",
       "    uns: 'hvg', 'leiden', 'log1p', 'louvain', 'louvain_colors', 'neighbors', 'pca', 'rank_genes_groups', 'umap', 'pp', 'velocyto_SVR', 'PCs', 'explained_variance_ratio_', 'pca_mean', 'pca_fit', 'feature_selection', 'cell_phase_order', 'cell_phase_genes', 'vel_params_names', 'dynamics', 'grid_velocity_umap', 'grid_velocity_pca'\n",
       "    obsm: 'X_pca', 'X_pca_harmony', 'X_umap', 'X', 'cell_cycle_scores', 'velocity_umap', 'velocity_pca'\n",
       "    varm: 'PCs', 'vel_params'\n",
       "    layers: 'ambiguous', 'matrix', 'spliced', 'unspliced', 'X_unspliced', 'X_spliced', 'M_u', 'M_uu', 'M_s', 'M_us', 'M_ss', 'velocity_S'\n",
       "    obsp: 'connectivities', 'distances', 'moments_con', 'pearson_transition_matrix'"
      ]
     },
     "execution_count": 15,
     "metadata": {},
     "output_type": "execute_result"
    }
   ],
   "source": [
    "if use_negbin:\n",
    "    dyn.tl.dynamics(adata, model='stochastic', est_method='negbin',cores=cores)\n",
    "else:\n",
    "    dyn.tl.dynamics(adata, model='stochastic', cores=cores)\n",
    "\n",
    "if run_umap:\n",
    "    dyn.tl.reduceDimension(adata, basis='umap', enforce=False)\n",
    "dyn.tl.cell_velocities(adata)\n",
    "dyn.tl.cell_velocities(adata,basis='pca',method='cosine')"
   ]
  },
  {
   "cell_type": "code",
   "execution_count": 16,
   "id": "70700f1f-9cd0-45c9-9d81-8a1eb4916fb4",
   "metadata": {},
   "outputs": [
    {
     "name": "stdout",
     "output_type": "stream",
     "text": [
      "|-----> incomplete neighbor graph info detected: connectivities and distances do not exist in adata.obsp, indices not in adata.uns.neighbors.\n",
      "|-----> Neighbor graph is broken, recomputing....\n",
      "|-----> Start computing neighbor graph...\n",
      "|-----------> X_data is None, fetching or recomputing...\n",
      "|-----> fetching X data from layer:None, basis:pca\n",
      "|-----> method arg is None, choosing methods automatically...\n",
      "|-----------> method pynn selected\n"
     ]
    },
    {
     "data": {
      "text/plain": [
       "AnnData object with n_obs × n_vars = 19637 × 12071\n",
       "    obs: 'species', 'n_genes_by_counts', 'total_counts', 'doublet_score', 'predicted_doublet', 'sample', 'gland', 'stage', 'log1p_n_genes_by_counts', 'log1p_total_counts', 'total_counts_MT', 'pct_counts_MT', 'log1p_total_counts_MT', 'total_counts_RIBO', 'pct_counts_RIBO', 'log1p_total_counts_RIBO', 'leiden', 'celltype', 'cellid', 'initial_size_unspliced', 'initial_size_spliced', 'initial_size', 'newcelltype', 'nGenes', 'nCounts', 'pMito', 'pass_basic_filter', 'unspliced_Size_Factor', 'initial_unspliced_cell_size', 'Size_Factor', 'initial_cell_size', 'spliced_Size_Factor', 'initial_spliced_cell_size', 'ntr', 'cell_cycle_phase', 'jaccard_velocity_confidence'\n",
       "    var: 'MT', 'RIBO', 'n_cells_by_counts', 'total_counts', 'mean_counts', 'pct_dropout_by_counts', 'log1p_total_counts', 'log1p_mean_counts', 'highly_variable', 'highly_variable_rank', 'means', 'variances', 'variances_norm', 'highly_variable_nbatches', 'Accession', 'Chromosome', 'End', 'Start', 'Strand', 'dispersions', 'dispersions_norm', 'nCells', 'nCounts', 'pass_basic_filter', 'log_cv', 'log_m', 'score', 'frac', 'use_for_pca', 'ntr', 'use_for_dynamics', 'use_for_transition'\n",
       "    uns: 'hvg', 'leiden', 'log1p', 'louvain', 'louvain_colors', 'neighbors', 'pca', 'rank_genes_groups', 'umap', 'pp', 'velocyto_SVR', 'PCs', 'explained_variance_ratio_', 'pca_mean', 'pca_fit', 'feature_selection', 'cell_phase_order', 'cell_phase_genes', 'vel_params_names', 'dynamics', 'grid_velocity_umap', 'grid_velocity_pca'\n",
       "    obsm: 'X_pca', 'X_pca_harmony', 'X_umap', 'X', 'cell_cycle_scores', 'velocity_umap', 'velocity_pca'\n",
       "    varm: 'PCs', 'vel_params'\n",
       "    layers: 'ambiguous', 'matrix', 'spliced', 'unspliced', 'X_unspliced', 'X_spliced', 'M_u', 'M_uu', 'M_s', 'M_us', 'M_ss', 'velocity_S'\n",
       "    obsp: 'connectivities', 'distances', 'moments_con', 'pearson_transition_matrix'"
      ]
     },
     "execution_count": 16,
     "metadata": {},
     "output_type": "execute_result"
    }
   ],
   "source": [
    "dyn.tl.cell_wise_confidence(adata)"
   ]
  },
  {
   "cell_type": "code",
   "execution_count": 17,
   "id": "fb990ee9-f6d3-4169-89fa-e8a5cb286fb6",
   "metadata": {},
   "outputs": [
    {
     "name": "stdout",
     "output_type": "stream",
     "text": [
      "|-----> VectorField reconstruction begins...\n",
      "|-----> Retrieve X and V based on basis: UMAP. \n",
      "        Vector field will be learned in the UMAP space.\n",
      "|-----> Generating high dimensional grids and convert into a row matrix.\n",
      "|-----> Learning vector field with method: sparsevfc.\n",
      "|-----> [SparseVFC] begins...\n",
      "|-----> Sampling control points based on data velocity magnitude...\n",
      "|-----> method arg is None, choosing methods automatically...\n",
      "|-----------> method kd_tree selected\n",
      "|-----> [SparseVFC] completed [67.0294s]\n",
      "|-----------> current cosine correlation between input velocities and learned velocities is less than 0.6. Make a 1-th vector field reconstruction trial.\n",
      "|-----> [SparseVFC] begins...\n",
      "|-----> Sampling control points based on data velocity magnitude...\n",
      "|-----> [SparseVFC] completed [66.9981s]\n",
      "|-----------> current cosine correlation between input velocities and learned velocities is less than 0.6. Make a 2-th vector field reconstruction trial.\n",
      "|-----> [SparseVFC] begins...\n",
      "|-----> Sampling control points based on data velocity magnitude...\n",
      "|-----> [SparseVFC] completed [72.8953s]\n",
      "|-----------> current cosine correlation between input velocities and learned velocities is less than 0.6. Make a 3-th vector field reconstruction trial.\n",
      "|-----> [SparseVFC] begins...\n",
      "|-----> Sampling control points based on data velocity magnitude...\n",
      "|-----> [SparseVFC] completed [67.8457s]\n",
      "|-----------> current cosine correlation between input velocities and learned velocities is less than 0.6. Make a 4-th vector field reconstruction trial.\n",
      "|-----> [SparseVFC] begins...\n",
      "|-----> Sampling control points based on data velocity magnitude...\n",
      "|-----> [SparseVFC] completed [79.9808s]\n",
      "|-----------> current cosine correlation between input velocities and learned velocities is less than 0.6. Make a 5-th vector field reconstruction trial.\n",
      "|-----? Cosine correlation between input velocities and learned velocities is less than 0.6 after 5 trials of vector field reconstruction.\n",
      "|-----> [VectorField] completed [357.2198s]\n",
      "|-----> VectorField reconstruction begins...\n",
      "|-----> Retrieve X and V based on basis: PCA. \n",
      "        Vector field will be learned in the PCA space.\n",
      "|-----> Learning vector field with method: sparsevfc.\n",
      "|-----> [SparseVFC] begins...\n",
      "|-----> Sampling control points based on data velocity magnitude...\n",
      "|-----> method arg is None, choosing methods automatically...\n",
      "|-----------> method kd_tree selected\n",
      "|-----> [SparseVFC] completed [71.0378s]\n",
      "|-----> [VectorField] completed [72.5308s]\n"
     ]
    }
   ],
   "source": [
    "dyn.vf.VectorField(adata, basis='umap',cores=cores)\n",
    "dyn.vf.VectorField(adata, basis='pca',cores=cores)"
   ]
  },
  {
   "cell_type": "code",
   "execution_count": 17,
   "id": "462412be-5056-4892-a770-fd08d526c37a",
   "metadata": {},
   "outputs": [
    {
     "name": "stdout",
     "output_type": "stream",
     "text": [
      "|-----> VectorField reconstruction begins...\n",
      "|-----> Retrieve X and V based on basis: UMAP. \n",
      "        Vector field will be learned in the UMAP space.\n",
      "|-----> Generating high dimensional grids and convert into a row matrix.\n",
      "|-----> Learning vector field with method: sparsevfc.\n",
      "|-----> [SparseVFC] begins...\n",
      "|-----> Sampling control points based on data velocity magnitude...\n",
      "|-----> method arg is None, choosing methods automatically...\n",
      "|-----------> method kd_tree selected\n",
      "|-----> [SparseVFC] completed [67.0294s]\n",
      "|-----------> current cosine correlation between input velocities and learned velocities is less than 0.6. Make a 1-th vector field reconstruction trial.\n",
      "|-----> [SparseVFC] begins...\n",
      "|-----> Sampling control points based on data velocity magnitude...\n",
      "|-----> [SparseVFC] completed [66.9981s]\n",
      "|-----------> current cosine correlation between input velocities and learned velocities is less than 0.6. Make a 2-th vector field reconstruction trial.\n",
      "|-----> [SparseVFC] begins...\n",
      "|-----> Sampling control points based on data velocity magnitude...\n",
      "|-----> [SparseVFC] completed [72.8953s]\n",
      "|-----------> current cosine correlation between input velocities and learned velocities is less than 0.6. Make a 3-th vector field reconstruction trial.\n",
      "|-----> [SparseVFC] begins...\n",
      "|-----> Sampling control points based on data velocity magnitude...\n",
      "|-----> [SparseVFC] completed [67.8457s]\n",
      "|-----------> current cosine correlation between input velocities and learned velocities is less than 0.6. Make a 4-th vector field reconstruction trial.\n",
      "|-----> [SparseVFC] begins...\n",
      "|-----> Sampling control points based on data velocity magnitude...\n",
      "|-----> [SparseVFC] completed [79.9808s]\n",
      "|-----------> current cosine correlation between input velocities and learned velocities is less than 0.6. Make a 5-th vector field reconstruction trial.\n",
      "|-----? Cosine correlation between input velocities and learned velocities is less than 0.6 after 5 trials of vector field reconstruction.\n",
      "|-----> [VectorField] completed [357.2198s]\n",
      "|-----> VectorField reconstruction begins...\n",
      "|-----> Retrieve X and V based on basis: PCA. \n",
      "        Vector field will be learned in the PCA space.\n",
      "|-----> Learning vector field with method: sparsevfc.\n",
      "|-----> [SparseVFC] begins...\n",
      "|-----> Sampling control points based on data velocity magnitude...\n",
      "|-----> method arg is None, choosing methods automatically...\n",
      "|-----------> method kd_tree selected\n",
      "|-----> [SparseVFC] completed [71.0378s]\n",
      "|-----> [VectorField] completed [72.5308s]\n"
     ]
    }
   ],
   "source": [
    "#dyn.vf.VectorField(adata, basis='umap',cores=cores,dims=PCs)\n",
    "#dyn.vf.VectorField(adata, basis='pca',cores=cores,dims=PCs)"
   ]
  },
  {
   "cell_type": "code",
   "execution_count": 18,
   "id": "ecc4e38a-94b6-4b5d-860d-abda45530094",
   "metadata": {},
   "outputs": [
    {
     "ename": "KeyboardInterrupt",
     "evalue": "",
     "output_type": "error",
     "traceback": [
      "\u001b[1;31m---------------------------------------------------------------------------\u001b[0m",
      "\u001b[1;31mKeyboardInterrupt\u001b[0m                         Traceback (most recent call last)",
      "Cell \u001b[1;32mIn[18], line 1\u001b[0m\n\u001b[1;32m----> 1\u001b[0m dyn\u001b[38;5;241m.\u001b[39mvf\u001b[38;5;241m.\u001b[39mtopography(adata, basis\u001b[38;5;241m=\u001b[39m\u001b[38;5;124m'\u001b[39m\u001b[38;5;124mumap\u001b[39m\u001b[38;5;124m'\u001b[39m)\n\u001b[0;32m      2\u001b[0m dyn\u001b[38;5;241m.\u001b[39mvf\u001b[38;5;241m.\u001b[39mtopography(adata, basis\u001b[38;5;241m=\u001b[39m\u001b[38;5;124m'\u001b[39m\u001b[38;5;124mpca\u001b[39m\u001b[38;5;124m'\u001b[39m)\n",
      "File \u001b[1;32m~\\AppData\\Roaming\\Python\\Python311\\site-packages\\dynamo\\vectorfield\\topography.py:863\u001b[0m, in \u001b[0;36mtopography\u001b[1;34m(adata, basis, layer, X, dims, n, VecFld, **kwargs)\u001b[0m\n\u001b[0;32m    849\u001b[0m \u001b[38;5;28;01mif\u001b[39;00m dims \u001b[38;5;129;01mis\u001b[39;00m \u001b[38;5;28;01mNone\u001b[39;00m:\n\u001b[0;32m    850\u001b[0m     dims \u001b[38;5;241m=\u001b[39m np\u001b[38;5;241m.\u001b[39marange(adata\u001b[38;5;241m.\u001b[39mobsm[\u001b[38;5;124m\"\u001b[39m\u001b[38;5;124mX_\u001b[39m\u001b[38;5;124m\"\u001b[39m \u001b[38;5;241m+\u001b[39m basis]\u001b[38;5;241m.\u001b[39mshape[\u001b[38;5;241m1\u001b[39m])\n\u001b[0;32m    852\u001b[0m (\n\u001b[0;32m    853\u001b[0m     X_basis,\n\u001b[0;32m    854\u001b[0m     xlim,\n\u001b[0;32m    855\u001b[0m     ylim,\n\u001b[0;32m    856\u001b[0m     zlim,\n\u001b[0;32m    857\u001b[0m     confidence,\n\u001b[0;32m    858\u001b[0m     NCx,\n\u001b[0;32m    859\u001b[0m     NCy,\n\u001b[0;32m    860\u001b[0m     Xss,\n\u001b[0;32m    861\u001b[0m     ftype,\n\u001b[0;32m    862\u001b[0m     fp_ind,\n\u001b[1;32m--> 863\u001b[0m ) \u001b[38;5;241m=\u001b[39m util_topology(adata\u001b[38;5;241m=\u001b[39madata, basis\u001b[38;5;241m=\u001b[39mbasis, X\u001b[38;5;241m=\u001b[39mX, dims\u001b[38;5;241m=\u001b[39mdims, func\u001b[38;5;241m=\u001b[39mfunc, VecFld\u001b[38;5;241m=\u001b[39mVecFld, n\u001b[38;5;241m=\u001b[39mn, \u001b[38;5;241m*\u001b[39mkwargs)\n\u001b[0;32m    865\u001b[0m \u001b[38;5;66;03m# commented for now, will go back to this later.\u001b[39;00m\n\u001b[0;32m    866\u001b[0m \u001b[38;5;66;03m# sep = compute_separatrices(vecfld.Xss.get_X(), vecfld.Xss.get_J(), vecfld.func, xlim, ylim)\u001b[39;00m\n\u001b[0;32m    868\u001b[0m \u001b[38;5;28;01mif\u001b[39;00m layer \u001b[38;5;129;01mis\u001b[39;00m \u001b[38;5;28;01mNone\u001b[39;00m:\n",
      "File \u001b[1;32m~\\AppData\\Roaming\\Python\\Python311\\site-packages\\dynamo\\vectorfield\\topography.py:760\u001b[0m, in \u001b[0;36mutil_topology\u001b[1;34m(adata, basis, dims, func, VecFld, X, n, **kwargs)\u001b[0m\n\u001b[0;32m    758\u001b[0m vecfld\u001b[38;5;241m.\u001b[39mfind_fixed_points_by_sampling(n, xlim, ylim)\n\u001b[0;32m    759\u001b[0m \u001b[38;5;28;01mif\u001b[39;00m vecfld\u001b[38;5;241m.\u001b[39mget_num_fixed_points() \u001b[38;5;241m>\u001b[39m \u001b[38;5;241m0\u001b[39m:\n\u001b[1;32m--> 760\u001b[0m     vecfld\u001b[38;5;241m.\u001b[39mcompute_nullclines(xlim, ylim, find_new_fixed_points\u001b[38;5;241m=\u001b[39m\u001b[38;5;28;01mTrue\u001b[39;00m)\n\u001b[0;32m    761\u001b[0m     NCx, NCy \u001b[38;5;241m=\u001b[39m vecfld\u001b[38;5;241m.\u001b[39mNCx, vecfld\u001b[38;5;241m.\u001b[39mNCy\n\u001b[0;32m    763\u001b[0m Xss, ftype \u001b[38;5;241m=\u001b[39m vecfld\u001b[38;5;241m.\u001b[39mget_fixed_points(get_types\u001b[38;5;241m=\u001b[39m\u001b[38;5;28;01mTrue\u001b[39;00m)\n",
      "File \u001b[1;32m~\\AppData\\Roaming\\Python\\Python311\\site-packages\\dynamo\\vectorfield\\topography.py:578\u001b[0m, in \u001b[0;36mTopography2D.compute_nullclines\u001b[1;34m(self, x_range, y_range, find_new_fixed_points, tol_redundant)\u001b[0m\n\u001b[0;32m    576\u001b[0m s_max \u001b[38;5;241m=\u001b[39m \u001b[38;5;241m5\u001b[39m \u001b[38;5;241m*\u001b[39m ((x_range[\u001b[38;5;241m1\u001b[39m] \u001b[38;5;241m-\u001b[39m x_range[\u001b[38;5;241m0\u001b[39m]) \u001b[38;5;241m+\u001b[39m (y_range[\u001b[38;5;241m1\u001b[39m] \u001b[38;5;241m-\u001b[39m y_range[\u001b[38;5;241m0\u001b[39m]))\n\u001b[0;32m    577\u001b[0m ds \u001b[38;5;241m=\u001b[39m s_max \u001b[38;5;241m/\u001b[39m \u001b[38;5;241m1e3\u001b[39m\n\u001b[1;32m--> 578\u001b[0m \u001b[38;5;28mself\u001b[39m\u001b[38;5;241m.\u001b[39mNCx, \u001b[38;5;28mself\u001b[39m\u001b[38;5;241m.\u001b[39mNCy \u001b[38;5;241m=\u001b[39m compute_nullclines_2d(\n\u001b[0;32m    579\u001b[0m     \u001b[38;5;28mself\u001b[39m\u001b[38;5;241m.\u001b[39mXss\u001b[38;5;241m.\u001b[39mget_X(),\n\u001b[0;32m    580\u001b[0m     \u001b[38;5;28mself\u001b[39m\u001b[38;5;241m.\u001b[39mfx,\n\u001b[0;32m    581\u001b[0m     \u001b[38;5;28mself\u001b[39m\u001b[38;5;241m.\u001b[39mfy,\n\u001b[0;32m    582\u001b[0m     x_range,\n\u001b[0;32m    583\u001b[0m     y_range,\n\u001b[0;32m    584\u001b[0m     s_max\u001b[38;5;241m=\u001b[39ms_max,\n\u001b[0;32m    585\u001b[0m     ds\u001b[38;5;241m=\u001b[39mds,\n\u001b[0;32m    586\u001b[0m )\n\u001b[0;32m    587\u001b[0m \u001b[38;5;28;01mif\u001b[39;00m find_new_fixed_points:\n\u001b[0;32m    588\u001b[0m     sample_interval \u001b[38;5;241m=\u001b[39m ds \u001b[38;5;241m*\u001b[39m \u001b[38;5;241m10\u001b[39m\n",
      "File \u001b[1;32m~\\AppData\\Roaming\\Python\\Python311\\site-packages\\dynamo\\vectorfield\\topography.py:175\u001b[0m, in \u001b[0;36mcompute_nullclines_2d\u001b[1;34m(X0, fdx, fdy, x_range, y_range, s_max, ds)\u001b[0m\n\u001b[0;32m    173\u001b[0m     NCx\u001b[38;5;241m.\u001b[39mappend(continuation(x0, fdx, s_max, ds, v0\u001b[38;5;241m=\u001b[39mv0))\n\u001b[0;32m    174\u001b[0m     NCx\u001b[38;5;241m.\u001b[39mappend(continuation(x0, fdx, s_max, ds, v0\u001b[38;5;241m=\u001b[39m\u001b[38;5;241m-\u001b[39mv0))\n\u001b[1;32m--> 175\u001b[0m     NCy\u001b[38;5;241m.\u001b[39mappend(continuation(x0, fdy, s_max, ds, v0\u001b[38;5;241m=\u001b[39mv0))\n\u001b[0;32m    176\u001b[0m     NCy\u001b[38;5;241m.\u001b[39mappend(continuation(x0, fdy, s_max, ds, v0\u001b[38;5;241m=\u001b[39m\u001b[38;5;241m-\u001b[39mv0))\n\u001b[0;32m    177\u001b[0m NCx \u001b[38;5;241m=\u001b[39m clip_curves(NCx, [x_range, y_range], ds \u001b[38;5;241m*\u001b[39m \u001b[38;5;241m10\u001b[39m)\n",
      "File \u001b[1;32m~\\AppData\\Roaming\\Python\\Python311\\site-packages\\dynamo\\vectorfield\\topography.py:87\u001b[0m, in \u001b[0;36mcontinuation\u001b[1;34m(x0, func, s_max, ds, v0, param_axis, param_direction)\u001b[0m\n\u001b[0;32m     85\u001b[0m \u001b[38;5;28;01mwhile\u001b[39;00m s \u001b[38;5;241m<\u001b[39m\u001b[38;5;241m=\u001b[39m s_max:\n\u001b[0;32m     86\u001b[0m     x1 \u001b[38;5;241m=\u001b[39m ret[\u001b[38;5;241m-\u001b[39m\u001b[38;5;241m1\u001b[39m]\n\u001b[1;32m---> 87\u001b[0m     x \u001b[38;5;241m=\u001b[39m pac_onestep(x1, func, v, ds)\n\u001b[0;32m     88\u001b[0m     ret\u001b[38;5;241m.\u001b[39mappend(x)\n\u001b[0;32m     89\u001b[0m     s \u001b[38;5;241m+\u001b[39m\u001b[38;5;241m=\u001b[39m ds\n",
      "File \u001b[1;32m~\\AppData\\Roaming\\Python\\Python311\\site-packages\\dynamo\\vectorfield\\topography.py:51\u001b[0m, in \u001b[0;36mpac_onestep\u001b[1;34m(x0, func, v0, ds)\u001b[0m\n\u001b[0;32m     48\u001b[0m \u001b[38;5;28;01mdef\u001b[39;00m \u001b[38;5;21mF\u001b[39m(x):\n\u001b[0;32m     49\u001b[0m     \u001b[38;5;28;01mreturn\u001b[39;00m np\u001b[38;5;241m.\u001b[39marray([func(x), (x \u001b[38;5;241m-\u001b[39m x0)\u001b[38;5;241m.\u001b[39mdot(v0) \u001b[38;5;241m-\u001b[39m ds])\n\u001b[1;32m---> 51\u001b[0m x1 \u001b[38;5;241m=\u001b[39m fsolve(F, x01)\n\u001b[0;32m     52\u001b[0m \u001b[38;5;28;01mreturn\u001b[39;00m x1\n",
      "File \u001b[1;32m~\\miniconda3\\envs\\dynamo\\Lib\\site-packages\\scipy\\optimize\\_minpack_py.py:166\u001b[0m, in \u001b[0;36mfsolve\u001b[1;34m(func, x0, args, fprime, full_output, col_deriv, xtol, maxfev, band, epsfcn, factor, diag)\u001b[0m\n\u001b[0;32m     54\u001b[0m \u001b[38;5;250m\u001b[39m\u001b[38;5;124;03m\"\"\"\u001b[39;00m\n\u001b[0;32m     55\u001b[0m \u001b[38;5;124;03mFind the roots of a function.\u001b[39;00m\n\u001b[0;32m     56\u001b[0m \n\u001b[1;32m   (...)\u001b[0m\n\u001b[0;32m    156\u001b[0m \n\u001b[0;32m    157\u001b[0m \u001b[38;5;124;03m\"\"\"\u001b[39;00m\n\u001b[0;32m    158\u001b[0m options \u001b[38;5;241m=\u001b[39m {\u001b[38;5;124m'\u001b[39m\u001b[38;5;124mcol_deriv\u001b[39m\u001b[38;5;124m'\u001b[39m: col_deriv,\n\u001b[0;32m    159\u001b[0m            \u001b[38;5;124m'\u001b[39m\u001b[38;5;124mxtol\u001b[39m\u001b[38;5;124m'\u001b[39m: xtol,\n\u001b[0;32m    160\u001b[0m            \u001b[38;5;124m'\u001b[39m\u001b[38;5;124mmaxfev\u001b[39m\u001b[38;5;124m'\u001b[39m: maxfev,\n\u001b[1;32m   (...)\u001b[0m\n\u001b[0;32m    163\u001b[0m            \u001b[38;5;124m'\u001b[39m\u001b[38;5;124mfactor\u001b[39m\u001b[38;5;124m'\u001b[39m: factor,\n\u001b[0;32m    164\u001b[0m            \u001b[38;5;124m'\u001b[39m\u001b[38;5;124mdiag\u001b[39m\u001b[38;5;124m'\u001b[39m: diag}\n\u001b[1;32m--> 166\u001b[0m res \u001b[38;5;241m=\u001b[39m _root_hybr(func, x0, args, jac\u001b[38;5;241m=\u001b[39mfprime, \u001b[38;5;241m*\u001b[39m\u001b[38;5;241m*\u001b[39moptions)\n\u001b[0;32m    167\u001b[0m \u001b[38;5;28;01mif\u001b[39;00m full_output:\n\u001b[0;32m    168\u001b[0m     x \u001b[38;5;241m=\u001b[39m res[\u001b[38;5;124m'\u001b[39m\u001b[38;5;124mx\u001b[39m\u001b[38;5;124m'\u001b[39m]\n",
      "File \u001b[1;32m~\\miniconda3\\envs\\dynamo\\Lib\\site-packages\\scipy\\optimize\\_minpack_py.py:232\u001b[0m, in \u001b[0;36m_root_hybr\u001b[1;34m(func, x0, args, jac, col_deriv, xtol, maxfev, band, eps, factor, diag, **unknown_options)\u001b[0m\n\u001b[0;32m    230\u001b[0m \u001b[38;5;28;01mif\u001b[39;00m \u001b[38;5;129;01mnot\u001b[39;00m \u001b[38;5;28misinstance\u001b[39m(args, \u001b[38;5;28mtuple\u001b[39m):\n\u001b[0;32m    231\u001b[0m     args \u001b[38;5;241m=\u001b[39m (args,)\n\u001b[1;32m--> 232\u001b[0m shape, dtype \u001b[38;5;241m=\u001b[39m _check_func(\u001b[38;5;124m'\u001b[39m\u001b[38;5;124mfsolve\u001b[39m\u001b[38;5;124m'\u001b[39m, \u001b[38;5;124m'\u001b[39m\u001b[38;5;124mfunc\u001b[39m\u001b[38;5;124m'\u001b[39m, func, x0, args, n, (n,))\n\u001b[0;32m    233\u001b[0m \u001b[38;5;28;01mif\u001b[39;00m epsfcn \u001b[38;5;129;01mis\u001b[39;00m \u001b[38;5;28;01mNone\u001b[39;00m:\n\u001b[0;32m    234\u001b[0m     epsfcn \u001b[38;5;241m=\u001b[39m finfo(dtype)\u001b[38;5;241m.\u001b[39meps\n",
      "File \u001b[1;32m~\\miniconda3\\envs\\dynamo\\Lib\\site-packages\\scipy\\optimize\\_minpack_py.py:29\u001b[0m, in \u001b[0;36m_check_func\u001b[1;34m(checker, argname, thefunc, x0, args, numinputs, output_shape)\u001b[0m\n\u001b[0;32m     27\u001b[0m \u001b[38;5;28;01mdef\u001b[39;00m \u001b[38;5;21m_check_func\u001b[39m(checker, argname, thefunc, x0, args, numinputs,\n\u001b[0;32m     28\u001b[0m                 output_shape\u001b[38;5;241m=\u001b[39m\u001b[38;5;28;01mNone\u001b[39;00m):\n\u001b[1;32m---> 29\u001b[0m     res \u001b[38;5;241m=\u001b[39m atleast_1d(thefunc(\u001b[38;5;241m*\u001b[39m((x0[:numinputs],) \u001b[38;5;241m+\u001b[39m args)))\n\u001b[0;32m     30\u001b[0m     \u001b[38;5;28;01mif\u001b[39;00m (output_shape \u001b[38;5;129;01mis\u001b[39;00m \u001b[38;5;129;01mnot\u001b[39;00m \u001b[38;5;28;01mNone\u001b[39;00m) \u001b[38;5;129;01mand\u001b[39;00m (shape(res) \u001b[38;5;241m!=\u001b[39m output_shape):\n\u001b[0;32m     31\u001b[0m         \u001b[38;5;28;01mif\u001b[39;00m (output_shape[\u001b[38;5;241m0\u001b[39m] \u001b[38;5;241m!=\u001b[39m \u001b[38;5;241m1\u001b[39m):\n",
      "File \u001b[1;32m~\\AppData\\Roaming\\Python\\Python311\\site-packages\\dynamo\\vectorfield\\topography.py:49\u001b[0m, in \u001b[0;36mpac_onestep.<locals>.F\u001b[1;34m(x)\u001b[0m\n\u001b[0;32m     48\u001b[0m \u001b[38;5;28;01mdef\u001b[39;00m \u001b[38;5;21mF\u001b[39m(x):\n\u001b[1;32m---> 49\u001b[0m     \u001b[38;5;28;01mreturn\u001b[39;00m np\u001b[38;5;241m.\u001b[39marray([func(x), (x \u001b[38;5;241m-\u001b[39m x0)\u001b[38;5;241m.\u001b[39mdot(v0) \u001b[38;5;241m-\u001b[39m ds])\n",
      "File \u001b[1;32m~\\AppData\\Roaming\\Python\\Python311\\site-packages\\dynamo\\vectorfield\\topography.py:435\u001b[0m, in \u001b[0;36mTopography2D.__init__.<locals>.<lambda>\u001b[1;34m(x)\u001b[0m\n\u001b[0;32m    433\u001b[0m     \u001b[38;5;28mself\u001b[39m\u001b[38;5;241m.\u001b[39mfx \u001b[38;5;241m=\u001b[39m func_vx\n\u001b[0;32m    434\u001b[0m \u001b[38;5;28;01mif\u001b[39;00m func_vy \u001b[38;5;129;01mis\u001b[39;00m \u001b[38;5;28;01mNone\u001b[39;00m:\n\u001b[1;32m--> 435\u001b[0m     \u001b[38;5;28mself\u001b[39m\u001b[38;5;241m.\u001b[39mfy \u001b[38;5;241m=\u001b[39m \u001b[38;5;28;01mlambda\u001b[39;00m x: func_dim(x, \u001b[38;5;28mself\u001b[39m\u001b[38;5;241m.\u001b[39mfunc, \u001b[38;5;241m1\u001b[39m)\n\u001b[0;32m    436\u001b[0m \u001b[38;5;28;01melse\u001b[39;00m:\n\u001b[0;32m    437\u001b[0m     \u001b[38;5;28mself\u001b[39m\u001b[38;5;241m.\u001b[39mfy \u001b[38;5;241m=\u001b[39m func_vy\n",
      "File \u001b[1;32m~\\AppData\\Roaming\\Python\\Python311\\site-packages\\dynamo\\vectorfield\\topography.py:423\u001b[0m, in \u001b[0;36mTopography2D.__init__.<locals>.func_dim\u001b[1;34m(x, func, dim)\u001b[0m\n\u001b[0;32m    422\u001b[0m \u001b[38;5;28;01mdef\u001b[39;00m \u001b[38;5;21mfunc_dim\u001b[39m(x, func, dim):\n\u001b[1;32m--> 423\u001b[0m     y \u001b[38;5;241m=\u001b[39m func(x)\n\u001b[0;32m    424\u001b[0m     \u001b[38;5;28;01mif\u001b[39;00m y\u001b[38;5;241m.\u001b[39mndim \u001b[38;5;241m==\u001b[39m \u001b[38;5;241m1\u001b[39m:\n\u001b[0;32m    425\u001b[0m         y \u001b[38;5;241m=\u001b[39m y[dim]\n",
      "File \u001b[1;32m~\\AppData\\Roaming\\Python\\Python311\\site-packages\\dynamo\\vectorfield\\utils.py:302\u001b[0m, in \u001b[0;36mvecfld_from_adata.<locals>.<lambda>\u001b[1;34m(x)\u001b[0m\n\u001b[0;32m    300\u001b[0m method \u001b[38;5;241m=\u001b[39m vf_dict[\u001b[38;5;124m\"\u001b[39m\u001b[38;5;124mmethod\u001b[39m\u001b[38;5;124m\"\u001b[39m]\n\u001b[0;32m    301\u001b[0m \u001b[38;5;28;01mif\u001b[39;00m method\u001b[38;5;241m.\u001b[39mlower() \u001b[38;5;241m==\u001b[39m \u001b[38;5;124m\"\u001b[39m\u001b[38;5;124msparsevfc\u001b[39m\u001b[38;5;124m\"\u001b[39m:\n\u001b[1;32m--> 302\u001b[0m     func \u001b[38;5;241m=\u001b[39m \u001b[38;5;28;01mlambda\u001b[39;00m x: vector_field_function(x, vf_dict)\n\u001b[0;32m    303\u001b[0m \u001b[38;5;28;01melif\u001b[39;00m method\u001b[38;5;241m.\u001b[39mlower() \u001b[38;5;241m==\u001b[39m \u001b[38;5;124m\"\u001b[39m\u001b[38;5;124mdynode\u001b[39m\u001b[38;5;124m\"\u001b[39m:\n\u001b[0;32m    304\u001b[0m     func \u001b[38;5;241m=\u001b[39m \u001b[38;5;28;01mlambda\u001b[39;00m x: dynode_vector_field_function(x, vf_dict)\n",
      "File \u001b[1;32m~\\AppData\\Roaming\\Python\\Python311\\site-packages\\dynamo\\tools\\utils.py:793\u001b[0m, in \u001b[0;36mtimeit.<locals>.timed\u001b[1;34m(*args, **kw)\u001b[0m\n\u001b[0;32m    791\u001b[0m     main_info_verbose_timeit(\u001b[38;5;124m\"\u001b[39m\u001b[38;5;124mTime elapsed for \u001b[39m\u001b[38;5;132;01m%r\u001b[39;00m\u001b[38;5;124m: \u001b[39m\u001b[38;5;132;01m%.4f\u001b[39;00m\u001b[38;5;124m s\u001b[39m\u001b[38;5;124m\"\u001b[39m \u001b[38;5;241m%\u001b[39m (method\u001b[38;5;241m.\u001b[39m\u001b[38;5;18m__name__\u001b[39m, (te \u001b[38;5;241m-\u001b[39m ts)))\n\u001b[0;32m    792\u001b[0m \u001b[38;5;28;01melse\u001b[39;00m:\n\u001b[1;32m--> 793\u001b[0m     result \u001b[38;5;241m=\u001b[39m method(\u001b[38;5;241m*\u001b[39margs, \u001b[38;5;241m*\u001b[39m\u001b[38;5;241m*\u001b[39mkw)\n\u001b[0;32m    794\u001b[0m \u001b[38;5;28;01mreturn\u001b[39;00m result\n",
      "File \u001b[1;32m~\\AppData\\Roaming\\Python\\Python311\\site-packages\\dynamo\\vectorfield\\utils.py:134\u001b[0m, in \u001b[0;36mvector_field_function\u001b[1;34m(x, vf_dict, dim, kernel, X_ctrl_ind, **kernel_kwargs)\u001b[0m\n\u001b[0;32m    131\u001b[0m \u001b[38;5;28;01melse\u001b[39;00m:\n\u001b[0;32m    132\u001b[0m     C \u001b[38;5;241m=\u001b[39m vf_dict[\u001b[38;5;124m\"\u001b[39m\u001b[38;5;124mC\u001b[39m\u001b[38;5;124m\"\u001b[39m]\n\u001b[1;32m--> 134\u001b[0m K \u001b[38;5;241m=\u001b[39m K\u001b[38;5;241m.\u001b[39mdot(C)\n\u001b[0;32m    136\u001b[0m \u001b[38;5;28;01mif\u001b[39;00m dim \u001b[38;5;129;01mis\u001b[39;00m \u001b[38;5;129;01mnot\u001b[39;00m \u001b[38;5;28;01mNone\u001b[39;00m \u001b[38;5;129;01mand\u001b[39;00m \u001b[38;5;129;01mnot\u001b[39;00m has_div_cur_free_kernels:\n\u001b[0;32m    137\u001b[0m     \u001b[38;5;28;01mif\u001b[39;00m np\u001b[38;5;241m.\u001b[39misscalar(dim):\n",
      "\u001b[1;31mKeyboardInterrupt\u001b[0m: "
     ]
    }
   ],
   "source": [
    "dyn.vf.topography(adata, basis='umap')\n",
    "dyn.vf.topography(adata, basis='pca')"
   ]
  },
  {
   "cell_type": "code",
   "execution_count": null,
   "id": "d94cc00d-a6b7-46e9-8e2d-61119926747c",
   "metadata": {},
   "outputs": [],
   "source": [
    "scv.pl.velocity_embedding_stream(adata, basis='umap',color='newcelltype',title=f'{dataset}-UMAP-velo',save=f'{dataset}_velo_umap.png')"
   ]
  },
  {
   "cell_type": "code",
   "execution_count": null,
   "id": "de46a6ff-77d2-4cf9-bca7-5fb9f6490eea",
   "metadata": {},
   "outputs": [],
   "source": [
    "scv.pl.velocity_embedding_stream(adata, basis='pca',color='newcelltype',title=f'{dataset}-PCA-velo',save=f'{dataset}_velo_pca.png')"
   ]
  },
  {
   "cell_type": "code",
   "execution_count": null,
   "id": "96949137-e4f4-4e3c-9778-4927589628a6",
   "metadata": {},
   "outputs": [],
   "source": [
    "dyn.pl.topography(\n",
    "    adata,\n",
    "    color=\"newcelltype\",\n",
    "    markersize=200,\n",
    "    basis=\"umap\",\n",
    "    fps_basis=\"umap\",\n",
    "    streamline_alpha=1.0,\n",
    "    save_show_or_return='return',\n",
    "    figsize=(6,4),\n",
    "    background='white',color_key=adata.uns['newcelltype_colors']\n",
    ")\n",
    "dyn.pl.save_fig(path='./',ext='png',prefix=f'{dataset}-dynamo-umap')"
   ]
  },
  {
   "cell_type": "code",
   "execution_count": null,
   "id": "880832b4-17af-4c1f-af65-0da9194a221b",
   "metadata": {},
   "outputs": [],
   "source": [
    "dyn.pl.topography(adata,\n",
    "                  basis='pca',\n",
    "                  save_show_or_return='return',\n",
    "                  figsize=(6,4),\n",
    "                  background='white'\n",
    "                 )\n",
    "dyn.pl.save_fig(path='./',ext='png',prefix=f'{dataset}-dynamo-pca')"
   ]
  },
  {
   "cell_type": "code",
   "execution_count": null,
   "id": "3be655d4-a181-405e-9d71-2a8a59501c26",
   "metadata": {},
   "outputs": [],
   "source": [
    "if use_fixed_points:\n",
    "    \n",
    "    Xss, ftype = adata.uns['VecFld_umap']['Xss'], adata.uns['VecFld_umap']['ftype']\n",
    "    adata.uns['VecFld_umap']['Xss'] = Xss[good_fixed_points]\n",
    "    adata.uns['VecFld_umap']['ftype'] = ftype[good_fixed_points]\n",
    "else:\n",
    "    print('do not pick fixed points',flush=True)"
   ]
  },
  {
   "cell_type": "code",
   "execution_count": null,
   "id": "c5d23160-50c5-4ae5-ae2c-f3ddfe435a69",
   "metadata": {},
   "outputs": [],
   "source": [
    "dyn.pl.topography(\n",
    "    adata,\n",
    "    color=\"newcelltype\",\n",
    "    markersize=200,\n",
    "    basis=\"umap\",\n",
    "    fps_basis=\"umap\",\n",
    "    streamline_alpha=1.0,\n",
    "    save_show_or_return='return',\n",
    "    figsize=(6,4),\n",
    "    background='white',color_key=adata.uns['newcelltype_colors']\n",
    ")\n",
    "dyn.pl.save_fig(path='./',ext='png',prefix=f'{dataset}-dynamo-goodpoint-umap')"
   ]
  },
  {
   "cell_type": "code",
   "execution_count": null,
   "id": "c549c8a3-87c5-4497-83fc-c6ef58755109",
   "metadata": {},
   "outputs": [],
   "source": [
    "adata"
   ]
  },
  {
   "cell_type": "code",
   "execution_count": null,
   "id": "e92b3b07-438b-4daa-9bde-efd935d7a370",
   "metadata": {},
   "outputs": [],
   "source": [
    "#run_plotly(adata)"
   ]
  },
  {
   "cell_type": "code",
   "execution_count": null,
   "id": "daa1a724-95a9-4303-b581-63efe3f17ee6",
   "metadata": {},
   "outputs": [],
   "source": [
    "#dyn.pd.fate(adata, \"ATCGATGGTGTA\",basis='umap')"
   ]
  },
  {
   "cell_type": "code",
   "execution_count": null,
   "id": "59f10cca-08e9-4b5e-b275-594900939cd3",
   "metadata": {},
   "outputs": [],
   "source": [
    "dyn.ext.ddhodge(adata,basis='umap')\n",
    "dyn.ext.ddhodge(adata,basis='pca')"
   ]
  },
  {
   "cell_type": "code",
   "execution_count": null,
   "id": "ff530b3e-d711-4e90-a713-396ed8803f1c",
   "metadata": {},
   "outputs": [],
   "source": [
    "dyn.vf.Potential(adata)"
   ]
  },
  {
   "cell_type": "code",
   "execution_count": null,
   "id": "64a920f4-cc88-466c-8da3-9745bfc496ee",
   "metadata": {},
   "outputs": [],
   "source": [
    "adata"
   ]
  },
  {
   "cell_type": "code",
   "execution_count": null,
   "id": "4218d586-c349-40ba-969d-6bf2cabd0ffa",
   "metadata": {},
   "outputs": [],
   "source": [
    "#dyn.pl.line_integral_conv(adata,basis='umap',save_show_or_return='show')\n",
    "#dyn.pl.save_fig(path='./',ext='png',prefix=f'{dataset}-integral_conv')"
   ]
  },
  {
   "cell_type": "code",
   "execution_count": null,
   "id": "d3b0ba9a-6130-4783-bc62-2d6133e1a19f",
   "metadata": {},
   "outputs": [],
   "source": [
    "if run_animation:\n",
    "    from matplotlib import animation\n",
    "    fig, ax = plt.subplots()\n",
    "    ax = dyn.pl.topography(adata, ax=ax)\n",
    "    instance = dyn.mv.StreamFuncAnim(adata=adata, ax=ax)\n",
    "    anim = animation.FuncAnimation(instance.fig, instance.update, init_func=instance.init_background)\n",
    "    anim.save('animation.mp4', writer='ffmpeg', dpi=300)"
   ]
  },
  {
   "cell_type": "code",
   "execution_count": null,
   "id": "72bd64fe-acac-4613-8213-70a806b7af41",
   "metadata": {},
   "outputs": [],
   "source": [
    "##scvelo###"
   ]
  },
  {
   "cell_type": "code",
   "execution_count": null,
   "id": "cdb3eedf-7dd7-43e3-a8fc-07bb95ed6f2d",
   "metadata": {},
   "outputs": [],
   "source": [
    "if run_scvelo:\n",
    "    \n",
    "    scv.tl.velocity_graph(adata, vkey='velocity_S', xkey='M_s', n_jobs=4)\n",
    "    \n",
    "    scv.tl.velocity_pseudotime(adata, vkey='velocity_S', \n",
    "                               #root_key='end',\n",
    "                               #end_key='root',\n",
    "                               n_dcs=20,\n",
    "                               save=f'{dataset}pseudotime.png'\n",
    "                              )\n",
    "    \n",
    "    scv.pl.velocity_embedding_stream(adata, \n",
    "                                     color='velocity_S_pseudotime', \n",
    "                                     basis='umap', \n",
    "                                     cmap='gnuplot',\n",
    "                                     save=f'{dataset}-scvelo2.png'\n",
    "                                    )\n",
    "    \n",
    "    scv.tl.score_genes_cell_cycle(adata)\n",
    "    \n",
    "    scv.pl.scatter(adata, \n",
    "                   color_gradients=['S_score', 'G2M_score'], \n",
    "                   palette=['green', 'orange'], \n",
    "                   smooth=True, perc=[5, 90],\n",
    "                  save=f'{dataset}score.png')\n",
    "    \n",
    "    toptransition_genes = adata.var['use_for_transition'].sort_values(ascending=False).index[:100]\n",
    "    \n",
    "    scv.pl.heatmap(adata, \n",
    "                   var_names=toptransition_genes, \n",
    "                   sortby='velocity_S_pseudotime', \n",
    "                   layer='M_s',\n",
    "                   color_map='viridis',\n",
    "                   col_color='newcelltype', \n",
    "                   palette='viridis', \n",
    "                   n_convolve=100,\n",
    "                   colorbar=True,\n",
    "                   col_cluster=False, \n",
    "                   row_cluster=False,\n",
    "                   save=f'{dataset}heatmap.png'\n",
    "                   )\n",
    "    "
   ]
  },
  {
   "cell_type": "code",
   "execution_count": null,
   "id": "a92d1005-0a14-457c-8ab3-4c46873e579d",
   "metadata": {},
   "outputs": [],
   "source": [
    "###LAPS####least action path analyses##############"
   ]
  },
  {
   "cell_type": "code",
   "execution_count": null,
   "id": "104e236e-0a2f-4026-bd06-35b25c1a0178",
   "metadata": {},
   "outputs": [],
   "source": [
    "if run_LAPS:\n",
    "    print('begining running least action path analyses',flush=True)\n",
    "else:\n",
    "    sys.exit()"
   ]
  },
  {
   "cell_type": "code",
   "execution_count": null,
   "id": "9f4045d2-5ee5-4c0d-9bf3-77f9c0a7dbe0",
   "metadata": {},
   "outputs": [],
   "source": [
    "adata"
   ]
  },
  {
   "cell_type": "code",
   "execution_count": null,
   "id": "87ccaa6c-4c0c-4a24-ad52-9db54d433d1e",
   "metadata": {},
   "outputs": [],
   "source": [
    "dyn.pl.streamline_plot(adata, basis=\"umap\", color=\"newcelltype\")\n",
    "c0 = dyn.tl.select_cell(adata, \"newcelltype\", stem)\n",
    "c1 = dyn.tl.select_cell(adata, \"newcelltype\", cell1)\n",
    "c2 = dyn.tl.select_cell(adata, \"newcelltype\", cell2)\n",
    "c3 = dyn.tl.select_cell(adata, \"newcelltype\", cell3)\n",
    "c4 = dyn.tl.select_cell(adata, \"newcelltype\", cell4)\n",
    "c5 = dyn.tl.select_cell(adata, \"newcelltype\", cell5)\n"
   ]
  },
  {
   "cell_type": "code",
   "execution_count": null,
   "id": "8ad34647-ae58-47ba-8b5e-5e11c0e64137",
   "metadata": {},
   "outputs": [],
   "source": [
    "adata.uns['VecFld_umap']['Xss']"
   ]
  },
  {
   "cell_type": "code",
   "execution_count": null,
   "id": "261a4062-3a55-4bea-8d5d-a111d451fc2a",
   "metadata": {},
   "outputs": [],
   "source": [
    "from dynamo.tools.utils import nearest_neighbors\n",
    "fixed_points = adata.uns['VecFld_umap']['Xss']\n",
    "c0_indices = nearest_neighbors(fixed_points[0], adata.obsm[\"X_umap\"])\n",
    "c1_indices = nearest_neighbors(fixed_points[1], adata.obsm[\"X_umap\"])\n",
    "c2_indices = nearest_neighbors(fixed_points[2], adata.obsm[\"X_umap\"])\n",
    "c3_indices = nearest_neighbors(fixed_points[3], adata.obsm[\"X_umap\"])\n",
    "c4_indices = nearest_neighbors(fixed_points[4], adata.obsm[\"X_umap\"])\n",
    "c5_indices = nearest_neighbors(fixed_points[5], adata.obsm[\"X_umap\"])\n"
   ]
  },
  {
   "cell_type": "code",
   "execution_count": null,
   "id": "9a2eccc5-fac3-49b2-9847-84cc225d112d",
   "metadata": {},
   "outputs": [],
   "source": [
    "import matplotlib.pyplot as plt\n",
    "plt.scatter(*adata.obsm[\"X_umap\"].T)\n",
    "for indices in [\n",
    "    c0_indices,\n",
    "    c1_indices,\n",
    "    c2_indices,\n",
    "    c3_indices,\n",
    "    c4_indices,\n",
    "    c5_indices,\n",
    "]:\n",
    "    plt.scatter(*adata[indices[0]].obsm[\"X_umap\"].T)"
   ]
  },
  {
   "cell_type": "code",
   "execution_count": null,
   "id": "fc95c42d-86bd-4d64-a152-2da3335bbb6c",
   "metadata": {},
   "outputs": [],
   "source": [
    "dyn.tl.neighbors(adata, basis=\"umap\", result_prefix=\"umap\")"
   ]
  },
  {
   "cell_type": "code",
   "execution_count": null,
   "id": "70904d48-986b-4673-bbad-4ab00cb61579",
   "metadata": {},
   "outputs": [],
   "source": [
    "dyn.dynamo_logger.main_silence()\n",
    "transition_graph = {}\n",
    "cell_type = [stem, cell1, cell2,cell3,cell4,cell5]\n",
    "start_cell_indices = [\n",
    "    c0_indices,\n",
    "    c1_indices,\n",
    "    c2_indices,\n",
    "    c3_indices,\n",
    "    c4_indices,\n",
    "    c5_indices,\n",
    "]\n",
    "end_cell_indices = start_cell_indices\n",
    "for i, start in enumerate(start_cell_indices):\n",
    "    for j, end in enumerate(end_cell_indices):\n",
    "        if start is not end:\n",
    "            print(f'        now are : {start}---{end}              ')\n",
    "            min_lap_t = True if i == 0 else False\n",
    "            dyn.pd.least_action(\n",
    "                adata,\n",
    "                [adata.obs_names[start[0]][0]],\n",
    "                [adata.obs_names[end[0]][0]],\n",
    "                basis=\"umap\",\n",
    "                adj_key=\"umap_distances\",\n",
    "                min_lap_t= min_lap_t,\n",
    "                EM_steps=2,\n",
    "            )\n",
    "            dyn.pl.least_action(adata, basis=\"umap\")\n",
    "            plt.savefig('./' + dataset + '_lap_' + cell_type[i]+ \"-\" + cell_type[j] + '.png')\n",
    "            lap = dyn.pd.least_action(\n",
    "                adata,\n",
    "                [adata.obs_names[start[0]][0]],\n",
    "                [adata.obs_names[end[0]][0]],\n",
    "                basis=\"pca\",\n",
    "                adj_key=\"cosine_transition_matrix\",\n",
    "                min_lap_t=min_lap_t,\n",
    "                EM_steps=2,\n",
    "            )\n",
    "            genes = adata.var_names[adata.var.use_for_transition]\n",
    "            max_genes = max_genes\n",
    "            genes = genes[:max_genes]\n",
    "            df=pd.DataFrame(genes,columns=['Genes'])\n",
    "            df.to_csv('./' + dataset + '__transition_genes_' + cell_type[i]+ \"-\" + cell_type[j] + '.csv', index=False)\n",
    "            dyn.pl.kinetic_heatmap(\n",
    "                adata,\n",
    "                basis=\"pca\",\n",
    "                mode=\"lap\",\n",
    "                genes=genes,\n",
    "                show_colorbar=True,\n",
    "                project_back_to_high_dim=True,\n",
    "                figsize=(30, 50),\n",
    "                \n",
    "            )\n",
    "            plt.savefig('./' + dataset + '_heatmap_' + cell_type[i]+ \"-\" + cell_type[j] + '.png')\n",
    "            \n",
    "            # The `GeneTrajectory` class can be used to output trajectories for any set of genes of interest\n",
    "            gtraj = dyn.pd.GeneTrajectory(adata)\n",
    "            gtraj.from_pca(lap.X, t=lap.t)\n",
    "            gtraj.calc_msd()\n",
    "            ranking = dyn.vf.rank_genes(adata, \"traj_msd\")\n",
    "\n",
    "            print(start, \"->\", end)\n",
    "            genes = ranking[:5][\"all\"].to_list()\n",
    "            arr = gtraj.select_gene(genes)\n",
    "            \n",
    "            dyn.pl.multiplot(lambda k: [plt.plot(arr[k, :]), plt.title(genes[k])], np.arange(len(genes)))\n",
    "            plt.savefig('./' + dataset + '_' + cell_type[i]+ \"-\" + cell_type[j] + '.png')\n",
    "\n",
    "            transition_graph[cell_type[i] + \"->\" + cell_type[j]] = {\n",
    "                \"lap\": lap,\n",
    "                \"LAP_umap\": adata.uns[\"LAP_umap\"],\n",
    "                \"LAP_pca\": adata.uns[\"LAP_pca\"],\n",
    "                \"ranking\": ranking,\n",
    "                \"gtraj\": gtraj,\n",
    "            }"
   ]
  },
  {
   "cell_type": "code",
   "execution_count": null,
   "id": "a463bd2a-56b1-4014-a54f-a7af014ced7c",
   "metadata": {},
   "outputs": [],
   "source": [
    "develope_keys = [f\"{stem}->{cell1}\",f'{stem}->{cell2}',\n",
    "                f'{stem}->{cell3}',\n",
    "f'{stem}->{cell4}',\n",
    "f'{stem}->{cell5}']\n",
    "reprogram_keys = [f\"{cell1}->{stem}\",f'{cell2}->{stem}',\n",
    "                 f'{cell3}->{stem}',\n",
    "f'{cell4}->{stem}',\n",
    "f'{cell5}->{stem}']\n",
    "all_keys = develope_keys + reprogram_keys"
   ]
  },
  {
   "cell_type": "code",
   "execution_count": null,
   "id": "56db6d22-0986-49bc-b0d1-37765833f41b",
   "metadata": {},
   "outputs": [],
   "source": [
    "from dynamo.plot.utils import map2color\n",
    "def plotsave_lap(paths):\n",
    "    fig, ax = plt.subplots(figsize=(6, 4))\n",
    "    ax = dyn.pl.topography(\n",
    "        adata, markersize=300, \n",
    "        basis=\"umap\", \n",
    "        save_show_or_return=\"return\", \n",
    "        ax=ax, \n",
    "        fps_basis=\"umap\", \n",
    "        color=\"newcelltype\", \n",
    "        streamline_alpha=1, \n",
    "        frontier=False,color_key=adata.uns['newcelltype_colors']\n",
    "    )\n",
    "    #ax = ax[0]\n",
    "    x, y = 0, 1\n",
    "    # plot paths\n",
    "    for path in paths:\n",
    "        lap_dict = transition_graph[path][\"LAP_umap\"]\n",
    "        for prediction, action in zip(lap_dict[\"prediction\"], lap_dict[\"action\"]):\n",
    "            ax.scatter(*prediction[:, [x, y]].T, c=map2color(action))\n",
    "            ax.plot(*prediction[:, [x, y]].T, c=\"k\")\n",
    "    plt.savefig(f'{dataset}-all_LAP.png')"
   ]
  },
  {
   "cell_type": "code",
   "execution_count": null,
   "id": "32e694a2-7674-4f1c-b3e1-9618a0bebdec",
   "metadata": {},
   "outputs": [],
   "source": [
    "plotsave_lap(all_keys)"
   ]
  },
  {
   "cell_type": "code",
   "execution_count": null,
   "id": "4b269086-d4a0-48f0-a2b8-bd8f19f503c3",
   "metadata": {},
   "outputs": [],
   "source": [
    "from dynamo.plot.utils import map2color\n",
    "def plot_lap(paths):\n",
    "    fig, ax = plt.subplots(figsize=(5, 4))\n",
    "    ax = dyn.pl.streamline_plot(\n",
    "        adata, basis=\"umap\", save_show_or_return=\"return\", ax=ax, color=\"newcelltype\", frontier=True,color_key=adata.uns['newcelltype_colors']\n",
    "    )\n",
    "    ax = ax[0]\n",
    "    x, y = 0, 1\n",
    "\n",
    "    # plot paths\n",
    "    for path in paths:\n",
    "        lap_dict = transition_graph[path][\"LAP_umap\"]\n",
    "        for prediction, action in zip(lap_dict[\"prediction\"], lap_dict[\"action\"]):\n",
    "            ax.scatter(*prediction[:, [x, y]].T, c=map2color(action))\n",
    "            ax.plot(*prediction[:, [x, y]].T, c=\"k\")\n",
    "    plt.savefig(f'{dataset}-develop_LAP.png')"
   ]
  },
  {
   "cell_type": "code",
   "execution_count": null,
   "id": "2af65769-4510-4cbb-ad2b-e6740884c36b",
   "metadata": {},
   "outputs": [],
   "source": [
    "plot_lap(develope_keys)"
   ]
  },
  {
   "cell_type": "code",
   "execution_count": null,
   "id": "5bcedce3-ce93-4cde-b4fc-7bd2cfad0b4a",
   "metadata": {},
   "outputs": [],
   "source": [
    "###test code do not run###"
   ]
  },
  {
   "cell_type": "code",
   "execution_count": null,
   "id": "0566eda0-0e08-4c9c-8f76-e9fc974c4240",
   "metadata": {},
   "outputs": [],
   "source": [
    "#adata.obs['leiden']"
   ]
  },
  {
   "cell_type": "code",
   "execution_count": null,
   "id": "be837436-c7c2-4326-9170-7d34e434bb06",
   "metadata": {},
   "outputs": [],
   "source": [
    "#adata = adata[adata.obs['leiden'].isin(['0','1','2']),:].copy()"
   ]
  },
  {
   "cell_type": "code",
   "execution_count": null,
   "id": "d149784e-d3a5-4ebf-9564-ec79ca550d9c",
   "metadata": {},
   "outputs": [],
   "source": [
    "#adata.var"
   ]
  },
  {
   "cell_type": "code",
   "execution_count": null,
   "id": "e9c2ca75-3329-489a-beed-4d6aaae4ef71",
   "metadata": {},
   "outputs": [],
   "source": [
    "#type(adata.uns['VecFld_umap']['Xss'])"
   ]
  },
  {
   "cell_type": "code",
   "execution_count": null,
   "id": "2907703b-b4c7-43c1-b3b4-f3e294e39df5",
   "metadata": {},
   "outputs": [],
   "source": [
    "#adata.uns['VecFld_umap']['Xss'].type()"
   ]
  },
  {
   "cell_type": "code",
   "execution_count": null,
   "id": "21137911-9398-44db-b996-2fdedd0eed6a",
   "metadata": {},
   "outputs": [],
   "source": []
  }
 ],
 "metadata": {
  "kernelspec": {
   "display_name": "Python (dynamo)",
   "language": "python",
   "name": "dynamo"
  },
  "language_info": {
   "codemirror_mode": {
    "name": "ipython",
    "version": 3
   },
   "file_extension": ".py",
   "mimetype": "text/x-python",
   "name": "python",
   "nbconvert_exporter": "python",
   "pygments_lexer": "ipython3",
   "version": "3.11.10"
  }
 },
 "nbformat": 4,
 "nbformat_minor": 5
}
