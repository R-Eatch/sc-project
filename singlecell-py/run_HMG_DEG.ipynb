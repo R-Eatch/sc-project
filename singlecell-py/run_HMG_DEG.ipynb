{
 "cells": [
  {
   "cell_type": "code",
   "execution_count": 1,
   "id": "22e6d4fb-e23d-44b6-8796-ffeed304fd34",
   "metadata": {},
   "outputs": [
    {
     "name": "stdout",
     "output_type": "stream",
     "text": [
      "import successful\n"
     ]
    }
   ],
   "source": [
    "import scanpy as  sc\n",
    "import anndata as ad\n",
    "import os\n",
    "import pickle\n",
    "import pandas as pd\n",
    "import matplotlib.pyplot as plt\n",
    "import matplotlib\n",
    "print('import successful')"
   ]
  },
  {
   "cell_type": "code",
   "execution_count": null,
   "id": "a0680995-ecfe-4790-8f95-97615a203418",
   "metadata": {},
   "outputs": [],
   "source": [
    "sc.settings.figdir = ''\n",
    "# ========== Global Variables ==========\n",
    "dataset = 'H-MG'  # sample name, will affect input/output file names\n",
    "h5adpath = f'../{dataset}_cleaned.h5ad'  # path to read the h5ad file"
   ]
  },
  {
   "cell_type": "code",
   "execution_count": null,
   "id": "d24c7ea4-1583-427b-8591-dcc1248a44c9",
   "metadata": {},
   "outputs": [],
   "source": [
    "adata=sc.read_h5ad(h5adpath)"
   ]
  },
  {
   "cell_type": "code",
   "execution_count": 7,
   "id": "3551e7ab-1a7e-4dd3-a6f2-fa9771f87754",
   "metadata": {},
   "outputs": [
    {
     "data": {
      "text/plain": [
       "AnnData object with n_obs × n_vars = 20000 × 33145\n",
       "    obs: 'mapped_reference_assembly', 'mapped_reference_annotation', 'alignment_software', 'donor_id', 'self_reported_ethnicity_ontology_term_id', 'donor_living_at_sample_collection', 'donor_menopausal_status', 'organism_ontology_term_id', 'sample_uuid', 'sample_preservation_method', 'tissue_ontology_term_id', 'development_stage_ontology_term_id', 'sample_derivation_process', 'sample_source', 'donor_BMI_at_collection', 'suspension_depleted_cell_types', 'suspension_derivation_process', 'suspension_dissociation_reagent', 'suspension_dissociation_time', 'suspension_percent_cell_viability', 'suspension_uuid', 'suspension_type', 'library_uuid', 'assay_ontology_term_id', 'sequencing_platform', 'is_primary_data', 'cell_type_ontology_term_id', 'author_cell_type', 'cell_state', 'disease_ontology_term_id', 'sex_ontology_term_id', 'n_count_rna', 'n_feature_rna', 'percent_mito', 'percent_rb', 'sample_id', 'tissue_location', 'bmi_group', 'procedure_group', 'age_group', 'breast_density', 'tissue_type', 'reported_diseases', 'cell_type', 'assay', 'disease', 'organism', 'sex', 'tissue', 'self_reported_ethnicity', 'development_stage', 'observation_joinid'\n",
       "    var: 'feature_is_filtered', 'feature_name', 'feature_reference', 'feature_biotype', 'feature_length', 'feature_type'\n",
       "    uns: 'citation', 'default_embedding', 'schema_reference', 'schema_version', 'title'\n",
       "    obsm: 'X_pca', 'X_tsne', 'X_umap'"
      ]
     },
     "execution_count": 7,
     "metadata": {},
     "output_type": "execute_result"
    }
   ],
   "source": [
    "adata"
   ]
  },
  {
   "cell_type": "code",
   "execution_count": 5,
   "id": "22a7cece-63db-41df-b8d2-bf8f0fb2a1ee",
   "metadata": {},
   "outputs": [],
   "source": [
    "def do_deg(adata, sample_prefix=\"sample\",group='leiden'):\n",
    "    \"\"\"\n",
    "    Perform differential expression analysis using rank_genes_groups and save results.\n",
    "    \"\"\"\n",
    "    adata.X=adata.layers['normalized']\n",
    "    sc.tl.rank_genes_groups(adata, groupby=group, method='wilcoxon',pts=True)\n",
    "    sc.pl.rank_genes_groups_dotplot(\n",
    "        adata,\n",
    "        groupby=group,\n",
    "        n_genes=5,\n",
    "        save=f'{sample_prefix}_dotplot_{group}.png',\n",
    "        min_logfoldchange=0.25\n",
    "    )\n",
    "    df1 = sc.get.rank_genes_groups_df(adata, gene_symbols='feature_name')\n",
    "    df1.to_csv(f'{sample_prefix}_ranked_genes_{group}.csv', index=False)\n",
    "    print(\"DE analysis completed and results saved.\")"
   ]
  },
  {
   "cell_type": "code",
   "execution_count": null,
   "id": "5f6a40c8-2ee9-40c3-918b-0c835c4b0a83",
   "metadata": {},
   "outputs": [],
   "source": [
    "do_deg(adata,sample_prefix=dataset,group='author_cell_type')"
   ]
  },
  {
   "cell_type": "code",
   "execution_count": null,
   "id": "531141bb-ca99-4510-9034-b9e86b827c37",
   "metadata": {},
   "outputs": [],
   "source": [
    "do_deg(adata,sample_prefix=dataset,group='cell_type')"
   ]
  },
  {
   "cell_type": "code",
   "execution_count": null,
   "id": "8ea4a6ba-677f-4d99-857f-ee4e0c0d4eb8",
   "metadata": {},
   "outputs": [],
   "source": []
  }
 ],
 "metadata": {
  "kernelspec": {
   "display_name": "Python 3.10 Scanpy",
   "language": "python",
   "name": "py310"
  },
  "language_info": {
   "codemirror_mode": {
    "name": "ipython",
    "version": 3
   },
   "file_extension": ".py",
   "mimetype": "text/x-python",
   "name": "python",
   "nbconvert_exporter": "python",
   "pygments_lexer": "ipython3",
   "version": "3.10.15"
  }
 },
 "nbformat": 4,
 "nbformat_minor": 5
}
