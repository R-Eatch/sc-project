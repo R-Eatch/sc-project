{
 "cells": [
  {
   "cell_type": "code",
   "execution_count": 1,
   "id": "d18d2d3b-5982-4a98-98e5-4358bc0ad52a",
   "metadata": {},
   "outputs": [
    {
     "name": "stdout",
     "output_type": "stream",
     "text": [
      "import successful\n"
     ]
    }
   ],
   "source": [
    "import os\n",
    "# Set the environment variable to disable hash randomization\n",
    "os.environ['PYTHONHASHSEED'] = '0'\n",
    "#If you find discrepancies between the UMAP and Leiden results, indicating reproducibility issues, \n",
    "#please refer to this link: https://github.com/scverse/scanpy/issues/1009 for potential solutions.\n",
    "#https://umap-learn.readthedocs.io/en/latest/reproducibility.html\n",
    "# set export OMP_NUM_THREADS=1 Multithreading can lead to reproducibility issues!!!\n",
    "#Theoretically, minor differences in UMAP and inconsistencies in Leiden clustering do not affect their biological significance.\n",
    "import scanpy as  sc\n",
    "import anndata as ad\n",
    "import matplotlib.pyplot as plt\n",
    "import pandas as pd\n",
    "import numpy as np\n",
    "import random\n",
    "import seaborn as sns\n",
    "import scanpy.external as sce\n",
    "import loompy\n",
    "import harmonypy as hm\n",
    "print('import successful')"
   ]
  },
  {
   "cell_type": "code",
   "execution_count": null,
   "id": "6dbbc1bf-4f68-4d8b-9ef7-d6205aeadc6e",
   "metadata": {},
   "outputs": [],
   "source": [
    "PCs = 10\n",
    "res = 0.3\n",
    "top_genes=2000\n",
    "datasetlist=['M-MG','R-MG','S-MG','R-AG','R-CG','S-AG']\n",
    "vars_use=['sample']\n",
    "input_file_path = \"/data01/sunxuebo/project/scrnaseq/h5ad2seurat/processed/v9_all_counts.h5ad\"\n",
    "Featuregenes = ['Esr1','Epcam','Lalba','Top2a','Pgr','Prlr','Acta2','Elf5','Tcf4','Krt1','Ar','Pigr','Cd69','Adipoq','Lum','Vim','Ptprc','Lef1','Tpm2','Krt23','Krt10','Faah','Tm4sf1','Ppl','Wnt11','Krtdap','Sbsn','Dsp','Rab25','Aqp3','Shh','Atp1a1','Atp1b1','Procr']\n",
    "random.seed(2024)\n",
    "np.random.seed(2024)\n",
    "doFeatureplot = True\n",
    "runharmony = True\n",
    "use_scvi=False\n",
    "celltypelist=['Fibroblasts','B lymphocytes','T lymphocytes','Innate immune cells']"
   ]
  },
  {
   "cell_type": "code",
   "execution_count": null,
   "id": "2f503000-5d07-4651-a5ee-a26aa9cfc624",
   "metadata": {},
   "outputs": [],
   "source": [
    "def split_h5ad_file(input_file):\n",
    "    # Read the input h5ad file\n",
    "    adata = ad.read_h5ad(input_file)\n",
    "    # 1) Create a new/overwrite species column from the first letter of 'sample'\n",
    "    adata.obs['species'] = adata.obs['sample'].str[0]\n",
    "    # 2) Define conditions for splitting based on species and gland\n",
    "    #    (including the two new groups 'S-SG' and 'M-SG')\n",
    "    conditions = {\n",
    "        \"M-MG\": (adata.obs['species'] == \"M\") & (adata.obs['gland'] == \"MG\"),\n",
    "        \"R-MG\": (adata.obs['species'] == \"R\") & (adata.obs['gland'] == \"MG\"),\n",
    "        \"R-AG\": (adata.obs['species'] == \"R\") & (adata.obs['gland'] == \"AG\"),\n",
    "        \"S-MG\": (adata.obs['species'] == \"S\") & (adata.obs['gland'] == \"MG\"),\n",
    "        \"S-AG\": (adata.obs['species'] == \"S\") & (adata.obs['gland'] == \"AG\"),\n",
    "        \"R-CG\": (adata.obs['species'] == \"R\") & (adata.obs['gland'] == \"CG\")\n",
    "    }\n",
    "    # Base directory for the output files\n",
    "    base_dir = \"/data01/sunxuebo/project/scrnaseq/v9-immune\"\n",
    "\n",
    "    # Process each condition and save the subset\n",
    "    for group_name, condition in conditions.items():\n",
    "        subset_adata = adata[condition].copy()\n",
    "        group_path = os.path.join(base_dir, group_name)\n",
    "        if not os.path.exists(group_path):\n",
    "            os.makedirs(group_path)\n",
    "        subset_adata.write(os.path.join(group_path, f\"{group_name}-immune.h5ad\"))\n",
    "        print(f\"Saved {group_name}.h5ad to {group_path}\")"
   ]
  },
  {
   "cell_type": "code",
   "execution_count": null,
   "id": "cc725980-6c50-4c32-9d67-f72e8a0b5142",
   "metadata": {},
   "outputs": [],
   "source": [
    "def run_harmony(adata,vars_use=vars_use):\n",
    "    print('running harmony')\n",
    "    pca_result = adata.obsm['X_pca']\n",
    "    ho = hm.run_harmony(pca_result, adata.obs, vars_use,random_state=42)\n",
    "    adata.obsm['X_pca_harmony'] = ho.Z_corr.T\n",
    "    print('finished harmony')\n",
    "    return adata"
   ]
  },
  {
   "cell_type": "code",
   "execution_count": null,
   "id": "8427fdea-5646-4944-ac93-1b811e960227",
   "metadata": {},
   "outputs": [],
   "source": [
    "def run_preprocess(adata,top_genes):\n",
    "    # Normalizing to median total counts\n",
    "    sc.pp.normalize_total(adata)\n",
    "    # Logarithmize the data\n",
    "    sc.pp.log1p(adata)\n",
    "    adata.raw=adata\n",
    "    adata.layers[\"normalized\"] = adata.X.copy()\n",
    "    print('Finish normalized')\n",
    "    sc.pp.highly_variable_genes(adata, n_top_genes=top_genes)\n",
    "    sc.pl.highly_variable_genes(adata)\n",
    "    print('Finish Varible genes')"
   ]
  },
  {
   "cell_type": "code",
   "execution_count": null,
   "id": "9d960188-ad1d-4c21-9fe4-174c47168a7d",
   "metadata": {},
   "outputs": [],
   "source": [
    "def run_reduceDimension(ea,use_scvi,runharmony,PCs,res):\n",
    "    import scanpy as  sc\n",
    "    sc.pp.scale(ea,max_value=10)\n",
    "    sc.tl.pca(ea,mask_var=\"highly_variable\")\n",
    "    sc.pl.pca_variance_ratio(ea,log = False)\n",
    "    if use_scvi:   \n",
    "        import os\n",
    "        import tempfile\n",
    "        import scanpy as sc\n",
    "        import scvi\n",
    "        import seaborn as sns\n",
    "        import torch\n",
    "        from scib_metrics.benchmark import Benchmarker\n",
    "        scvi.settings.seed = 0\n",
    "        print(\"Last run with scvi-tools version:\", scvi.__version__)\n",
    "        ea=run_scvi(ea)\n",
    "        sc.pl.embedding(\n",
    "            ea,\n",
    "            basis=SCVI_MDE_KEY,\n",
    "            color=['stage', \"leiden\",'celltype'],\n",
    "            frameon=False,\n",
    "            ncols=1,\n",
    "            save=f'{dataset}_SCVI.png',\n",
    "        )\n",
    "    else:\n",
    "        print('skip scvi')\n",
    "    if runharmony:\n",
    "        run_harmony(ea)\n",
    "        sc.pp.neighbors(ea, use_rep='X_pca_harmony',n_pcs=PCs,random_state=42,n_neighbors=15)\n",
    "        print('Finish neighbors')\n",
    "    else:\n",
    "        sc.pp.neighbors(ea,n_pcs=PCs,random_state=42)\n",
    "        print('Finish neighbors')\n",
    "    sc.tl.leiden(ea,resolution = res,random_state=42)\n",
    "    print('Finish clustering')\n",
    "    sc.tl.umap(ea,random_state=42)\n",
    "    print('Finish UMAP')"
   ]
  },
  {
   "cell_type": "code",
   "execution_count": null,
   "id": "c6f82c0f-9b91-4a95-8889-c54fa4e701ec",
   "metadata": {},
   "outputs": [],
   "source": [
    "def do_umap_plots(ea,dataset,Featuregenes,doFeatureplot):\n",
    "    sc.settings.figdir = f'./{dataset}'\n",
    "    sc.pl.umap(\n",
    "        ea,\n",
    "        color=[\"newcelltype\", \"anno\", \"stage\",'sample','leiden','gland'],\n",
    "        # increase horizontal space between panels\n",
    "        wspace=0.5,\n",
    "        size=3,\n",
    "    ncols=3,\n",
    "    save=f'{dataset}_cluster.png',\n",
    "    color_map='viridis'\n",
    "    )\n",
    "\n",
    "    if doFeatureplot:\n",
    "        sc.pl.umap(\n",
    "            ea,\n",
    "            color=[*Featuregenes,'newcelltype',\"stage\",'sample','leiden','gland'],\n",
    "            # increase horizontal space between panels\n",
    "            wspace=0.5,\n",
    "            size=3,\n",
    "        ncols=4,\n",
    "        save=f'{dataset}_cluster_feature.png',\n",
    "        color_map='plasma'\n",
    "        )\n",
    "        print('Featureplot Finished')\n",
    "    else:\n",
    "        print('666666')"
   ]
  },
  {
   "cell_type": "code",
   "execution_count": 2,
   "id": "60f84ae1-df6f-451f-8bff-d3c1ad2d8b92",
   "metadata": {},
   "outputs": [],
   "source": [
    "def update_adata(adata2,dataset):\n",
    "    adata2.obs['newcelltype']=adata2.obs['anno']\n",
    "    adata2.obs['celltype']=adata2.obs['anno']\n",
    "    adata2.obs['stage']=adata2.obs['stage_new']\n",
    "    adata2.layers['counts']=adata2.X.copy()\n",
    "    adata2.obs['dataset']=dataset\n",
    "    adata2.obs['cellid'] = (adata2.obs['sample'].astype(str) + '-' + adata2.obs_names.astype(str)).str.replace(r'(-\\d+)+$', '', regex=True)\n",
    "    return adata2"
   ]
  },
  {
   "cell_type": "code",
   "execution_count": null,
   "id": "7cb8a509-e491-491a-9365-494d37c9ed97",
   "metadata": {},
   "outputs": [],
   "source": [
    "# Call the function with the direct input file path\n",
    "split_h5ad_file(input_file_path)"
   ]
  },
  {
   "cell_type": "code",
   "execution_count": null,
   "id": "84a493e8-2593-4778-9b56-dd9f45cd4b12",
   "metadata": {},
   "outputs": [],
   "source": [
    "for dataset in datasetlist:\n",
    "    adata1_path=f'/data01/sunxuebo/project/scrnaseq/v8-python/{dataset}/1.subset/{dataset}_cleaned.h5ad'\n",
    "    adata2_path=f'./{dataset}/{dataset}-immune.h5ad'\n",
    "    adata1=sc.read_h5ad(adata1_path)\n",
    "    adata2_raw=sc.read_h5ad(adata2_path)\n",
    "    adata2_raw=update_adata(adata2=adata2_raw,dataset=dataset)\n",
    "    adata2=adata2_raw[adata2_raw.obs['newcelltype'].isin(celltypelist)]\n",
    "    adata = adata1.concatenate(adata2,batch_key = 'cellbatch')\n",
    "    run_preprocess(adata,top_genes)\n",
    "    run_reduceDimension(adata,use_scvi,runharmony,PCs,res)\n",
    "    do_umap_plots(ea=adata,Featuregenes=Featuregenes,doFeatureplot=doFeatureplot,dataset=dataset)\n",
    "    adata.write(f'./{dataset}/{dataset}_lum-imm.h5ad')\n",
    "    adata.X=adata.layers['normalized']\n",
    "    adata.write(f'./{dataset}/{dataset}_lum-imm_raw.h5ad') ## for h5ad2seurat and cellchat2\n",
    "    del adata1\n",
    "    del adata2\n",
    "    del adata2_raw\n",
    "    del adata\n"
   ]
  }
 ],
 "metadata": {
  "kernelspec": {
   "display_name": "Python 3.10 Scanpy",
   "language": "python",
   "name": "py310"
  },
  "language_info": {
   "codemirror_mode": {
    "name": "ipython",
    "version": 3
   },
   "file_extension": ".py",
   "mimetype": "text/x-python",
   "name": "python",
   "nbconvert_exporter": "python",
   "pygments_lexer": "ipython3",
   "version": "3.10.15"
  }
 },
 "nbformat": 4,
 "nbformat_minor": 5
}
