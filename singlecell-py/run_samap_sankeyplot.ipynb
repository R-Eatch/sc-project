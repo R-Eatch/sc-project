{
 "cells": [
  {
   "cell_type": "code",
   "execution_count": 91,
   "id": "106d81b2-f8b9-4774-b6f3-0d480c80f137",
   "metadata": {},
   "outputs": [],
   "source": [
    "import pandas as pd\n",
    "import plotly.graph_objects as go\n",
    "import matplotlib.cm as cm\n",
    "import matplotlib.colors as mcolors"
   ]
  },
  {
   "cell_type": "code",
   "execution_count": 92,
   "id": "59b10d17-16be-42d7-b05e-3c489e16f4df",
   "metadata": {},
   "outputs": [],
   "source": [
    "###global variable###\n"
   ]
  },
  {
   "cell_type": "code",
   "execution_count": 93,
   "id": "e3db62b4-7dac-4154-afdf-fc1ff30f7937",
   "metadata": {},
   "outputs": [],
   "source": [
    "df1=pd.read_csv(\"D:/pythonfile/all_csv/msMG-rbMG-newcelltype-epi-MappingTable.csv\",index_col=0)\n",
    "df2=pd.read_csv(\"D:/pythonfile/all_csv/msMG-sgMG-newcelltype-epi-MappingTable.csv\",index_col=0)\n",
    "dataset = 'newcelltype'"
   ]
  },
  {
   "cell_type": "code",
   "execution_count": 94,
   "id": "5cdc3887-ebd3-428b-bf86-ebd9c50f0875",
   "metadata": {},
   "outputs": [],
   "source": [
    "df1=pd.read_csv(\"D:/pythonfile/all_csv/msMG-rbMG-celltype-MappingTable.csv\",index_col=0)\n",
    "df2=pd.read_csv(\"D:/pythonfile/all_csv/msMG-sgMG-celltype-MappingTable.csv\",index_col=0)\n",
    "dataset = 'celltype'"
   ]
  },
  {
   "cell_type": "code",
   "execution_count": 95,
   "id": "20f0b58e-b9c8-45a7-a5ea-f631087283f6",
   "metadata": {},
   "outputs": [
    {
     "data": {
      "text/html": [
       "<div>\n",
       "<style scoped>\n",
       "    .dataframe tbody tr th:only-of-type {\n",
       "        vertical-align: middle;\n",
       "    }\n",
       "\n",
       "    .dataframe tbody tr th {\n",
       "        vertical-align: top;\n",
       "    }\n",
       "\n",
       "    .dataframe thead th {\n",
       "        text-align: right;\n",
       "    }\n",
       "</style>\n",
       "<table border=\"1\" class=\"dataframe\">\n",
       "  <thead>\n",
       "    <tr style=\"text-align: right;\">\n",
       "      <th></th>\n",
       "      <th>ms_B lymphocytes</th>\n",
       "      <th>ms_Basal epithelial cells</th>\n",
       "      <th>ms_Endothelial cells</th>\n",
       "      <th>ms_Fibroblasts</th>\n",
       "      <th>ms_Innate immune cells</th>\n",
       "      <th>ms_Keratinized epithelial cells</th>\n",
       "      <th>ms_Luminal epithelial cells</th>\n",
       "      <th>ms_Proliferating epithelial cells</th>\n",
       "      <th>ms_T lymphocytes</th>\n",
       "      <th>ms_Vascular smooth muscle cells</th>\n",
       "      <th>sg_B lymphocytes</th>\n",
       "      <th>sg_Basal epithelial cells</th>\n",
       "      <th>sg_Endothelial cells</th>\n",
       "      <th>sg_Fibroblasts</th>\n",
       "      <th>sg_Innate immune cells</th>\n",
       "      <th>sg_Keratinized epithelial cells</th>\n",
       "      <th>sg_Luminal epithelial cells</th>\n",
       "      <th>sg_Proliferating epithelial cells</th>\n",
       "      <th>sg_T lymphocytes</th>\n",
       "      <th>sg_Vascular smooth muscle cells</th>\n",
       "    </tr>\n",
       "  </thead>\n",
       "  <tbody>\n",
       "    <tr>\n",
       "      <th>ms_B lymphocytes</th>\n",
       "      <td>0.000000</td>\n",
       "      <td>0.000000</td>\n",
       "      <td>0.000000</td>\n",
       "      <td>0.000000</td>\n",
       "      <td>0.000000</td>\n",
       "      <td>0.000000</td>\n",
       "      <td>0.000000</td>\n",
       "      <td>0.000000</td>\n",
       "      <td>0.000000</td>\n",
       "      <td>0.000000</td>\n",
       "      <td>0.764218</td>\n",
       "      <td>0.002166</td>\n",
       "      <td>0.001764</td>\n",
       "      <td>0.007138</td>\n",
       "      <td>0.060775</td>\n",
       "      <td>0.012647</td>\n",
       "      <td>0.004857</td>\n",
       "      <td>0.008621</td>\n",
       "      <td>0.019418</td>\n",
       "      <td>0.001319</td>\n",
       "    </tr>\n",
       "    <tr>\n",
       "      <th>ms_Basal epithelial cells</th>\n",
       "      <td>0.000000</td>\n",
       "      <td>0.000000</td>\n",
       "      <td>0.000000</td>\n",
       "      <td>0.000000</td>\n",
       "      <td>0.000000</td>\n",
       "      <td>0.000000</td>\n",
       "      <td>0.000000</td>\n",
       "      <td>0.000000</td>\n",
       "      <td>0.000000</td>\n",
       "      <td>0.000000</td>\n",
       "      <td>0.000841</td>\n",
       "      <td>0.674078</td>\n",
       "      <td>0.008284</td>\n",
       "      <td>0.102062</td>\n",
       "      <td>0.001200</td>\n",
       "      <td>0.154713</td>\n",
       "      <td>0.164290</td>\n",
       "      <td>0.173888</td>\n",
       "      <td>0.013024</td>\n",
       "      <td>0.423135</td>\n",
       "    </tr>\n",
       "    <tr>\n",
       "      <th>ms_Endothelial cells</th>\n",
       "      <td>0.000000</td>\n",
       "      <td>0.000000</td>\n",
       "      <td>0.000000</td>\n",
       "      <td>0.000000</td>\n",
       "      <td>0.000000</td>\n",
       "      <td>0.000000</td>\n",
       "      <td>0.000000</td>\n",
       "      <td>0.000000</td>\n",
       "      <td>0.000000</td>\n",
       "      <td>0.000000</td>\n",
       "      <td>0.001057</td>\n",
       "      <td>0.007171</td>\n",
       "      <td>0.844493</td>\n",
       "      <td>0.028390</td>\n",
       "      <td>0.007894</td>\n",
       "      <td>0.003170</td>\n",
       "      <td>0.009703</td>\n",
       "      <td>0.010431</td>\n",
       "      <td>0.001622</td>\n",
       "      <td>0.015069</td>\n",
       "    </tr>\n",
       "    <tr>\n",
       "      <th>ms_Fibroblasts</th>\n",
       "      <td>0.000000</td>\n",
       "      <td>0.000000</td>\n",
       "      <td>0.000000</td>\n",
       "      <td>0.000000</td>\n",
       "      <td>0.000000</td>\n",
       "      <td>0.000000</td>\n",
       "      <td>0.000000</td>\n",
       "      <td>0.000000</td>\n",
       "      <td>0.000000</td>\n",
       "      <td>0.000000</td>\n",
       "      <td>0.002665</td>\n",
       "      <td>0.009163</td>\n",
       "      <td>0.007528</td>\n",
       "      <td>0.646766</td>\n",
       "      <td>0.001923</td>\n",
       "      <td>0.113880</td>\n",
       "      <td>0.121124</td>\n",
       "      <td>0.049060</td>\n",
       "      <td>0.004970</td>\n",
       "      <td>0.058664</td>\n",
       "    </tr>\n",
       "    <tr>\n",
       "      <th>ms_Innate immune cells</th>\n",
       "      <td>0.000000</td>\n",
       "      <td>0.000000</td>\n",
       "      <td>0.000000</td>\n",
       "      <td>0.000000</td>\n",
       "      <td>0.000000</td>\n",
       "      <td>0.000000</td>\n",
       "      <td>0.000000</td>\n",
       "      <td>0.000000</td>\n",
       "      <td>0.000000</td>\n",
       "      <td>0.000000</td>\n",
       "      <td>0.091970</td>\n",
       "      <td>0.009982</td>\n",
       "      <td>0.002295</td>\n",
       "      <td>0.039400</td>\n",
       "      <td>0.838456</td>\n",
       "      <td>0.003859</td>\n",
       "      <td>0.004953</td>\n",
       "      <td>0.006727</td>\n",
       "      <td>0.006202</td>\n",
       "      <td>0.004762</td>\n",
       "    </tr>\n",
       "    <tr>\n",
       "      <th>ms_Keratinized epithelial cells</th>\n",
       "      <td>0.000000</td>\n",
       "      <td>0.000000</td>\n",
       "      <td>0.000000</td>\n",
       "      <td>0.000000</td>\n",
       "      <td>0.000000</td>\n",
       "      <td>0.000000</td>\n",
       "      <td>0.000000</td>\n",
       "      <td>0.000000</td>\n",
       "      <td>0.000000</td>\n",
       "      <td>0.000000</td>\n",
       "      <td>0.616242</td>\n",
       "      <td>0.018933</td>\n",
       "      <td>0.002608</td>\n",
       "      <td>0.043888</td>\n",
       "      <td>0.005524</td>\n",
       "      <td>0.124807</td>\n",
       "      <td>0.058331</td>\n",
       "      <td>0.036102</td>\n",
       "      <td>0.002345</td>\n",
       "      <td>0.004463</td>\n",
       "    </tr>\n",
       "    <tr>\n",
       "      <th>ms_Luminal epithelial cells</th>\n",
       "      <td>0.000000</td>\n",
       "      <td>0.000000</td>\n",
       "      <td>0.000000</td>\n",
       "      <td>0.000000</td>\n",
       "      <td>0.000000</td>\n",
       "      <td>0.000000</td>\n",
       "      <td>0.000000</td>\n",
       "      <td>0.000000</td>\n",
       "      <td>0.000000</td>\n",
       "      <td>0.000000</td>\n",
       "      <td>0.085966</td>\n",
       "      <td>0.035159</td>\n",
       "      <td>0.005998</td>\n",
       "      <td>0.104396</td>\n",
       "      <td>0.017729</td>\n",
       "      <td>0.185984</td>\n",
       "      <td>0.306575</td>\n",
       "      <td>0.060817</td>\n",
       "      <td>0.003019</td>\n",
       "      <td>0.005294</td>\n",
       "    </tr>\n",
       "    <tr>\n",
       "      <th>ms_Proliferating epithelial cells</th>\n",
       "      <td>0.000000</td>\n",
       "      <td>0.000000</td>\n",
       "      <td>0.000000</td>\n",
       "      <td>0.000000</td>\n",
       "      <td>0.000000</td>\n",
       "      <td>0.000000</td>\n",
       "      <td>0.000000</td>\n",
       "      <td>0.000000</td>\n",
       "      <td>0.000000</td>\n",
       "      <td>0.000000</td>\n",
       "      <td>0.017662</td>\n",
       "      <td>0.047354</td>\n",
       "      <td>0.005154</td>\n",
       "      <td>0.145156</td>\n",
       "      <td>0.002923</td>\n",
       "      <td>0.034049</td>\n",
       "      <td>0.099785</td>\n",
       "      <td>0.391707</td>\n",
       "      <td>0.027882</td>\n",
       "      <td>0.009131</td>\n",
       "    </tr>\n",
       "    <tr>\n",
       "      <th>ms_T lymphocytes</th>\n",
       "      <td>0.000000</td>\n",
       "      <td>0.000000</td>\n",
       "      <td>0.000000</td>\n",
       "      <td>0.000000</td>\n",
       "      <td>0.000000</td>\n",
       "      <td>0.000000</td>\n",
       "      <td>0.000000</td>\n",
       "      <td>0.000000</td>\n",
       "      <td>0.000000</td>\n",
       "      <td>0.000000</td>\n",
       "      <td>0.030015</td>\n",
       "      <td>0.025516</td>\n",
       "      <td>0.005440</td>\n",
       "      <td>0.013250</td>\n",
       "      <td>0.016930</td>\n",
       "      <td>0.052107</td>\n",
       "      <td>0.016611</td>\n",
       "      <td>0.064034</td>\n",
       "      <td>0.856345</td>\n",
       "      <td>0.016089</td>\n",
       "    </tr>\n",
       "    <tr>\n",
       "      <th>ms_Vascular smooth muscle cells</th>\n",
       "      <td>0.000000</td>\n",
       "      <td>0.000000</td>\n",
       "      <td>0.000000</td>\n",
       "      <td>0.000000</td>\n",
       "      <td>0.000000</td>\n",
       "      <td>0.000000</td>\n",
       "      <td>0.000000</td>\n",
       "      <td>0.000000</td>\n",
       "      <td>0.000000</td>\n",
       "      <td>0.000000</td>\n",
       "      <td>0.001482</td>\n",
       "      <td>0.174358</td>\n",
       "      <td>0.207841</td>\n",
       "      <td>0.078229</td>\n",
       "      <td>0.002432</td>\n",
       "      <td>0.022562</td>\n",
       "      <td>0.095019</td>\n",
       "      <td>0.014836</td>\n",
       "      <td>0.003315</td>\n",
       "      <td>0.401976</td>\n",
       "    </tr>\n",
       "    <tr>\n",
       "      <th>sg_B lymphocytes</th>\n",
       "      <td>0.764218</td>\n",
       "      <td>0.000841</td>\n",
       "      <td>0.001057</td>\n",
       "      <td>0.002665</td>\n",
       "      <td>0.091970</td>\n",
       "      <td>0.616242</td>\n",
       "      <td>0.085966</td>\n",
       "      <td>0.017662</td>\n",
       "      <td>0.030015</td>\n",
       "      <td>0.001482</td>\n",
       "      <td>0.000000</td>\n",
       "      <td>0.000000</td>\n",
       "      <td>0.000000</td>\n",
       "      <td>0.000000</td>\n",
       "      <td>0.000000</td>\n",
       "      <td>0.000000</td>\n",
       "      <td>0.000000</td>\n",
       "      <td>0.000000</td>\n",
       "      <td>0.000000</td>\n",
       "      <td>0.000000</td>\n",
       "    </tr>\n",
       "    <tr>\n",
       "      <th>sg_Basal epithelial cells</th>\n",
       "      <td>0.002166</td>\n",
       "      <td>0.674078</td>\n",
       "      <td>0.007171</td>\n",
       "      <td>0.009163</td>\n",
       "      <td>0.009982</td>\n",
       "      <td>0.018933</td>\n",
       "      <td>0.035159</td>\n",
       "      <td>0.047354</td>\n",
       "      <td>0.025516</td>\n",
       "      <td>0.174358</td>\n",
       "      <td>0.000000</td>\n",
       "      <td>0.000000</td>\n",
       "      <td>0.000000</td>\n",
       "      <td>0.000000</td>\n",
       "      <td>0.000000</td>\n",
       "      <td>0.000000</td>\n",
       "      <td>0.000000</td>\n",
       "      <td>0.000000</td>\n",
       "      <td>0.000000</td>\n",
       "      <td>0.000000</td>\n",
       "    </tr>\n",
       "    <tr>\n",
       "      <th>sg_Endothelial cells</th>\n",
       "      <td>0.001764</td>\n",
       "      <td>0.008284</td>\n",
       "      <td>0.844493</td>\n",
       "      <td>0.007528</td>\n",
       "      <td>0.002295</td>\n",
       "      <td>0.002608</td>\n",
       "      <td>0.005998</td>\n",
       "      <td>0.005154</td>\n",
       "      <td>0.005440</td>\n",
       "      <td>0.207841</td>\n",
       "      <td>0.000000</td>\n",
       "      <td>0.000000</td>\n",
       "      <td>0.000000</td>\n",
       "      <td>0.000000</td>\n",
       "      <td>0.000000</td>\n",
       "      <td>0.000000</td>\n",
       "      <td>0.000000</td>\n",
       "      <td>0.000000</td>\n",
       "      <td>0.000000</td>\n",
       "      <td>0.000000</td>\n",
       "    </tr>\n",
       "    <tr>\n",
       "      <th>sg_Fibroblasts</th>\n",
       "      <td>0.007138</td>\n",
       "      <td>0.102062</td>\n",
       "      <td>0.028390</td>\n",
       "      <td>0.646766</td>\n",
       "      <td>0.039400</td>\n",
       "      <td>0.043888</td>\n",
       "      <td>0.104396</td>\n",
       "      <td>0.145156</td>\n",
       "      <td>0.013250</td>\n",
       "      <td>0.078229</td>\n",
       "      <td>0.000000</td>\n",
       "      <td>0.000000</td>\n",
       "      <td>0.000000</td>\n",
       "      <td>0.000000</td>\n",
       "      <td>0.000000</td>\n",
       "      <td>0.000000</td>\n",
       "      <td>0.000000</td>\n",
       "      <td>0.000000</td>\n",
       "      <td>0.000000</td>\n",
       "      <td>0.000000</td>\n",
       "    </tr>\n",
       "    <tr>\n",
       "      <th>sg_Innate immune cells</th>\n",
       "      <td>0.060775</td>\n",
       "      <td>0.001200</td>\n",
       "      <td>0.007894</td>\n",
       "      <td>0.001923</td>\n",
       "      <td>0.838456</td>\n",
       "      <td>0.005524</td>\n",
       "      <td>0.017729</td>\n",
       "      <td>0.002923</td>\n",
       "      <td>0.016930</td>\n",
       "      <td>0.002432</td>\n",
       "      <td>0.000000</td>\n",
       "      <td>0.000000</td>\n",
       "      <td>0.000000</td>\n",
       "      <td>0.000000</td>\n",
       "      <td>0.000000</td>\n",
       "      <td>0.000000</td>\n",
       "      <td>0.000000</td>\n",
       "      <td>0.000000</td>\n",
       "      <td>0.000000</td>\n",
       "      <td>0.000000</td>\n",
       "    </tr>\n",
       "    <tr>\n",
       "      <th>sg_Keratinized epithelial cells</th>\n",
       "      <td>0.012647</td>\n",
       "      <td>0.154713</td>\n",
       "      <td>0.003170</td>\n",
       "      <td>0.113880</td>\n",
       "      <td>0.003859</td>\n",
       "      <td>0.124807</td>\n",
       "      <td>0.185984</td>\n",
       "      <td>0.034049</td>\n",
       "      <td>0.052107</td>\n",
       "      <td>0.022562</td>\n",
       "      <td>0.000000</td>\n",
       "      <td>0.000000</td>\n",
       "      <td>0.000000</td>\n",
       "      <td>0.000000</td>\n",
       "      <td>0.000000</td>\n",
       "      <td>0.000000</td>\n",
       "      <td>0.000000</td>\n",
       "      <td>0.000000</td>\n",
       "      <td>0.000000</td>\n",
       "      <td>0.000000</td>\n",
       "    </tr>\n",
       "    <tr>\n",
       "      <th>sg_Luminal epithelial cells</th>\n",
       "      <td>0.004857</td>\n",
       "      <td>0.164290</td>\n",
       "      <td>0.009703</td>\n",
       "      <td>0.121124</td>\n",
       "      <td>0.004953</td>\n",
       "      <td>0.058331</td>\n",
       "      <td>0.306575</td>\n",
       "      <td>0.099785</td>\n",
       "      <td>0.016611</td>\n",
       "      <td>0.095019</td>\n",
       "      <td>0.000000</td>\n",
       "      <td>0.000000</td>\n",
       "      <td>0.000000</td>\n",
       "      <td>0.000000</td>\n",
       "      <td>0.000000</td>\n",
       "      <td>0.000000</td>\n",
       "      <td>0.000000</td>\n",
       "      <td>0.000000</td>\n",
       "      <td>0.000000</td>\n",
       "      <td>0.000000</td>\n",
       "    </tr>\n",
       "    <tr>\n",
       "      <th>sg_Proliferating epithelial cells</th>\n",
       "      <td>0.008621</td>\n",
       "      <td>0.173888</td>\n",
       "      <td>0.010431</td>\n",
       "      <td>0.049060</td>\n",
       "      <td>0.006727</td>\n",
       "      <td>0.036102</td>\n",
       "      <td>0.060817</td>\n",
       "      <td>0.391707</td>\n",
       "      <td>0.064034</td>\n",
       "      <td>0.014836</td>\n",
       "      <td>0.000000</td>\n",
       "      <td>0.000000</td>\n",
       "      <td>0.000000</td>\n",
       "      <td>0.000000</td>\n",
       "      <td>0.000000</td>\n",
       "      <td>0.000000</td>\n",
       "      <td>0.000000</td>\n",
       "      <td>0.000000</td>\n",
       "      <td>0.000000</td>\n",
       "      <td>0.000000</td>\n",
       "    </tr>\n",
       "    <tr>\n",
       "      <th>sg_T lymphocytes</th>\n",
       "      <td>0.019418</td>\n",
       "      <td>0.013024</td>\n",
       "      <td>0.001622</td>\n",
       "      <td>0.004970</td>\n",
       "      <td>0.006202</td>\n",
       "      <td>0.002345</td>\n",
       "      <td>0.003019</td>\n",
       "      <td>0.027882</td>\n",
       "      <td>0.856345</td>\n",
       "      <td>0.003315</td>\n",
       "      <td>0.000000</td>\n",
       "      <td>0.000000</td>\n",
       "      <td>0.000000</td>\n",
       "      <td>0.000000</td>\n",
       "      <td>0.000000</td>\n",
       "      <td>0.000000</td>\n",
       "      <td>0.000000</td>\n",
       "      <td>0.000000</td>\n",
       "      <td>0.000000</td>\n",
       "      <td>0.000000</td>\n",
       "    </tr>\n",
       "    <tr>\n",
       "      <th>sg_Vascular smooth muscle cells</th>\n",
       "      <td>0.001319</td>\n",
       "      <td>0.423135</td>\n",
       "      <td>0.015069</td>\n",
       "      <td>0.058664</td>\n",
       "      <td>0.004762</td>\n",
       "      <td>0.004463</td>\n",
       "      <td>0.005294</td>\n",
       "      <td>0.009131</td>\n",
       "      <td>0.016089</td>\n",
       "      <td>0.401976</td>\n",
       "      <td>0.000000</td>\n",
       "      <td>0.000000</td>\n",
       "      <td>0.000000</td>\n",
       "      <td>0.000000</td>\n",
       "      <td>0.000000</td>\n",
       "      <td>0.000000</td>\n",
       "      <td>0.000000</td>\n",
       "      <td>0.000000</td>\n",
       "      <td>0.000000</td>\n",
       "      <td>0.000000</td>\n",
       "    </tr>\n",
       "  </tbody>\n",
       "</table>\n",
       "</div>"
      ],
      "text/plain": [
       "                                   ms_B lymphocytes  \\\n",
       "ms_B lymphocytes                           0.000000   \n",
       "ms_Basal epithelial cells                  0.000000   \n",
       "ms_Endothelial cells                       0.000000   \n",
       "ms_Fibroblasts                             0.000000   \n",
       "ms_Innate immune cells                     0.000000   \n",
       "ms_Keratinized epithelial cells            0.000000   \n",
       "ms_Luminal epithelial cells                0.000000   \n",
       "ms_Proliferating epithelial cells          0.000000   \n",
       "ms_T lymphocytes                           0.000000   \n",
       "ms_Vascular smooth muscle cells            0.000000   \n",
       "sg_B lymphocytes                           0.764218   \n",
       "sg_Basal epithelial cells                  0.002166   \n",
       "sg_Endothelial cells                       0.001764   \n",
       "sg_Fibroblasts                             0.007138   \n",
       "sg_Innate immune cells                     0.060775   \n",
       "sg_Keratinized epithelial cells            0.012647   \n",
       "sg_Luminal epithelial cells                0.004857   \n",
       "sg_Proliferating epithelial cells          0.008621   \n",
       "sg_T lymphocytes                           0.019418   \n",
       "sg_Vascular smooth muscle cells            0.001319   \n",
       "\n",
       "                                   ms_Basal epithelial cells  \\\n",
       "ms_B lymphocytes                                    0.000000   \n",
       "ms_Basal epithelial cells                           0.000000   \n",
       "ms_Endothelial cells                                0.000000   \n",
       "ms_Fibroblasts                                      0.000000   \n",
       "ms_Innate immune cells                              0.000000   \n",
       "ms_Keratinized epithelial cells                     0.000000   \n",
       "ms_Luminal epithelial cells                         0.000000   \n",
       "ms_Proliferating epithelial cells                   0.000000   \n",
       "ms_T lymphocytes                                    0.000000   \n",
       "ms_Vascular smooth muscle cells                     0.000000   \n",
       "sg_B lymphocytes                                    0.000841   \n",
       "sg_Basal epithelial cells                           0.674078   \n",
       "sg_Endothelial cells                                0.008284   \n",
       "sg_Fibroblasts                                      0.102062   \n",
       "sg_Innate immune cells                              0.001200   \n",
       "sg_Keratinized epithelial cells                     0.154713   \n",
       "sg_Luminal epithelial cells                         0.164290   \n",
       "sg_Proliferating epithelial cells                   0.173888   \n",
       "sg_T lymphocytes                                    0.013024   \n",
       "sg_Vascular smooth muscle cells                     0.423135   \n",
       "\n",
       "                                   ms_Endothelial cells  ms_Fibroblasts  \\\n",
       "ms_B lymphocytes                               0.000000        0.000000   \n",
       "ms_Basal epithelial cells                      0.000000        0.000000   \n",
       "ms_Endothelial cells                           0.000000        0.000000   \n",
       "ms_Fibroblasts                                 0.000000        0.000000   \n",
       "ms_Innate immune cells                         0.000000        0.000000   \n",
       "ms_Keratinized epithelial cells                0.000000        0.000000   \n",
       "ms_Luminal epithelial cells                    0.000000        0.000000   \n",
       "ms_Proliferating epithelial cells              0.000000        0.000000   \n",
       "ms_T lymphocytes                               0.000000        0.000000   \n",
       "ms_Vascular smooth muscle cells                0.000000        0.000000   \n",
       "sg_B lymphocytes                               0.001057        0.002665   \n",
       "sg_Basal epithelial cells                      0.007171        0.009163   \n",
       "sg_Endothelial cells                           0.844493        0.007528   \n",
       "sg_Fibroblasts                                 0.028390        0.646766   \n",
       "sg_Innate immune cells                         0.007894        0.001923   \n",
       "sg_Keratinized epithelial cells                0.003170        0.113880   \n",
       "sg_Luminal epithelial cells                    0.009703        0.121124   \n",
       "sg_Proliferating epithelial cells              0.010431        0.049060   \n",
       "sg_T lymphocytes                               0.001622        0.004970   \n",
       "sg_Vascular smooth muscle cells                0.015069        0.058664   \n",
       "\n",
       "                                   ms_Innate immune cells  \\\n",
       "ms_B lymphocytes                                 0.000000   \n",
       "ms_Basal epithelial cells                        0.000000   \n",
       "ms_Endothelial cells                             0.000000   \n",
       "ms_Fibroblasts                                   0.000000   \n",
       "ms_Innate immune cells                           0.000000   \n",
       "ms_Keratinized epithelial cells                  0.000000   \n",
       "ms_Luminal epithelial cells                      0.000000   \n",
       "ms_Proliferating epithelial cells                0.000000   \n",
       "ms_T lymphocytes                                 0.000000   \n",
       "ms_Vascular smooth muscle cells                  0.000000   \n",
       "sg_B lymphocytes                                 0.091970   \n",
       "sg_Basal epithelial cells                        0.009982   \n",
       "sg_Endothelial cells                             0.002295   \n",
       "sg_Fibroblasts                                   0.039400   \n",
       "sg_Innate immune cells                           0.838456   \n",
       "sg_Keratinized epithelial cells                  0.003859   \n",
       "sg_Luminal epithelial cells                      0.004953   \n",
       "sg_Proliferating epithelial cells                0.006727   \n",
       "sg_T lymphocytes                                 0.006202   \n",
       "sg_Vascular smooth muscle cells                  0.004762   \n",
       "\n",
       "                                   ms_Keratinized epithelial cells  \\\n",
       "ms_B lymphocytes                                          0.000000   \n",
       "ms_Basal epithelial cells                                 0.000000   \n",
       "ms_Endothelial cells                                      0.000000   \n",
       "ms_Fibroblasts                                            0.000000   \n",
       "ms_Innate immune cells                                    0.000000   \n",
       "ms_Keratinized epithelial cells                           0.000000   \n",
       "ms_Luminal epithelial cells                               0.000000   \n",
       "ms_Proliferating epithelial cells                         0.000000   \n",
       "ms_T lymphocytes                                          0.000000   \n",
       "ms_Vascular smooth muscle cells                           0.000000   \n",
       "sg_B lymphocytes                                          0.616242   \n",
       "sg_Basal epithelial cells                                 0.018933   \n",
       "sg_Endothelial cells                                      0.002608   \n",
       "sg_Fibroblasts                                            0.043888   \n",
       "sg_Innate immune cells                                    0.005524   \n",
       "sg_Keratinized epithelial cells                           0.124807   \n",
       "sg_Luminal epithelial cells                               0.058331   \n",
       "sg_Proliferating epithelial cells                         0.036102   \n",
       "sg_T lymphocytes                                          0.002345   \n",
       "sg_Vascular smooth muscle cells                           0.004463   \n",
       "\n",
       "                                   ms_Luminal epithelial cells  \\\n",
       "ms_B lymphocytes                                      0.000000   \n",
       "ms_Basal epithelial cells                             0.000000   \n",
       "ms_Endothelial cells                                  0.000000   \n",
       "ms_Fibroblasts                                        0.000000   \n",
       "ms_Innate immune cells                                0.000000   \n",
       "ms_Keratinized epithelial cells                       0.000000   \n",
       "ms_Luminal epithelial cells                           0.000000   \n",
       "ms_Proliferating epithelial cells                     0.000000   \n",
       "ms_T lymphocytes                                      0.000000   \n",
       "ms_Vascular smooth muscle cells                       0.000000   \n",
       "sg_B lymphocytes                                      0.085966   \n",
       "sg_Basal epithelial cells                             0.035159   \n",
       "sg_Endothelial cells                                  0.005998   \n",
       "sg_Fibroblasts                                        0.104396   \n",
       "sg_Innate immune cells                                0.017729   \n",
       "sg_Keratinized epithelial cells                       0.185984   \n",
       "sg_Luminal epithelial cells                           0.306575   \n",
       "sg_Proliferating epithelial cells                     0.060817   \n",
       "sg_T lymphocytes                                      0.003019   \n",
       "sg_Vascular smooth muscle cells                       0.005294   \n",
       "\n",
       "                                   ms_Proliferating epithelial cells  \\\n",
       "ms_B lymphocytes                                            0.000000   \n",
       "ms_Basal epithelial cells                                   0.000000   \n",
       "ms_Endothelial cells                                        0.000000   \n",
       "ms_Fibroblasts                                              0.000000   \n",
       "ms_Innate immune cells                                      0.000000   \n",
       "ms_Keratinized epithelial cells                             0.000000   \n",
       "ms_Luminal epithelial cells                                 0.000000   \n",
       "ms_Proliferating epithelial cells                           0.000000   \n",
       "ms_T lymphocytes                                            0.000000   \n",
       "ms_Vascular smooth muscle cells                             0.000000   \n",
       "sg_B lymphocytes                                            0.017662   \n",
       "sg_Basal epithelial cells                                   0.047354   \n",
       "sg_Endothelial cells                                        0.005154   \n",
       "sg_Fibroblasts                                              0.145156   \n",
       "sg_Innate immune cells                                      0.002923   \n",
       "sg_Keratinized epithelial cells                             0.034049   \n",
       "sg_Luminal epithelial cells                                 0.099785   \n",
       "sg_Proliferating epithelial cells                           0.391707   \n",
       "sg_T lymphocytes                                            0.027882   \n",
       "sg_Vascular smooth muscle cells                             0.009131   \n",
       "\n",
       "                                   ms_T lymphocytes  \\\n",
       "ms_B lymphocytes                           0.000000   \n",
       "ms_Basal epithelial cells                  0.000000   \n",
       "ms_Endothelial cells                       0.000000   \n",
       "ms_Fibroblasts                             0.000000   \n",
       "ms_Innate immune cells                     0.000000   \n",
       "ms_Keratinized epithelial cells            0.000000   \n",
       "ms_Luminal epithelial cells                0.000000   \n",
       "ms_Proliferating epithelial cells          0.000000   \n",
       "ms_T lymphocytes                           0.000000   \n",
       "ms_Vascular smooth muscle cells            0.000000   \n",
       "sg_B lymphocytes                           0.030015   \n",
       "sg_Basal epithelial cells                  0.025516   \n",
       "sg_Endothelial cells                       0.005440   \n",
       "sg_Fibroblasts                             0.013250   \n",
       "sg_Innate immune cells                     0.016930   \n",
       "sg_Keratinized epithelial cells            0.052107   \n",
       "sg_Luminal epithelial cells                0.016611   \n",
       "sg_Proliferating epithelial cells          0.064034   \n",
       "sg_T lymphocytes                           0.856345   \n",
       "sg_Vascular smooth muscle cells            0.016089   \n",
       "\n",
       "                                   ms_Vascular smooth muscle cells  \\\n",
       "ms_B lymphocytes                                          0.000000   \n",
       "ms_Basal epithelial cells                                 0.000000   \n",
       "ms_Endothelial cells                                      0.000000   \n",
       "ms_Fibroblasts                                            0.000000   \n",
       "ms_Innate immune cells                                    0.000000   \n",
       "ms_Keratinized epithelial cells                           0.000000   \n",
       "ms_Luminal epithelial cells                               0.000000   \n",
       "ms_Proliferating epithelial cells                         0.000000   \n",
       "ms_T lymphocytes                                          0.000000   \n",
       "ms_Vascular smooth muscle cells                           0.000000   \n",
       "sg_B lymphocytes                                          0.001482   \n",
       "sg_Basal epithelial cells                                 0.174358   \n",
       "sg_Endothelial cells                                      0.207841   \n",
       "sg_Fibroblasts                                            0.078229   \n",
       "sg_Innate immune cells                                    0.002432   \n",
       "sg_Keratinized epithelial cells                           0.022562   \n",
       "sg_Luminal epithelial cells                               0.095019   \n",
       "sg_Proliferating epithelial cells                         0.014836   \n",
       "sg_T lymphocytes                                          0.003315   \n",
       "sg_Vascular smooth muscle cells                           0.401976   \n",
       "\n",
       "                                   sg_B lymphocytes  \\\n",
       "ms_B lymphocytes                           0.764218   \n",
       "ms_Basal epithelial cells                  0.000841   \n",
       "ms_Endothelial cells                       0.001057   \n",
       "ms_Fibroblasts                             0.002665   \n",
       "ms_Innate immune cells                     0.091970   \n",
       "ms_Keratinized epithelial cells            0.616242   \n",
       "ms_Luminal epithelial cells                0.085966   \n",
       "ms_Proliferating epithelial cells          0.017662   \n",
       "ms_T lymphocytes                           0.030015   \n",
       "ms_Vascular smooth muscle cells            0.001482   \n",
       "sg_B lymphocytes                           0.000000   \n",
       "sg_Basal epithelial cells                  0.000000   \n",
       "sg_Endothelial cells                       0.000000   \n",
       "sg_Fibroblasts                             0.000000   \n",
       "sg_Innate immune cells                     0.000000   \n",
       "sg_Keratinized epithelial cells            0.000000   \n",
       "sg_Luminal epithelial cells                0.000000   \n",
       "sg_Proliferating epithelial cells          0.000000   \n",
       "sg_T lymphocytes                           0.000000   \n",
       "sg_Vascular smooth muscle cells            0.000000   \n",
       "\n",
       "                                   sg_Basal epithelial cells  \\\n",
       "ms_B lymphocytes                                    0.002166   \n",
       "ms_Basal epithelial cells                           0.674078   \n",
       "ms_Endothelial cells                                0.007171   \n",
       "ms_Fibroblasts                                      0.009163   \n",
       "ms_Innate immune cells                              0.009982   \n",
       "ms_Keratinized epithelial cells                     0.018933   \n",
       "ms_Luminal epithelial cells                         0.035159   \n",
       "ms_Proliferating epithelial cells                   0.047354   \n",
       "ms_T lymphocytes                                    0.025516   \n",
       "ms_Vascular smooth muscle cells                     0.174358   \n",
       "sg_B lymphocytes                                    0.000000   \n",
       "sg_Basal epithelial cells                           0.000000   \n",
       "sg_Endothelial cells                                0.000000   \n",
       "sg_Fibroblasts                                      0.000000   \n",
       "sg_Innate immune cells                              0.000000   \n",
       "sg_Keratinized epithelial cells                     0.000000   \n",
       "sg_Luminal epithelial cells                         0.000000   \n",
       "sg_Proliferating epithelial cells                   0.000000   \n",
       "sg_T lymphocytes                                    0.000000   \n",
       "sg_Vascular smooth muscle cells                     0.000000   \n",
       "\n",
       "                                   sg_Endothelial cells  sg_Fibroblasts  \\\n",
       "ms_B lymphocytes                               0.001764        0.007138   \n",
       "ms_Basal epithelial cells                      0.008284        0.102062   \n",
       "ms_Endothelial cells                           0.844493        0.028390   \n",
       "ms_Fibroblasts                                 0.007528        0.646766   \n",
       "ms_Innate immune cells                         0.002295        0.039400   \n",
       "ms_Keratinized epithelial cells                0.002608        0.043888   \n",
       "ms_Luminal epithelial cells                    0.005998        0.104396   \n",
       "ms_Proliferating epithelial cells              0.005154        0.145156   \n",
       "ms_T lymphocytes                               0.005440        0.013250   \n",
       "ms_Vascular smooth muscle cells                0.207841        0.078229   \n",
       "sg_B lymphocytes                               0.000000        0.000000   \n",
       "sg_Basal epithelial cells                      0.000000        0.000000   \n",
       "sg_Endothelial cells                           0.000000        0.000000   \n",
       "sg_Fibroblasts                                 0.000000        0.000000   \n",
       "sg_Innate immune cells                         0.000000        0.000000   \n",
       "sg_Keratinized epithelial cells                0.000000        0.000000   \n",
       "sg_Luminal epithelial cells                    0.000000        0.000000   \n",
       "sg_Proliferating epithelial cells              0.000000        0.000000   \n",
       "sg_T lymphocytes                               0.000000        0.000000   \n",
       "sg_Vascular smooth muscle cells                0.000000        0.000000   \n",
       "\n",
       "                                   sg_Innate immune cells  \\\n",
       "ms_B lymphocytes                                 0.060775   \n",
       "ms_Basal epithelial cells                        0.001200   \n",
       "ms_Endothelial cells                             0.007894   \n",
       "ms_Fibroblasts                                   0.001923   \n",
       "ms_Innate immune cells                           0.838456   \n",
       "ms_Keratinized epithelial cells                  0.005524   \n",
       "ms_Luminal epithelial cells                      0.017729   \n",
       "ms_Proliferating epithelial cells                0.002923   \n",
       "ms_T lymphocytes                                 0.016930   \n",
       "ms_Vascular smooth muscle cells                  0.002432   \n",
       "sg_B lymphocytes                                 0.000000   \n",
       "sg_Basal epithelial cells                        0.000000   \n",
       "sg_Endothelial cells                             0.000000   \n",
       "sg_Fibroblasts                                   0.000000   \n",
       "sg_Innate immune cells                           0.000000   \n",
       "sg_Keratinized epithelial cells                  0.000000   \n",
       "sg_Luminal epithelial cells                      0.000000   \n",
       "sg_Proliferating epithelial cells                0.000000   \n",
       "sg_T lymphocytes                                 0.000000   \n",
       "sg_Vascular smooth muscle cells                  0.000000   \n",
       "\n",
       "                                   sg_Keratinized epithelial cells  \\\n",
       "ms_B lymphocytes                                          0.012647   \n",
       "ms_Basal epithelial cells                                 0.154713   \n",
       "ms_Endothelial cells                                      0.003170   \n",
       "ms_Fibroblasts                                            0.113880   \n",
       "ms_Innate immune cells                                    0.003859   \n",
       "ms_Keratinized epithelial cells                           0.124807   \n",
       "ms_Luminal epithelial cells                               0.185984   \n",
       "ms_Proliferating epithelial cells                         0.034049   \n",
       "ms_T lymphocytes                                          0.052107   \n",
       "ms_Vascular smooth muscle cells                           0.022562   \n",
       "sg_B lymphocytes                                          0.000000   \n",
       "sg_Basal epithelial cells                                 0.000000   \n",
       "sg_Endothelial cells                                      0.000000   \n",
       "sg_Fibroblasts                                            0.000000   \n",
       "sg_Innate immune cells                                    0.000000   \n",
       "sg_Keratinized epithelial cells                           0.000000   \n",
       "sg_Luminal epithelial cells                               0.000000   \n",
       "sg_Proliferating epithelial cells                         0.000000   \n",
       "sg_T lymphocytes                                          0.000000   \n",
       "sg_Vascular smooth muscle cells                           0.000000   \n",
       "\n",
       "                                   sg_Luminal epithelial cells  \\\n",
       "ms_B lymphocytes                                      0.004857   \n",
       "ms_Basal epithelial cells                             0.164290   \n",
       "ms_Endothelial cells                                  0.009703   \n",
       "ms_Fibroblasts                                        0.121124   \n",
       "ms_Innate immune cells                                0.004953   \n",
       "ms_Keratinized epithelial cells                       0.058331   \n",
       "ms_Luminal epithelial cells                           0.306575   \n",
       "ms_Proliferating epithelial cells                     0.099785   \n",
       "ms_T lymphocytes                                      0.016611   \n",
       "ms_Vascular smooth muscle cells                       0.095019   \n",
       "sg_B lymphocytes                                      0.000000   \n",
       "sg_Basal epithelial cells                             0.000000   \n",
       "sg_Endothelial cells                                  0.000000   \n",
       "sg_Fibroblasts                                        0.000000   \n",
       "sg_Innate immune cells                                0.000000   \n",
       "sg_Keratinized epithelial cells                       0.000000   \n",
       "sg_Luminal epithelial cells                           0.000000   \n",
       "sg_Proliferating epithelial cells                     0.000000   \n",
       "sg_T lymphocytes                                      0.000000   \n",
       "sg_Vascular smooth muscle cells                       0.000000   \n",
       "\n",
       "                                   sg_Proliferating epithelial cells  \\\n",
       "ms_B lymphocytes                                            0.008621   \n",
       "ms_Basal epithelial cells                                   0.173888   \n",
       "ms_Endothelial cells                                        0.010431   \n",
       "ms_Fibroblasts                                              0.049060   \n",
       "ms_Innate immune cells                                      0.006727   \n",
       "ms_Keratinized epithelial cells                             0.036102   \n",
       "ms_Luminal epithelial cells                                 0.060817   \n",
       "ms_Proliferating epithelial cells                           0.391707   \n",
       "ms_T lymphocytes                                            0.064034   \n",
       "ms_Vascular smooth muscle cells                             0.014836   \n",
       "sg_B lymphocytes                                            0.000000   \n",
       "sg_Basal epithelial cells                                   0.000000   \n",
       "sg_Endothelial cells                                        0.000000   \n",
       "sg_Fibroblasts                                              0.000000   \n",
       "sg_Innate immune cells                                      0.000000   \n",
       "sg_Keratinized epithelial cells                             0.000000   \n",
       "sg_Luminal epithelial cells                                 0.000000   \n",
       "sg_Proliferating epithelial cells                           0.000000   \n",
       "sg_T lymphocytes                                            0.000000   \n",
       "sg_Vascular smooth muscle cells                             0.000000   \n",
       "\n",
       "                                   sg_T lymphocytes  \\\n",
       "ms_B lymphocytes                           0.019418   \n",
       "ms_Basal epithelial cells                  0.013024   \n",
       "ms_Endothelial cells                       0.001622   \n",
       "ms_Fibroblasts                             0.004970   \n",
       "ms_Innate immune cells                     0.006202   \n",
       "ms_Keratinized epithelial cells            0.002345   \n",
       "ms_Luminal epithelial cells                0.003019   \n",
       "ms_Proliferating epithelial cells          0.027882   \n",
       "ms_T lymphocytes                           0.856345   \n",
       "ms_Vascular smooth muscle cells            0.003315   \n",
       "sg_B lymphocytes                           0.000000   \n",
       "sg_Basal epithelial cells                  0.000000   \n",
       "sg_Endothelial cells                       0.000000   \n",
       "sg_Fibroblasts                             0.000000   \n",
       "sg_Innate immune cells                     0.000000   \n",
       "sg_Keratinized epithelial cells            0.000000   \n",
       "sg_Luminal epithelial cells                0.000000   \n",
       "sg_Proliferating epithelial cells          0.000000   \n",
       "sg_T lymphocytes                           0.000000   \n",
       "sg_Vascular smooth muscle cells            0.000000   \n",
       "\n",
       "                                   sg_Vascular smooth muscle cells  \n",
       "ms_B lymphocytes                                          0.001319  \n",
       "ms_Basal epithelial cells                                 0.423135  \n",
       "ms_Endothelial cells                                      0.015069  \n",
       "ms_Fibroblasts                                            0.058664  \n",
       "ms_Innate immune cells                                    0.004762  \n",
       "ms_Keratinized epithelial cells                           0.004463  \n",
       "ms_Luminal epithelial cells                               0.005294  \n",
       "ms_Proliferating epithelial cells                         0.009131  \n",
       "ms_T lymphocytes                                          0.016089  \n",
       "ms_Vascular smooth muscle cells                           0.401976  \n",
       "sg_B lymphocytes                                          0.000000  \n",
       "sg_Basal epithelial cells                                 0.000000  \n",
       "sg_Endothelial cells                                      0.000000  \n",
       "sg_Fibroblasts                                            0.000000  \n",
       "sg_Innate immune cells                                    0.000000  \n",
       "sg_Keratinized epithelial cells                           0.000000  \n",
       "sg_Luminal epithelial cells                               0.000000  \n",
       "sg_Proliferating epithelial cells                         0.000000  \n",
       "sg_T lymphocytes                                          0.000000  \n",
       "sg_Vascular smooth muscle cells                           0.000000  "
      ]
     },
     "execution_count": 95,
     "metadata": {},
     "output_type": "execute_result"
    }
   ],
   "source": [
    "df2"
   ]
  },
  {
   "cell_type": "code",
   "execution_count": 96,
   "id": "1dca312d-ab6c-49bd-bda9-c42dd9027a54",
   "metadata": {},
   "outputs": [],
   "source": [
    "def do_result(df1,sp1):\n",
    "    df1.columns\n",
    "    df_index=df1.index.tolist()\n",
    "    df_column=df1.columns.tolist()\n",
    "    data=df1.values\n",
    "    result = [\n",
    "        {\"source\":df_index[i],\"target\":df_column[j],\"value\":data[i,j]}\n",
    "        for i in range(len(df_index))\n",
    "        for j in range(len(df_column))\n",
    "        if data[i,j]>0.15\n",
    "    ]\n",
    "    clean_result=[]\n",
    "    for i in range(len(result)):\n",
    "        if result[i]['source'].startswith(sp1):\n",
    "            clean_result.append(result[i])\n",
    "        else:\n",
    "            continue\n",
    "    return clean_result"
   ]
  },
  {
   "cell_type": "code",
   "execution_count": 97,
   "id": "1025bf2c-676c-4279-be34-f1d902bdb0ff",
   "metadata": {},
   "outputs": [],
   "source": [
    "rbms=do_result(df1=df1,sp1='rb')\n",
    "mssg=do_result(df1=df2,sp1='ms')"
   ]
  },
  {
   "cell_type": "code",
   "execution_count": 98,
   "id": "2e050d69-1c52-46a8-890d-335568939755",
   "metadata": {},
   "outputs": [
    {
     "data": {
      "text/plain": [
       "[{'source': 'ms_B lymphocytes',\n",
       "  'target': 'sg_B lymphocytes',\n",
       "  'value': 0.764217783133239},\n",
       " {'source': 'ms_Basal epithelial cells',\n",
       "  'target': 'sg_Basal epithelial cells',\n",
       "  'value': 0.6740779078251935},\n",
       " {'source': 'ms_Basal epithelial cells',\n",
       "  'target': 'sg_Keratinized epithelial cells',\n",
       "  'value': 0.1547127777930541},\n",
       " {'source': 'ms_Basal epithelial cells',\n",
       "  'target': 'sg_Luminal epithelial cells',\n",
       "  'value': 0.1642904478426403},\n",
       " {'source': 'ms_Basal epithelial cells',\n",
       "  'target': 'sg_Proliferating epithelial cells',\n",
       "  'value': 0.1738880667516316},\n",
       " {'source': 'ms_Basal epithelial cells',\n",
       "  'target': 'sg_Vascular smooth muscle cells',\n",
       "  'value': 0.4231352701509837},\n",
       " {'source': 'ms_Endothelial cells',\n",
       "  'target': 'sg_Endothelial cells',\n",
       "  'value': 0.8444928601055658},\n",
       " {'source': 'ms_Fibroblasts',\n",
       "  'target': 'sg_Fibroblasts',\n",
       "  'value': 0.6467661673991191},\n",
       " {'source': 'ms_Innate immune cells',\n",
       "  'target': 'sg_Innate immune cells',\n",
       "  'value': 0.8384563685425738},\n",
       " {'source': 'ms_Keratinized epithelial cells',\n",
       "  'target': 'sg_B lymphocytes',\n",
       "  'value': 0.6162421609543661},\n",
       " {'source': 'ms_Luminal epithelial cells',\n",
       "  'target': 'sg_Keratinized epithelial cells',\n",
       "  'value': 0.1859838484840484},\n",
       " {'source': 'ms_Luminal epithelial cells',\n",
       "  'target': 'sg_Luminal epithelial cells',\n",
       "  'value': 0.306574711604657},\n",
       " {'source': 'ms_Proliferating epithelial cells',\n",
       "  'target': 'sg_Proliferating epithelial cells',\n",
       "  'value': 0.3917073085262294},\n",
       " {'source': 'ms_T lymphocytes',\n",
       "  'target': 'sg_T lymphocytes',\n",
       "  'value': 0.8563446459219873},\n",
       " {'source': 'ms_Vascular smooth muscle cells',\n",
       "  'target': 'sg_Basal epithelial cells',\n",
       "  'value': 0.1743580492762805},\n",
       " {'source': 'ms_Vascular smooth muscle cells',\n",
       "  'target': 'sg_Endothelial cells',\n",
       "  'value': 0.2078409611768988},\n",
       " {'source': 'ms_Vascular smooth muscle cells',\n",
       "  'target': 'sg_Vascular smooth muscle cells',\n",
       "  'value': 0.4019764276342432}]"
      ]
     },
     "execution_count": 98,
     "metadata": {},
     "output_type": "execute_result"
    }
   ],
   "source": [
    "mssg"
   ]
  },
  {
   "cell_type": "code",
   "execution_count": 99,
   "id": "db8a0add-ff77-48a6-b925-68314e4d1220",
   "metadata": {},
   "outputs": [
    {
     "data": {
      "text/plain": [
       "[{'source': 'rb_B lymphocytes',\n",
       "  'target': 'ms_B lymphocytes',\n",
       "  'value': 0.7847679209271832},\n",
       " {'source': 'rb_B lymphocytes',\n",
       "  'target': 'ms_Innate immune cells',\n",
       "  'value': 0.2597331708378588},\n",
       " {'source': 'rb_B lymphocytes',\n",
       "  'target': 'ms_Keratinized epithelial cells',\n",
       "  'value': 0.615528568961363},\n",
       " {'source': 'rb_Basal epithelial cells',\n",
       "  'target': 'ms_Basal epithelial cells',\n",
       "  'value': 0.6205710954974941},\n",
       " {'source': 'rb_Basal epithelial cells',\n",
       "  'target': 'ms_Vascular smooth muscle cells',\n",
       "  'value': 0.1759345719668028},\n",
       " {'source': 'rb_Endothelial cells',\n",
       "  'target': 'ms_Endothelial cells',\n",
       "  'value': 0.8579852184503132},\n",
       " {'source': 'rb_Endothelial cells',\n",
       "  'target': 'ms_Vascular smooth muscle cells',\n",
       "  'value': 0.2179009346109912},\n",
       " {'source': 'rb_Fibroblasts',\n",
       "  'target': 'ms_Basal epithelial cells',\n",
       "  'value': 0.1618941537125686},\n",
       " {'source': 'rb_Fibroblasts',\n",
       "  'target': 'ms_Fibroblasts',\n",
       "  'value': 0.7573796060530239},\n",
       " {'source': 'rb_Fibroblasts',\n",
       "  'target': 'ms_Proliferating epithelial cells',\n",
       "  'value': 0.160214929509191},\n",
       " {'source': 'rb_Innate immune cells',\n",
       "  'target': 'ms_Innate immune cells',\n",
       "  'value': 0.8447445651941401},\n",
       " {'source': 'rb_Keratinized epithelial cells',\n",
       "  'target': 'ms_Keratinized epithelial cells',\n",
       "  'value': 0.2836369803522479},\n",
       " {'source': 'rb_Luminal epithelial cells',\n",
       "  'target': 'ms_Basal epithelial cells',\n",
       "  'value': 0.2546257782836491},\n",
       " {'source': 'rb_Luminal epithelial cells',\n",
       "  'target': 'ms_Luminal epithelial cells',\n",
       "  'value': 0.3544658027660695},\n",
       " {'source': 'rb_Proliferating epithelial cells',\n",
       "  'target': 'ms_Proliferating epithelial cells',\n",
       "  'value': 0.5883285795758078},\n",
       " {'source': 'rb_T lymphocytes',\n",
       "  'target': 'ms_T lymphocytes',\n",
       "  'value': 0.7429625586120603},\n",
       " {'source': 'rb_Vascular smooth muscle cells',\n",
       "  'target': 'ms_Basal epithelial cells',\n",
       "  'value': 0.366064411294105},\n",
       " {'source': 'rb_Vascular smooth muscle cells',\n",
       "  'target': 'ms_Vascular smooth muscle cells',\n",
       "  'value': 0.3239163075963599}]"
      ]
     },
     "execution_count": 99,
     "metadata": {},
     "output_type": "execute_result"
    }
   ],
   "source": [
    "rbms"
   ]
  },
  {
   "cell_type": "code",
   "execution_count": 100,
   "id": "ebc299e1-2da4-47a4-a196-0227a1c12fb4",
   "metadata": {},
   "outputs": [],
   "source": [
    "nodes=list(sorted(set(d['source'] for d in rbms) | set(d['target'] for d in rbms) | set(d['target'] for d in mssg) | set(d['source'] for d in mssg)))"
   ]
  },
  {
   "cell_type": "code",
   "execution_count": 101,
   "id": "bc73e824-49c5-418f-9a88-6b0481d0a786",
   "metadata": {},
   "outputs": [
    {
     "data": {
      "text/plain": [
       "['ms_B lymphocytes',\n",
       " 'ms_Basal epithelial cells',\n",
       " 'ms_Endothelial cells',\n",
       " 'ms_Fibroblasts',\n",
       " 'ms_Innate immune cells',\n",
       " 'ms_Keratinized epithelial cells',\n",
       " 'ms_Luminal epithelial cells',\n",
       " 'ms_Proliferating epithelial cells',\n",
       " 'ms_T lymphocytes',\n",
       " 'ms_Vascular smooth muscle cells',\n",
       " 'rb_B lymphocytes',\n",
       " 'rb_Basal epithelial cells',\n",
       " 'rb_Endothelial cells',\n",
       " 'rb_Fibroblasts',\n",
       " 'rb_Innate immune cells',\n",
       " 'rb_Keratinized epithelial cells',\n",
       " 'rb_Luminal epithelial cells',\n",
       " 'rb_Proliferating epithelial cells',\n",
       " 'rb_T lymphocytes',\n",
       " 'rb_Vascular smooth muscle cells',\n",
       " 'sg_B lymphocytes',\n",
       " 'sg_Basal epithelial cells',\n",
       " 'sg_Endothelial cells',\n",
       " 'sg_Fibroblasts',\n",
       " 'sg_Innate immune cells',\n",
       " 'sg_Keratinized epithelial cells',\n",
       " 'sg_Luminal epithelial cells',\n",
       " 'sg_Proliferating epithelial cells',\n",
       " 'sg_T lymphocytes',\n",
       " 'sg_Vascular smooth muscle cells']"
      ]
     },
     "execution_count": 101,
     "metadata": {},
     "output_type": "execute_result"
    }
   ],
   "source": [
    "nodes"
   ]
  },
  {
   "cell_type": "code",
   "execution_count": 102,
   "id": "ce35b910-5b26-47b6-9c26-85663dbf7c11",
   "metadata": {},
   "outputs": [],
   "source": [
    "nodes_mapping={nodes[i]:i for i in range(len(nodes))}"
   ]
  },
  {
   "cell_type": "code",
   "execution_count": 103,
   "id": "db6b8763-d051-4b4c-973a-ae2bdc61d297",
   "metadata": {},
   "outputs": [
    {
     "data": {
      "text/plain": [
       "{'ms_B lymphocytes': 0,\n",
       " 'ms_Basal epithelial cells': 1,\n",
       " 'ms_Endothelial cells': 2,\n",
       " 'ms_Fibroblasts': 3,\n",
       " 'ms_Innate immune cells': 4,\n",
       " 'ms_Keratinized epithelial cells': 5,\n",
       " 'ms_Luminal epithelial cells': 6,\n",
       " 'ms_Proliferating epithelial cells': 7,\n",
       " 'ms_T lymphocytes': 8,\n",
       " 'ms_Vascular smooth muscle cells': 9,\n",
       " 'rb_B lymphocytes': 10,\n",
       " 'rb_Basal epithelial cells': 11,\n",
       " 'rb_Endothelial cells': 12,\n",
       " 'rb_Fibroblasts': 13,\n",
       " 'rb_Innate immune cells': 14,\n",
       " 'rb_Keratinized epithelial cells': 15,\n",
       " 'rb_Luminal epithelial cells': 16,\n",
       " 'rb_Proliferating epithelial cells': 17,\n",
       " 'rb_T lymphocytes': 18,\n",
       " 'rb_Vascular smooth muscle cells': 19,\n",
       " 'sg_B lymphocytes': 20,\n",
       " 'sg_Basal epithelial cells': 21,\n",
       " 'sg_Endothelial cells': 22,\n",
       " 'sg_Fibroblasts': 23,\n",
       " 'sg_Innate immune cells': 24,\n",
       " 'sg_Keratinized epithelial cells': 25,\n",
       " 'sg_Luminal epithelial cells': 26,\n",
       " 'sg_Proliferating epithelial cells': 27,\n",
       " 'sg_T lymphocytes': 28,\n",
       " 'sg_Vascular smooth muscle cells': 29}"
      ]
     },
     "execution_count": 103,
     "metadata": {},
     "output_type": "execute_result"
    }
   ],
   "source": [
    "nodes_mapping"
   ]
  },
  {
   "cell_type": "code",
   "execution_count": 104,
   "id": "49adc330-d1b4-41ce-b702-5ec7f18c8a28",
   "metadata": {},
   "outputs": [],
   "source": [
    "rbms_links=[    \n",
    "    {\"source\":nodes_mapping[d['source']],\n",
    "    \"target\":nodes_mapping[d['target']],\n",
    "    \"value\":d['value']}for d in rbms\n",
    "]"
   ]
  },
  {
   "cell_type": "code",
   "execution_count": 105,
   "id": "ac0a0c43-0e21-4f89-9b31-152f4a0e0b75",
   "metadata": {},
   "outputs": [],
   "source": [
    "mssg_links=[    \n",
    "    {\"source\":nodes_mapping[d['source']],\n",
    "    \"target\":nodes_mapping[d['target']],\n",
    "    \"value\":d['value']}for d in mssg\n",
    "]"
   ]
  },
  {
   "cell_type": "code",
   "execution_count": 106,
   "id": "6e969341-8ac6-462a-b446-26053051345f",
   "metadata": {},
   "outputs": [
    {
     "data": {
      "text/plain": [
       "[{'source': 10, 'target': 0, 'value': 0.7847679209271832},\n",
       " {'source': 10, 'target': 4, 'value': 0.2597331708378588},\n",
       " {'source': 10, 'target': 5, 'value': 0.615528568961363},\n",
       " {'source': 11, 'target': 1, 'value': 0.6205710954974941},\n",
       " {'source': 11, 'target': 9, 'value': 0.1759345719668028},\n",
       " {'source': 12, 'target': 2, 'value': 0.8579852184503132},\n",
       " {'source': 12, 'target': 9, 'value': 0.2179009346109912},\n",
       " {'source': 13, 'target': 1, 'value': 0.1618941537125686},\n",
       " {'source': 13, 'target': 3, 'value': 0.7573796060530239},\n",
       " {'source': 13, 'target': 7, 'value': 0.160214929509191},\n",
       " {'source': 14, 'target': 4, 'value': 0.8447445651941401},\n",
       " {'source': 15, 'target': 5, 'value': 0.2836369803522479},\n",
       " {'source': 16, 'target': 1, 'value': 0.2546257782836491},\n",
       " {'source': 16, 'target': 6, 'value': 0.3544658027660695},\n",
       " {'source': 17, 'target': 7, 'value': 0.5883285795758078},\n",
       " {'source': 18, 'target': 8, 'value': 0.7429625586120603},\n",
       " {'source': 19, 'target': 1, 'value': 0.366064411294105},\n",
       " {'source': 19, 'target': 9, 'value': 0.3239163075963599},\n",
       " {'source': 0, 'target': 20, 'value': 0.764217783133239},\n",
       " {'source': 1, 'target': 21, 'value': 0.6740779078251935},\n",
       " {'source': 1, 'target': 25, 'value': 0.1547127777930541},\n",
       " {'source': 1, 'target': 26, 'value': 0.1642904478426403},\n",
       " {'source': 1, 'target': 27, 'value': 0.1738880667516316},\n",
       " {'source': 1, 'target': 29, 'value': 0.4231352701509837},\n",
       " {'source': 2, 'target': 22, 'value': 0.8444928601055658},\n",
       " {'source': 3, 'target': 23, 'value': 0.6467661673991191},\n",
       " {'source': 4, 'target': 24, 'value': 0.8384563685425738},\n",
       " {'source': 5, 'target': 20, 'value': 0.6162421609543661},\n",
       " {'source': 6, 'target': 25, 'value': 0.1859838484840484},\n",
       " {'source': 6, 'target': 26, 'value': 0.306574711604657},\n",
       " {'source': 7, 'target': 27, 'value': 0.3917073085262294},\n",
       " {'source': 8, 'target': 28, 'value': 0.8563446459219873},\n",
       " {'source': 9, 'target': 21, 'value': 0.1743580492762805},\n",
       " {'source': 9, 'target': 22, 'value': 0.2078409611768988},\n",
       " {'source': 9, 'target': 29, 'value': 0.4019764276342432}]"
      ]
     },
     "execution_count": 106,
     "metadata": {},
     "output_type": "execute_result"
    }
   ],
   "source": [
    "rbms_links+mssg_links"
   ]
  },
  {
   "cell_type": "code",
   "execution_count": 107,
   "id": "b9af3070-6076-4696-8b0d-237c2c0bc282",
   "metadata": {},
   "outputs": [],
   "source": [
    "links=rbms_links+mssg_links"
   ]
  },
  {
   "cell_type": "code",
   "execution_count": 108,
   "id": "7ffcd244-f436-4628-9403-3b1129aaf490",
   "metadata": {},
   "outputs": [
    {
     "data": {
      "text/plain": [
       "[{'source': 10, 'target': 0, 'value': 0.7847679209271832},\n",
       " {'source': 10, 'target': 4, 'value': 0.2597331708378588},\n",
       " {'source': 10, 'target': 5, 'value': 0.615528568961363},\n",
       " {'source': 11, 'target': 1, 'value': 0.6205710954974941},\n",
       " {'source': 11, 'target': 9, 'value': 0.1759345719668028},\n",
       " {'source': 12, 'target': 2, 'value': 0.8579852184503132},\n",
       " {'source': 12, 'target': 9, 'value': 0.2179009346109912},\n",
       " {'source': 13, 'target': 1, 'value': 0.1618941537125686},\n",
       " {'source': 13, 'target': 3, 'value': 0.7573796060530239},\n",
       " {'source': 13, 'target': 7, 'value': 0.160214929509191},\n",
       " {'source': 14, 'target': 4, 'value': 0.8447445651941401},\n",
       " {'source': 15, 'target': 5, 'value': 0.2836369803522479},\n",
       " {'source': 16, 'target': 1, 'value': 0.2546257782836491},\n",
       " {'source': 16, 'target': 6, 'value': 0.3544658027660695},\n",
       " {'source': 17, 'target': 7, 'value': 0.5883285795758078},\n",
       " {'source': 18, 'target': 8, 'value': 0.7429625586120603},\n",
       " {'source': 19, 'target': 1, 'value': 0.366064411294105},\n",
       " {'source': 19, 'target': 9, 'value': 0.3239163075963599},\n",
       " {'source': 0, 'target': 20, 'value': 0.764217783133239},\n",
       " {'source': 1, 'target': 21, 'value': 0.6740779078251935},\n",
       " {'source': 1, 'target': 25, 'value': 0.1547127777930541},\n",
       " {'source': 1, 'target': 26, 'value': 0.1642904478426403},\n",
       " {'source': 1, 'target': 27, 'value': 0.1738880667516316},\n",
       " {'source': 1, 'target': 29, 'value': 0.4231352701509837},\n",
       " {'source': 2, 'target': 22, 'value': 0.8444928601055658},\n",
       " {'source': 3, 'target': 23, 'value': 0.6467661673991191},\n",
       " {'source': 4, 'target': 24, 'value': 0.8384563685425738},\n",
       " {'source': 5, 'target': 20, 'value': 0.6162421609543661},\n",
       " {'source': 6, 'target': 25, 'value': 0.1859838484840484},\n",
       " {'source': 6, 'target': 26, 'value': 0.306574711604657},\n",
       " {'source': 7, 'target': 27, 'value': 0.3917073085262294},\n",
       " {'source': 8, 'target': 28, 'value': 0.8563446459219873},\n",
       " {'source': 9, 'target': 21, 'value': 0.1743580492762805},\n",
       " {'source': 9, 'target': 22, 'value': 0.2078409611768988},\n",
       " {'source': 9, 'target': 29, 'value': 0.4019764276342432}]"
      ]
     },
     "execution_count": 108,
     "metadata": {},
     "output_type": "execute_result"
    }
   ],
   "source": [
    "links"
   ]
  },
  {
   "cell_type": "code",
   "execution_count": 109,
   "id": "496dda74-0dcb-4415-bb39-df52114d16da",
   "metadata": {},
   "outputs": [],
   "source": [
    "sankey_links = {\n",
    "    'source':[d['source'] for d in links],\n",
    "    'target':[d['target'] for d in links],\n",
    "    'value':[d['value'] for d in links],   \n",
    "}"
   ]
  },
  {
   "cell_type": "code",
   "execution_count": 110,
   "id": "465dcbe0-dd7f-4c2a-8288-ac78a2d7225b",
   "metadata": {},
   "outputs": [
    {
     "data": {
      "text/plain": [
       "{'source': [10,\n",
       "  10,\n",
       "  10,\n",
       "  11,\n",
       "  11,\n",
       "  12,\n",
       "  12,\n",
       "  13,\n",
       "  13,\n",
       "  13,\n",
       "  14,\n",
       "  15,\n",
       "  16,\n",
       "  16,\n",
       "  17,\n",
       "  18,\n",
       "  19,\n",
       "  19,\n",
       "  0,\n",
       "  1,\n",
       "  1,\n",
       "  1,\n",
       "  1,\n",
       "  1,\n",
       "  2,\n",
       "  3,\n",
       "  4,\n",
       "  5,\n",
       "  6,\n",
       "  6,\n",
       "  7,\n",
       "  8,\n",
       "  9,\n",
       "  9,\n",
       "  9],\n",
       " 'target': [0,\n",
       "  4,\n",
       "  5,\n",
       "  1,\n",
       "  9,\n",
       "  2,\n",
       "  9,\n",
       "  1,\n",
       "  3,\n",
       "  7,\n",
       "  4,\n",
       "  5,\n",
       "  1,\n",
       "  6,\n",
       "  7,\n",
       "  8,\n",
       "  1,\n",
       "  9,\n",
       "  20,\n",
       "  21,\n",
       "  25,\n",
       "  26,\n",
       "  27,\n",
       "  29,\n",
       "  22,\n",
       "  23,\n",
       "  24,\n",
       "  20,\n",
       "  25,\n",
       "  26,\n",
       "  27,\n",
       "  28,\n",
       "  21,\n",
       "  22,\n",
       "  29],\n",
       " 'value': [0.7847679209271832,\n",
       "  0.2597331708378588,\n",
       "  0.615528568961363,\n",
       "  0.6205710954974941,\n",
       "  0.1759345719668028,\n",
       "  0.8579852184503132,\n",
       "  0.2179009346109912,\n",
       "  0.1618941537125686,\n",
       "  0.7573796060530239,\n",
       "  0.160214929509191,\n",
       "  0.8447445651941401,\n",
       "  0.2836369803522479,\n",
       "  0.2546257782836491,\n",
       "  0.3544658027660695,\n",
       "  0.5883285795758078,\n",
       "  0.7429625586120603,\n",
       "  0.366064411294105,\n",
       "  0.3239163075963599,\n",
       "  0.764217783133239,\n",
       "  0.6740779078251935,\n",
       "  0.1547127777930541,\n",
       "  0.1642904478426403,\n",
       "  0.1738880667516316,\n",
       "  0.4231352701509837,\n",
       "  0.8444928601055658,\n",
       "  0.6467661673991191,\n",
       "  0.8384563685425738,\n",
       "  0.6162421609543661,\n",
       "  0.1859838484840484,\n",
       "  0.306574711604657,\n",
       "  0.3917073085262294,\n",
       "  0.8563446459219873,\n",
       "  0.1743580492762805,\n",
       "  0.2078409611768988,\n",
       "  0.4019764276342432]}"
      ]
     },
     "execution_count": 110,
     "metadata": {},
     "output_type": "execute_result"
    }
   ],
   "source": [
    "sankey_links"
   ]
  },
  {
   "cell_type": "code",
   "execution_count": 111,
   "id": "3a4410d4-dca9-4632-814b-029b66014ad9",
   "metadata": {},
   "outputs": [],
   "source": [
    "fix_nodes=[a[3:] for a in nodes]"
   ]
  },
  {
   "cell_type": "code",
   "execution_count": 112,
   "id": "f2898030-e875-4867-a157-1c0f5ff3a26b",
   "metadata": {},
   "outputs": [
    {
     "data": {
      "text/plain": [
       "['B lymphocytes',\n",
       " 'Basal epithelial cells',\n",
       " 'Endothelial cells',\n",
       " 'Fibroblasts',\n",
       " 'Innate immune cells',\n",
       " 'Keratinized epithelial cells',\n",
       " 'Luminal epithelial cells',\n",
       " 'Proliferating epithelial cells',\n",
       " 'T lymphocytes',\n",
       " 'Vascular smooth muscle cells',\n",
       " 'B lymphocytes',\n",
       " 'Basal epithelial cells',\n",
       " 'Endothelial cells',\n",
       " 'Fibroblasts',\n",
       " 'Innate immune cells',\n",
       " 'Keratinized epithelial cells',\n",
       " 'Luminal epithelial cells',\n",
       " 'Proliferating epithelial cells',\n",
       " 'T lymphocytes',\n",
       " 'Vascular smooth muscle cells',\n",
       " 'B lymphocytes',\n",
       " 'Basal epithelial cells',\n",
       " 'Endothelial cells',\n",
       " 'Fibroblasts',\n",
       " 'Innate immune cells',\n",
       " 'Keratinized epithelial cells',\n",
       " 'Luminal epithelial cells',\n",
       " 'Proliferating epithelial cells',\n",
       " 'T lymphocytes',\n",
       " 'Vascular smooth muscle cells']"
      ]
     },
     "execution_count": 112,
     "metadata": {},
     "output_type": "execute_result"
    }
   ],
   "source": [
    "fix_nodes"
   ]
  },
  {
   "cell_type": "code",
   "execution_count": 113,
   "id": "34270793-40e3-4b5c-845d-542692d561af",
   "metadata": {},
   "outputs": [],
   "source": [
    "ls1,ls2,ls3=[],[],[]\n",
    "for point,node in enumerate(nodes_mapping):\n",
    "    if node.startswith(\"rb\"):\n",
    "        ls1.append(point)\n",
    "    if node.startswith(\"ms\"):\n",
    "        ls2.append(point)\n",
    "    if node.startswith(\"sg\"):\n",
    "        ls3.append(point)\n",
    "layers=dict(rb=ls1,\n",
    "           ms=ls2,\n",
    "           sg=ls3)"
   ]
  },
  {
   "cell_type": "code",
   "execution_count": 114,
   "id": "c08f8aab-4e51-447c-8de3-619fc1f7fa90",
   "metadata": {},
   "outputs": [
    {
     "data": {
      "text/plain": [
       "{'rb': [10, 11, 12, 13, 14, 15, 16, 17, 18, 19],\n",
       " 'ms': [0, 1, 2, 3, 4, 5, 6, 7, 8, 9],\n",
       " 'sg': [20, 21, 22, 23, 24, 25, 26, 27, 28, 29]}"
      ]
     },
     "execution_count": 114,
     "metadata": {},
     "output_type": "execute_result"
    }
   ],
   "source": [
    "layers"
   ]
  },
  {
   "cell_type": "code",
   "execution_count": 115,
   "id": "40e44982-a374-4cda-9b2a-0dd0165ae4df",
   "metadata": {},
   "outputs": [],
   "source": [
    "node_colors=[None]*(max(max(indices) for indices in layers.values()) + 1)"
   ]
  },
  {
   "cell_type": "code",
   "execution_count": 116,
   "id": "0c2463a1-fe78-42ff-aaa0-aa2c8184450b",
   "metadata": {},
   "outputs": [
    {
     "data": {
      "text/plain": [
       "30"
      ]
     },
     "execution_count": 116,
     "metadata": {},
     "output_type": "execute_result"
    }
   ],
   "source": [
    "len(node_colors)"
   ]
  },
  {
   "cell_type": "code",
   "execution_count": 117,
   "id": "98a6bc04-df8f-496c-a117-a5e9139a10ad",
   "metadata": {},
   "outputs": [],
   "source": [
    "def assign_cell_type_colors(layers, color_dict):\n",
    "    \"\"\"为每个层（物种）根据细胞类型字典分配颜色\"\"\"\n",
    "    node_colors = [None] * (max(max(indices) for indices in layers.values()) + 1)\n",
    "    for layer, indices in layers.items():\n",
    "        # 根据细胞类型为每个索引分配颜色\n",
    "        for idx in indices:\n",
    "            # 获取细胞类型并从color_dict中查找对应的颜色\n",
    "            cell_type = fix_nodes[idx]  # 你需要确保fix_nodes已经定义并且包含正确的细胞类型名称\n",
    "            if cell_type in color_dict:\n",
    "                node_colors[idx] = color_dict[cell_type]\n",
    "            else:\n",
    "                # 如果没有找到该细胞类型，可以分配一个默认颜色\n",
    "                node_colors[idx] = \"#d3d3d3\"  # 默认灰色\n",
    "    return node_colors"
   ]
  },
  {
   "cell_type": "code",
   "execution_count": 118,
   "id": "1834d308-0335-4684-a8f8-d0d2337791fa",
   "metadata": {},
   "outputs": [],
   "source": [
    "color_dict={\n",
    "\"B lymphocytes\": \"#1f78b4\",                 # Blue\n",
    "    \"Basal epithelial cells\": \"#e31a1c\",         # Red\n",
    "    \"Endothelial cells\": \"#33a02c\",              # Green\n",
    "    \"Fibroblasts\": \"#ff7f00\",                    # Orange\n",
    "    \"Innate immune cells\": \"#6a3d9a\",            # Purple\n",
    "    \"Keratinized epithelial cells\": \"#b15928\",   # Brown\n",
    "    \"Luminal epithelial cells\": \"#a6cee3\",       # Light Blue\n",
    "    \"Proliferating epithelial cells\": \"#fb9a99\", # Light Red\n",
    "    \"T lymphocytes\": \"#cab2d6\",                  # Lavender\n",
    "    \"Vascular smooth muscle cells\": \"#b2df8a\"    # Light Green\n",
    "}\n",
    "    "
   ]
  },
  {
   "cell_type": "code",
   "execution_count": 54,
   "id": "770fe928-bec1-4e42-b7c1-c04882d2c103",
   "metadata": {},
   "outputs": [],
   "source": [
    "color_dict={\n",
    "    \"ASC-rb\": \"#e31a1c\",          # Strong Red\n",
    "    \"ASC-sg\": \"#a6cee3\",          # Light Blue\n",
    "    \"Epi-Lgals7\": \"#808080\",      # Gray\n",
    "    \"Basal\": \"#1f78b4\",           # Strong Blue\n",
    "    \"CSC\": \"#fdbf6f\",             # Light Orange/Peach\n",
    "    \"Epi-Fibro\": \"#cab2d6\",       # Lavender\n",
    "    \"Epi-Pro\": \"#D3D3D3\",         # LightGray\n",
    "    \"Lum-Immune\": \"#ffd700\",      # Gold\n",
    "    \"Lum-Kit\": \"#008080\",         # Teal\n",
    "    \"LumSEC-AG-Pip\": \"#4B0082\",   # Indigo\n",
    "    \"LumSEC-AG-t1\": \"#B8860B\",    # DarkGoldenrod\n",
    "    \"LumSEC-AG-t2\": \"#fb9a99\",    # Light Red/Pink\n",
    "    \"Epi-Krt7\": \"#b2df8a\",        # Light Green\n",
    "    \"LumHR\": \"#ff7f00\",           # Strong Orange\n",
    "    \"Lum-Basal\": \"#778899\",       # LightSlateGray\n",
    "    \"Epi-Hmgcr\": \"#2F4F4F\",       # DarkSlateGray\n",
    "    \"LumSEC-Lac\": \"#6a3d9a\",      # Strong Purple\n",
    "    \"LumSEC-Lip\": \"#b15928\",      # Brown\n",
    "    \"Epi-Lip\": \"#6B8E23\",         # OliveDrab  ← 新颜色\n",
    "    \"Epi-Lalba\": \"#87CEEB\",       # SkyBlue\n",
    "    \"LumSEC-Mgp\": \"#00FF7F\",      # SpringGreen\n",
    "    \"LumSEC-Vcam1\": \"#FF00FF\",    # Magenta/Fuchsia\n",
    "    \"MaSC\": \"#33a02c\",            # Strong Green\n",
    "    \"MaSC-Pro\": \"#FF69B4\",        # HotPink\n",
    "    \"MaSC-t2-sg\": \"#FAEBD7\",      # AntiqueWhite\n",
    "    \"LumSEC-Lip-CG\": \"#D2B48C\",   # Tan\n",
    "    \"Lum-Tm4sf4\": \"#00FFFF\",      # Cyan/Aqua\n",
    "    \"Lum-Stat4\": \"#8FBC8F\"        # DarkSeaGreen\n",
    "\n",
    "}"
   ]
  },
  {
   "cell_type": "code",
   "execution_count": 119,
   "id": "dc52d3e1-e329-4900-86e8-abfb1919f2c6",
   "metadata": {},
   "outputs": [],
   "source": [
    "node_colors = assign_cell_type_colors(layers, color_dict)"
   ]
  },
  {
   "cell_type": "code",
   "execution_count": 120,
   "id": "e029ee0a-a9d6-4f2c-a737-35e8945bf45f",
   "metadata": {},
   "outputs": [
    {
     "data": {
      "text/plain": [
       "['#1f78b4',\n",
       " '#e31a1c',\n",
       " '#33a02c',\n",
       " '#ff7f00',\n",
       " '#6a3d9a',\n",
       " '#b15928',\n",
       " '#a6cee3',\n",
       " '#fb9a99',\n",
       " '#cab2d6',\n",
       " '#b2df8a',\n",
       " '#1f78b4',\n",
       " '#e31a1c',\n",
       " '#33a02c',\n",
       " '#ff7f00',\n",
       " '#6a3d9a',\n",
       " '#b15928',\n",
       " '#a6cee3',\n",
       " '#fb9a99',\n",
       " '#cab2d6',\n",
       " '#b2df8a',\n",
       " '#1f78b4',\n",
       " '#e31a1c',\n",
       " '#33a02c',\n",
       " '#ff7f00',\n",
       " '#6a3d9a',\n",
       " '#b15928',\n",
       " '#a6cee3',\n",
       " '#fb9a99',\n",
       " '#cab2d6',\n",
       " '#b2df8a']"
      ]
     },
     "execution_count": 120,
     "metadata": {},
     "output_type": "execute_result"
    }
   ],
   "source": [
    "node_colors"
   ]
  },
  {
   "cell_type": "code",
   "execution_count": 121,
   "id": "7da6be17-1bc3-4819-a846-272431b50603",
   "metadata": {},
   "outputs": [
    {
     "data": {
      "application/vnd.plotly.v1+json": {
       "config": {
        "plotlyServerURL": "https://plot.ly"
       },
       "data": [
        {
         "arrangement": "snap",
         "link": {
          "color": [
           "rgba(31, 120, 180, 0.5)",
           "rgba(31, 120, 180, 0.5)",
           "rgba(31, 120, 180, 0.5)",
           "rgba(227, 26, 28, 0.5)",
           "rgba(227, 26, 28, 0.5)",
           "rgba(51, 160, 44, 0.5)",
           "rgba(51, 160, 44, 0.5)",
           "rgba(255, 127, 0, 0.5)",
           "rgba(255, 127, 0, 0.5)",
           "rgba(255, 127, 0, 0.5)",
           "rgba(106, 61, 154, 0.5)",
           "rgba(177, 89, 40, 0.5)",
           "rgba(166, 206, 227, 0.5)",
           "rgba(166, 206, 227, 0.5)",
           "rgba(251, 154, 153, 0.5)",
           "rgba(202, 178, 214, 0.5)",
           "rgba(178, 223, 138, 0.5)",
           "rgba(178, 223, 138, 0.5)",
           "rgba(31, 120, 180, 0.5)",
           "rgba(227, 26, 28, 0.5)",
           "rgba(227, 26, 28, 0.5)",
           "rgba(227, 26, 28, 0.5)",
           "rgba(227, 26, 28, 0.5)",
           "rgba(227, 26, 28, 0.5)",
           "rgba(51, 160, 44, 0.5)",
           "rgba(255, 127, 0, 0.5)",
           "rgba(106, 61, 154, 0.5)",
           "rgba(177, 89, 40, 0.5)",
           "rgba(166, 206, 227, 0.5)",
           "rgba(166, 206, 227, 0.5)",
           "rgba(251, 154, 153, 0.5)",
           "rgba(202, 178, 214, 0.5)",
           "rgba(178, 223, 138, 0.5)",
           "rgba(178, 223, 138, 0.5)",
           "rgba(178, 223, 138, 0.5)"
          ],
          "source": [
           10,
           10,
           10,
           11,
           11,
           12,
           12,
           13,
           13,
           13,
           14,
           15,
           16,
           16,
           17,
           18,
           19,
           19,
           0,
           1,
           1,
           1,
           1,
           1,
           2,
           3,
           4,
           5,
           6,
           6,
           7,
           8,
           9,
           9,
           9
          ],
          "target": [
           0,
           4,
           5,
           1,
           9,
           2,
           9,
           1,
           3,
           7,
           4,
           5,
           1,
           6,
           7,
           8,
           1,
           9,
           20,
           21,
           25,
           26,
           27,
           29,
           22,
           23,
           24,
           20,
           25,
           26,
           27,
           28,
           21,
           22,
           29
          ],
          "value": [
           0.7847679209271832,
           0.2597331708378588,
           0.615528568961363,
           0.6205710954974941,
           0.1759345719668028,
           0.8579852184503132,
           0.2179009346109912,
           0.1618941537125686,
           0.7573796060530239,
           0.160214929509191,
           0.8447445651941401,
           0.2836369803522479,
           0.2546257782836491,
           0.3544658027660695,
           0.5883285795758078,
           0.7429625586120603,
           0.366064411294105,
           0.3239163075963599,
           0.764217783133239,
           0.6740779078251935,
           0.1547127777930541,
           0.1642904478426403,
           0.1738880667516316,
           0.4231352701509837,
           0.8444928601055658,
           0.6467661673991191,
           0.8384563685425738,
           0.6162421609543661,
           0.1859838484840484,
           0.306574711604657,
           0.3917073085262294,
           0.8563446459219873,
           0.1743580492762805,
           0.2078409611768988,
           0.4019764276342432
          ]
         },
         "node": {
          "color": [
           "#1f78b4",
           "#e31a1c",
           "#33a02c",
           "#ff7f00",
           "#6a3d9a",
           "#b15928",
           "#a6cee3",
           "#fb9a99",
           "#cab2d6",
           "#b2df8a",
           "#1f78b4",
           "#e31a1c",
           "#33a02c",
           "#ff7f00",
           "#6a3d9a",
           "#b15928",
           "#a6cee3",
           "#fb9a99",
           "#cab2d6",
           "#b2df8a",
           "#1f78b4",
           "#e31a1c",
           "#33a02c",
           "#ff7f00",
           "#6a3d9a",
           "#b15928",
           "#a6cee3",
           "#fb9a99",
           "#cab2d6",
           "#b2df8a"
          ],
          "label": [
           "B lymphocytes",
           "Basal epithelial cells",
           "Endothelial cells",
           "Fibroblasts",
           "Innate immune cells",
           "Keratinized epithelial cells",
           "Luminal epithelial cells",
           "Proliferating epithelial cells",
           "T lymphocytes",
           "Vascular smooth muscle cells",
           "B lymphocytes",
           "Basal epithelial cells",
           "Endothelial cells",
           "Fibroblasts",
           "Innate immune cells",
           "Keratinized epithelial cells",
           "Luminal epithelial cells",
           "Proliferating epithelial cells",
           "T lymphocytes",
           "Vascular smooth muscle cells",
           "B lymphocytes",
           "Basal epithelial cells",
           "Endothelial cells",
           "Fibroblasts",
           "Innate immune cells",
           "Keratinized epithelial cells",
           "Luminal epithelial cells",
           "Proliferating epithelial cells",
           "T lymphocytes",
           "Vascular smooth muscle cells"
          ],
          "line": {
           "color": "black",
           "width": 0.8
          },
          "pad": 30,
          "thickness": 25,
          "x": [
           0.5,
           0.5,
           0.5,
           0.5,
           0.5,
           0.5,
           0.5,
           0.5,
           0.5,
           0.5,
           0.016025641025641024,
           0.016025641025641024,
           0.016025641025641024,
           0.016025641025641024,
           0.016025641025641024,
           0.016025641025641024,
           0.016025641025641024,
           0.016025641025641024,
           0.016025641025641024,
           0.016025641025641024,
           0.9839743589743589,
           0.9839743589743589,
           0.9839743589743589,
           0.9839743589743589,
           0.9839743589743589,
           0.9839743589743589,
           0.9839743589743589,
           0.9839743589743589,
           0.9839743589743589,
           0.9839743589743589
          ],
          "y": [
           0.12616432781723305,
           0.6699200988909578,
           0.22915242896875607,
           0.44840850633769935,
           0.3400202553345029,
           0.02216127599449857,
           0.7837504353975367,
           0.8768392468942603,
           0.9788941090334532,
           0.5489024295034464,
           0.11739521959082633,
           0.6764912231926311,
           0.24732594521565338,
           0.46708835212269434,
           0.35716275373023965,
           0.00699065640207264,
           0.7943647183505429,
           0.8863769240631129,
           0.9816885796752893,
           0.5773545492283986,
           0.03402349416481658,
           0.618993064231805,
           0.20826249247289563,
           0.41646936114548744,
           0.31736383665961404,
           0.7108010102428823,
           0.7933031608298972,
           0.8813482765040729,
           0.9788941090334531,
           0.5152459863180641
          ]
         },
         "type": "sankey"
        }
       ],
       "layout": {
        "font": {
         "size": 14
        },
        "height": 600,
        "margin": {
         "b": 60,
         "l": 60,
         "r": 60,
         "t": 60
        },
        "paper_bgcolor": "white",
        "plot_bgcolor": "white",
        "template": {
         "data": {
          "bar": [
           {
            "error_x": {
             "color": "#2a3f5f"
            },
            "error_y": {
             "color": "#2a3f5f"
            },
            "marker": {
             "line": {
              "color": "#E5ECF6",
              "width": 0.5
             },
             "pattern": {
              "fillmode": "overlay",
              "size": 10,
              "solidity": 0.2
             }
            },
            "type": "bar"
           }
          ],
          "barpolar": [
           {
            "marker": {
             "line": {
              "color": "#E5ECF6",
              "width": 0.5
             },
             "pattern": {
              "fillmode": "overlay",
              "size": 10,
              "solidity": 0.2
             }
            },
            "type": "barpolar"
           }
          ],
          "carpet": [
           {
            "aaxis": {
             "endlinecolor": "#2a3f5f",
             "gridcolor": "white",
             "linecolor": "white",
             "minorgridcolor": "white",
             "startlinecolor": "#2a3f5f"
            },
            "baxis": {
             "endlinecolor": "#2a3f5f",
             "gridcolor": "white",
             "linecolor": "white",
             "minorgridcolor": "white",
             "startlinecolor": "#2a3f5f"
            },
            "type": "carpet"
           }
          ],
          "choropleth": [
           {
            "colorbar": {
             "outlinewidth": 0,
             "ticks": ""
            },
            "type": "choropleth"
           }
          ],
          "contour": [
           {
            "colorbar": {
             "outlinewidth": 0,
             "ticks": ""
            },
            "colorscale": [
             [
              0,
              "#0d0887"
             ],
             [
              0.1111111111111111,
              "#46039f"
             ],
             [
              0.2222222222222222,
              "#7201a8"
             ],
             [
              0.3333333333333333,
              "#9c179e"
             ],
             [
              0.4444444444444444,
              "#bd3786"
             ],
             [
              0.5555555555555556,
              "#d8576b"
             ],
             [
              0.6666666666666666,
              "#ed7953"
             ],
             [
              0.7777777777777778,
              "#fb9f3a"
             ],
             [
              0.8888888888888888,
              "#fdca26"
             ],
             [
              1,
              "#f0f921"
             ]
            ],
            "type": "contour"
           }
          ],
          "contourcarpet": [
           {
            "colorbar": {
             "outlinewidth": 0,
             "ticks": ""
            },
            "type": "contourcarpet"
           }
          ],
          "heatmap": [
           {
            "colorbar": {
             "outlinewidth": 0,
             "ticks": ""
            },
            "colorscale": [
             [
              0,
              "#0d0887"
             ],
             [
              0.1111111111111111,
              "#46039f"
             ],
             [
              0.2222222222222222,
              "#7201a8"
             ],
             [
              0.3333333333333333,
              "#9c179e"
             ],
             [
              0.4444444444444444,
              "#bd3786"
             ],
             [
              0.5555555555555556,
              "#d8576b"
             ],
             [
              0.6666666666666666,
              "#ed7953"
             ],
             [
              0.7777777777777778,
              "#fb9f3a"
             ],
             [
              0.8888888888888888,
              "#fdca26"
             ],
             [
              1,
              "#f0f921"
             ]
            ],
            "type": "heatmap"
           }
          ],
          "heatmapgl": [
           {
            "colorbar": {
             "outlinewidth": 0,
             "ticks": ""
            },
            "colorscale": [
             [
              0,
              "#0d0887"
             ],
             [
              0.1111111111111111,
              "#46039f"
             ],
             [
              0.2222222222222222,
              "#7201a8"
             ],
             [
              0.3333333333333333,
              "#9c179e"
             ],
             [
              0.4444444444444444,
              "#bd3786"
             ],
             [
              0.5555555555555556,
              "#d8576b"
             ],
             [
              0.6666666666666666,
              "#ed7953"
             ],
             [
              0.7777777777777778,
              "#fb9f3a"
             ],
             [
              0.8888888888888888,
              "#fdca26"
             ],
             [
              1,
              "#f0f921"
             ]
            ],
            "type": "heatmapgl"
           }
          ],
          "histogram": [
           {
            "marker": {
             "pattern": {
              "fillmode": "overlay",
              "size": 10,
              "solidity": 0.2
             }
            },
            "type": "histogram"
           }
          ],
          "histogram2d": [
           {
            "colorbar": {
             "outlinewidth": 0,
             "ticks": ""
            },
            "colorscale": [
             [
              0,
              "#0d0887"
             ],
             [
              0.1111111111111111,
              "#46039f"
             ],
             [
              0.2222222222222222,
              "#7201a8"
             ],
             [
              0.3333333333333333,
              "#9c179e"
             ],
             [
              0.4444444444444444,
              "#bd3786"
             ],
             [
              0.5555555555555556,
              "#d8576b"
             ],
             [
              0.6666666666666666,
              "#ed7953"
             ],
             [
              0.7777777777777778,
              "#fb9f3a"
             ],
             [
              0.8888888888888888,
              "#fdca26"
             ],
             [
              1,
              "#f0f921"
             ]
            ],
            "type": "histogram2d"
           }
          ],
          "histogram2dcontour": [
           {
            "colorbar": {
             "outlinewidth": 0,
             "ticks": ""
            },
            "colorscale": [
             [
              0,
              "#0d0887"
             ],
             [
              0.1111111111111111,
              "#46039f"
             ],
             [
              0.2222222222222222,
              "#7201a8"
             ],
             [
              0.3333333333333333,
              "#9c179e"
             ],
             [
              0.4444444444444444,
              "#bd3786"
             ],
             [
              0.5555555555555556,
              "#d8576b"
             ],
             [
              0.6666666666666666,
              "#ed7953"
             ],
             [
              0.7777777777777778,
              "#fb9f3a"
             ],
             [
              0.8888888888888888,
              "#fdca26"
             ],
             [
              1,
              "#f0f921"
             ]
            ],
            "type": "histogram2dcontour"
           }
          ],
          "mesh3d": [
           {
            "colorbar": {
             "outlinewidth": 0,
             "ticks": ""
            },
            "type": "mesh3d"
           }
          ],
          "parcoords": [
           {
            "line": {
             "colorbar": {
              "outlinewidth": 0,
              "ticks": ""
             }
            },
            "type": "parcoords"
           }
          ],
          "pie": [
           {
            "automargin": true,
            "type": "pie"
           }
          ],
          "scatter": [
           {
            "fillpattern": {
             "fillmode": "overlay",
             "size": 10,
             "solidity": 0.2
            },
            "type": "scatter"
           }
          ],
          "scatter3d": [
           {
            "line": {
             "colorbar": {
              "outlinewidth": 0,
              "ticks": ""
             }
            },
            "marker": {
             "colorbar": {
              "outlinewidth": 0,
              "ticks": ""
             }
            },
            "type": "scatter3d"
           }
          ],
          "scattercarpet": [
           {
            "marker": {
             "colorbar": {
              "outlinewidth": 0,
              "ticks": ""
             }
            },
            "type": "scattercarpet"
           }
          ],
          "scattergeo": [
           {
            "marker": {
             "colorbar": {
              "outlinewidth": 0,
              "ticks": ""
             }
            },
            "type": "scattergeo"
           }
          ],
          "scattergl": [
           {
            "marker": {
             "colorbar": {
              "outlinewidth": 0,
              "ticks": ""
             }
            },
            "type": "scattergl"
           }
          ],
          "scattermapbox": [
           {
            "marker": {
             "colorbar": {
              "outlinewidth": 0,
              "ticks": ""
             }
            },
            "type": "scattermapbox"
           }
          ],
          "scatterpolar": [
           {
            "marker": {
             "colorbar": {
              "outlinewidth": 0,
              "ticks": ""
             }
            },
            "type": "scatterpolar"
           }
          ],
          "scatterpolargl": [
           {
            "marker": {
             "colorbar": {
              "outlinewidth": 0,
              "ticks": ""
             }
            },
            "type": "scatterpolargl"
           }
          ],
          "scatterternary": [
           {
            "marker": {
             "colorbar": {
              "outlinewidth": 0,
              "ticks": ""
             }
            },
            "type": "scatterternary"
           }
          ],
          "surface": [
           {
            "colorbar": {
             "outlinewidth": 0,
             "ticks": ""
            },
            "colorscale": [
             [
              0,
              "#0d0887"
             ],
             [
              0.1111111111111111,
              "#46039f"
             ],
             [
              0.2222222222222222,
              "#7201a8"
             ],
             [
              0.3333333333333333,
              "#9c179e"
             ],
             [
              0.4444444444444444,
              "#bd3786"
             ],
             [
              0.5555555555555556,
              "#d8576b"
             ],
             [
              0.6666666666666666,
              "#ed7953"
             ],
             [
              0.7777777777777778,
              "#fb9f3a"
             ],
             [
              0.8888888888888888,
              "#fdca26"
             ],
             [
              1,
              "#f0f921"
             ]
            ],
            "type": "surface"
           }
          ],
          "table": [
           {
            "cells": {
             "fill": {
              "color": "#EBF0F8"
             },
             "line": {
              "color": "white"
             }
            },
            "header": {
             "fill": {
              "color": "#C8D4E3"
             },
             "line": {
              "color": "white"
             }
            },
            "type": "table"
           }
          ]
         },
         "layout": {
          "annotationdefaults": {
           "arrowcolor": "#2a3f5f",
           "arrowhead": 0,
           "arrowwidth": 1
          },
          "autotypenumbers": "strict",
          "coloraxis": {
           "colorbar": {
            "outlinewidth": 0,
            "ticks": ""
           }
          },
          "colorscale": {
           "diverging": [
            [
             0,
             "#8e0152"
            ],
            [
             0.1,
             "#c51b7d"
            ],
            [
             0.2,
             "#de77ae"
            ],
            [
             0.3,
             "#f1b6da"
            ],
            [
             0.4,
             "#fde0ef"
            ],
            [
             0.5,
             "#f7f7f7"
            ],
            [
             0.6,
             "#e6f5d0"
            ],
            [
             0.7,
             "#b8e186"
            ],
            [
             0.8,
             "#7fbc41"
            ],
            [
             0.9,
             "#4d9221"
            ],
            [
             1,
             "#276419"
            ]
           ],
           "sequential": [
            [
             0,
             "#0d0887"
            ],
            [
             0.1111111111111111,
             "#46039f"
            ],
            [
             0.2222222222222222,
             "#7201a8"
            ],
            [
             0.3333333333333333,
             "#9c179e"
            ],
            [
             0.4444444444444444,
             "#bd3786"
            ],
            [
             0.5555555555555556,
             "#d8576b"
            ],
            [
             0.6666666666666666,
             "#ed7953"
            ],
            [
             0.7777777777777778,
             "#fb9f3a"
            ],
            [
             0.8888888888888888,
             "#fdca26"
            ],
            [
             1,
             "#f0f921"
            ]
           ],
           "sequentialminus": [
            [
             0,
             "#0d0887"
            ],
            [
             0.1111111111111111,
             "#46039f"
            ],
            [
             0.2222222222222222,
             "#7201a8"
            ],
            [
             0.3333333333333333,
             "#9c179e"
            ],
            [
             0.4444444444444444,
             "#bd3786"
            ],
            [
             0.5555555555555556,
             "#d8576b"
            ],
            [
             0.6666666666666666,
             "#ed7953"
            ],
            [
             0.7777777777777778,
             "#fb9f3a"
            ],
            [
             0.8888888888888888,
             "#fdca26"
            ],
            [
             1,
             "#f0f921"
            ]
           ]
          },
          "colorway": [
           "#636efa",
           "#EF553B",
           "#00cc96",
           "#ab63fa",
           "#FFA15A",
           "#19d3f3",
           "#FF6692",
           "#B6E880",
           "#FF97FF",
           "#FECB52"
          ],
          "font": {
           "color": "#2a3f5f"
          },
          "geo": {
           "bgcolor": "white",
           "lakecolor": "white",
           "landcolor": "#E5ECF6",
           "showlakes": true,
           "showland": true,
           "subunitcolor": "white"
          },
          "hoverlabel": {
           "align": "left"
          },
          "hovermode": "closest",
          "mapbox": {
           "style": "light"
          },
          "paper_bgcolor": "white",
          "plot_bgcolor": "#E5ECF6",
          "polar": {
           "angularaxis": {
            "gridcolor": "white",
            "linecolor": "white",
            "ticks": ""
           },
           "bgcolor": "#E5ECF6",
           "radialaxis": {
            "gridcolor": "white",
            "linecolor": "white",
            "ticks": ""
           }
          },
          "scene": {
           "xaxis": {
            "backgroundcolor": "#E5ECF6",
            "gridcolor": "white",
            "gridwidth": 2,
            "linecolor": "white",
            "showbackground": true,
            "ticks": "",
            "zerolinecolor": "white"
           },
           "yaxis": {
            "backgroundcolor": "#E5ECF6",
            "gridcolor": "white",
            "gridwidth": 2,
            "linecolor": "white",
            "showbackground": true,
            "ticks": "",
            "zerolinecolor": "white"
           },
           "zaxis": {
            "backgroundcolor": "#E5ECF6",
            "gridcolor": "white",
            "gridwidth": 2,
            "linecolor": "white",
            "showbackground": true,
            "ticks": "",
            "zerolinecolor": "white"
           }
          },
          "shapedefaults": {
           "line": {
            "color": "#2a3f5f"
           }
          },
          "ternary": {
           "aaxis": {
            "gridcolor": "white",
            "linecolor": "white",
            "ticks": ""
           },
           "baxis": {
            "gridcolor": "white",
            "linecolor": "white",
            "ticks": ""
           },
           "bgcolor": "#E5ECF6",
           "caxis": {
            "gridcolor": "white",
            "linecolor": "white",
            "ticks": ""
           }
          },
          "title": {
           "x": 0.05
          },
          "xaxis": {
           "automargin": true,
           "gridcolor": "white",
           "linecolor": "white",
           "ticks": "",
           "title": {
            "standoff": 15
           },
           "zerolinecolor": "white",
           "zerolinewidth": 2
          },
          "yaxis": {
           "automargin": true,
           "gridcolor": "white",
           "linecolor": "white",
           "ticks": "",
           "title": {
            "standoff": 15
           },
           "zerolinecolor": "white",
           "zerolinewidth": 2
          }
         }
        },
        "title": {
         "font": {
          "color": "darkblue",
          "size": 24
         },
         "text": "Cross-species MG SAMap Similarity Analysis celltype"
        },
        "width": 900
       }
      },
      "image/png": "[encoded data removed]",
      "text/html": [
       "<div>                            <div id=\"e6f2b5c9-49b5-4252-afcb-dcfb4e647d2a\" class=\"plotly-graph-div\" style=\"height:600px; width:900px;\"></div>            <script type=\"text/javascript\">                require([\"plotly\"], function(Plotly) {                    window.PLOTLYENV=window.PLOTLYENV || {};                                    if (document.getElementById(\"e6f2b5c9-49b5-4252-afcb-dcfb4e647d2a\")) {                    Plotly.newPlot(                        \"e6f2b5c9-49b5-4252-afcb-dcfb4e647d2a\",                        [{\"link\":{\"color\":[\"rgba(31, 120, 180, 0.5)\",\"rgba(31, 120, 180, 0.5)\",\"rgba(31, 120, 180, 0.5)\",\"rgba(227, 26, 28, 0.5)\",\"rgba(227, 26, 28, 0.5)\",\"rgba(51, 160, 44, 0.5)\",\"rgba(51, 160, 44, 0.5)\",\"rgba(255, 127, 0, 0.5)\",\"rgba(255, 127, 0, 0.5)\",\"rgba(255, 127, 0, 0.5)\",\"rgba(106, 61, 154, 0.5)\",\"rgba(177, 89, 40, 0.5)\",\"rgba(166, 206, 227, 0.5)\",\"rgba(166, 206, 227, 0.5)\",\"rgba(251, 154, 153, 0.5)\",\"rgba(202, 178, 214, 0.5)\",\"rgba(178, 223, 138, 0.5)\",\"rgba(178, 223, 138, 0.5)\",\"rgba(31, 120, 180, 0.5)\",\"rgba(227, 26, 28, 0.5)\",\"rgba(227, 26, 28, 0.5)\",\"rgba(227, 26, 28, 0.5)\",\"rgba(227, 26, 28, 0.5)\",\"rgba(227, 26, 28, 0.5)\",\"rgba(51, 160, 44, 0.5)\",\"rgba(255, 127, 0, 0.5)\",\"rgba(106, 61, 154, 0.5)\",\"rgba(177, 89, 40, 0.5)\",\"rgba(166, 206, 227, 0.5)\",\"rgba(166, 206, 227, 0.5)\",\"rgba(251, 154, 153, 0.5)\",\"rgba(202, 178, 214, 0.5)\",\"rgba(178, 223, 138, 0.5)\",\"rgba(178, 223, 138, 0.5)\",\"rgba(178, 223, 138, 0.5)\"],\"source\":[10,10,10,11,11,12,12,13,13,13,14,15,16,16,17,18,19,19,0,1,1,1,1,1,2,3,4,5,6,6,7,8,9,9,9],\"target\":[0,4,5,1,9,2,9,1,3,7,4,5,1,6,7,8,1,9,20,21,25,26,27,29,22,23,24,20,25,26,27,28,21,22,29],\"value\":[0.7847679209271832,0.2597331708378588,0.615528568961363,0.6205710954974941,0.1759345719668028,0.8579852184503132,0.2179009346109912,0.1618941537125686,0.7573796060530239,0.160214929509191,0.8447445651941401,0.2836369803522479,0.2546257782836491,0.3544658027660695,0.5883285795758078,0.7429625586120603,0.366064411294105,0.3239163075963599,0.764217783133239,0.6740779078251935,0.1547127777930541,0.1642904478426403,0.1738880667516316,0.4231352701509837,0.8444928601055658,0.6467661673991191,0.8384563685425738,0.6162421609543661,0.1859838484840484,0.306574711604657,0.3917073085262294,0.8563446459219873,0.1743580492762805,0.2078409611768988,0.4019764276342432]},\"node\":{\"color\":[\"#1f78b4\",\"#e31a1c\",\"#33a02c\",\"#ff7f00\",\"#6a3d9a\",\"#b15928\",\"#a6cee3\",\"#fb9a99\",\"#cab2d6\",\"#b2df8a\",\"#1f78b4\",\"#e31a1c\",\"#33a02c\",\"#ff7f00\",\"#6a3d9a\",\"#b15928\",\"#a6cee3\",\"#fb9a99\",\"#cab2d6\",\"#b2df8a\",\"#1f78b4\",\"#e31a1c\",\"#33a02c\",\"#ff7f00\",\"#6a3d9a\",\"#b15928\",\"#a6cee3\",\"#fb9a99\",\"#cab2d6\",\"#b2df8a\"],\"label\":[\"B lymphocytes\",\"Basal epithelial cells\",\"Endothelial cells\",\"Fibroblasts\",\"Innate immune cells\",\"Keratinized epithelial cells\",\"Luminal epithelial cells\",\"Proliferating epithelial cells\",\"T lymphocytes\",\"Vascular smooth muscle cells\",\"B lymphocytes\",\"Basal epithelial cells\",\"Endothelial cells\",\"Fibroblasts\",\"Innate immune cells\",\"Keratinized epithelial cells\",\"Luminal epithelial cells\",\"Proliferating epithelial cells\",\"T lymphocytes\",\"Vascular smooth muscle cells\",\"B lymphocytes\",\"Basal epithelial cells\",\"Endothelial cells\",\"Fibroblasts\",\"Innate immune cells\",\"Keratinized epithelial cells\",\"Luminal epithelial cells\",\"Proliferating epithelial cells\",\"T lymphocytes\",\"Vascular smooth muscle cells\"],\"line\":{\"color\":\"black\",\"width\":0.8},\"pad\":30,\"thickness\":25},\"type\":\"sankey\",\"arrangement\":\"snap\"}],                        {\"template\":{\"data\":{\"histogram2dcontour\":[{\"type\":\"histogram2dcontour\",\"colorbar\":{\"outlinewidth\":0,\"ticks\":\"\"},\"colorscale\":[[0.0,\"#0d0887\"],[0.1111111111111111,\"#46039f\"],[0.2222222222222222,\"#7201a8\"],[0.3333333333333333,\"#9c179e\"],[0.4444444444444444,\"#bd3786\"],[0.5555555555555556,\"#d8576b\"],[0.6666666666666666,\"#ed7953\"],[0.7777777777777778,\"#fb9f3a\"],[0.8888888888888888,\"#fdca26\"],[1.0,\"#f0f921\"]]}],\"choropleth\":[{\"type\":\"choropleth\",\"colorbar\":{\"outlinewidth\":0,\"ticks\":\"\"}}],\"histogram2d\":[{\"type\":\"histogram2d\",\"colorbar\":{\"outlinewidth\":0,\"ticks\":\"\"},\"colorscale\":[[0.0,\"#0d0887\"],[0.1111111111111111,\"#46039f\"],[0.2222222222222222,\"#7201a8\"],[0.3333333333333333,\"#9c179e\"],[0.4444444444444444,\"#bd3786\"],[0.5555555555555556,\"#d8576b\"],[0.6666666666666666,\"#ed7953\"],[0.7777777777777778,\"#fb9f3a\"],[0.8888888888888888,\"#fdca26\"],[1.0,\"#f0f921\"]]}],\"heatmap\":[{\"type\":\"heatmap\",\"colorbar\":{\"outlinewidth\":0,\"ticks\":\"\"},\"colorscale\":[[0.0,\"#0d0887\"],[0.1111111111111111,\"#46039f\"],[0.2222222222222222,\"#7201a8\"],[0.3333333333333333,\"#9c179e\"],[0.4444444444444444,\"#bd3786\"],[0.5555555555555556,\"#d8576b\"],[0.6666666666666666,\"#ed7953\"],[0.7777777777777778,\"#fb9f3a\"],[0.8888888888888888,\"#fdca26\"],[1.0,\"#f0f921\"]]}],\"heatmapgl\":[{\"type\":\"heatmapgl\",\"colorbar\":{\"outlinewidth\":0,\"ticks\":\"\"},\"colorscale\":[[0.0,\"#0d0887\"],[0.1111111111111111,\"#46039f\"],[0.2222222222222222,\"#7201a8\"],[0.3333333333333333,\"#9c179e\"],[0.4444444444444444,\"#bd3786\"],[0.5555555555555556,\"#d8576b\"],[0.6666666666666666,\"#ed7953\"],[0.7777777777777778,\"#fb9f3a\"],[0.8888888888888888,\"#fdca26\"],[1.0,\"#f0f921\"]]}],\"contourcarpet\":[{\"type\":\"contourcarpet\",\"colorbar\":{\"outlinewidth\":0,\"ticks\":\"\"}}],\"contour\":[{\"type\":\"contour\",\"colorbar\":{\"outlinewidth\":0,\"ticks\":\"\"},\"colorscale\":[[0.0,\"#0d0887\"],[0.1111111111111111,\"#46039f\"],[0.2222222222222222,\"#7201a8\"],[0.3333333333333333,\"#9c179e\"],[0.4444444444444444,\"#bd3786\"],[0.5555555555555556,\"#d8576b\"],[0.6666666666666666,\"#ed7953\"],[0.7777777777777778,\"#fb9f3a\"],[0.8888888888888888,\"#fdca26\"],[1.0,\"#f0f921\"]]}],\"surface\":[{\"type\":\"surface\",\"colorbar\":{\"outlinewidth\":0,\"ticks\":\"\"},\"colorscale\":[[0.0,\"#0d0887\"],[0.1111111111111111,\"#46039f\"],[0.2222222222222222,\"#7201a8\"],[0.3333333333333333,\"#9c179e\"],[0.4444444444444444,\"#bd3786\"],[0.5555555555555556,\"#d8576b\"],[0.6666666666666666,\"#ed7953\"],[0.7777777777777778,\"#fb9f3a\"],[0.8888888888888888,\"#fdca26\"],[1.0,\"#f0f921\"]]}],\"mesh3d\":[{\"type\":\"mesh3d\",\"colorbar\":{\"outlinewidth\":0,\"ticks\":\"\"}}],\"scatter\":[{\"fillpattern\":{\"fillmode\":\"overlay\",\"size\":10,\"solidity\":0.2},\"type\":\"scatter\"}],\"parcoords\":[{\"type\":\"parcoords\",\"line\":{\"colorbar\":{\"outlinewidth\":0,\"ticks\":\"\"}}}],\"scatterpolargl\":[{\"type\":\"scatterpolargl\",\"marker\":{\"colorbar\":{\"outlinewidth\":0,\"ticks\":\"\"}}}],\"bar\":[{\"error_x\":{\"color\":\"#2a3f5f\"},\"error_y\":{\"color\":\"#2a3f5f\"},\"marker\":{\"line\":{\"color\":\"#E5ECF6\",\"width\":0.5},\"pattern\":{\"fillmode\":\"overlay\",\"size\":10,\"solidity\":0.2}},\"type\":\"bar\"}],\"scattergeo\":[{\"type\":\"scattergeo\",\"marker\":{\"colorbar\":{\"outlinewidth\":0,\"ticks\":\"\"}}}],\"scatterpolar\":[{\"type\":\"scatterpolar\",\"marker\":{\"colorbar\":{\"outlinewidth\":0,\"ticks\":\"\"}}}],\"histogram\":[{\"marker\":{\"pattern\":{\"fillmode\":\"overlay\",\"size\":10,\"solidity\":0.2}},\"type\":\"histogram\"}],\"scattergl\":[{\"type\":\"scattergl\",\"marker\":{\"colorbar\":{\"outlinewidth\":0,\"ticks\":\"\"}}}],\"scatter3d\":[{\"type\":\"scatter3d\",\"line\":{\"colorbar\":{\"outlinewidth\":0,\"ticks\":\"\"}},\"marker\":{\"colorbar\":{\"outlinewidth\":0,\"ticks\":\"\"}}}],\"scattermapbox\":[{\"type\":\"scattermapbox\",\"marker\":{\"colorbar\":{\"outlinewidth\":0,\"ticks\":\"\"}}}],\"scatterternary\":[{\"type\":\"scatterternary\",\"marker\":{\"colorbar\":{\"outlinewidth\":0,\"ticks\":\"\"}}}],\"scattercarpet\":[{\"type\":\"scattercarpet\",\"marker\":{\"colorbar\":{\"outlinewidth\":0,\"ticks\":\"\"}}}],\"carpet\":[{\"aaxis\":{\"endlinecolor\":\"#2a3f5f\",\"gridcolor\":\"white\",\"linecolor\":\"white\",\"minorgridcolor\":\"white\",\"startlinecolor\":\"#2a3f5f\"},\"baxis\":{\"endlinecolor\":\"#2a3f5f\",\"gridcolor\":\"white\",\"linecolor\":\"white\",\"minorgridcolor\":\"white\",\"startlinecolor\":\"#2a3f5f\"},\"type\":\"carpet\"}],\"table\":[{\"cells\":{\"fill\":{\"color\":\"#EBF0F8\"},\"line\":{\"color\":\"white\"}},\"header\":{\"fill\":{\"color\":\"#C8D4E3\"},\"line\":{\"color\":\"white\"}},\"type\":\"table\"}],\"barpolar\":[{\"marker\":{\"line\":{\"color\":\"#E5ECF6\",\"width\":0.5},\"pattern\":{\"fillmode\":\"overlay\",\"size\":10,\"solidity\":0.2}},\"type\":\"barpolar\"}],\"pie\":[{\"automargin\":true,\"type\":\"pie\"}]},\"layout\":{\"autotypenumbers\":\"strict\",\"colorway\":[\"#636efa\",\"#EF553B\",\"#00cc96\",\"#ab63fa\",\"#FFA15A\",\"#19d3f3\",\"#FF6692\",\"#B6E880\",\"#FF97FF\",\"#FECB52\"],\"font\":{\"color\":\"#2a3f5f\"},\"hovermode\":\"closest\",\"hoverlabel\":{\"align\":\"left\"},\"paper_bgcolor\":\"white\",\"plot_bgcolor\":\"#E5ECF6\",\"polar\":{\"bgcolor\":\"#E5ECF6\",\"angularaxis\":{\"gridcolor\":\"white\",\"linecolor\":\"white\",\"ticks\":\"\"},\"radialaxis\":{\"gridcolor\":\"white\",\"linecolor\":\"white\",\"ticks\":\"\"}},\"ternary\":{\"bgcolor\":\"#E5ECF6\",\"aaxis\":{\"gridcolor\":\"white\",\"linecolor\":\"white\",\"ticks\":\"\"},\"baxis\":{\"gridcolor\":\"white\",\"linecolor\":\"white\",\"ticks\":\"\"},\"caxis\":{\"gridcolor\":\"white\",\"linecolor\":\"white\",\"ticks\":\"\"}},\"coloraxis\":{\"colorbar\":{\"outlinewidth\":0,\"ticks\":\"\"}},\"colorscale\":{\"sequential\":[[0.0,\"#0d0887\"],[0.1111111111111111,\"#46039f\"],[0.2222222222222222,\"#7201a8\"],[0.3333333333333333,\"#9c179e\"],[0.4444444444444444,\"#bd3786\"],[0.5555555555555556,\"#d8576b\"],[0.6666666666666666,\"#ed7953\"],[0.7777777777777778,\"#fb9f3a\"],[0.8888888888888888,\"#fdca26\"],[1.0,\"#f0f921\"]],\"sequentialminus\":[[0.0,\"#0d0887\"],[0.1111111111111111,\"#46039f\"],[0.2222222222222222,\"#7201a8\"],[0.3333333333333333,\"#9c179e\"],[0.4444444444444444,\"#bd3786\"],[0.5555555555555556,\"#d8576b\"],[0.6666666666666666,\"#ed7953\"],[0.7777777777777778,\"#fb9f3a\"],[0.8888888888888888,\"#fdca26\"],[1.0,\"#f0f921\"]],\"diverging\":[[0,\"#8e0152\"],[0.1,\"#c51b7d\"],[0.2,\"#de77ae\"],[0.3,\"#f1b6da\"],[0.4,\"#fde0ef\"],[0.5,\"#f7f7f7\"],[0.6,\"#e6f5d0\"],[0.7,\"#b8e186\"],[0.8,\"#7fbc41\"],[0.9,\"#4d9221\"],[1,\"#276419\"]]},\"xaxis\":{\"gridcolor\":\"white\",\"linecolor\":\"white\",\"ticks\":\"\",\"title\":{\"standoff\":15},\"zerolinecolor\":\"white\",\"automargin\":true,\"zerolinewidth\":2},\"yaxis\":{\"gridcolor\":\"white\",\"linecolor\":\"white\",\"ticks\":\"\",\"title\":{\"standoff\":15},\"zerolinecolor\":\"white\",\"automargin\":true,\"zerolinewidth\":2},\"scene\":{\"xaxis\":{\"backgroundcolor\":\"#E5ECF6\",\"gridcolor\":\"white\",\"linecolor\":\"white\",\"showbackground\":true,\"ticks\":\"\",\"zerolinecolor\":\"white\",\"gridwidth\":2},\"yaxis\":{\"backgroundcolor\":\"#E5ECF6\",\"gridcolor\":\"white\",\"linecolor\":\"white\",\"showbackground\":true,\"ticks\":\"\",\"zerolinecolor\":\"white\",\"gridwidth\":2},\"zaxis\":{\"backgroundcolor\":\"#E5ECF6\",\"gridcolor\":\"white\",\"linecolor\":\"white\",\"showbackground\":true,\"ticks\":\"\",\"zerolinecolor\":\"white\",\"gridwidth\":2}},\"shapedefaults\":{\"line\":{\"color\":\"#2a3f5f\"}},\"annotationdefaults\":{\"arrowcolor\":\"#2a3f5f\",\"arrowhead\":0,\"arrowwidth\":1},\"geo\":{\"bgcolor\":\"white\",\"landcolor\":\"#E5ECF6\",\"subunitcolor\":\"white\",\"showland\":true,\"showlakes\":true,\"lakecolor\":\"white\"},\"title\":{\"x\":0.05},\"mapbox\":{\"style\":\"light\"}}},\"title\":{\"font\":{\"size\":24,\"color\":\"darkblue\"},\"text\":\"Cross-species MG SAMap Similarity Analysis celltype\"},\"font\":{\"size\":14},\"margin\":{\"l\":60,\"r\":60,\"t\":60,\"b\":60},\"paper_bgcolor\":\"white\",\"plot_bgcolor\":\"white\",\"height\":600,\"width\":900},                        {\"responsive\": true}                    ).then(function(){\n",
       "                            \n",
       "var gd = document.getElementById('e6f2b5c9-49b5-4252-afcb-dcfb4e647d2a');\n",
       "var x = new MutationObserver(function (mutations, observer) {{\n",
       "        var display = window.getComputedStyle(gd).display;\n",
       "        if (!display || display === 'none') {{\n",
       "            console.log([gd, 'removed!']);\n",
       "            Plotly.purge(gd);\n",
       "            observer.disconnect();\n",
       "        }}\n",
       "}});\n",
       "\n",
       "// Listen for the removal of the full notebook cells\n",
       "var notebookContainer = gd.closest('#notebook-container');\n",
       "if (notebookContainer) {{\n",
       "    x.observe(notebookContainer, {childList: true});\n",
       "}}\n",
       "\n",
       "// Listen for the clearing of the current output cell\n",
       "var outputEl = gd.closest('.output');\n",
       "if (outputEl) {{\n",
       "    x.observe(outputEl, {childList: true});\n",
       "}}\n",
       "\n",
       "                        })                };                });            </script>        </div>"
      ]
     },
     "metadata": {},
     "output_type": "display_data"
    }
   ],
   "source": [
    "link_colors = [\n",
    "    f\"rgba({int(c[1:3], 16)}, {int(c[3:5], 16)}, {int(c[5:7], 16)}, 0.5)\"\n",
    "    for c in [node_colors[source] for source in sankey_links[\"source\"]]\n",
    "]\n",
    "\n",
    "# 修正和优化布局\n",
    "fig = go.Figure(go.Sankey(\n",
    "    node=dict(\n",
    "        pad=30,  # 调整间距，使节点间的布局更美观\n",
    "        thickness=25,  # 增加节点厚度，使视觉效果更协调\n",
    "        line=dict(color=\"black\", width=0.8),  # 调整节点边框\n",
    "        label=fix_nodes,  # 节点标签\n",
    "        color=node_colors,  # 使用已分配的节点颜色\n",
    "    ),\n",
    "    link=dict(\n",
    "        source=sankey_links[\"source\"],  # 链接起点\n",
    "        target=sankey_links[\"target\"],  # 链接终点\n",
    "        value=sankey_links[\"value\"],  # 权重\n",
    "        color=link_colors,  # 链接颜色透明化\n",
    "    )\n",
    "))\n",
    "\n",
    "# 确保每一列数据的 y 轴长度一致\n",
    "fig.update_traces(arrangement=\"snap\")  # 使用 snap 模式使布局整齐\n",
    "\n",
    "# 更新布局\n",
    "fig.update_layout(\n",
    "    title_text=f\"Cross-species MG SAMap Similarity Analysis {dataset}\",  # 英文标题\n",
    "    title_font=dict(size=24, color=\"darkblue\"),  # 标题字体大小和颜色\n",
    "    font_size=14,  # 全局字体大小\n",
    "    paper_bgcolor=\"white\",  # 图表背景颜色\n",
    "    plot_bgcolor=\"white\",  # 绘图区背景颜色\n",
    "    margin=dict(l=60, r=60, t=60, b=60),  # 调整边距\n",
    "    height=600,  # 调整图表高度\n",
    "    width=900   # 调整图表宽度\n",
    ")"
   ]
  },
  {
   "cell_type": "code",
   "execution_count": 31,
   "id": "89ce7ddc-b48f-46aa-baee-4a77f41cb3a5",
   "metadata": {},
   "outputs": [],
   "source": [
    "fig.write_html(f\"sankey_{dataset}-3MG.html\")"
   ]
  },
  {
   "cell_type": "code",
   "execution_count": 32,
   "id": "ca78944a-4aa5-4d0c-ae2f-ca518267ba82",
   "metadata": {},
   "outputs": [],
   "source": [
    "##########################AG SANKEY PLOT####################################"
   ]
  },
  {
   "cell_type": "code",
   "execution_count": 33,
   "id": "4360919d-ba2f-41be-908f-01e74d37f3b4",
   "metadata": {},
   "outputs": [],
   "source": [
    "df3=pd.read_csv(\"D:/pythonfile/all_csv/rbAG-sgAG-newcelltype-epi-MappingTable.csv\",index_col=0)"
   ]
  },
  {
   "cell_type": "code",
   "execution_count": 34,
   "id": "13cafab7-52c7-432a-9f0a-74c4fe9dbc48",
   "metadata": {},
   "outputs": [],
   "source": [
    "rbsg=do_result(df1=df3,sp1='rb')"
   ]
  },
  {
   "cell_type": "code",
   "execution_count": 35,
   "id": "538154c6-d33b-4ba0-a6f9-ce54f3c82d5e",
   "metadata": {},
   "outputs": [
    {
     "data": {
      "text/plain": [
       "[{'source': 'rb_ASC-rb',\n",
       "  'target': 'sg_Epi-Lalba',\n",
       "  'value': 0.1811294726064494},\n",
       " {'source': 'rb_ASC-rb', 'target': 'sg_Epi-Lip', 'value': 0.4283210427904486},\n",
       " {'source': 'rb_Basal', 'target': 'sg_Basal', 'value': 0.9440990130863464},\n",
       " {'source': 'rb_Basal', 'target': 'sg_Epi-Fibro', 'value': 0.1882332724966593},\n",
       " {'source': 'rb_Basal', 'target': 'sg_Epi-Lalba', 'value': 0.1153254822369624},\n",
       " {'source': 'rb_Epi-Krt7',\n",
       "  'target': 'sg_Epi-Krt7',\n",
       "  'value': 0.4129644720118079},\n",
       " {'source': 'rb_Epi-Krt7',\n",
       "  'target': 'sg_Epi-Lgals7',\n",
       "  'value': 0.2194001645627853},\n",
       " {'source': 'rb_Epi-Krt7',\n",
       "  'target': 'sg_LumSEC-AG-Pip',\n",
       "  'value': 0.2079435410809749},\n",
       " {'source': 'rb_Epi-Lgals7',\n",
       "  'target': 'sg_ASC-sg',\n",
       "  'value': 0.1445971839155824},\n",
       " {'source': 'rb_Epi-Lgals7',\n",
       "  'target': 'sg_Epi-Hmgcr',\n",
       "  'value': 0.1019611902456415},\n",
       " {'source': 'rb_Epi-Lgals7',\n",
       "  'target': 'sg_Epi-Krt7',\n",
       "  'value': 0.3534403121130218},\n",
       " {'source': 'rb_Epi-Lgals7',\n",
       "  'target': 'sg_Epi-Lgals7',\n",
       "  'value': 0.5933797383060796},\n",
       " {'source': 'rb_Epi-Pro', 'target': 'sg_ASC-sg', 'value': 0.5294795846859187},\n",
       " {'source': 'rb_Epi-Pro',\n",
       "  'target': 'sg_Epi-Fibro',\n",
       "  'value': 0.1827983324517783},\n",
       " {'source': 'rb_LumSEC-AG-t1',\n",
       "  'target': 'sg_Epi-Hmgcr',\n",
       "  'value': 0.1392138697384665},\n",
       " {'source': 'rb_LumSEC-AG-t1',\n",
       "  'target': 'sg_Epi-Lip',\n",
       "  'value': 0.3601994051078511},\n",
       " {'source': 'rb_LumSEC-AG-t2',\n",
       "  'target': 'sg_Epi-Hmgcr',\n",
       "  'value': 0.2177135470124941},\n",
       " {'source': 'rb_LumSEC-AG-t2',\n",
       "  'target': 'sg_Epi-Lalba',\n",
       "  'value': 0.2375013344237376},\n",
       " {'source': 'rb_LumSEC-AG-t2',\n",
       "  'target': 'sg_Epi-Lip',\n",
       "  'value': 0.3252771914843982},\n",
       " {'source': 'rb_LumSEC-AG-t2',\n",
       "  'target': 'sg_LumSEC-AG-Pip',\n",
       "  'value': 0.1468459377787316}]"
      ]
     },
     "execution_count": 35,
     "metadata": {},
     "output_type": "execute_result"
    }
   ],
   "source": [
    "rbsg"
   ]
  },
  {
   "cell_type": "code",
   "execution_count": 36,
   "id": "2d63bcef-03a9-4807-81db-187eda13aa17",
   "metadata": {},
   "outputs": [
    {
     "data": {
      "text/plain": [
       "['rb_ASC-rb',\n",
       " 'rb_Basal',\n",
       " 'rb_Epi-Krt7',\n",
       " 'rb_Epi-Lgals7',\n",
       " 'rb_Epi-Pro',\n",
       " 'rb_LumSEC-AG-t1',\n",
       " 'rb_LumSEC-AG-t2',\n",
       " 'sg_ASC-sg',\n",
       " 'sg_Basal',\n",
       " 'sg_Epi-Fibro',\n",
       " 'sg_Epi-Hmgcr',\n",
       " 'sg_Epi-Krt7',\n",
       " 'sg_Epi-Lalba',\n",
       " 'sg_Epi-Lgals7',\n",
       " 'sg_Epi-Lip',\n",
       " 'sg_LumSEC-AG-Pip']"
      ]
     },
     "execution_count": 36,
     "metadata": {},
     "output_type": "execute_result"
    }
   ],
   "source": [
    "nodes=list(sorted(set(d['source'] for d in rbsg) | set(d['target'] for d in rbsg)))\n",
    "nodes"
   ]
  },
  {
   "cell_type": "code",
   "execution_count": 37,
   "id": "53d71ba8-e302-4038-81c1-8c5fcade678e",
   "metadata": {},
   "outputs": [
    {
     "data": {
      "text/plain": [
       "{'rb_ASC-rb': 0,\n",
       " 'rb_Basal': 1,\n",
       " 'rb_Epi-Krt7': 2,\n",
       " 'rb_Epi-Lgals7': 3,\n",
       " 'rb_Epi-Pro': 4,\n",
       " 'rb_LumSEC-AG-t1': 5,\n",
       " 'rb_LumSEC-AG-t2': 6,\n",
       " 'sg_ASC-sg': 7,\n",
       " 'sg_Basal': 8,\n",
       " 'sg_Epi-Fibro': 9,\n",
       " 'sg_Epi-Hmgcr': 10,\n",
       " 'sg_Epi-Krt7': 11,\n",
       " 'sg_Epi-Lalba': 12,\n",
       " 'sg_Epi-Lgals7': 13,\n",
       " 'sg_Epi-Lip': 14,\n",
       " 'sg_LumSEC-AG-Pip': 15}"
      ]
     },
     "execution_count": 37,
     "metadata": {},
     "output_type": "execute_result"
    }
   ],
   "source": [
    "nodes_mapping={nodes[i]:i for i in range(len(nodes))}\n",
    "nodes_mapping"
   ]
  },
  {
   "cell_type": "code",
   "execution_count": 38,
   "id": "e9965c42-3a44-47db-a5be-d43e4a4ad3ab",
   "metadata": {},
   "outputs": [],
   "source": [
    "rbsg_links=[    \n",
    "    {\"source\":nodes_mapping[d['source']],\n",
    "    \"target\":nodes_mapping[d['target']],\n",
    "    \"value\":d['value']}for d in rbsg\n",
    "]"
   ]
  },
  {
   "cell_type": "code",
   "execution_count": 39,
   "id": "b954f112-632d-406f-812f-1e61e0e6f66d",
   "metadata": {},
   "outputs": [
    {
     "data": {
      "text/plain": [
       "{'source': [0, 0, 1, 1, 1, 2, 2, 2, 3, 3, 3, 3, 4, 4, 5, 5, 6, 6, 6, 6],\n",
       " 'target': [12,\n",
       "  14,\n",
       "  8,\n",
       "  9,\n",
       "  12,\n",
       "  11,\n",
       "  13,\n",
       "  15,\n",
       "  7,\n",
       "  10,\n",
       "  11,\n",
       "  13,\n",
       "  7,\n",
       "  9,\n",
       "  10,\n",
       "  14,\n",
       "  10,\n",
       "  12,\n",
       "  14,\n",
       "  15],\n",
       " 'value': [0.1811294726064494,\n",
       "  0.4283210427904486,\n",
       "  0.9440990130863464,\n",
       "  0.1882332724966593,\n",
       "  0.1153254822369624,\n",
       "  0.4129644720118079,\n",
       "  0.2194001645627853,\n",
       "  0.2079435410809749,\n",
       "  0.1445971839155824,\n",
       "  0.1019611902456415,\n",
       "  0.3534403121130218,\n",
       "  0.5933797383060796,\n",
       "  0.5294795846859187,\n",
       "  0.1827983324517783,\n",
       "  0.1392138697384665,\n",
       "  0.3601994051078511,\n",
       "  0.2177135470124941,\n",
       "  0.2375013344237376,\n",
       "  0.3252771914843982,\n",
       "  0.1468459377787316]}"
      ]
     },
     "execution_count": 39,
     "metadata": {},
     "output_type": "execute_result"
    }
   ],
   "source": [
    "sankey_links = {\n",
    "    'source':[d['source'] for d in rbsg_links],\n",
    "    'target':[d['target'] for d in rbsg_links],\n",
    "    'value':[d['value'] for d in rbsg_links],   \n",
    "}\n",
    "sankey_links"
   ]
  },
  {
   "cell_type": "code",
   "execution_count": 40,
   "id": "ab33a3dd-f5ef-475e-b1d8-20b9c503e588",
   "metadata": {},
   "outputs": [
    {
     "data": {
      "text/plain": [
       "['ASC-rb',\n",
       " 'Basal',\n",
       " 'Epi-Krt7',\n",
       " 'Epi-Lgals7',\n",
       " 'Epi-Pro',\n",
       " 'LumSEC-AG-t1',\n",
       " 'LumSEC-AG-t2',\n",
       " 'ASC-sg',\n",
       " 'Basal',\n",
       " 'Epi-Fibro',\n",
       " 'Epi-Hmgcr',\n",
       " 'Epi-Krt7',\n",
       " 'Epi-Lalba',\n",
       " 'Epi-Lgals7',\n",
       " 'Epi-Lip',\n",
       " 'LumSEC-AG-Pip']"
      ]
     },
     "execution_count": 40,
     "metadata": {},
     "output_type": "execute_result"
    }
   ],
   "source": [
    "fix_nodes=[a[3:] for a in nodes]\n",
    "fix_nodes"
   ]
  },
  {
   "cell_type": "code",
   "execution_count": 41,
   "id": "2e6d1f79-2ef2-41f1-a775-3f8954b52e0d",
   "metadata": {},
   "outputs": [],
   "source": [
    "ls1,ls3=[],[]\n",
    "for point,node in enumerate(nodes_mapping):\n",
    "    if node.startswith(\"rb\"):\n",
    "        ls1.append(point)\n",
    "    if node.startswith(\"sg\"):\n",
    "        ls3.append(point)\n",
    "layers=dict(rb=ls1,\n",
    "           sg=ls3)"
   ]
  },
  {
   "cell_type": "code",
   "execution_count": 42,
   "id": "12ae6ff2-3ebd-40de-ba27-7e274ef40654",
   "metadata": {},
   "outputs": [],
   "source": [
    "node_colors=[None]*(max(max(indices) for indices in layers.values()) + 1)"
   ]
  },
  {
   "cell_type": "code",
   "execution_count": 43,
   "id": "445718cb-8fc6-4470-b765-5f945b47eeff",
   "metadata": {},
   "outputs": [
    {
     "data": {
      "application/vnd.plotly.v1+json": {
       "config": {
        "plotlyServerURL": "https://plot.ly"
       },
       "data": [
        {
         "arrangement": "snap",
         "link": {
          "color": [
           "rgba(227, 26, 28, 0.5)",
           "rgba(227, 26, 28, 0.5)",
           "rgba(31, 120, 180, 0.5)",
           "rgba(31, 120, 180, 0.5)",
           "rgba(31, 120, 180, 0.5)",
           "rgba(178, 223, 138, 0.5)",
           "rgba(178, 223, 138, 0.5)",
           "rgba(178, 223, 138, 0.5)",
           "rgba(128, 128, 128, 0.5)",
           "rgba(128, 128, 128, 0.5)",
           "rgba(128, 128, 128, 0.5)",
           "rgba(128, 128, 128, 0.5)",
           "rgba(211, 211, 211, 0.5)",
           "rgba(211, 211, 211, 0.5)",
           "rgba(184, 134, 11, 0.5)",
           "rgba(184, 134, 11, 0.5)",
           "rgba(251, 154, 153, 0.5)",
           "rgba(251, 154, 153, 0.5)",
           "rgba(251, 154, 153, 0.5)",
           "rgba(251, 154, 153, 0.5)"
          ],
          "source": [
           0,
           0,
           1,
           1,
           1,
           2,
           2,
           2,
           3,
           3,
           3,
           3,
           4,
           4,
           5,
           5,
           6,
           6,
           6,
           6
          ],
          "target": [
           12,
           14,
           8,
           9,
           12,
           11,
           13,
           15,
           7,
           10,
           11,
           13,
           7,
           9,
           10,
           14,
           10,
           12,
           14,
           15
          ],
          "value": [
           0.1811294726064494,
           0.4283210427904486,
           0.9440990130863464,
           0.1882332724966593,
           0.1153254822369624,
           0.4129644720118079,
           0.2194001645627853,
           0.2079435410809749,
           0.1445971839155824,
           0.1019611902456415,
           0.3534403121130218,
           0.5933797383060796,
           0.5294795846859187,
           0.1827983324517783,
           0.1392138697384665,
           0.3601994051078511,
           0.2177135470124941,
           0.2375013344237376,
           0.3252771914843982,
           0.1468459377787316
          ]
         },
         "node": {
          "color": [
           "#e31a1c",
           "#1f78b4",
           "#b2df8a",
           "#808080",
           "#D3D3D3",
           "#B8860B",
           "#fb9a99",
           "#a6cee3",
           "#1f78b4",
           "#cab2d6",
           "#2F4F4F",
           "#b2df8a",
           "#87CEEB",
           "#808080",
           "#6B8E23",
           "#4B0082"
          ],
          "label": [
           "ASC-rb",
           "Basal",
           "Epi-Krt7",
           "Epi-Lgals7",
           "Epi-Pro",
           "LumSEC-AG-t1",
           "LumSEC-AG-t2",
           "ASC-sg",
           "Basal",
           "Epi-Fibro",
           "Epi-Hmgcr",
           "Epi-Krt7",
           "Epi-Lalba",
           "Epi-Lgals7",
           "Epi-Lip",
           "LumSEC-AG-Pip"
          ],
          "line": {
           "color": "black",
           "width": 0.8
          },
          "pad": 30,
          "thickness": 25
         },
         "type": "sankey"
        }
       ],
       "layout": {
        "font": {
         "size": 14
        },
        "height": 600,
        "margin": {
         "b": 60,
         "l": 60,
         "r": 60,
         "t": 60
        },
        "paper_bgcolor": "white",
        "plot_bgcolor": "white",
        "template": {
         "data": {
          "bar": [
           {
            "error_x": {
             "color": "#2a3f5f"
            },
            "error_y": {
             "color": "#2a3f5f"
            },
            "marker": {
             "line": {
              "color": "#E5ECF6",
              "width": 0.5
             },
             "pattern": {
              "fillmode": "overlay",
              "size": 10,
              "solidity": 0.2
             }
            },
            "type": "bar"
           }
          ],
          "barpolar": [
           {
            "marker": {
             "line": {
              "color": "#E5ECF6",
              "width": 0.5
             },
             "pattern": {
              "fillmode": "overlay",
              "size": 10,
              "solidity": 0.2
             }
            },
            "type": "barpolar"
           }
          ],
          "carpet": [
           {
            "aaxis": {
             "endlinecolor": "#2a3f5f",
             "gridcolor": "white",
             "linecolor": "white",
             "minorgridcolor": "white",
             "startlinecolor": "#2a3f5f"
            },
            "baxis": {
             "endlinecolor": "#2a3f5f",
             "gridcolor": "white",
             "linecolor": "white",
             "minorgridcolor": "white",
             "startlinecolor": "#2a3f5f"
            },
            "type": "carpet"
           }
          ],
          "choropleth": [
           {
            "colorbar": {
             "outlinewidth": 0,
             "ticks": ""
            },
            "type": "choropleth"
           }
          ],
          "contour": [
           {
            "colorbar": {
             "outlinewidth": 0,
             "ticks": ""
            },
            "colorscale": [
             [
              0,
              "#0d0887"
             ],
             [
              0.1111111111111111,
              "#46039f"
             ],
             [
              0.2222222222222222,
              "#7201a8"
             ],
             [
              0.3333333333333333,
              "#9c179e"
             ],
             [
              0.4444444444444444,
              "#bd3786"
             ],
             [
              0.5555555555555556,
              "#d8576b"
             ],
             [
              0.6666666666666666,
              "#ed7953"
             ],
             [
              0.7777777777777778,
              "#fb9f3a"
             ],
             [
              0.8888888888888888,
              "#fdca26"
             ],
             [
              1,
              "#f0f921"
             ]
            ],
            "type": "contour"
           }
          ],
          "contourcarpet": [
           {
            "colorbar": {
             "outlinewidth": 0,
             "ticks": ""
            },
            "type": "contourcarpet"
           }
          ],
          "heatmap": [
           {
            "colorbar": {
             "outlinewidth": 0,
             "ticks": ""
            },
            "colorscale": [
             [
              0,
              "#0d0887"
             ],
             [
              0.1111111111111111,
              "#46039f"
             ],
             [
              0.2222222222222222,
              "#7201a8"
             ],
             [
              0.3333333333333333,
              "#9c179e"
             ],
             [
              0.4444444444444444,
              "#bd3786"
             ],
             [
              0.5555555555555556,
              "#d8576b"
             ],
             [
              0.6666666666666666,
              "#ed7953"
             ],
             [
              0.7777777777777778,
              "#fb9f3a"
             ],
             [
              0.8888888888888888,
              "#fdca26"
             ],
             [
              1,
              "#f0f921"
             ]
            ],
            "type": "heatmap"
           }
          ],
          "heatmapgl": [
           {
            "colorbar": {
             "outlinewidth": 0,
             "ticks": ""
            },
            "colorscale": [
             [
              0,
              "#0d0887"
             ],
             [
              0.1111111111111111,
              "#46039f"
             ],
             [
              0.2222222222222222,
              "#7201a8"
             ],
             [
              0.3333333333333333,
              "#9c179e"
             ],
             [
              0.4444444444444444,
              "#bd3786"
             ],
             [
              0.5555555555555556,
              "#d8576b"
             ],
             [
              0.6666666666666666,
              "#ed7953"
             ],
             [
              0.7777777777777778,
              "#fb9f3a"
             ],
             [
              0.8888888888888888,
              "#fdca26"
             ],
             [
              1,
              "#f0f921"
             ]
            ],
            "type": "heatmapgl"
           }
          ],
          "histogram": [
           {
            "marker": {
             "pattern": {
              "fillmode": "overlay",
              "size": 10,
              "solidity": 0.2
             }
            },
            "type": "histogram"
           }
          ],
          "histogram2d": [
           {
            "colorbar": {
             "outlinewidth": 0,
             "ticks": ""
            },
            "colorscale": [
             [
              0,
              "#0d0887"
             ],
             [
              0.1111111111111111,
              "#46039f"
             ],
             [
              0.2222222222222222,
              "#7201a8"
             ],
             [
              0.3333333333333333,
              "#9c179e"
             ],
             [
              0.4444444444444444,
              "#bd3786"
             ],
             [
              0.5555555555555556,
              "#d8576b"
             ],
             [
              0.6666666666666666,
              "#ed7953"
             ],
             [
              0.7777777777777778,
              "#fb9f3a"
             ],
             [
              0.8888888888888888,
              "#fdca26"
             ],
             [
              1,
              "#f0f921"
             ]
            ],
            "type": "histogram2d"
           }
          ],
          "histogram2dcontour": [
           {
            "colorbar": {
             "outlinewidth": 0,
             "ticks": ""
            },
            "colorscale": [
             [
              0,
              "#0d0887"
             ],
             [
              0.1111111111111111,
              "#46039f"
             ],
             [
              0.2222222222222222,
              "#7201a8"
             ],
             [
              0.3333333333333333,
              "#9c179e"
             ],
             [
              0.4444444444444444,
              "#bd3786"
             ],
             [
              0.5555555555555556,
              "#d8576b"
             ],
             [
              0.6666666666666666,
              "#ed7953"
             ],
             [
              0.7777777777777778,
              "#fb9f3a"
             ],
             [
              0.8888888888888888,
              "#fdca26"
             ],
             [
              1,
              "#f0f921"
             ]
            ],
            "type": "histogram2dcontour"
           }
          ],
          "mesh3d": [
           {
            "colorbar": {
             "outlinewidth": 0,
             "ticks": ""
            },
            "type": "mesh3d"
           }
          ],
          "parcoords": [
           {
            "line": {
             "colorbar": {
              "outlinewidth": 0,
              "ticks": ""
             }
            },
            "type": "parcoords"
           }
          ],
          "pie": [
           {
            "automargin": true,
            "type": "pie"
           }
          ],
          "scatter": [
           {
            "fillpattern": {
             "fillmode": "overlay",
             "size": 10,
             "solidity": 0.2
            },
            "type": "scatter"
           }
          ],
          "scatter3d": [
           {
            "line": {
             "colorbar": {
              "outlinewidth": 0,
              "ticks": ""
             }
            },
            "marker": {
             "colorbar": {
              "outlinewidth": 0,
              "ticks": ""
             }
            },
            "type": "scatter3d"
           }
          ],
          "scattercarpet": [
           {
            "marker": {
             "colorbar": {
              "outlinewidth": 0,
              "ticks": ""
             }
            },
            "type": "scattercarpet"
           }
          ],
          "scattergeo": [
           {
            "marker": {
             "colorbar": {
              "outlinewidth": 0,
              "ticks": ""
             }
            },
            "type": "scattergeo"
           }
          ],
          "scattergl": [
           {
            "marker": {
             "colorbar": {
              "outlinewidth": 0,
              "ticks": ""
             }
            },
            "type": "scattergl"
           }
          ],
          "scattermapbox": [
           {
            "marker": {
             "colorbar": {
              "outlinewidth": 0,
              "ticks": ""
             }
            },
            "type": "scattermapbox"
           }
          ],
          "scatterpolar": [
           {
            "marker": {
             "colorbar": {
              "outlinewidth": 0,
              "ticks": ""
             }
            },
            "type": "scatterpolar"
           }
          ],
          "scatterpolargl": [
           {
            "marker": {
             "colorbar": {
              "outlinewidth": 0,
              "ticks": ""
             }
            },
            "type": "scatterpolargl"
           }
          ],
          "scatterternary": [
           {
            "marker": {
             "colorbar": {
              "outlinewidth": 0,
              "ticks": ""
             }
            },
            "type": "scatterternary"
           }
          ],
          "surface": [
           {
            "colorbar": {
             "outlinewidth": 0,
             "ticks": ""
            },
            "colorscale": [
             [
              0,
              "#0d0887"
             ],
             [
              0.1111111111111111,
              "#46039f"
             ],
             [
              0.2222222222222222,
              "#7201a8"
             ],
             [
              0.3333333333333333,
              "#9c179e"
             ],
             [
              0.4444444444444444,
              "#bd3786"
             ],
             [
              0.5555555555555556,
              "#d8576b"
             ],
             [
              0.6666666666666666,
              "#ed7953"
             ],
             [
              0.7777777777777778,
              "#fb9f3a"
             ],
             [
              0.8888888888888888,
              "#fdca26"
             ],
             [
              1,
              "#f0f921"
             ]
            ],
            "type": "surface"
           }
          ],
          "table": [
           {
            "cells": {
             "fill": {
              "color": "#EBF0F8"
             },
             "line": {
              "color": "white"
             }
            },
            "header": {
             "fill": {
              "color": "#C8D4E3"
             },
             "line": {
              "color": "white"
             }
            },
            "type": "table"
           }
          ]
         },
         "layout": {
          "annotationdefaults": {
           "arrowcolor": "#2a3f5f",
           "arrowhead": 0,
           "arrowwidth": 1
          },
          "autotypenumbers": "strict",
          "coloraxis": {
           "colorbar": {
            "outlinewidth": 0,
            "ticks": ""
           }
          },
          "colorscale": {
           "diverging": [
            [
             0,
             "#8e0152"
            ],
            [
             0.1,
             "#c51b7d"
            ],
            [
             0.2,
             "#de77ae"
            ],
            [
             0.3,
             "#f1b6da"
            ],
            [
             0.4,
             "#fde0ef"
            ],
            [
             0.5,
             "#f7f7f7"
            ],
            [
             0.6,
             "#e6f5d0"
            ],
            [
             0.7,
             "#b8e186"
            ],
            [
             0.8,
             "#7fbc41"
            ],
            [
             0.9,
             "#4d9221"
            ],
            [
             1,
             "#276419"
            ]
           ],
           "sequential": [
            [
             0,
             "#0d0887"
            ],
            [
             0.1111111111111111,
             "#46039f"
            ],
            [
             0.2222222222222222,
             "#7201a8"
            ],
            [
             0.3333333333333333,
             "#9c179e"
            ],
            [
             0.4444444444444444,
             "#bd3786"
            ],
            [
             0.5555555555555556,
             "#d8576b"
            ],
            [
             0.6666666666666666,
             "#ed7953"
            ],
            [
             0.7777777777777778,
             "#fb9f3a"
            ],
            [
             0.8888888888888888,
             "#fdca26"
            ],
            [
             1,
             "#f0f921"
            ]
           ],
           "sequentialminus": [
            [
             0,
             "#0d0887"
            ],
            [
             0.1111111111111111,
             "#46039f"
            ],
            [
             0.2222222222222222,
             "#7201a8"
            ],
            [
             0.3333333333333333,
             "#9c179e"
            ],
            [
             0.4444444444444444,
             "#bd3786"
            ],
            [
             0.5555555555555556,
             "#d8576b"
            ],
            [
             0.6666666666666666,
             "#ed7953"
            ],
            [
             0.7777777777777778,
             "#fb9f3a"
            ],
            [
             0.8888888888888888,
             "#fdca26"
            ],
            [
             1,
             "#f0f921"
            ]
           ]
          },
          "colorway": [
           "#636efa",
           "#EF553B",
           "#00cc96",
           "#ab63fa",
           "#FFA15A",
           "#19d3f3",
           "#FF6692",
           "#B6E880",
           "#FF97FF",
           "#FECB52"
          ],
          "font": {
           "color": "#2a3f5f"
          },
          "geo": {
           "bgcolor": "white",
           "lakecolor": "white",
           "landcolor": "#E5ECF6",
           "showlakes": true,
           "showland": true,
           "subunitcolor": "white"
          },
          "hoverlabel": {
           "align": "left"
          },
          "hovermode": "closest",
          "mapbox": {
           "style": "light"
          },
          "paper_bgcolor": "white",
          "plot_bgcolor": "#E5ECF6",
          "polar": {
           "angularaxis": {
            "gridcolor": "white",
            "linecolor": "white",
            "ticks": ""
           },
           "bgcolor": "#E5ECF6",
           "radialaxis": {
            "gridcolor": "white",
            "linecolor": "white",
            "ticks": ""
           }
          },
          "scene": {
           "xaxis": {
            "backgroundcolor": "#E5ECF6",
            "gridcolor": "white",
            "gridwidth": 2,
            "linecolor": "white",
            "showbackground": true,
            "ticks": "",
            "zerolinecolor": "white"
           },
           "yaxis": {
            "backgroundcolor": "#E5ECF6",
            "gridcolor": "white",
            "gridwidth": 2,
            "linecolor": "white",
            "showbackground": true,
            "ticks": "",
            "zerolinecolor": "white"
           },
           "zaxis": {
            "backgroundcolor": "#E5ECF6",
            "gridcolor": "white",
            "gridwidth": 2,
            "linecolor": "white",
            "showbackground": true,
            "ticks": "",
            "zerolinecolor": "white"
           }
          },
          "shapedefaults": {
           "line": {
            "color": "#2a3f5f"
           }
          },
          "ternary": {
           "aaxis": {
            "gridcolor": "white",
            "linecolor": "white",
            "ticks": ""
           },
           "baxis": {
            "gridcolor": "white",
            "linecolor": "white",
            "ticks": ""
           },
           "bgcolor": "#E5ECF6",
           "caxis": {
            "gridcolor": "white",
            "linecolor": "white",
            "ticks": ""
           }
          },
          "title": {
           "x": 0.05
          },
          "xaxis": {
           "automargin": true,
           "gridcolor": "white",
           "linecolor": "white",
           "ticks": "",
           "title": {
            "standoff": 15
           },
           "zerolinecolor": "white",
           "zerolinewidth": 2
          },
          "yaxis": {
           "automargin": true,
           "gridcolor": "white",
           "linecolor": "white",
           "ticks": "",
           "title": {
            "standoff": 15
           },
           "zerolinecolor": "white",
           "zerolinewidth": 2
          }
         }
        },
        "title": {
         "font": {
          "color": "darkblue",
          "size": 24
         },
         "text": "Cross-species AG SAMap Similarity Analysis"
        },
        "width": 900
       }
      },
      "image/png": "[encoded data removed]",
      "text/html": [
       "<div>                            <div id=\"9e3368dd-26f7-4f98-a3df-f68bc466eb6b\" class=\"plotly-graph-div\" style=\"height:600px; width:900px;\"></div>            <script type=\"text/javascript\">                require([\"plotly\"], function(Plotly) {                    window.PLOTLYENV=window.PLOTLYENV || {};                                    if (document.getElementById(\"9e3368dd-26f7-4f98-a3df-f68bc466eb6b\")) {                    Plotly.newPlot(                        \"9e3368dd-26f7-4f98-a3df-f68bc466eb6b\",                        [{\"link\":{\"color\":[\"rgba(227, 26, 28, 0.5)\",\"rgba(227, 26, 28, 0.5)\",\"rgba(31, 120, 180, 0.5)\",\"rgba(31, 120, 180, 0.5)\",\"rgba(31, 120, 180, 0.5)\",\"rgba(178, 223, 138, 0.5)\",\"rgba(178, 223, 138, 0.5)\",\"rgba(178, 223, 138, 0.5)\",\"rgba(128, 128, 128, 0.5)\",\"rgba(128, 128, 128, 0.5)\",\"rgba(128, 128, 128, 0.5)\",\"rgba(128, 128, 128, 0.5)\",\"rgba(211, 211, 211, 0.5)\",\"rgba(211, 211, 211, 0.5)\",\"rgba(184, 134, 11, 0.5)\",\"rgba(184, 134, 11, 0.5)\",\"rgba(251, 154, 153, 0.5)\",\"rgba(251, 154, 153, 0.5)\",\"rgba(251, 154, 153, 0.5)\",\"rgba(251, 154, 153, 0.5)\"],\"source\":[0,0,1,1,1,2,2,2,3,3,3,3,4,4,5,5,6,6,6,6],\"target\":[12,14,8,9,12,11,13,15,7,10,11,13,7,9,10,14,10,12,14,15],\"value\":[0.1811294726064494,0.4283210427904486,0.9440990130863464,0.1882332724966593,0.1153254822369624,0.4129644720118079,0.2194001645627853,0.2079435410809749,0.1445971839155824,0.1019611902456415,0.3534403121130218,0.5933797383060796,0.5294795846859187,0.1827983324517783,0.1392138697384665,0.3601994051078511,0.2177135470124941,0.2375013344237376,0.3252771914843982,0.1468459377787316]},\"node\":{\"color\":[\"#e31a1c\",\"#1f78b4\",\"#b2df8a\",\"#808080\",\"#D3D3D3\",\"#B8860B\",\"#fb9a99\",\"#a6cee3\",\"#1f78b4\",\"#cab2d6\",\"#2F4F4F\",\"#b2df8a\",\"#87CEEB\",\"#808080\",\"#6B8E23\",\"#4B0082\"],\"label\":[\"ASC-rb\",\"Basal\",\"Epi-Krt7\",\"Epi-Lgals7\",\"Epi-Pro\",\"LumSEC-AG-t1\",\"LumSEC-AG-t2\",\"ASC-sg\",\"Basal\",\"Epi-Fibro\",\"Epi-Hmgcr\",\"Epi-Krt7\",\"Epi-Lalba\",\"Epi-Lgals7\",\"Epi-Lip\",\"LumSEC-AG-Pip\"],\"line\":{\"color\":\"black\",\"width\":0.8},\"pad\":30,\"thickness\":25},\"type\":\"sankey\",\"arrangement\":\"snap\"}],                        {\"template\":{\"data\":{\"histogram2dcontour\":[{\"type\":\"histogram2dcontour\",\"colorbar\":{\"outlinewidth\":0,\"ticks\":\"\"},\"colorscale\":[[0.0,\"#0d0887\"],[0.1111111111111111,\"#46039f\"],[0.2222222222222222,\"#7201a8\"],[0.3333333333333333,\"#9c179e\"],[0.4444444444444444,\"#bd3786\"],[0.5555555555555556,\"#d8576b\"],[0.6666666666666666,\"#ed7953\"],[0.7777777777777778,\"#fb9f3a\"],[0.8888888888888888,\"#fdca26\"],[1.0,\"#f0f921\"]]}],\"choropleth\":[{\"type\":\"choropleth\",\"colorbar\":{\"outlinewidth\":0,\"ticks\":\"\"}}],\"histogram2d\":[{\"type\":\"histogram2d\",\"colorbar\":{\"outlinewidth\":0,\"ticks\":\"\"},\"colorscale\":[[0.0,\"#0d0887\"],[0.1111111111111111,\"#46039f\"],[0.2222222222222222,\"#7201a8\"],[0.3333333333333333,\"#9c179e\"],[0.4444444444444444,\"#bd3786\"],[0.5555555555555556,\"#d8576b\"],[0.6666666666666666,\"#ed7953\"],[0.7777777777777778,\"#fb9f3a\"],[0.8888888888888888,\"#fdca26\"],[1.0,\"#f0f921\"]]}],\"heatmap\":[{\"type\":\"heatmap\",\"colorbar\":{\"outlinewidth\":0,\"ticks\":\"\"},\"colorscale\":[[0.0,\"#0d0887\"],[0.1111111111111111,\"#46039f\"],[0.2222222222222222,\"#7201a8\"],[0.3333333333333333,\"#9c179e\"],[0.4444444444444444,\"#bd3786\"],[0.5555555555555556,\"#d8576b\"],[0.6666666666666666,\"#ed7953\"],[0.7777777777777778,\"#fb9f3a\"],[0.8888888888888888,\"#fdca26\"],[1.0,\"#f0f921\"]]}],\"heatmapgl\":[{\"type\":\"heatmapgl\",\"colorbar\":{\"outlinewidth\":0,\"ticks\":\"\"},\"colorscale\":[[0.0,\"#0d0887\"],[0.1111111111111111,\"#46039f\"],[0.2222222222222222,\"#7201a8\"],[0.3333333333333333,\"#9c179e\"],[0.4444444444444444,\"#bd3786\"],[0.5555555555555556,\"#d8576b\"],[0.6666666666666666,\"#ed7953\"],[0.7777777777777778,\"#fb9f3a\"],[0.8888888888888888,\"#fdca26\"],[1.0,\"#f0f921\"]]}],\"contourcarpet\":[{\"type\":\"contourcarpet\",\"colorbar\":{\"outlinewidth\":0,\"ticks\":\"\"}}],\"contour\":[{\"type\":\"contour\",\"colorbar\":{\"outlinewidth\":0,\"ticks\":\"\"},\"colorscale\":[[0.0,\"#0d0887\"],[0.1111111111111111,\"#46039f\"],[0.2222222222222222,\"#7201a8\"],[0.3333333333333333,\"#9c179e\"],[0.4444444444444444,\"#bd3786\"],[0.5555555555555556,\"#d8576b\"],[0.6666666666666666,\"#ed7953\"],[0.7777777777777778,\"#fb9f3a\"],[0.8888888888888888,\"#fdca26\"],[1.0,\"#f0f921\"]]}],\"surface\":[{\"type\":\"surface\",\"colorbar\":{\"outlinewidth\":0,\"ticks\":\"\"},\"colorscale\":[[0.0,\"#0d0887\"],[0.1111111111111111,\"#46039f\"],[0.2222222222222222,\"#7201a8\"],[0.3333333333333333,\"#9c179e\"],[0.4444444444444444,\"#bd3786\"],[0.5555555555555556,\"#d8576b\"],[0.6666666666666666,\"#ed7953\"],[0.7777777777777778,\"#fb9f3a\"],[0.8888888888888888,\"#fdca26\"],[1.0,\"#f0f921\"]]}],\"mesh3d\":[{\"type\":\"mesh3d\",\"colorbar\":{\"outlinewidth\":0,\"ticks\":\"\"}}],\"scatter\":[{\"fillpattern\":{\"fillmode\":\"overlay\",\"size\":10,\"solidity\":0.2},\"type\":\"scatter\"}],\"parcoords\":[{\"type\":\"parcoords\",\"line\":{\"colorbar\":{\"outlinewidth\":0,\"ticks\":\"\"}}}],\"scatterpolargl\":[{\"type\":\"scatterpolargl\",\"marker\":{\"colorbar\":{\"outlinewidth\":0,\"ticks\":\"\"}}}],\"bar\":[{\"error_x\":{\"color\":\"#2a3f5f\"},\"error_y\":{\"color\":\"#2a3f5f\"},\"marker\":{\"line\":{\"color\":\"#E5ECF6\",\"width\":0.5},\"pattern\":{\"fillmode\":\"overlay\",\"size\":10,\"solidity\":0.2}},\"type\":\"bar\"}],\"scattergeo\":[{\"type\":\"scattergeo\",\"marker\":{\"colorbar\":{\"outlinewidth\":0,\"ticks\":\"\"}}}],\"scatterpolar\":[{\"type\":\"scatterpolar\",\"marker\":{\"colorbar\":{\"outlinewidth\":0,\"ticks\":\"\"}}}],\"histogram\":[{\"marker\":{\"pattern\":{\"fillmode\":\"overlay\",\"size\":10,\"solidity\":0.2}},\"type\":\"histogram\"}],\"scattergl\":[{\"type\":\"scattergl\",\"marker\":{\"colorbar\":{\"outlinewidth\":0,\"ticks\":\"\"}}}],\"scatter3d\":[{\"type\":\"scatter3d\",\"line\":{\"colorbar\":{\"outlinewidth\":0,\"ticks\":\"\"}},\"marker\":{\"colorbar\":{\"outlinewidth\":0,\"ticks\":\"\"}}}],\"scattermapbox\":[{\"type\":\"scattermapbox\",\"marker\":{\"colorbar\":{\"outlinewidth\":0,\"ticks\":\"\"}}}],\"scatterternary\":[{\"type\":\"scatterternary\",\"marker\":{\"colorbar\":{\"outlinewidth\":0,\"ticks\":\"\"}}}],\"scattercarpet\":[{\"type\":\"scattercarpet\",\"marker\":{\"colorbar\":{\"outlinewidth\":0,\"ticks\":\"\"}}}],\"carpet\":[{\"aaxis\":{\"endlinecolor\":\"#2a3f5f\",\"gridcolor\":\"white\",\"linecolor\":\"white\",\"minorgridcolor\":\"white\",\"startlinecolor\":\"#2a3f5f\"},\"baxis\":{\"endlinecolor\":\"#2a3f5f\",\"gridcolor\":\"white\",\"linecolor\":\"white\",\"minorgridcolor\":\"white\",\"startlinecolor\":\"#2a3f5f\"},\"type\":\"carpet\"}],\"table\":[{\"cells\":{\"fill\":{\"color\":\"#EBF0F8\"},\"line\":{\"color\":\"white\"}},\"header\":{\"fill\":{\"color\":\"#C8D4E3\"},\"line\":{\"color\":\"white\"}},\"type\":\"table\"}],\"barpolar\":[{\"marker\":{\"line\":{\"color\":\"#E5ECF6\",\"width\":0.5},\"pattern\":{\"fillmode\":\"overlay\",\"size\":10,\"solidity\":0.2}},\"type\":\"barpolar\"}],\"pie\":[{\"automargin\":true,\"type\":\"pie\"}]},\"layout\":{\"autotypenumbers\":\"strict\",\"colorway\":[\"#636efa\",\"#EF553B\",\"#00cc96\",\"#ab63fa\",\"#FFA15A\",\"#19d3f3\",\"#FF6692\",\"#B6E880\",\"#FF97FF\",\"#FECB52\"],\"font\":{\"color\":\"#2a3f5f\"},\"hovermode\":\"closest\",\"hoverlabel\":{\"align\":\"left\"},\"paper_bgcolor\":\"white\",\"plot_bgcolor\":\"#E5ECF6\",\"polar\":{\"bgcolor\":\"#E5ECF6\",\"angularaxis\":{\"gridcolor\":\"white\",\"linecolor\":\"white\",\"ticks\":\"\"},\"radialaxis\":{\"gridcolor\":\"white\",\"linecolor\":\"white\",\"ticks\":\"\"}},\"ternary\":{\"bgcolor\":\"#E5ECF6\",\"aaxis\":{\"gridcolor\":\"white\",\"linecolor\":\"white\",\"ticks\":\"\"},\"baxis\":{\"gridcolor\":\"white\",\"linecolor\":\"white\",\"ticks\":\"\"},\"caxis\":{\"gridcolor\":\"white\",\"linecolor\":\"white\",\"ticks\":\"\"}},\"coloraxis\":{\"colorbar\":{\"outlinewidth\":0,\"ticks\":\"\"}},\"colorscale\":{\"sequential\":[[0.0,\"#0d0887\"],[0.1111111111111111,\"#46039f\"],[0.2222222222222222,\"#7201a8\"],[0.3333333333333333,\"#9c179e\"],[0.4444444444444444,\"#bd3786\"],[0.5555555555555556,\"#d8576b\"],[0.6666666666666666,\"#ed7953\"],[0.7777777777777778,\"#fb9f3a\"],[0.8888888888888888,\"#fdca26\"],[1.0,\"#f0f921\"]],\"sequentialminus\":[[0.0,\"#0d0887\"],[0.1111111111111111,\"#46039f\"],[0.2222222222222222,\"#7201a8\"],[0.3333333333333333,\"#9c179e\"],[0.4444444444444444,\"#bd3786\"],[0.5555555555555556,\"#d8576b\"],[0.6666666666666666,\"#ed7953\"],[0.7777777777777778,\"#fb9f3a\"],[0.8888888888888888,\"#fdca26\"],[1.0,\"#f0f921\"]],\"diverging\":[[0,\"#8e0152\"],[0.1,\"#c51b7d\"],[0.2,\"#de77ae\"],[0.3,\"#f1b6da\"],[0.4,\"#fde0ef\"],[0.5,\"#f7f7f7\"],[0.6,\"#e6f5d0\"],[0.7,\"#b8e186\"],[0.8,\"#7fbc41\"],[0.9,\"#4d9221\"],[1,\"#276419\"]]},\"xaxis\":{\"gridcolor\":\"white\",\"linecolor\":\"white\",\"ticks\":\"\",\"title\":{\"standoff\":15},\"zerolinecolor\":\"white\",\"automargin\":true,\"zerolinewidth\":2},\"yaxis\":{\"gridcolor\":\"white\",\"linecolor\":\"white\",\"ticks\":\"\",\"title\":{\"standoff\":15},\"zerolinecolor\":\"white\",\"automargin\":true,\"zerolinewidth\":2},\"scene\":{\"xaxis\":{\"backgroundcolor\":\"#E5ECF6\",\"gridcolor\":\"white\",\"linecolor\":\"white\",\"showbackground\":true,\"ticks\":\"\",\"zerolinecolor\":\"white\",\"gridwidth\":2},\"yaxis\":{\"backgroundcolor\":\"#E5ECF6\",\"gridcolor\":\"white\",\"linecolor\":\"white\",\"showbackground\":true,\"ticks\":\"\",\"zerolinecolor\":\"white\",\"gridwidth\":2},\"zaxis\":{\"backgroundcolor\":\"#E5ECF6\",\"gridcolor\":\"white\",\"linecolor\":\"white\",\"showbackground\":true,\"ticks\":\"\",\"zerolinecolor\":\"white\",\"gridwidth\":2}},\"shapedefaults\":{\"line\":{\"color\":\"#2a3f5f\"}},\"annotationdefaults\":{\"arrowcolor\":\"#2a3f5f\",\"arrowhead\":0,\"arrowwidth\":1},\"geo\":{\"bgcolor\":\"white\",\"landcolor\":\"#E5ECF6\",\"subunitcolor\":\"white\",\"showland\":true,\"showlakes\":true,\"lakecolor\":\"white\"},\"title\":{\"x\":0.05},\"mapbox\":{\"style\":\"light\"}}},\"title\":{\"font\":{\"size\":24,\"color\":\"darkblue\"},\"text\":\"Cross-species AG SAMap Similarity Analysis\"},\"font\":{\"size\":14},\"margin\":{\"l\":60,\"r\":60,\"t\":60,\"b\":60},\"paper_bgcolor\":\"white\",\"plot_bgcolor\":\"white\",\"height\":600,\"width\":900},                        {\"responsive\": true}                    ).then(function(){\n",
       "                            \n",
       "var gd = document.getElementById('9e3368dd-26f7-4f98-a3df-f68bc466eb6b');\n",
       "var x = new MutationObserver(function (mutations, observer) {{\n",
       "        var display = window.getComputedStyle(gd).display;\n",
       "        if (!display || display === 'none') {{\n",
       "            console.log([gd, 'removed!']);\n",
       "            Plotly.purge(gd);\n",
       "            observer.disconnect();\n",
       "        }}\n",
       "}});\n",
       "\n",
       "// Listen for the removal of the full notebook cells\n",
       "var notebookContainer = gd.closest('#notebook-container');\n",
       "if (notebookContainer) {{\n",
       "    x.observe(notebookContainer, {childList: true});\n",
       "}}\n",
       "\n",
       "// Listen for the clearing of the current output cell\n",
       "var outputEl = gd.closest('.output');\n",
       "if (outputEl) {{\n",
       "    x.observe(outputEl, {childList: true});\n",
       "}}\n",
       "\n",
       "                        })                };                });            </script>        </div>"
      ]
     },
     "metadata": {},
     "output_type": "display_data"
    }
   ],
   "source": [
    "node_colors = assign_cell_type_colors(layers, color_dict)\n",
    "\n",
    "# 2. 根据起始节点的颜色来分配链接颜色\n",
    "link_colors = [\n",
    "    f\"rgba({int(c[1:3], 16)}, {int(c[3:5], 16)}, {int(c[5:7], 16)}, 0.5)\"  # 将十六进制转换为rgba\n",
    "    for c in [node_colors[source] for source in sankey_links[\"source\"]]\n",
    "]\n",
    "\n",
    "# 3. 绘制Sankey图并调整布局\n",
    "fig = go.Figure(go.Sankey(\n",
    "    node=dict(\n",
    "        pad=30,  # 调整节点之间的间距，优化布局\n",
    "        thickness=25,  # 增加节点的厚度，改善视觉效果\n",
    "        line=dict(color=\"black\", width=0.8),  # 调整节点边框\n",
    "        label=fix_nodes,  # 使用细胞类型名称作为节点标签\n",
    "        color=node_colors,  # 为节点分配颜色\n",
    "    ),\n",
    "    link=dict(\n",
    "        source=sankey_links[\"source\"],  # 链接的起始节点\n",
    "        target=sankey_links[\"target\"],  # 链接的目标节点\n",
    "        value=sankey_links[\"value\"],  # 每个链接的权重\n",
    "        color=link_colors,  # 链接的颜色依赖于起始节点的颜色\n",
    "    )\n",
    "))\n",
    "\n",
    "# 4. 确保图表每列数据的y轴长度一致\n",
    "fig.update_traces(arrangement=\"snap\")  # 使用snap模式保证布局整齐\n",
    "\n",
    "# 5. 更新布局，设置图表的外观和尺寸\n",
    "fig.update_layout(\n",
    "    title_text=\"Cross-species AG SAMap Similarity Analysis\",  # 设置标题\n",
    "    title_font=dict(size=24, color=\"darkblue\"),  # 设置标题字体大小和颜色\n",
    "    font_size=14,  # 设置全局字体大小\n",
    "    paper_bgcolor=\"white\",  # 设置纸张背景颜色\n",
    "    plot_bgcolor=\"white\",  # 设置绘图区域背景颜色\n",
    "    margin=dict(l=60, r=60, t=60, b=60),  # 设置图表边距\n",
    "    height=600,  # 设置图表高度\n",
    "    width=900   # 设置图表宽度\n",
    ")\n",
    "\n"
   ]
  },
  {
   "cell_type": "code",
   "execution_count": 44,
   "id": "88699861-b83d-42ba-8cbe-45cce39bd731",
   "metadata": {},
   "outputs": [],
   "source": [
    "# 6. 保存为HTML文件，生成交互式的Sankey图\n",
    "fig.write_html(\"sankey_diagram_interactive-AG.html\")"
   ]
  },
  {
   "cell_type": "code",
   "execution_count": 45,
   "id": "b2168c55-2f91-41d4-9591-9dbd63877afc",
   "metadata": {},
   "outputs": [],
   "source": [
    "##########STAGE SANKEYPLOT##########################\n"
   ]
  },
  {
   "cell_type": "code",
   "execution_count": null,
   "id": "50524356-381f-4717-9698-4626116b510c",
   "metadata": {},
   "outputs": [],
   "source": []
  },
  {
   "cell_type": "code",
   "execution_count": 59,
   "id": "25f78bf4-b835-4b60-87b2-8f54dae84deb",
   "metadata": {},
   "outputs": [],
   "source": [
    "import pandas as pd\n",
    "import plotly.graph_objects as go\n",
    "import matplotlib.cm as cm\n",
    "import matplotlib.colors as mcolors"
   ]
  },
  {
   "cell_type": "code",
   "execution_count": 60,
   "id": "71eaea1a-811b-402a-a935-1193e23fcae7",
   "metadata": {},
   "outputs": [],
   "source": [
    "###global variable###\n"
   ]
  },
  {
   "cell_type": "code",
   "execution_count": 61,
   "id": "f340cc7f-4ff5-4965-8939-c73cdd113ab6",
   "metadata": {},
   "outputs": [],
   "source": [
    "df1=pd.read_csv(\"D:/pythonfile/all_csv/msMG-rbMG-stage_new-MappingTable.csv\",index_col=0)\n",
    "df2=pd.read_csv(\"D:/pythonfile/all_csv/msMG-sgMG-stage_new-MappingTable.csv\",index_col=0)"
   ]
  },
  {
   "cell_type": "code",
   "execution_count": 62,
   "id": "7bb7192d-f7c9-4a80-b3b3-b39572b87daa",
   "metadata": {},
   "outputs": [
    {
     "data": {
      "text/html": [
       "<div>\n",
       "<style scoped>\n",
       "    .dataframe tbody tr th:only-of-type {\n",
       "        vertical-align: middle;\n",
       "    }\n",
       "\n",
       "    .dataframe tbody tr th {\n",
       "        vertical-align: top;\n",
       "    }\n",
       "\n",
       "    .dataframe thead th {\n",
       "        text-align: right;\n",
       "    }\n",
       "</style>\n",
       "<table border=\"1\" class=\"dataframe\">\n",
       "  <thead>\n",
       "    <tr style=\"text-align: right;\">\n",
       "      <th></th>\n",
       "      <th>ms_stage0</th>\n",
       "      <th>ms_stage1</th>\n",
       "      <th>ms_stage2</th>\n",
       "      <th>ms_stage3</th>\n",
       "      <th>ms_stage4</th>\n",
       "      <th>sg_stage0</th>\n",
       "      <th>sg_stage1</th>\n",
       "      <th>sg_stage2</th>\n",
       "      <th>sg_stage3</th>\n",
       "      <th>sg_stage4</th>\n",
       "    </tr>\n",
       "  </thead>\n",
       "  <tbody>\n",
       "    <tr>\n",
       "      <th>ms_stage0</th>\n",
       "      <td>0.000000</td>\n",
       "      <td>0.000000</td>\n",
       "      <td>0.000000</td>\n",
       "      <td>0.000000</td>\n",
       "      <td>0.000000</td>\n",
       "      <td>0.629225</td>\n",
       "      <td>0.045037</td>\n",
       "      <td>0.019271</td>\n",
       "      <td>0.040921</td>\n",
       "      <td>0.031338</td>\n",
       "    </tr>\n",
       "    <tr>\n",
       "      <th>ms_stage1</th>\n",
       "      <td>0.000000</td>\n",
       "      <td>0.000000</td>\n",
       "      <td>0.000000</td>\n",
       "      <td>0.000000</td>\n",
       "      <td>0.000000</td>\n",
       "      <td>0.233177</td>\n",
       "      <td>0.355551</td>\n",
       "      <td>0.143764</td>\n",
       "      <td>0.095110</td>\n",
       "      <td>0.080169</td>\n",
       "    </tr>\n",
       "    <tr>\n",
       "      <th>ms_stage2</th>\n",
       "      <td>0.000000</td>\n",
       "      <td>0.000000</td>\n",
       "      <td>0.000000</td>\n",
       "      <td>0.000000</td>\n",
       "      <td>0.000000</td>\n",
       "      <td>0.260347</td>\n",
       "      <td>0.443973</td>\n",
       "      <td>0.099324</td>\n",
       "      <td>0.059272</td>\n",
       "      <td>0.049362</td>\n",
       "    </tr>\n",
       "    <tr>\n",
       "      <th>ms_stage3</th>\n",
       "      <td>0.000000</td>\n",
       "      <td>0.000000</td>\n",
       "      <td>0.000000</td>\n",
       "      <td>0.000000</td>\n",
       "      <td>0.000000</td>\n",
       "      <td>0.202134</td>\n",
       "      <td>0.280954</td>\n",
       "      <td>0.255521</td>\n",
       "      <td>0.377147</td>\n",
       "      <td>0.138194</td>\n",
       "    </tr>\n",
       "    <tr>\n",
       "      <th>ms_stage4</th>\n",
       "      <td>0.000000</td>\n",
       "      <td>0.000000</td>\n",
       "      <td>0.000000</td>\n",
       "      <td>0.000000</td>\n",
       "      <td>0.000000</td>\n",
       "      <td>0.033738</td>\n",
       "      <td>0.072987</td>\n",
       "      <td>0.236108</td>\n",
       "      <td>0.205291</td>\n",
       "      <td>0.530009</td>\n",
       "    </tr>\n",
       "    <tr>\n",
       "      <th>sg_stage0</th>\n",
       "      <td>0.629225</td>\n",
       "      <td>0.233177</td>\n",
       "      <td>0.260347</td>\n",
       "      <td>0.202134</td>\n",
       "      <td>0.033738</td>\n",
       "      <td>0.000000</td>\n",
       "      <td>0.000000</td>\n",
       "      <td>0.000000</td>\n",
       "      <td>0.000000</td>\n",
       "      <td>0.000000</td>\n",
       "    </tr>\n",
       "    <tr>\n",
       "      <th>sg_stage1</th>\n",
       "      <td>0.045037</td>\n",
       "      <td>0.355551</td>\n",
       "      <td>0.443973</td>\n",
       "      <td>0.280954</td>\n",
       "      <td>0.072987</td>\n",
       "      <td>0.000000</td>\n",
       "      <td>0.000000</td>\n",
       "      <td>0.000000</td>\n",
       "      <td>0.000000</td>\n",
       "      <td>0.000000</td>\n",
       "    </tr>\n",
       "    <tr>\n",
       "      <th>sg_stage2</th>\n",
       "      <td>0.019271</td>\n",
       "      <td>0.143764</td>\n",
       "      <td>0.099324</td>\n",
       "      <td>0.255521</td>\n",
       "      <td>0.236108</td>\n",
       "      <td>0.000000</td>\n",
       "      <td>0.000000</td>\n",
       "      <td>0.000000</td>\n",
       "      <td>0.000000</td>\n",
       "      <td>0.000000</td>\n",
       "    </tr>\n",
       "    <tr>\n",
       "      <th>sg_stage3</th>\n",
       "      <td>0.040921</td>\n",
       "      <td>0.095110</td>\n",
       "      <td>0.059272</td>\n",
       "      <td>0.377147</td>\n",
       "      <td>0.205291</td>\n",
       "      <td>0.000000</td>\n",
       "      <td>0.000000</td>\n",
       "      <td>0.000000</td>\n",
       "      <td>0.000000</td>\n",
       "      <td>0.000000</td>\n",
       "    </tr>\n",
       "    <tr>\n",
       "      <th>sg_stage4</th>\n",
       "      <td>0.031338</td>\n",
       "      <td>0.080169</td>\n",
       "      <td>0.049362</td>\n",
       "      <td>0.138194</td>\n",
       "      <td>0.530009</td>\n",
       "      <td>0.000000</td>\n",
       "      <td>0.000000</td>\n",
       "      <td>0.000000</td>\n",
       "      <td>0.000000</td>\n",
       "      <td>0.000000</td>\n",
       "    </tr>\n",
       "  </tbody>\n",
       "</table>\n",
       "</div>"
      ],
      "text/plain": [
       "           ms_stage0  ms_stage1  ms_stage2  ms_stage3  ms_stage4  sg_stage0  \\\n",
       "ms_stage0   0.000000   0.000000   0.000000   0.000000   0.000000   0.629225   \n",
       "ms_stage1   0.000000   0.000000   0.000000   0.000000   0.000000   0.233177   \n",
       "ms_stage2   0.000000   0.000000   0.000000   0.000000   0.000000   0.260347   \n",
       "ms_stage3   0.000000   0.000000   0.000000   0.000000   0.000000   0.202134   \n",
       "ms_stage4   0.000000   0.000000   0.000000   0.000000   0.000000   0.033738   \n",
       "sg_stage0   0.629225   0.233177   0.260347   0.202134   0.033738   0.000000   \n",
       "sg_stage1   0.045037   0.355551   0.443973   0.280954   0.072987   0.000000   \n",
       "sg_stage2   0.019271   0.143764   0.099324   0.255521   0.236108   0.000000   \n",
       "sg_stage3   0.040921   0.095110   0.059272   0.377147   0.205291   0.000000   \n",
       "sg_stage4   0.031338   0.080169   0.049362   0.138194   0.530009   0.000000   \n",
       "\n",
       "           sg_stage1  sg_stage2  sg_stage3  sg_stage4  \n",
       "ms_stage0   0.045037   0.019271   0.040921   0.031338  \n",
       "ms_stage1   0.355551   0.143764   0.095110   0.080169  \n",
       "ms_stage2   0.443973   0.099324   0.059272   0.049362  \n",
       "ms_stage3   0.280954   0.255521   0.377147   0.138194  \n",
       "ms_stage4   0.072987   0.236108   0.205291   0.530009  \n",
       "sg_stage0   0.000000   0.000000   0.000000   0.000000  \n",
       "sg_stage1   0.000000   0.000000   0.000000   0.000000  \n",
       "sg_stage2   0.000000   0.000000   0.000000   0.000000  \n",
       "sg_stage3   0.000000   0.000000   0.000000   0.000000  \n",
       "sg_stage4   0.000000   0.000000   0.000000   0.000000  "
      ]
     },
     "execution_count": 62,
     "metadata": {},
     "output_type": "execute_result"
    }
   ],
   "source": [
    "df2"
   ]
  },
  {
   "cell_type": "code",
   "execution_count": 63,
   "id": "7266e5d0-a36f-4ce8-abc0-1ed5bd33165c",
   "metadata": {},
   "outputs": [],
   "source": [
    "import pandas as pd\n",
    "import numpy as np\n",
    "\n",
    "def preprocess_mapping(df: pd.DataFrame,\n",
    "                       source_prefix: str,\n",
    "                       target_prefix: str | None = None,\n",
    "                       min_total: float = 1e-9,\n",
    "                       round_ndigits: int | None = 6) -> pd.DataFrame:\n",
    "    \"\"\"\n",
    "    选出指定源物种 → 目标物种 的子矩阵，并把每一行归一化到 1.\n",
    "\n",
    "    Parameters\n",
    "    ----------\n",
    "    df : DataFrame\n",
    "        原始 SAMap 相关矩阵，行列都是 stage 名。\n",
    "    source_prefix : str\n",
    "        行名以该前缀开头的视为“源”节点（如 'ms_'）。\n",
    "    target_prefix : str | None\n",
    "        列名前缀。若为 None 就保留所有列。\n",
    "    min_total : float\n",
    "        某行若总和 < min_total，则整行设为 0（避免 0 除）。\n",
    "    round_ndigits : int | None\n",
    "        若不是 None，就把结果按位数 round，方便后续阈值过滤。\n",
    "\n",
    "    Returns\n",
    "    -------\n",
    "    norm_df : DataFrame\n",
    "        处理后的行归一化矩阵，index/columns 均保持原名称。\n",
    "    \"\"\"\n",
    "    # ---- 1. 子矩阵裁剪 -------------------------------------------------------\n",
    "    rows = df.index.str.startswith(source_prefix)\n",
    "    cols = (df.columns.str.startswith(target_prefix)\n",
    "            if target_prefix is not None else\n",
    "            np.full(df.shape[1], True, dtype=bool))\n",
    "    sub = df.loc[rows, cols].copy()\n",
    "\n",
    "    # ---- 2. 行归一化 ---------------------------------------------------------\n",
    "    row_totals = sub.sum(axis=1)\n",
    "    # 避免除 0：对总和太小的行直接清零\n",
    "    safe_totals = row_totals.mask(row_totals < min_total, np.nan)\n",
    "    norm = sub.div(safe_totals, axis=0).fillna(0)\n",
    "\n",
    "    # ---- 3. （可选）四舍五入去掉浮点噪声 -------------------------------\n",
    "    if round_ndigits is not None:\n",
    "        norm = norm.round(round_ndigits)\n",
    "\n",
    "    return norm\n"
   ]
  },
  {
   "cell_type": "code",
   "execution_count": 64,
   "id": "145fdb21-0085-48f3-8a0b-53cf5ee62b7d",
   "metadata": {},
   "outputs": [],
   "source": [
    "def do_result(df1,sp1):\n",
    "    df1.columns\n",
    "    df_index=df1.index.tolist()\n",
    "    df_column=df1.columns.tolist()\n",
    "    data=df1.values\n",
    "    result = [\n",
    "        {\"source\":df_index[i],\"target\":df_column[j],\"value\":data[i,j]}\n",
    "        for i in range(len(df_index))\n",
    "        for j in range(len(df_column))\n",
    "        if data[i,j]>0.1\n",
    "    ]\n",
    "    clean_result=[]\n",
    "    for i in range(len(result)):\n",
    "        if result[i]['source'].startswith(sp1):\n",
    "            clean_result.append(result[i])\n",
    "        else:\n",
    "            continue\n",
    "    return clean_result"
   ]
  },
  {
   "cell_type": "code",
   "execution_count": 65,
   "id": "e93bb1ac-d436-45fa-86f2-004ff0674b81",
   "metadata": {},
   "outputs": [],
   "source": [
    "# df_norm1 = preprocess_mapping(df1, source_prefix=\"rb_\", target_prefix=\"ms_\")\n",
    "# df_norm2 = preprocess_mapping(df2, source_prefix=\"ms_\", target_prefix=\"sg_\")\n",
    "\n",
    "# rbms=do_result(df1=df_norm1,sp1='rb')\n",
    "# mssg=do_result(df1=df_norm2,sp1='ms')"
   ]
  },
  {
   "cell_type": "code",
   "execution_count": 66,
   "id": "21fac3fb-cd31-4236-9d2d-32b22cfb615d",
   "metadata": {},
   "outputs": [],
   "source": [
    "rbms=do_result(df1=df1,sp1='rb')\n",
    "mssg=do_result(df1=df2,sp1='ms')"
   ]
  },
  {
   "cell_type": "code",
   "execution_count": 67,
   "id": "f4750f27-a11a-40b9-adfa-05796bfdb124",
   "metadata": {},
   "outputs": [
    {
     "data": {
      "text/plain": [
       "[{'source': 'ms_stage0', 'target': 'sg_stage0', 'value': 0.6292252889226309},\n",
       " {'source': 'ms_stage1', 'target': 'sg_stage0', 'value': 0.2331766237326947},\n",
       " {'source': 'ms_stage1', 'target': 'sg_stage1', 'value': 0.3555514692005551},\n",
       " {'source': 'ms_stage2', 'target': 'sg_stage0', 'value': 0.2603466473367138},\n",
       " {'source': 'ms_stage2', 'target': 'sg_stage1', 'value': 0.4439726885799568},\n",
       " {'source': 'ms_stage3', 'target': 'sg_stage0', 'value': 0.2021339394487149},\n",
       " {'source': 'ms_stage3', 'target': 'sg_stage1', 'value': 0.280953569747633},\n",
       " {'source': 'ms_stage3', 'target': 'sg_stage2', 'value': 0.255520775975282},\n",
       " {'source': 'ms_stage3', 'target': 'sg_stage3', 'value': 0.3771470833637086},\n",
       " {'source': 'ms_stage4', 'target': 'sg_stage2', 'value': 0.2361083415281307},\n",
       " {'source': 'ms_stage4', 'target': 'sg_stage3', 'value': 0.2052908928039719},\n",
       " {'source': 'ms_stage4', 'target': 'sg_stage4', 'value': 0.530008907329724}]"
      ]
     },
     "execution_count": 67,
     "metadata": {},
     "output_type": "execute_result"
    }
   ],
   "source": [
    "mssg"
   ]
  },
  {
   "cell_type": "code",
   "execution_count": 68,
   "id": "d7de56c4-8cc2-45bb-8b01-8c0b94cbd8e1",
   "metadata": {},
   "outputs": [
    {
     "data": {
      "text/plain": [
       "[{'source': 'rb_stage0', 'target': 'ms_stage0', 'value': 0.7608097415753858},\n",
       " {'source': 'rb_stage1', 'target': 'ms_stage1', 'value': 0.569310373437677},\n",
       " {'source': 'rb_stage2', 'target': 'ms_stage1', 'value': 0.2429443775236058},\n",
       " {'source': 'rb_stage2', 'target': 'ms_stage3', 'value': 0.2076684385494446},\n",
       " {'source': 'rb_stage3', 'target': 'ms_stage2', 'value': 0.2594577920665336},\n",
       " {'source': 'rb_stage3', 'target': 'ms_stage3', 'value': 0.3434784240603478},\n",
       " {'source': 'rb_stage3', 'target': 'ms_stage4', 'value': 0.5160008699279148},\n",
       " {'source': 'rb_stage4', 'target': 'ms_stage2', 'value': 0.3281521260797984},\n",
       " {'source': 'rb_stage4', 'target': 'ms_stage3', 'value': 0.3002848457888516},\n",
       " {'source': 'rb_stage4', 'target': 'ms_stage4', 'value': 0.256909042252182}]"
      ]
     },
     "execution_count": 68,
     "metadata": {},
     "output_type": "execute_result"
    }
   ],
   "source": [
    "rbms"
   ]
  },
  {
   "cell_type": "code",
   "execution_count": 69,
   "id": "a4bc1b74-d18b-46aa-8e59-fd9d169a9b80",
   "metadata": {},
   "outputs": [],
   "source": [
    "nodes=list(sorted(set(d['source'] for d in rbms) | set(d['target'] for d in rbms) | set(d['target'] for d in mssg) | set(d['source'] for d in mssg)))"
   ]
  },
  {
   "cell_type": "code",
   "execution_count": 70,
   "id": "e9bbbd56-874c-45e8-89ca-57831f5e1310",
   "metadata": {},
   "outputs": [
    {
     "data": {
      "text/plain": [
       "['ms_stage0',\n",
       " 'ms_stage1',\n",
       " 'ms_stage2',\n",
       " 'ms_stage3',\n",
       " 'ms_stage4',\n",
       " 'rb_stage0',\n",
       " 'rb_stage1',\n",
       " 'rb_stage2',\n",
       " 'rb_stage3',\n",
       " 'rb_stage4',\n",
       " 'sg_stage0',\n",
       " 'sg_stage1',\n",
       " 'sg_stage2',\n",
       " 'sg_stage3',\n",
       " 'sg_stage4']"
      ]
     },
     "execution_count": 70,
     "metadata": {},
     "output_type": "execute_result"
    }
   ],
   "source": [
    "nodes"
   ]
  },
  {
   "cell_type": "code",
   "execution_count": 71,
   "id": "79d7cbc5-f2ee-45b2-b292-01a498c6a1a6",
   "metadata": {},
   "outputs": [],
   "source": [
    "nodes_mapping={nodes[i]:i for i in range(len(nodes))}"
   ]
  },
  {
   "cell_type": "code",
   "execution_count": 72,
   "id": "ead5334a-de03-491b-8ad1-21ff5c5c7694",
   "metadata": {},
   "outputs": [
    {
     "data": {
      "text/plain": [
       "{'ms_stage0': 0,\n",
       " 'ms_stage1': 1,\n",
       " 'ms_stage2': 2,\n",
       " 'ms_stage3': 3,\n",
       " 'ms_stage4': 4,\n",
       " 'rb_stage0': 5,\n",
       " 'rb_stage1': 6,\n",
       " 'rb_stage2': 7,\n",
       " 'rb_stage3': 8,\n",
       " 'rb_stage4': 9,\n",
       " 'sg_stage0': 10,\n",
       " 'sg_stage1': 11,\n",
       " 'sg_stage2': 12,\n",
       " 'sg_stage3': 13,\n",
       " 'sg_stage4': 14}"
      ]
     },
     "execution_count": 72,
     "metadata": {},
     "output_type": "execute_result"
    }
   ],
   "source": [
    "nodes_mapping"
   ]
  },
  {
   "cell_type": "code",
   "execution_count": 73,
   "id": "5c2045f5-8579-4367-97f2-0afd9d9a958e",
   "metadata": {},
   "outputs": [],
   "source": [
    "rbms_links=[    \n",
    "    {\"source\":nodes_mapping[d['source']],\n",
    "    \"target\":nodes_mapping[d['target']],\n",
    "    \"value\":d['value']}for d in rbms\n",
    "]"
   ]
  },
  {
   "cell_type": "code",
   "execution_count": 74,
   "id": "1f825412-5b32-4cd9-89e9-35db751a1f80",
   "metadata": {},
   "outputs": [],
   "source": [
    "mssg_links=[    \n",
    "    {\"source\":nodes_mapping[d['source']],\n",
    "    \"target\":nodes_mapping[d['target']],\n",
    "    \"value\":d['value']}for d in mssg\n",
    "]"
   ]
  },
  {
   "cell_type": "code",
   "execution_count": 75,
   "id": "1437ba4d-453e-448c-9d41-09b5a5a2595a",
   "metadata": {},
   "outputs": [
    {
     "data": {
      "text/plain": [
       "[{'source': 5, 'target': 0, 'value': 0.7608097415753858},\n",
       " {'source': 6, 'target': 1, 'value': 0.569310373437677},\n",
       " {'source': 7, 'target': 1, 'value': 0.2429443775236058},\n",
       " {'source': 7, 'target': 3, 'value': 0.2076684385494446},\n",
       " {'source': 8, 'target': 2, 'value': 0.2594577920665336},\n",
       " {'source': 8, 'target': 3, 'value': 0.3434784240603478},\n",
       " {'source': 8, 'target': 4, 'value': 0.5160008699279148},\n",
       " {'source': 9, 'target': 2, 'value': 0.3281521260797984},\n",
       " {'source': 9, 'target': 3, 'value': 0.3002848457888516},\n",
       " {'source': 9, 'target': 4, 'value': 0.256909042252182},\n",
       " {'source': 0, 'target': 10, 'value': 0.6292252889226309},\n",
       " {'source': 1, 'target': 10, 'value': 0.2331766237326947},\n",
       " {'source': 1, 'target': 11, 'value': 0.3555514692005551},\n",
       " {'source': 2, 'target': 10, 'value': 0.2603466473367138},\n",
       " {'source': 2, 'target': 11, 'value': 0.4439726885799568},\n",
       " {'source': 3, 'target': 10, 'value': 0.2021339394487149},\n",
       " {'source': 3, 'target': 11, 'value': 0.280953569747633},\n",
       " {'source': 3, 'target': 12, 'value': 0.255520775975282},\n",
       " {'source': 3, 'target': 13, 'value': 0.3771470833637086},\n",
       " {'source': 4, 'target': 12, 'value': 0.2361083415281307},\n",
       " {'source': 4, 'target': 13, 'value': 0.2052908928039719},\n",
       " {'source': 4, 'target': 14, 'value': 0.530008907329724}]"
      ]
     },
     "execution_count": 75,
     "metadata": {},
     "output_type": "execute_result"
    }
   ],
   "source": [
    "rbms_links+mssg_links"
   ]
  },
  {
   "cell_type": "code",
   "execution_count": 76,
   "id": "5801c542-d847-4e16-bc1c-253176fb9321",
   "metadata": {},
   "outputs": [],
   "source": [
    "links=rbms_links+mssg_links"
   ]
  },
  {
   "cell_type": "code",
   "execution_count": 77,
   "id": "a395a425-9f05-4899-9998-3dd55e5da1e0",
   "metadata": {},
   "outputs": [
    {
     "data": {
      "text/plain": [
       "[{'source': 5, 'target': 0, 'value': 0.7608097415753858},\n",
       " {'source': 6, 'target': 1, 'value': 0.569310373437677},\n",
       " {'source': 7, 'target': 1, 'value': 0.2429443775236058},\n",
       " {'source': 7, 'target': 3, 'value': 0.2076684385494446},\n",
       " {'source': 8, 'target': 2, 'value': 0.2594577920665336},\n",
       " {'source': 8, 'target': 3, 'value': 0.3434784240603478},\n",
       " {'source': 8, 'target': 4, 'value': 0.5160008699279148},\n",
       " {'source': 9, 'target': 2, 'value': 0.3281521260797984},\n",
       " {'source': 9, 'target': 3, 'value': 0.3002848457888516},\n",
       " {'source': 9, 'target': 4, 'value': 0.256909042252182},\n",
       " {'source': 0, 'target': 10, 'value': 0.6292252889226309},\n",
       " {'source': 1, 'target': 10, 'value': 0.2331766237326947},\n",
       " {'source': 1, 'target': 11, 'value': 0.3555514692005551},\n",
       " {'source': 2, 'target': 10, 'value': 0.2603466473367138},\n",
       " {'source': 2, 'target': 11, 'value': 0.4439726885799568},\n",
       " {'source': 3, 'target': 10, 'value': 0.2021339394487149},\n",
       " {'source': 3, 'target': 11, 'value': 0.280953569747633},\n",
       " {'source': 3, 'target': 12, 'value': 0.255520775975282},\n",
       " {'source': 3, 'target': 13, 'value': 0.3771470833637086},\n",
       " {'source': 4, 'target': 12, 'value': 0.2361083415281307},\n",
       " {'source': 4, 'target': 13, 'value': 0.2052908928039719},\n",
       " {'source': 4, 'target': 14, 'value': 0.530008907329724}]"
      ]
     },
     "execution_count": 77,
     "metadata": {},
     "output_type": "execute_result"
    }
   ],
   "source": [
    "links"
   ]
  },
  {
   "cell_type": "code",
   "execution_count": 78,
   "id": "081b026b-bbe7-45e2-b8e0-98eec38c9729",
   "metadata": {},
   "outputs": [],
   "source": [
    "sankey_links = {\n",
    "    'source':[d['source'] for d in links],\n",
    "    'target':[d['target'] for d in links],\n",
    "    'value':[d['value'] for d in links],   \n",
    "}"
   ]
  },
  {
   "cell_type": "code",
   "execution_count": 79,
   "id": "38e855cb-5584-40fb-8c24-3b75d5ccd09b",
   "metadata": {},
   "outputs": [
    {
     "data": {
      "text/plain": [
       "{'source': [5, 6, 7, 7, 8, 8, 8, 9, 9, 9, 0, 1, 1, 2, 2, 3, 3, 3, 3, 4, 4, 4],\n",
       " 'target': [0,\n",
       "  1,\n",
       "  1,\n",
       "  3,\n",
       "  2,\n",
       "  3,\n",
       "  4,\n",
       "  2,\n",
       "  3,\n",
       "  4,\n",
       "  10,\n",
       "  10,\n",
       "  11,\n",
       "  10,\n",
       "  11,\n",
       "  10,\n",
       "  11,\n",
       "  12,\n",
       "  13,\n",
       "  12,\n",
       "  13,\n",
       "  14],\n",
       " 'value': [0.7608097415753858,\n",
       "  0.569310373437677,\n",
       "  0.2429443775236058,\n",
       "  0.2076684385494446,\n",
       "  0.2594577920665336,\n",
       "  0.3434784240603478,\n",
       "  0.5160008699279148,\n",
       "  0.3281521260797984,\n",
       "  0.3002848457888516,\n",
       "  0.256909042252182,\n",
       "  0.6292252889226309,\n",
       "  0.2331766237326947,\n",
       "  0.3555514692005551,\n",
       "  0.2603466473367138,\n",
       "  0.4439726885799568,\n",
       "  0.2021339394487149,\n",
       "  0.280953569747633,\n",
       "  0.255520775975282,\n",
       "  0.3771470833637086,\n",
       "  0.2361083415281307,\n",
       "  0.2052908928039719,\n",
       "  0.530008907329724]}"
      ]
     },
     "execution_count": 79,
     "metadata": {},
     "output_type": "execute_result"
    }
   ],
   "source": [
    "sankey_links"
   ]
  },
  {
   "cell_type": "code",
   "execution_count": 80,
   "id": "86dda47d-894b-4c15-ab5e-c9620f0dd10b",
   "metadata": {},
   "outputs": [],
   "source": [
    "fix_nodes=[a[3:] for a in nodes]"
   ]
  },
  {
   "cell_type": "code",
   "execution_count": 81,
   "id": "726c186e-7243-4660-ab7d-092401674cd4",
   "metadata": {},
   "outputs": [
    {
     "data": {
      "text/plain": [
       "['stage0',\n",
       " 'stage1',\n",
       " 'stage2',\n",
       " 'stage3',\n",
       " 'stage4',\n",
       " 'stage0',\n",
       " 'stage1',\n",
       " 'stage2',\n",
       " 'stage3',\n",
       " 'stage4',\n",
       " 'stage0',\n",
       " 'stage1',\n",
       " 'stage2',\n",
       " 'stage3',\n",
       " 'stage4']"
      ]
     },
     "execution_count": 81,
     "metadata": {},
     "output_type": "execute_result"
    }
   ],
   "source": [
    "fix_nodes"
   ]
  },
  {
   "cell_type": "code",
   "execution_count": 82,
   "id": "376fcdc9-acf3-4f19-99ec-64852be458fa",
   "metadata": {},
   "outputs": [],
   "source": [
    "ls1,ls2,ls3=[],[],[]\n",
    "for point,node in enumerate(nodes_mapping):\n",
    "    if node.startswith(\"rb\"):\n",
    "        ls1.append(point)\n",
    "    if node.startswith(\"ms\"):\n",
    "        ls2.append(point)\n",
    "    if node.startswith(\"sg\"):\n",
    "        ls3.append(point)\n",
    "layers=dict(rb=ls1,\n",
    "           ms=ls2,\n",
    "           sg=ls3)"
   ]
  },
  {
   "cell_type": "code",
   "execution_count": 83,
   "id": "82121f45-7621-4731-829c-e2e1a61f82ab",
   "metadata": {},
   "outputs": [],
   "source": [
    "node_colors=[None]*(max(max(indices) for indices in layers.values()) + 1)"
   ]
  },
  {
   "cell_type": "code",
   "execution_count": 84,
   "id": "c0a7d550-91d8-4543-8b7e-68cad3610eff",
   "metadata": {},
   "outputs": [
    {
     "data": {
      "text/plain": [
       "['#e41a1c',\n",
       " '#377eb8',\n",
       " '#4daf4a',\n",
       " '#984ea3',\n",
       " '#ff7f00',\n",
       " '#e41a1c',\n",
       " '#377eb8',\n",
       " '#4daf4a',\n",
       " '#984ea3',\n",
       " '#ff7f00',\n",
       " '#e41a1c',\n",
       " '#377eb8',\n",
       " '#4daf4a',\n",
       " '#984ea3',\n",
       " '#ff7f00']"
      ]
     },
     "execution_count": 84,
     "metadata": {},
     "output_type": "execute_result"
    }
   ],
   "source": [
    "def assign_simple_colors(layers, color_palette=['#e41a1c','#377eb8','#4daf4a','#984ea3','#ff7f00','#ffff33','#a65628','#f781bf','#999999']):\n",
    "    \"\"\"为每个层（物种）分配简约的柔和颜色\"\"\"\n",
    "    node_colors = [None] * (max(max(indices) for indices in layers.values()) + 1)\n",
    "    for layer, indices in layers.items():\n",
    "        # 按当前层分配柔和配色\n",
    "        layer_colors = color_palette[:len(indices)]  # 使用前 len(indices) 个颜色\n",
    "        for idx, color in zip(indices, layer_colors):\n",
    "            node_colors[idx] = color\n",
    "    return node_colors\n",
    "node_colors = assign_simple_colors(layers)\n",
    "node_colors"
   ]
  },
  {
   "cell_type": "code",
   "execution_count": 85,
   "id": "6605636e-189f-4877-9c7f-7a355d6d969e",
   "metadata": {},
   "outputs": [
    {
     "data": {
      "application/vnd.plotly.v1+json": {
       "config": {
        "plotlyServerURL": "https://plot.ly"
       },
       "data": [
        {
         "arrangement": "snap",
         "link": {
          "color": [
           "rgba(228, 26, 28, 0.5)",
           "rgba(55, 126, 184, 0.5)",
           "rgba(77, 175, 74, 0.5)",
           "rgba(77, 175, 74, 0.5)",
           "rgba(152, 78, 163, 0.5)",
           "rgba(152, 78, 163, 0.5)",
           "rgba(152, 78, 163, 0.5)",
           "rgba(255, 127, 0, 0.5)",
           "rgba(255, 127, 0, 0.5)",
           "rgba(255, 127, 0, 0.5)",
           "rgba(228, 26, 28, 0.5)",
           "rgba(55, 126, 184, 0.5)",
           "rgba(55, 126, 184, 0.5)",
           "rgba(77, 175, 74, 0.5)",
           "rgba(77, 175, 74, 0.5)",
           "rgba(152, 78, 163, 0.5)",
           "rgba(152, 78, 163, 0.5)",
           "rgba(152, 78, 163, 0.5)",
           "rgba(152, 78, 163, 0.5)",
           "rgba(255, 127, 0, 0.5)",
           "rgba(255, 127, 0, 0.5)",
           "rgba(255, 127, 0, 0.5)"
          ],
          "source": [
           5,
           6,
           7,
           7,
           8,
           8,
           8,
           9,
           9,
           9,
           0,
           1,
           1,
           2,
           2,
           3,
           3,
           3,
           3,
           4,
           4,
           4
          ],
          "target": [
           0,
           1,
           1,
           3,
           2,
           3,
           4,
           2,
           3,
           4,
           10,
           10,
           11,
           10,
           11,
           10,
           11,
           12,
           13,
           12,
           13,
           14
          ],
          "value": [
           0.7608097415753858,
           0.569310373437677,
           0.2429443775236058,
           0.2076684385494446,
           0.2594577920665336,
           0.3434784240603478,
           0.5160008699279148,
           0.3281521260797984,
           0.3002848457888516,
           0.256909042252182,
           0.6292252889226309,
           0.2331766237326947,
           0.3555514692005551,
           0.2603466473367138,
           0.4439726885799568,
           0.2021339394487149,
           0.280953569747633,
           0.255520775975282,
           0.3771470833637086,
           0.2361083415281307,
           0.2052908928039719,
           0.530008907329724
          ]
         },
         "node": {
          "color": [
           "#e41a1c",
           "#377eb8",
           "#4daf4a",
           "#984ea3",
           "#ff7f00",
           "#e41a1c",
           "#377eb8",
           "#4daf4a",
           "#984ea3",
           "#ff7f00",
           "#e41a1c",
           "#377eb8",
           "#4daf4a",
           "#984ea3",
           "#ff7f00"
          ],
          "label": [
           "stage0",
           "stage1",
           "stage2",
           "stage3",
           "stage4",
           "stage0",
           "stage1",
           "stage2",
           "stage3",
           "stage4",
           "stage0",
           "stage1",
           "stage2",
           "stage3",
           "stage4"
          ],
          "line": {
           "color": "black",
           "width": 0.8
          },
          "pad": 30,
          "thickness": 25,
          "x": [
           0.5,
           0.5,
           0.5,
           0.5,
           0.5,
           0.016025641025641024,
           0.016025641025641024,
           0.016025641025641024,
           0.016025641025641024,
           0.016025641025641024,
           0.9839743589743589,
           0.9839743589743589,
           0.9839743589743589,
           0.9839743589743589,
           0.9839743589743589
          ],
          "y": [
           0.0653684405171281,
           0.2630254542760038,
           0.45582883706737404,
           0.6747088602888748,
           0.9165370369803758,
           0.13204112625633174,
           0.30882446526672347,
           0.45895581999611934,
           0.870947946945042,
           0.636240818863289,
           0.11383332536929261,
           0.3830008249116925,
           0.607858431494004,
           0.762634895518385,
           0.9544618662997247
          ]
         },
         "type": "sankey"
        }
       ],
       "layout": {
        "font": {
         "size": 14
        },
        "height": 600,
        "margin": {
         "b": 60,
         "l": 60,
         "r": 60,
         "t": 60
        },
        "paper_bgcolor": "white",
        "plot_bgcolor": "white",
        "template": {
         "data": {
          "bar": [
           {
            "error_x": {
             "color": "#2a3f5f"
            },
            "error_y": {
             "color": "#2a3f5f"
            },
            "marker": {
             "line": {
              "color": "#E5ECF6",
              "width": 0.5
             },
             "pattern": {
              "fillmode": "overlay",
              "size": 10,
              "solidity": 0.2
             }
            },
            "type": "bar"
           }
          ],
          "barpolar": [
           {
            "marker": {
             "line": {
              "color": "#E5ECF6",
              "width": 0.5
             },
             "pattern": {
              "fillmode": "overlay",
              "size": 10,
              "solidity": 0.2
             }
            },
            "type": "barpolar"
           }
          ],
          "carpet": [
           {
            "aaxis": {
             "endlinecolor": "#2a3f5f",
             "gridcolor": "white",
             "linecolor": "white",
             "minorgridcolor": "white",
             "startlinecolor": "#2a3f5f"
            },
            "baxis": {
             "endlinecolor": "#2a3f5f",
             "gridcolor": "white",
             "linecolor": "white",
             "minorgridcolor": "white",
             "startlinecolor": "#2a3f5f"
            },
            "type": "carpet"
           }
          ],
          "choropleth": [
           {
            "colorbar": {
             "outlinewidth": 0,
             "ticks": ""
            },
            "type": "choropleth"
           }
          ],
          "contour": [
           {
            "colorbar": {
             "outlinewidth": 0,
             "ticks": ""
            },
            "colorscale": [
             [
              0,
              "#0d0887"
             ],
             [
              0.1111111111111111,
              "#46039f"
             ],
             [
              0.2222222222222222,
              "#7201a8"
             ],
             [
              0.3333333333333333,
              "#9c179e"
             ],
             [
              0.4444444444444444,
              "#bd3786"
             ],
             [
              0.5555555555555556,
              "#d8576b"
             ],
             [
              0.6666666666666666,
              "#ed7953"
             ],
             [
              0.7777777777777778,
              "#fb9f3a"
             ],
             [
              0.8888888888888888,
              "#fdca26"
             ],
             [
              1,
              "#f0f921"
             ]
            ],
            "type": "contour"
           }
          ],
          "contourcarpet": [
           {
            "colorbar": {
             "outlinewidth": 0,
             "ticks": ""
            },
            "type": "contourcarpet"
           }
          ],
          "heatmap": [
           {
            "colorbar": {
             "outlinewidth": 0,
             "ticks": ""
            },
            "colorscale": [
             [
              0,
              "#0d0887"
             ],
             [
              0.1111111111111111,
              "#46039f"
             ],
             [
              0.2222222222222222,
              "#7201a8"
             ],
             [
              0.3333333333333333,
              "#9c179e"
             ],
             [
              0.4444444444444444,
              "#bd3786"
             ],
             [
              0.5555555555555556,
              "#d8576b"
             ],
             [
              0.6666666666666666,
              "#ed7953"
             ],
             [
              0.7777777777777778,
              "#fb9f3a"
             ],
             [
              0.8888888888888888,
              "#fdca26"
             ],
             [
              1,
              "#f0f921"
             ]
            ],
            "type": "heatmap"
           }
          ],
          "heatmapgl": [
           {
            "colorbar": {
             "outlinewidth": 0,
             "ticks": ""
            },
            "colorscale": [
             [
              0,
              "#0d0887"
             ],
             [
              0.1111111111111111,
              "#46039f"
             ],
             [
              0.2222222222222222,
              "#7201a8"
             ],
             [
              0.3333333333333333,
              "#9c179e"
             ],
             [
              0.4444444444444444,
              "#bd3786"
             ],
             [
              0.5555555555555556,
              "#d8576b"
             ],
             [
              0.6666666666666666,
              "#ed7953"
             ],
             [
              0.7777777777777778,
              "#fb9f3a"
             ],
             [
              0.8888888888888888,
              "#fdca26"
             ],
             [
              1,
              "#f0f921"
             ]
            ],
            "type": "heatmapgl"
           }
          ],
          "histogram": [
           {
            "marker": {
             "pattern": {
              "fillmode": "overlay",
              "size": 10,
              "solidity": 0.2
             }
            },
            "type": "histogram"
           }
          ],
          "histogram2d": [
           {
            "colorbar": {
             "outlinewidth": 0,
             "ticks": ""
            },
            "colorscale": [
             [
              0,
              "#0d0887"
             ],
             [
              0.1111111111111111,
              "#46039f"
             ],
             [
              0.2222222222222222,
              "#7201a8"
             ],
             [
              0.3333333333333333,
              "#9c179e"
             ],
             [
              0.4444444444444444,
              "#bd3786"
             ],
             [
              0.5555555555555556,
              "#d8576b"
             ],
             [
              0.6666666666666666,
              "#ed7953"
             ],
             [
              0.7777777777777778,
              "#fb9f3a"
             ],
             [
              0.8888888888888888,
              "#fdca26"
             ],
             [
              1,
              "#f0f921"
             ]
            ],
            "type": "histogram2d"
           }
          ],
          "histogram2dcontour": [
           {
            "colorbar": {
             "outlinewidth": 0,
             "ticks": ""
            },
            "colorscale": [
             [
              0,
              "#0d0887"
             ],
             [
              0.1111111111111111,
              "#46039f"
             ],
             [
              0.2222222222222222,
              "#7201a8"
             ],
             [
              0.3333333333333333,
              "#9c179e"
             ],
             [
              0.4444444444444444,
              "#bd3786"
             ],
             [
              0.5555555555555556,
              "#d8576b"
             ],
             [
              0.6666666666666666,
              "#ed7953"
             ],
             [
              0.7777777777777778,
              "#fb9f3a"
             ],
             [
              0.8888888888888888,
              "#fdca26"
             ],
             [
              1,
              "#f0f921"
             ]
            ],
            "type": "histogram2dcontour"
           }
          ],
          "mesh3d": [
           {
            "colorbar": {
             "outlinewidth": 0,
             "ticks": ""
            },
            "type": "mesh3d"
           }
          ],
          "parcoords": [
           {
            "line": {
             "colorbar": {
              "outlinewidth": 0,
              "ticks": ""
             }
            },
            "type": "parcoords"
           }
          ],
          "pie": [
           {
            "automargin": true,
            "type": "pie"
           }
          ],
          "scatter": [
           {
            "fillpattern": {
             "fillmode": "overlay",
             "size": 10,
             "solidity": 0.2
            },
            "type": "scatter"
           }
          ],
          "scatter3d": [
           {
            "line": {
             "colorbar": {
              "outlinewidth": 0,
              "ticks": ""
             }
            },
            "marker": {
             "colorbar": {
              "outlinewidth": 0,
              "ticks": ""
             }
            },
            "type": "scatter3d"
           }
          ],
          "scattercarpet": [
           {
            "marker": {
             "colorbar": {
              "outlinewidth": 0,
              "ticks": ""
             }
            },
            "type": "scattercarpet"
           }
          ],
          "scattergeo": [
           {
            "marker": {
             "colorbar": {
              "outlinewidth": 0,
              "ticks": ""
             }
            },
            "type": "scattergeo"
           }
          ],
          "scattergl": [
           {
            "marker": {
             "colorbar": {
              "outlinewidth": 0,
              "ticks": ""
             }
            },
            "type": "scattergl"
           }
          ],
          "scattermapbox": [
           {
            "marker": {
             "colorbar": {
              "outlinewidth": 0,
              "ticks": ""
             }
            },
            "type": "scattermapbox"
           }
          ],
          "scatterpolar": [
           {
            "marker": {
             "colorbar": {
              "outlinewidth": 0,
              "ticks": ""
             }
            },
            "type": "scatterpolar"
           }
          ],
          "scatterpolargl": [
           {
            "marker": {
             "colorbar": {
              "outlinewidth": 0,
              "ticks": ""
             }
            },
            "type": "scatterpolargl"
           }
          ],
          "scatterternary": [
           {
            "marker": {
             "colorbar": {
              "outlinewidth": 0,
              "ticks": ""
             }
            },
            "type": "scatterternary"
           }
          ],
          "surface": [
           {
            "colorbar": {
             "outlinewidth": 0,
             "ticks": ""
            },
            "colorscale": [
             [
              0,
              "#0d0887"
             ],
             [
              0.1111111111111111,
              "#46039f"
             ],
             [
              0.2222222222222222,
              "#7201a8"
             ],
             [
              0.3333333333333333,
              "#9c179e"
             ],
             [
              0.4444444444444444,
              "#bd3786"
             ],
             [
              0.5555555555555556,
              "#d8576b"
             ],
             [
              0.6666666666666666,
              "#ed7953"
             ],
             [
              0.7777777777777778,
              "#fb9f3a"
             ],
             [
              0.8888888888888888,
              "#fdca26"
             ],
             [
              1,
              "#f0f921"
             ]
            ],
            "type": "surface"
           }
          ],
          "table": [
           {
            "cells": {
             "fill": {
              "color": "#EBF0F8"
             },
             "line": {
              "color": "white"
             }
            },
            "header": {
             "fill": {
              "color": "#C8D4E3"
             },
             "line": {
              "color": "white"
             }
            },
            "type": "table"
           }
          ]
         },
         "layout": {
          "annotationdefaults": {
           "arrowcolor": "#2a3f5f",
           "arrowhead": 0,
           "arrowwidth": 1
          },
          "autotypenumbers": "strict",
          "coloraxis": {
           "colorbar": {
            "outlinewidth": 0,
            "ticks": ""
           }
          },
          "colorscale": {
           "diverging": [
            [
             0,
             "#8e0152"
            ],
            [
             0.1,
             "#c51b7d"
            ],
            [
             0.2,
             "#de77ae"
            ],
            [
             0.3,
             "#f1b6da"
            ],
            [
             0.4,
             "#fde0ef"
            ],
            [
             0.5,
             "#f7f7f7"
            ],
            [
             0.6,
             "#e6f5d0"
            ],
            [
             0.7,
             "#b8e186"
            ],
            [
             0.8,
             "#7fbc41"
            ],
            [
             0.9,
             "#4d9221"
            ],
            [
             1,
             "#276419"
            ]
           ],
           "sequential": [
            [
             0,
             "#0d0887"
            ],
            [
             0.1111111111111111,
             "#46039f"
            ],
            [
             0.2222222222222222,
             "#7201a8"
            ],
            [
             0.3333333333333333,
             "#9c179e"
            ],
            [
             0.4444444444444444,
             "#bd3786"
            ],
            [
             0.5555555555555556,
             "#d8576b"
            ],
            [
             0.6666666666666666,
             "#ed7953"
            ],
            [
             0.7777777777777778,
             "#fb9f3a"
            ],
            [
             0.8888888888888888,
             "#fdca26"
            ],
            [
             1,
             "#f0f921"
            ]
           ],
           "sequentialminus": [
            [
             0,
             "#0d0887"
            ],
            [
             0.1111111111111111,
             "#46039f"
            ],
            [
             0.2222222222222222,
             "#7201a8"
            ],
            [
             0.3333333333333333,
             "#9c179e"
            ],
            [
             0.4444444444444444,
             "#bd3786"
            ],
            [
             0.5555555555555556,
             "#d8576b"
            ],
            [
             0.6666666666666666,
             "#ed7953"
            ],
            [
             0.7777777777777778,
             "#fb9f3a"
            ],
            [
             0.8888888888888888,
             "#fdca26"
            ],
            [
             1,
             "#f0f921"
            ]
           ]
          },
          "colorway": [
           "#636efa",
           "#EF553B",
           "#00cc96",
           "#ab63fa",
           "#FFA15A",
           "#19d3f3",
           "#FF6692",
           "#B6E880",
           "#FF97FF",
           "#FECB52"
          ],
          "font": {
           "color": "#2a3f5f"
          },
          "geo": {
           "bgcolor": "white",
           "lakecolor": "white",
           "landcolor": "#E5ECF6",
           "showlakes": true,
           "showland": true,
           "subunitcolor": "white"
          },
          "hoverlabel": {
           "align": "left"
          },
          "hovermode": "closest",
          "mapbox": {
           "style": "light"
          },
          "paper_bgcolor": "white",
          "plot_bgcolor": "#E5ECF6",
          "polar": {
           "angularaxis": {
            "gridcolor": "white",
            "linecolor": "white",
            "ticks": ""
           },
           "bgcolor": "#E5ECF6",
           "radialaxis": {
            "gridcolor": "white",
            "linecolor": "white",
            "ticks": ""
           }
          },
          "scene": {
           "xaxis": {
            "backgroundcolor": "#E5ECF6",
            "gridcolor": "white",
            "gridwidth": 2,
            "linecolor": "white",
            "showbackground": true,
            "ticks": "",
            "zerolinecolor": "white"
           },
           "yaxis": {
            "backgroundcolor": "#E5ECF6",
            "gridcolor": "white",
            "gridwidth": 2,
            "linecolor": "white",
            "showbackground": true,
            "ticks": "",
            "zerolinecolor": "white"
           },
           "zaxis": {
            "backgroundcolor": "#E5ECF6",
            "gridcolor": "white",
            "gridwidth": 2,
            "linecolor": "white",
            "showbackground": true,
            "ticks": "",
            "zerolinecolor": "white"
           }
          },
          "shapedefaults": {
           "line": {
            "color": "#2a3f5f"
           }
          },
          "ternary": {
           "aaxis": {
            "gridcolor": "white",
            "linecolor": "white",
            "ticks": ""
           },
           "baxis": {
            "gridcolor": "white",
            "linecolor": "white",
            "ticks": ""
           },
           "bgcolor": "#E5ECF6",
           "caxis": {
            "gridcolor": "white",
            "linecolor": "white",
            "ticks": ""
           }
          },
          "title": {
           "x": 0.05
          },
          "xaxis": {
           "automargin": true,
           "gridcolor": "white",
           "linecolor": "white",
           "ticks": "",
           "title": {
            "standoff": 15
           },
           "zerolinecolor": "white",
           "zerolinewidth": 2
          },
          "yaxis": {
           "automargin": true,
           "gridcolor": "white",
           "linecolor": "white",
           "ticks": "",
           "title": {
            "standoff": 15
           },
           "zerolinecolor": "white",
           "zerolinewidth": 2
          }
         }
        },
        "title": {
         "font": {
          "color": "darkblue",
          "size": 24
         },
         "text": "Cross-species stage-MG SAMap Similarity Analysis"
        },
        "width": 900
       }
      },
      "image/png": "[encoded data removed]",
      "text/html": [
       "<div>                            <div id=\"419b068f-0e90-4481-b556-f257858832e5\" class=\"plotly-graph-div\" style=\"height:600px; width:900px;\"></div>            <script type=\"text/javascript\">                require([\"plotly\"], function(Plotly) {                    window.PLOTLYENV=window.PLOTLYENV || {};                                    if (document.getElementById(\"419b068f-0e90-4481-b556-f257858832e5\")) {                    Plotly.newPlot(                        \"419b068f-0e90-4481-b556-f257858832e5\",                        [{\"link\":{\"color\":[\"rgba(228, 26, 28, 0.5)\",\"rgba(55, 126, 184, 0.5)\",\"rgba(77, 175, 74, 0.5)\",\"rgba(77, 175, 74, 0.5)\",\"rgba(152, 78, 163, 0.5)\",\"rgba(152, 78, 163, 0.5)\",\"rgba(152, 78, 163, 0.5)\",\"rgba(255, 127, 0, 0.5)\",\"rgba(255, 127, 0, 0.5)\",\"rgba(255, 127, 0, 0.5)\",\"rgba(228, 26, 28, 0.5)\",\"rgba(55, 126, 184, 0.5)\",\"rgba(55, 126, 184, 0.5)\",\"rgba(77, 175, 74, 0.5)\",\"rgba(77, 175, 74, 0.5)\",\"rgba(152, 78, 163, 0.5)\",\"rgba(152, 78, 163, 0.5)\",\"rgba(152, 78, 163, 0.5)\",\"rgba(152, 78, 163, 0.5)\",\"rgba(255, 127, 0, 0.5)\",\"rgba(255, 127, 0, 0.5)\",\"rgba(255, 127, 0, 0.5)\"],\"source\":[5,6,7,7,8,8,8,9,9,9,0,1,1,2,2,3,3,3,3,4,4,4],\"target\":[0,1,1,3,2,3,4,2,3,4,10,10,11,10,11,10,11,12,13,12,13,14],\"value\":[0.7608097415753858,0.569310373437677,0.2429443775236058,0.2076684385494446,0.2594577920665336,0.3434784240603478,0.5160008699279148,0.3281521260797984,0.3002848457888516,0.256909042252182,0.6292252889226309,0.2331766237326947,0.3555514692005551,0.2603466473367138,0.4439726885799568,0.2021339394487149,0.280953569747633,0.255520775975282,0.3771470833637086,0.2361083415281307,0.2052908928039719,0.530008907329724]},\"node\":{\"color\":[\"#e41a1c\",\"#377eb8\",\"#4daf4a\",\"#984ea3\",\"#ff7f00\",\"#e41a1c\",\"#377eb8\",\"#4daf4a\",\"#984ea3\",\"#ff7f00\",\"#e41a1c\",\"#377eb8\",\"#4daf4a\",\"#984ea3\",\"#ff7f00\"],\"label\":[\"stage0\",\"stage1\",\"stage2\",\"stage3\",\"stage4\",\"stage0\",\"stage1\",\"stage2\",\"stage3\",\"stage4\",\"stage0\",\"stage1\",\"stage2\",\"stage3\",\"stage4\"],\"line\":{\"color\":\"black\",\"width\":0.8},\"pad\":30,\"thickness\":25},\"type\":\"sankey\",\"arrangement\":\"snap\"}],                        {\"template\":{\"data\":{\"histogram2dcontour\":[{\"type\":\"histogram2dcontour\",\"colorbar\":{\"outlinewidth\":0,\"ticks\":\"\"},\"colorscale\":[[0.0,\"#0d0887\"],[0.1111111111111111,\"#46039f\"],[0.2222222222222222,\"#7201a8\"],[0.3333333333333333,\"#9c179e\"],[0.4444444444444444,\"#bd3786\"],[0.5555555555555556,\"#d8576b\"],[0.6666666666666666,\"#ed7953\"],[0.7777777777777778,\"#fb9f3a\"],[0.8888888888888888,\"#fdca26\"],[1.0,\"#f0f921\"]]}],\"choropleth\":[{\"type\":\"choropleth\",\"colorbar\":{\"outlinewidth\":0,\"ticks\":\"\"}}],\"histogram2d\":[{\"type\":\"histogram2d\",\"colorbar\":{\"outlinewidth\":0,\"ticks\":\"\"},\"colorscale\":[[0.0,\"#0d0887\"],[0.1111111111111111,\"#46039f\"],[0.2222222222222222,\"#7201a8\"],[0.3333333333333333,\"#9c179e\"],[0.4444444444444444,\"#bd3786\"],[0.5555555555555556,\"#d8576b\"],[0.6666666666666666,\"#ed7953\"],[0.7777777777777778,\"#fb9f3a\"],[0.8888888888888888,\"#fdca26\"],[1.0,\"#f0f921\"]]}],\"heatmap\":[{\"type\":\"heatmap\",\"colorbar\":{\"outlinewidth\":0,\"ticks\":\"\"},\"colorscale\":[[0.0,\"#0d0887\"],[0.1111111111111111,\"#46039f\"],[0.2222222222222222,\"#7201a8\"],[0.3333333333333333,\"#9c179e\"],[0.4444444444444444,\"#bd3786\"],[0.5555555555555556,\"#d8576b\"],[0.6666666666666666,\"#ed7953\"],[0.7777777777777778,\"#fb9f3a\"],[0.8888888888888888,\"#fdca26\"],[1.0,\"#f0f921\"]]}],\"heatmapgl\":[{\"type\":\"heatmapgl\",\"colorbar\":{\"outlinewidth\":0,\"ticks\":\"\"},\"colorscale\":[[0.0,\"#0d0887\"],[0.1111111111111111,\"#46039f\"],[0.2222222222222222,\"#7201a8\"],[0.3333333333333333,\"#9c179e\"],[0.4444444444444444,\"#bd3786\"],[0.5555555555555556,\"#d8576b\"],[0.6666666666666666,\"#ed7953\"],[0.7777777777777778,\"#fb9f3a\"],[0.8888888888888888,\"#fdca26\"],[1.0,\"#f0f921\"]]}],\"contourcarpet\":[{\"type\":\"contourcarpet\",\"colorbar\":{\"outlinewidth\":0,\"ticks\":\"\"}}],\"contour\":[{\"type\":\"contour\",\"colorbar\":{\"outlinewidth\":0,\"ticks\":\"\"},\"colorscale\":[[0.0,\"#0d0887\"],[0.1111111111111111,\"#46039f\"],[0.2222222222222222,\"#7201a8\"],[0.3333333333333333,\"#9c179e\"],[0.4444444444444444,\"#bd3786\"],[0.5555555555555556,\"#d8576b\"],[0.6666666666666666,\"#ed7953\"],[0.7777777777777778,\"#fb9f3a\"],[0.8888888888888888,\"#fdca26\"],[1.0,\"#f0f921\"]]}],\"surface\":[{\"type\":\"surface\",\"colorbar\":{\"outlinewidth\":0,\"ticks\":\"\"},\"colorscale\":[[0.0,\"#0d0887\"],[0.1111111111111111,\"#46039f\"],[0.2222222222222222,\"#7201a8\"],[0.3333333333333333,\"#9c179e\"],[0.4444444444444444,\"#bd3786\"],[0.5555555555555556,\"#d8576b\"],[0.6666666666666666,\"#ed7953\"],[0.7777777777777778,\"#fb9f3a\"],[0.8888888888888888,\"#fdca26\"],[1.0,\"#f0f921\"]]}],\"mesh3d\":[{\"type\":\"mesh3d\",\"colorbar\":{\"outlinewidth\":0,\"ticks\":\"\"}}],\"scatter\":[{\"fillpattern\":{\"fillmode\":\"overlay\",\"size\":10,\"solidity\":0.2},\"type\":\"scatter\"}],\"parcoords\":[{\"type\":\"parcoords\",\"line\":{\"colorbar\":{\"outlinewidth\":0,\"ticks\":\"\"}}}],\"scatterpolargl\":[{\"type\":\"scatterpolargl\",\"marker\":{\"colorbar\":{\"outlinewidth\":0,\"ticks\":\"\"}}}],\"bar\":[{\"error_x\":{\"color\":\"#2a3f5f\"},\"error_y\":{\"color\":\"#2a3f5f\"},\"marker\":{\"line\":{\"color\":\"#E5ECF6\",\"width\":0.5},\"pattern\":{\"fillmode\":\"overlay\",\"size\":10,\"solidity\":0.2}},\"type\":\"bar\"}],\"scattergeo\":[{\"type\":\"scattergeo\",\"marker\":{\"colorbar\":{\"outlinewidth\":0,\"ticks\":\"\"}}}],\"scatterpolar\":[{\"type\":\"scatterpolar\",\"marker\":{\"colorbar\":{\"outlinewidth\":0,\"ticks\":\"\"}}}],\"histogram\":[{\"marker\":{\"pattern\":{\"fillmode\":\"overlay\",\"size\":10,\"solidity\":0.2}},\"type\":\"histogram\"}],\"scattergl\":[{\"type\":\"scattergl\",\"marker\":{\"colorbar\":{\"outlinewidth\":0,\"ticks\":\"\"}}}],\"scatter3d\":[{\"type\":\"scatter3d\",\"line\":{\"colorbar\":{\"outlinewidth\":0,\"ticks\":\"\"}},\"marker\":{\"colorbar\":{\"outlinewidth\":0,\"ticks\":\"\"}}}],\"scattermapbox\":[{\"type\":\"scattermapbox\",\"marker\":{\"colorbar\":{\"outlinewidth\":0,\"ticks\":\"\"}}}],\"scatterternary\":[{\"type\":\"scatterternary\",\"marker\":{\"colorbar\":{\"outlinewidth\":0,\"ticks\":\"\"}}}],\"scattercarpet\":[{\"type\":\"scattercarpet\",\"marker\":{\"colorbar\":{\"outlinewidth\":0,\"ticks\":\"\"}}}],\"carpet\":[{\"aaxis\":{\"endlinecolor\":\"#2a3f5f\",\"gridcolor\":\"white\",\"linecolor\":\"white\",\"minorgridcolor\":\"white\",\"startlinecolor\":\"#2a3f5f\"},\"baxis\":{\"endlinecolor\":\"#2a3f5f\",\"gridcolor\":\"white\",\"linecolor\":\"white\",\"minorgridcolor\":\"white\",\"startlinecolor\":\"#2a3f5f\"},\"type\":\"carpet\"}],\"table\":[{\"cells\":{\"fill\":{\"color\":\"#EBF0F8\"},\"line\":{\"color\":\"white\"}},\"header\":{\"fill\":{\"color\":\"#C8D4E3\"},\"line\":{\"color\":\"white\"}},\"type\":\"table\"}],\"barpolar\":[{\"marker\":{\"line\":{\"color\":\"#E5ECF6\",\"width\":0.5},\"pattern\":{\"fillmode\":\"overlay\",\"size\":10,\"solidity\":0.2}},\"type\":\"barpolar\"}],\"pie\":[{\"automargin\":true,\"type\":\"pie\"}]},\"layout\":{\"autotypenumbers\":\"strict\",\"colorway\":[\"#636efa\",\"#EF553B\",\"#00cc96\",\"#ab63fa\",\"#FFA15A\",\"#19d3f3\",\"#FF6692\",\"#B6E880\",\"#FF97FF\",\"#FECB52\"],\"font\":{\"color\":\"#2a3f5f\"},\"hovermode\":\"closest\",\"hoverlabel\":{\"align\":\"left\"},\"paper_bgcolor\":\"white\",\"plot_bgcolor\":\"#E5ECF6\",\"polar\":{\"bgcolor\":\"#E5ECF6\",\"angularaxis\":{\"gridcolor\":\"white\",\"linecolor\":\"white\",\"ticks\":\"\"},\"radialaxis\":{\"gridcolor\":\"white\",\"linecolor\":\"white\",\"ticks\":\"\"}},\"ternary\":{\"bgcolor\":\"#E5ECF6\",\"aaxis\":{\"gridcolor\":\"white\",\"linecolor\":\"white\",\"ticks\":\"\"},\"baxis\":{\"gridcolor\":\"white\",\"linecolor\":\"white\",\"ticks\":\"\"},\"caxis\":{\"gridcolor\":\"white\",\"linecolor\":\"white\",\"ticks\":\"\"}},\"coloraxis\":{\"colorbar\":{\"outlinewidth\":0,\"ticks\":\"\"}},\"colorscale\":{\"sequential\":[[0.0,\"#0d0887\"],[0.1111111111111111,\"#46039f\"],[0.2222222222222222,\"#7201a8\"],[0.3333333333333333,\"#9c179e\"],[0.4444444444444444,\"#bd3786\"],[0.5555555555555556,\"#d8576b\"],[0.6666666666666666,\"#ed7953\"],[0.7777777777777778,\"#fb9f3a\"],[0.8888888888888888,\"#fdca26\"],[1.0,\"#f0f921\"]],\"sequentialminus\":[[0.0,\"#0d0887\"],[0.1111111111111111,\"#46039f\"],[0.2222222222222222,\"#7201a8\"],[0.3333333333333333,\"#9c179e\"],[0.4444444444444444,\"#bd3786\"],[0.5555555555555556,\"#d8576b\"],[0.6666666666666666,\"#ed7953\"],[0.7777777777777778,\"#fb9f3a\"],[0.8888888888888888,\"#fdca26\"],[1.0,\"#f0f921\"]],\"diverging\":[[0,\"#8e0152\"],[0.1,\"#c51b7d\"],[0.2,\"#de77ae\"],[0.3,\"#f1b6da\"],[0.4,\"#fde0ef\"],[0.5,\"#f7f7f7\"],[0.6,\"#e6f5d0\"],[0.7,\"#b8e186\"],[0.8,\"#7fbc41\"],[0.9,\"#4d9221\"],[1,\"#276419\"]]},\"xaxis\":{\"gridcolor\":\"white\",\"linecolor\":\"white\",\"ticks\":\"\",\"title\":{\"standoff\":15},\"zerolinecolor\":\"white\",\"automargin\":true,\"zerolinewidth\":2},\"yaxis\":{\"gridcolor\":\"white\",\"linecolor\":\"white\",\"ticks\":\"\",\"title\":{\"standoff\":15},\"zerolinecolor\":\"white\",\"automargin\":true,\"zerolinewidth\":2},\"scene\":{\"xaxis\":{\"backgroundcolor\":\"#E5ECF6\",\"gridcolor\":\"white\",\"linecolor\":\"white\",\"showbackground\":true,\"ticks\":\"\",\"zerolinecolor\":\"white\",\"gridwidth\":2},\"yaxis\":{\"backgroundcolor\":\"#E5ECF6\",\"gridcolor\":\"white\",\"linecolor\":\"white\",\"showbackground\":true,\"ticks\":\"\",\"zerolinecolor\":\"white\",\"gridwidth\":2},\"zaxis\":{\"backgroundcolor\":\"#E5ECF6\",\"gridcolor\":\"white\",\"linecolor\":\"white\",\"showbackground\":true,\"ticks\":\"\",\"zerolinecolor\":\"white\",\"gridwidth\":2}},\"shapedefaults\":{\"line\":{\"color\":\"#2a3f5f\"}},\"annotationdefaults\":{\"arrowcolor\":\"#2a3f5f\",\"arrowhead\":0,\"arrowwidth\":1},\"geo\":{\"bgcolor\":\"white\",\"landcolor\":\"#E5ECF6\",\"subunitcolor\":\"white\",\"showland\":true,\"showlakes\":true,\"lakecolor\":\"white\"},\"title\":{\"x\":0.05},\"mapbox\":{\"style\":\"light\"}}},\"title\":{\"font\":{\"size\":24,\"color\":\"darkblue\"},\"text\":\"Cross-species stage-MG SAMap Similarity Analysis\"},\"font\":{\"size\":14},\"margin\":{\"l\":60,\"r\":60,\"t\":60,\"b\":60},\"paper_bgcolor\":\"white\",\"plot_bgcolor\":\"white\",\"height\":600,\"width\":900},                        {\"responsive\": true}                    ).then(function(){\n",
       "                            \n",
       "var gd = document.getElementById('419b068f-0e90-4481-b556-f257858832e5');\n",
       "var x = new MutationObserver(function (mutations, observer) {{\n",
       "        var display = window.getComputedStyle(gd).display;\n",
       "        if (!display || display === 'none') {{\n",
       "            console.log([gd, 'removed!']);\n",
       "            Plotly.purge(gd);\n",
       "            observer.disconnect();\n",
       "        }}\n",
       "}});\n",
       "\n",
       "// Listen for the removal of the full notebook cells\n",
       "var notebookContainer = gd.closest('#notebook-container');\n",
       "if (notebookContainer) {{\n",
       "    x.observe(notebookContainer, {childList: true});\n",
       "}}\n",
       "\n",
       "// Listen for the clearing of the current output cell\n",
       "var outputEl = gd.closest('.output');\n",
       "if (outputEl) {{\n",
       "    x.observe(outputEl, {childList: true});\n",
       "}}\n",
       "\n",
       "                        })                };                });            </script>        </div>"
      ]
     },
     "metadata": {},
     "output_type": "display_data"
    }
   ],
   "source": [
    "link_colors = [\n",
    "    f\"rgba({int(c[1:3], 16)}, {int(c[3:5], 16)}, {int(c[5:7], 16)}, 0.5)\"\n",
    "    for c in [node_colors[source] for source in sankey_links[\"source\"]]\n",
    "]\n",
    "\n",
    "# 修正和优化布局\n",
    "fig = go.Figure(go.Sankey(\n",
    "    node=dict(\n",
    "        pad=30,  # 调整间距，使节点间的布局更美观\n",
    "        thickness=25,  # 增加节点厚度，使视觉效果更协调\n",
    "        line=dict(color=\"black\", width=0.8),  # 调整节点边框\n",
    "        label=fix_nodes,  # 节点标签\n",
    "        color=node_colors,  # 使用已分配的节点颜色\n",
    "    ),\n",
    "    link=dict(\n",
    "        source=sankey_links[\"source\"],  # 链接起点\n",
    "        target=sankey_links[\"target\"],  # 链接终点\n",
    "        value=sankey_links[\"value\"],  # 权重\n",
    "        color=link_colors,  # 链接颜色透明化\n",
    "    )\n",
    "))\n",
    "\n",
    "# 确保每一列数据的 y 轴长度一致\n",
    "fig.update_traces(arrangement=\"snap\")  # 使用 snap 模式使布局整齐\n",
    "\n",
    "# 更新布局\n",
    "fig.update_layout(\n",
    "    title_text=\"Cross-species stage-MG SAMap Similarity Analysis\",  # 英文标题\n",
    "    title_font=dict(size=24, color=\"darkblue\"),  # 标题字体大小和颜色\n",
    "    font_size=14,  # 全局字体大小\n",
    "    paper_bgcolor=\"white\",  # 图表背景颜色\n",
    "    plot_bgcolor=\"white\",  # 绘图区背景颜色\n",
    "    margin=dict(l=60, r=60, t=60, b=60),  # 调整边距\n",
    "    height=600,  # 调整图表高度\n",
    "    width=900   # 调整图表宽度\n",
    ")"
   ]
  },
  {
   "cell_type": "code",
   "execution_count": 86,
   "id": "c949cd14-5338-4de5-8b17-34d4b7a3b4db",
   "metadata": {},
   "outputs": [],
   "source": [
    "fig.write_html(\"sankey_diagram_interactive-3MG-stage-all.html\")"
   ]
  },
  {
   "cell_type": "code",
   "execution_count": null,
   "id": "bdf7116a-7b59-4af2-b085-477ab1fe2a00",
   "metadata": {},
   "outputs": [],
   "source": []
  },
  {
   "cell_type": "code",
   "execution_count": null,
   "id": "1b7db652-3db4-48ce-8ca8-eb3a9db34a0e",
   "metadata": {},
   "outputs": [],
   "source": []
  }
 ],
 "metadata": {
  "kernelspec": {
   "display_name": "Python 3.10 Scanpy",
   "language": "python",
   "name": "py310"
  },
  "language_info": {
   "codemirror_mode": {
    "name": "ipython",
    "version": 3
   },
   "file_extension": ".py",
   "mimetype": "text/x-python",
   "name": "python",
   "nbconvert_exporter": "python",
   "pygments_lexer": "ipython3",
   "version": "3.10.15"
  }
 },
 "nbformat": 4,
 "nbformat_minor": 5
}
