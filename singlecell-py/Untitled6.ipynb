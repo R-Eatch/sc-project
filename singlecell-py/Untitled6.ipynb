{
 "cells": [
  {
   "cell_type": "code",
   "execution_count": null,
   "id": "826b093b-ec95-4440-8f8c-595777dc04c6",
   "metadata": {},
   "outputs": [],
   "source": []
  },
  {
   "cell_type": "code",
   "execution_count": 1,
   "id": "3338887d-2729-4fd6-95c8-e65cedc18098",
   "metadata": {},
   "outputs": [],
   "source": [
    "import scanpy as sc\n",
    "import pandas as pd\n",
    "import os\n",
    "import matplotlib.pyplot as plt\n",
    "import seaborn as sns # 用于绘制更美观的折线图"
   ]
  },
  {
   "cell_type": "code",
   "execution_count": null,
   "id": "858ae4ec-9f1c-4056-83f6-d28ae6bee9c7",
   "metadata": {},
   "outputs": [],
   "source": []
  },
  {
   "cell_type": "code",
   "execution_count": 2,
   "id": "d0ab7db5-2f90-4508-a938-cd6db0b51ee6",
   "metadata": {},
   "outputs": [],
   "source": [
    "# --- 1. 设置参数 ---\n",
    "\n",
    "# 数据集列表\n",
    "datasetlist = ['M-MG', 'R-MG', 'S-MG', 'R-AG', 'R-CG', 'S-AG']\n",
    "# 数据文件所在目录\n",
    "data_path = \"D:/111/\"\n",
    "# 输出图表保存目录\n",
    "\n",
    "\n",
    "# 模块 A: 乳腺泌乳基因\n",
    "module_a_genes = ['Lalba', 'Elf5', 'Prlr']\n",
    "module_a_name = 'Lactation_Score'\n",
    "\n",
    "# 模块 B: RANKL, LIF/LIFR, TNF 相关基因 (小鼠)\n",
    "module_b_genes = ['Wnt6','Lef1','Procr']\n",
    "module_b_name = 'masc_Score'\n",
    "\n",
    "# AnnData 对象中的列名\n",
    "cell_type_key = 'newcelltype' # 细胞类型注释列名\n",
    "stage_key = 'stage'          # 阶段注释列名\n",
    "\n",
    "\n",
    "# 可视化参数\n",
    "umap_cmap = 'viridis'\n",
    "lineplot_palette = \"tab10\" # 为折线图选择一个颜色方案"
   ]
  },
  {
   "cell_type": "code",
   "execution_count": 3,
   "id": "1b0e59f9-1089-49e4-8dca-d6a18b114b9e",
   "metadata": {},
   "outputs": [],
   "source": [
    "# --- 2. 定义辅助函数 ---\n",
    "\n",
    "def check_and_score_genes(adata, gene_list, module_name):\n",
    "    \"\"\"检查基因存在性并计算模块分数\"\"\"\n",
    "    print(f\"  计算模块: {module_name}\")\n",
    "    genes_in_adata = adata.var_names.tolist()\n",
    "    genes_present = [gene for gene in gene_list if gene in genes_in_adata]\n",
    "    genes_missing = [gene for gene in gene_list if gene not in genes_in_adata]\n",
    "    adata.X=adata.layers['normalized']\n",
    "    print(f\"    存在于数据中的基因 ({len(genes_present)}): {genes_present}\")\n",
    "    if genes_missing:\n",
    "        print(f\"    警告: 以下基因不在数据中，将被忽略 ({len(genes_missing)}): {genes_missing}\")\n",
    "\n",
    "    if not genes_present:\n",
    "        print(f\"    错误: 模块 '{module_name}' 中没有任何基因存在于数据中，无法计算分数。\")\n",
    "        return False\n",
    "    else:\n",
    "        # 使用指定的层进行计算\n",
    "        sc.tl.score_genes(\n",
    "            adata,\n",
    "            gene_list=genes_present,\n",
    "            score_name=module_name,\n",
    "            ctrl_size=min(len(genes_present), 50),\n",
    "            n_bins=25,\n",
    "            use_raw=False # 明确不使用 .raw\n",
    "        )\n",
    "        print(f\"    分数已计算并添加到 adata.obs['{module_name}']\")\n",
    "        return True\n",
    "\n",
    "#"
   ]
  },
  {
   "cell_type": "code",
   "execution_count": 4,
   "id": "ee7f4a7a-c7b6-439f-b95f-c4dbd549ab71",
   "metadata": {},
   "outputs": [
    {
     "name": "stdout",
     "output_type": "stream",
     "text": [
      "\n",
      "======= 开始处理数据集: M-MG =======\n",
      "加载数据: D:/111/M-MG_cleaned.h5ad\n",
      "数据加载完成: AnnData object with n_obs × n_vars = 10880 × 12088\n",
      "    obs: 'sample', 'n_genes_by_counts', 'total_counts', 'doublet_score', 'predicted_doublet', 'gland', 'stage_old', 'log1p_n_genes_by_counts', 'log1p_total_counts', 'total_counts_MT', 'pct_counts_MT', 'log1p_total_counts_MT', 'total_counts_RIBO', 'pct_counts_RIBO', 'log1p_total_counts_RIBO', 'leiden', 'anno', 'stage_new', 'species', 'celltype', 'stage', 'cellid', 'initial_size_unspliced', 'initial_size_spliced', 'initial_size', 'newcelltype', 'subtype'\n",
      "    var: 'Accession', 'Chromosome', 'End', 'Start', 'Strand', 'highly_variable', 'means', 'dispersions', 'dispersions_norm', 'mean', 'std'\n",
      "    uns: 'dendrogram_leiden', 'gland_colors', 'hvg', 'leiden', 'leiden_colors', 'log1p', 'neighbors', 'newcelltype_colors', 'pca', 'rank_genes_groups', 'sample_colors', 'stage_colors', 'subtype_colors', 'umap'\n",
      "    obsm: 'X_pca', 'X_pca_harmony', 'X_umap'\n",
      "    varm: 'PCs'\n",
      "    layers: 'ambiguous', 'counts', 'matrix', 'normalized', 'spliced', 'unspliced'\n",
      "    obsp: 'connectivities', 'distances'\n",
      "  计算模块: Lactation_Score\n",
      "    存在于数据中的基因 (3): ['Lalba', 'Elf5', 'Prlr']\n"
     ]
    },
    {
     "name": "stderr",
     "output_type": "stream",
     "text": [
      "C:\\Users\\Lenovo\\AppData\\Local\\Temp\\ipykernel_7776\\251400696.py:29: DeprecationWarning: is_categorical_dtype is deprecated and will be removed in a future version. Use isinstance(dtype, pd.CategoricalDtype) instead\n",
      "  if not pd.api.types.is_categorical_dtype(adata.obs[stage_key]):\n"
     ]
    },
    {
     "name": "stdout",
     "output_type": "stream",
     "text": [
      "    分数已计算并添加到 adata.obs['Lactation_Score']\n",
      "  计算模块: masc_Score\n",
      "    存在于数据中的基因 (3): ['Wnt6', 'Lef1', 'Procr']\n",
      "    分数已计算并添加到 adata.obs['masc_Score']\n",
      "  绘制 UMAP 图...\n",
      "WARNING: saving figure to file figures\\umap_M-MG_umap_scores.png\n",
      "WARNING: saving figure to file figures\\violin_M-MG_violin_scores.png\n",
      "  绘制阶段性折线图...\n"
     ]
    },
    {
     "name": "stderr",
     "output_type": "stream",
     "text": [
      "C:\\Users\\Lenovo\\AppData\\Local\\Temp\\ipykernel_7776\\251400696.py:71: FutureWarning: The default of observed=False is deprecated and will be changed to True in a future version of pandas. Pass observed=False to retain current behavior or observed=True to adopt the future default and silence this warning.\n",
      "  mean_scores = plot_data.groupby([stage_key, cell_type_key]).mean().reset_index()\n",
      "C:\\Users\\Lenovo\\AppData\\Local\\Temp\\ipykernel_7776\\251400696.py:75: DeprecationWarning: is_categorical_dtype is deprecated and will be removed in a future version. Use isinstance(dtype, pd.CategoricalDtype) instead\n",
      "  if pd.api.types.is_categorical_dtype(mean_scores[stage_key]) and mean_scores[stage_key].cat.ordered:\n"
     ]
    },
    {
     "name": "stdout",
     "output_type": "stream",
     "text": [
      "======= 数据集 M-MG 处理完成 =======\n",
      "\n",
      "======= 开始处理数据集: R-MG =======\n",
      "加载数据: D:/111/R-MG_cleaned.h5ad\n",
      "数据加载完成: AnnData object with n_obs × n_vars = 19235 × 12088\n",
      "    obs: 'sample', 'n_genes_by_counts', 'total_counts', 'doublet_score', 'predicted_doublet', 'gland', 'stage_old', 'log1p_n_genes_by_counts', 'log1p_total_counts', 'total_counts_MT', 'pct_counts_MT', 'log1p_total_counts_MT', 'total_counts_RIBO', 'pct_counts_RIBO', 'log1p_total_counts_RIBO', 'leiden', 'anno', 'stage_new', 'species', 'celltype', 'stage', 'cellid', 'initial_size_unspliced', 'initial_size_spliced', 'initial_size', 'newcelltype', 'subtype'\n",
      "    var: 'Accession', 'Chromosome', 'End', 'Start', 'Strand', 'highly_variable', 'means', 'dispersions', 'dispersions_norm', 'mean', 'std'\n",
      "    uns: 'dendrogram_leiden', 'gland_colors', 'hvg', 'leiden', 'leiden_colors', 'log1p', 'neighbors', 'newcelltype_colors', 'pca', 'rank_genes_groups', 'sample_colors', 'stage_colors', 'subtype_colors', 'umap'\n",
      "    obsm: 'X_pca', 'X_pca_harmony', 'X_umap'\n",
      "    varm: 'PCs'\n",
      "    layers: 'ambiguous', 'counts', 'matrix', 'normalized', 'spliced', 'unspliced'\n",
      "    obsp: 'connectivities', 'distances'\n",
      "  计算模块: Lactation_Score\n",
      "    存在于数据中的基因 (3): ['Lalba', 'Elf5', 'Prlr']\n"
     ]
    },
    {
     "name": "stderr",
     "output_type": "stream",
     "text": [
      "C:\\Users\\Lenovo\\AppData\\Local\\Temp\\ipykernel_7776\\251400696.py:29: DeprecationWarning: is_categorical_dtype is deprecated and will be removed in a future version. Use isinstance(dtype, pd.CategoricalDtype) instead\n",
      "  if not pd.api.types.is_categorical_dtype(adata.obs[stage_key]):\n"
     ]
    },
    {
     "name": "stdout",
     "output_type": "stream",
     "text": [
      "    分数已计算并添加到 adata.obs['Lactation_Score']\n",
      "  计算模块: masc_Score\n",
      "    存在于数据中的基因 (3): ['Wnt6', 'Lef1', 'Procr']\n",
      "    分数已计算并添加到 adata.obs['masc_Score']\n",
      "  绘制 UMAP 图...\n",
      "WARNING: saving figure to file figures\\umap_R-MG_umap_scores.png\n",
      "WARNING: saving figure to file figures\\violin_R-MG_violin_scores.png\n",
      "  绘制阶段性折线图...\n"
     ]
    },
    {
     "name": "stderr",
     "output_type": "stream",
     "text": [
      "C:\\Users\\Lenovo\\AppData\\Local\\Temp\\ipykernel_7776\\251400696.py:71: FutureWarning: The default of observed=False is deprecated and will be changed to True in a future version of pandas. Pass observed=False to retain current behavior or observed=True to adopt the future default and silence this warning.\n",
      "  mean_scores = plot_data.groupby([stage_key, cell_type_key]).mean().reset_index()\n",
      "C:\\Users\\Lenovo\\AppData\\Local\\Temp\\ipykernel_7776\\251400696.py:75: DeprecationWarning: is_categorical_dtype is deprecated and will be removed in a future version. Use isinstance(dtype, pd.CategoricalDtype) instead\n",
      "  if pd.api.types.is_categorical_dtype(mean_scores[stage_key]) and mean_scores[stage_key].cat.ordered:\n"
     ]
    },
    {
     "name": "stdout",
     "output_type": "stream",
     "text": [
      "======= 数据集 R-MG 处理完成 =======\n",
      "\n",
      "======= 开始处理数据集: S-MG =======\n",
      "加载数据: D:/111/S-MG_cleaned.h5ad\n",
      "数据加载完成: AnnData object with n_obs × n_vars = 22855 × 12088\n",
      "    obs: 'sample', 'n_genes_by_counts', 'total_counts', 'doublet_score', 'predicted_doublet', 'gland', 'stage_old', 'log1p_n_genes_by_counts', 'log1p_total_counts', 'total_counts_MT', 'pct_counts_MT', 'log1p_total_counts_MT', 'total_counts_RIBO', 'pct_counts_RIBO', 'log1p_total_counts_RIBO', 'leiden', 'anno', 'stage_new', 'species', 'celltype', 'stage', 'cellid', 'initial_size_unspliced', 'initial_size_spliced', 'initial_size', 'newcelltype', 'subtype'\n",
      "    var: 'Accession', 'Chromosome', 'End', 'Start', 'Strand', 'highly_variable', 'means', 'dispersions', 'dispersions_norm', 'mean', 'std'\n",
      "    uns: 'dendrogram_leiden', 'gland_colors', 'hvg', 'leiden', 'leiden_colors', 'log1p', 'neighbors', 'newcelltype_colors', 'pca', 'rank_genes_groups', 'sample_colors', 'stage_colors', 'subtype_colors', 'umap'\n",
      "    obsm: 'X_pca', 'X_pca_harmony', 'X_umap'\n",
      "    varm: 'PCs'\n",
      "    layers: 'ambiguous', 'counts', 'matrix', 'normalized', 'spliced', 'unspliced'\n",
      "    obsp: 'connectivities', 'distances'\n",
      "  计算模块: Lactation_Score\n",
      "    存在于数据中的基因 (3): ['Lalba', 'Elf5', 'Prlr']\n"
     ]
    },
    {
     "name": "stderr",
     "output_type": "stream",
     "text": [
      "C:\\Users\\Lenovo\\AppData\\Local\\Temp\\ipykernel_7776\\251400696.py:29: DeprecationWarning: is_categorical_dtype is deprecated and will be removed in a future version. Use isinstance(dtype, pd.CategoricalDtype) instead\n",
      "  if not pd.api.types.is_categorical_dtype(adata.obs[stage_key]):\n"
     ]
    },
    {
     "name": "stdout",
     "output_type": "stream",
     "text": [
      "    分数已计算并添加到 adata.obs['Lactation_Score']\n",
      "  计算模块: masc_Score\n",
      "    存在于数据中的基因 (3): ['Wnt6', 'Lef1', 'Procr']\n",
      "    分数已计算并添加到 adata.obs['masc_Score']\n",
      "  绘制 UMAP 图...\n",
      "WARNING: saving figure to file figures\\umap_S-MG_umap_scores.png\n",
      "WARNING: saving figure to file figures\\violin_S-MG_violin_scores.png\n",
      "  绘制阶段性折线图...\n"
     ]
    },
    {
     "name": "stderr",
     "output_type": "stream",
     "text": [
      "C:\\Users\\Lenovo\\AppData\\Local\\Temp\\ipykernel_7776\\251400696.py:71: FutureWarning: The default of observed=False is deprecated and will be changed to True in a future version of pandas. Pass observed=False to retain current behavior or observed=True to adopt the future default and silence this warning.\n",
      "  mean_scores = plot_data.groupby([stage_key, cell_type_key]).mean().reset_index()\n",
      "C:\\Users\\Lenovo\\AppData\\Local\\Temp\\ipykernel_7776\\251400696.py:75: DeprecationWarning: is_categorical_dtype is deprecated and will be removed in a future version. Use isinstance(dtype, pd.CategoricalDtype) instead\n",
      "  if pd.api.types.is_categorical_dtype(mean_scores[stage_key]) and mean_scores[stage_key].cat.ordered:\n"
     ]
    },
    {
     "name": "stdout",
     "output_type": "stream",
     "text": [
      "======= 数据集 S-MG 处理完成 =======\n",
      "\n",
      "======= 开始处理数据集: R-AG =======\n",
      "加载数据: D:/111/R-AG_cleaned.h5ad\n",
      "数据加载完成: AnnData object with n_obs × n_vars = 20422 × 12088\n",
      "    obs: 'sample', 'n_genes_by_counts', 'total_counts', 'doublet_score', 'predicted_doublet', 'gland', 'stage_old', 'log1p_n_genes_by_counts', 'log1p_total_counts', 'total_counts_MT', 'pct_counts_MT', 'log1p_total_counts_MT', 'total_counts_RIBO', 'pct_counts_RIBO', 'log1p_total_counts_RIBO', 'leiden', 'anno', 'stage_new', 'species', 'celltype', 'stage', 'cellid', 'initial_size_unspliced', 'initial_size_spliced', 'initial_size', 'newcelltype', 'subtype'\n",
      "    var: 'Accession', 'Chromosome', 'End', 'Start', 'Strand', 'highly_variable', 'means', 'dispersions', 'dispersions_norm', 'mean', 'std'\n",
      "    uns: 'dendrogram_leiden', 'gland_colors', 'hvg', 'leiden', 'leiden_colors', 'log1p', 'neighbors', 'newcelltype_colors', 'pca', 'rank_genes_groups', 'sample_colors', 'stage_colors', 'subtype_colors', 'umap'\n",
      "    obsm: 'X_pca', 'X_pca_harmony', 'X_umap'\n",
      "    varm: 'PCs'\n",
      "    layers: 'ambiguous', 'counts', 'matrix', 'normalized', 'spliced', 'unspliced'\n",
      "    obsp: 'connectivities', 'distances'\n",
      "  计算模块: Lactation_Score\n",
      "    存在于数据中的基因 (3): ['Lalba', 'Elf5', 'Prlr']\n"
     ]
    },
    {
     "name": "stderr",
     "output_type": "stream",
     "text": [
      "C:\\Users\\Lenovo\\AppData\\Local\\Temp\\ipykernel_7776\\251400696.py:29: DeprecationWarning: is_categorical_dtype is deprecated and will be removed in a future version. Use isinstance(dtype, pd.CategoricalDtype) instead\n",
      "  if not pd.api.types.is_categorical_dtype(adata.obs[stage_key]):\n"
     ]
    },
    {
     "name": "stdout",
     "output_type": "stream",
     "text": [
      "    分数已计算并添加到 adata.obs['Lactation_Score']\n",
      "  计算模块: masc_Score\n",
      "    存在于数据中的基因 (3): ['Wnt6', 'Lef1', 'Procr']\n",
      "    分数已计算并添加到 adata.obs['masc_Score']\n",
      "  绘制 UMAP 图...\n",
      "WARNING: saving figure to file figures\\umap_R-AG_umap_scores.png\n",
      "WARNING: saving figure to file figures\\violin_R-AG_violin_scores.png\n",
      "  绘制阶段性折线图...\n"
     ]
    },
    {
     "name": "stderr",
     "output_type": "stream",
     "text": [
      "C:\\Users\\Lenovo\\AppData\\Local\\Temp\\ipykernel_7776\\251400696.py:71: FutureWarning: The default of observed=False is deprecated and will be changed to True in a future version of pandas. Pass observed=False to retain current behavior or observed=True to adopt the future default and silence this warning.\n",
      "  mean_scores = plot_data.groupby([stage_key, cell_type_key]).mean().reset_index()\n",
      "C:\\Users\\Lenovo\\AppData\\Local\\Temp\\ipykernel_7776\\251400696.py:75: DeprecationWarning: is_categorical_dtype is deprecated and will be removed in a future version. Use isinstance(dtype, pd.CategoricalDtype) instead\n",
      "  if pd.api.types.is_categorical_dtype(mean_scores[stage_key]) and mean_scores[stage_key].cat.ordered:\n"
     ]
    },
    {
     "name": "stdout",
     "output_type": "stream",
     "text": [
      "======= 数据集 R-AG 处理完成 =======\n",
      "\n",
      "======= 开始处理数据集: R-CG =======\n",
      "加载数据: D:/111/R-CG_cleaned.h5ad\n",
      "数据加载完成: AnnData object with n_obs × n_vars = 37627 × 12088\n",
      "    obs: 'sample', 'n_genes_by_counts', 'total_counts', 'doublet_score', 'predicted_doublet', 'gland', 'stage_old', 'log1p_n_genes_by_counts', 'log1p_total_counts', 'total_counts_MT', 'pct_counts_MT', 'log1p_total_counts_MT', 'total_counts_RIBO', 'pct_counts_RIBO', 'log1p_total_counts_RIBO', 'leiden', 'anno', 'stage_new', 'species', 'celltype', 'stage', 'cellid', 'initial_size_unspliced', 'initial_size_spliced', 'initial_size', 'newcelltype', 'subtype'\n",
      "    var: 'Accession', 'Chromosome', 'End', 'Start', 'Strand', 'highly_variable', 'means', 'dispersions', 'dispersions_norm', 'mean', 'std'\n",
      "    uns: 'dendrogram_leiden', 'gland_colors', 'hvg', 'leiden', 'leiden_colors', 'log1p', 'neighbors', 'newcelltype_colors', 'pca', 'rank_genes_groups', 'sample_colors', 'stage_colors', 'subtype_colors', 'umap'\n",
      "    obsm: 'X_pca', 'X_pca_harmony', 'X_umap'\n",
      "    varm: 'PCs'\n",
      "    layers: 'ambiguous', 'counts', 'matrix', 'normalized', 'spliced', 'unspliced'\n",
      "    obsp: 'connectivities', 'distances'\n",
      "  计算模块: Lactation_Score\n",
      "    存在于数据中的基因 (3): ['Lalba', 'Elf5', 'Prlr']\n"
     ]
    },
    {
     "name": "stderr",
     "output_type": "stream",
     "text": [
      "C:\\Users\\Lenovo\\AppData\\Local\\Temp\\ipykernel_7776\\251400696.py:29: DeprecationWarning: is_categorical_dtype is deprecated and will be removed in a future version. Use isinstance(dtype, pd.CategoricalDtype) instead\n",
      "  if not pd.api.types.is_categorical_dtype(adata.obs[stage_key]):\n"
     ]
    },
    {
     "name": "stdout",
     "output_type": "stream",
     "text": [
      "    分数已计算并添加到 adata.obs['Lactation_Score']\n",
      "  计算模块: masc_Score\n",
      "    存在于数据中的基因 (3): ['Wnt6', 'Lef1', 'Procr']\n",
      "    分数已计算并添加到 adata.obs['masc_Score']\n",
      "  绘制 UMAP 图...\n",
      "WARNING: saving figure to file figures\\umap_R-CG_umap_scores.png\n",
      "WARNING: saving figure to file figures\\violin_R-CG_violin_scores.png\n",
      "  绘制阶段性折线图...\n"
     ]
    },
    {
     "name": "stderr",
     "output_type": "stream",
     "text": [
      "C:\\Users\\Lenovo\\AppData\\Local\\Temp\\ipykernel_7776\\251400696.py:71: FutureWarning: The default of observed=False is deprecated and will be changed to True in a future version of pandas. Pass observed=False to retain current behavior or observed=True to adopt the future default and silence this warning.\n",
      "  mean_scores = plot_data.groupby([stage_key, cell_type_key]).mean().reset_index()\n",
      "C:\\Users\\Lenovo\\AppData\\Local\\Temp\\ipykernel_7776\\251400696.py:75: DeprecationWarning: is_categorical_dtype is deprecated and will be removed in a future version. Use isinstance(dtype, pd.CategoricalDtype) instead\n",
      "  if pd.api.types.is_categorical_dtype(mean_scores[stage_key]) and mean_scores[stage_key].cat.ordered:\n"
     ]
    },
    {
     "name": "stdout",
     "output_type": "stream",
     "text": [
      "======= 数据集 R-CG 处理完成 =======\n",
      "\n",
      "======= 开始处理数据集: S-AG =======\n",
      "加载数据: D:/111/S-AG_cleaned.h5ad\n",
      "数据加载完成: AnnData object with n_obs × n_vars = 18859 × 12088\n",
      "    obs: 'sample', 'n_genes_by_counts', 'total_counts', 'doublet_score', 'predicted_doublet', 'gland', 'stage_old', 'log1p_n_genes_by_counts', 'log1p_total_counts', 'total_counts_MT', 'pct_counts_MT', 'log1p_total_counts_MT', 'total_counts_RIBO', 'pct_counts_RIBO', 'log1p_total_counts_RIBO', 'leiden', 'anno', 'stage_new', 'species', 'celltype', 'stage', 'cellid', 'initial_size_unspliced', 'initial_size_spliced', 'initial_size', 'newcelltype', 'subtype'\n",
      "    var: 'Accession', 'Chromosome', 'End', 'Start', 'Strand', 'highly_variable', 'means', 'dispersions', 'dispersions_norm', 'mean', 'std'\n",
      "    uns: 'dendrogram_leiden', 'gland_colors', 'hvg', 'leiden', 'leiden_colors', 'log1p', 'neighbors', 'newcelltype_colors', 'pca', 'rank_genes_groups', 'sample_colors', 'stage_colors', 'subtype_colors', 'umap'\n",
      "    obsm: 'X_pca', 'X_pca_harmony', 'X_umap'\n",
      "    varm: 'PCs'\n",
      "    layers: 'ambiguous', 'counts', 'matrix', 'normalized', 'spliced', 'unspliced'\n",
      "    obsp: 'connectivities', 'distances'\n",
      "  计算模块: Lactation_Score\n",
      "    存在于数据中的基因 (3): ['Lalba', 'Elf5', 'Prlr']\n"
     ]
    },
    {
     "name": "stderr",
     "output_type": "stream",
     "text": [
      "C:\\Users\\Lenovo\\AppData\\Local\\Temp\\ipykernel_7776\\251400696.py:29: DeprecationWarning: is_categorical_dtype is deprecated and will be removed in a future version. Use isinstance(dtype, pd.CategoricalDtype) instead\n",
      "  if not pd.api.types.is_categorical_dtype(adata.obs[stage_key]):\n"
     ]
    },
    {
     "name": "stdout",
     "output_type": "stream",
     "text": [
      "    分数已计算并添加到 adata.obs['Lactation_Score']\n",
      "  计算模块: masc_Score\n",
      "    存在于数据中的基因 (3): ['Wnt6', 'Lef1', 'Procr']\n",
      "    分数已计算并添加到 adata.obs['masc_Score']\n",
      "  绘制 UMAP 图...\n",
      "WARNING: saving figure to file figures\\umap_S-AG_umap_scores.png\n",
      "WARNING: saving figure to file figures\\violin_S-AG_violin_scores.png\n",
      "  绘制阶段性折线图...\n"
     ]
    },
    {
     "name": "stderr",
     "output_type": "stream",
     "text": [
      "C:\\Users\\Lenovo\\AppData\\Local\\Temp\\ipykernel_7776\\251400696.py:71: FutureWarning: The default of observed=False is deprecated and will be changed to True in a future version of pandas. Pass observed=False to retain current behavior or observed=True to adopt the future default and silence this warning.\n",
      "  mean_scores = plot_data.groupby([stage_key, cell_type_key]).mean().reset_index()\n",
      "C:\\Users\\Lenovo\\AppData\\Local\\Temp\\ipykernel_7776\\251400696.py:75: DeprecationWarning: is_categorical_dtype is deprecated and will be removed in a future version. Use isinstance(dtype, pd.CategoricalDtype) instead\n",
      "  if pd.api.types.is_categorical_dtype(mean_scores[stage_key]) and mean_scores[stage_key].cat.ordered:\n"
     ]
    },
    {
     "name": "stdout",
     "output_type": "stream",
     "text": [
      "======= 数据集 S-AG 处理完成 =======\n"
     ]
    }
   ],
   "source": [
    "# --- 3. 批量处理 ---\n",
    "\n",
    "for dataset in datasetlist:\n",
    "    print(f\"\\n======= 开始处理数据集: {dataset} =======\")\n",
    "    adata_file = f\"{data_path}{dataset}_cleaned.h5ad\"\n",
    "\n",
    "    # --- 3.1 加载数据 ---\n",
    "    try:\n",
    "        print(f\"加载数据: {adata_file}\")\n",
    "        adata = sc.read_h5ad(adata_file)\n",
    "        print(f\"数据加载完成: {adata}\")\n",
    "    except FileNotFoundError:\n",
    "        print(f\"错误: 文件未找到 {adata_file}，跳过此数据集。\")\n",
    "        continue\n",
    "    if cell_type_key not in adata.obs.columns:\n",
    "        print(f\"错误: 细胞类型列 '{cell_type_key}' 在 {dataset} 中未找到。跳过此数据集。\")\n",
    "        continue\n",
    "    if stage_key not in adata.obs.columns:\n",
    "        print(f\"错误: 阶段列 '{stage_key}' 在 {dataset} 中未找到。跳过此数据集。\")\n",
    "        continue\n",
    "    if 'X_umap' not in adata.obsm:\n",
    "        print(f\"警告: {dataset} 中未找到 'X_umap' embedding。UMAP 图将无法绘制。\")\n",
    "\n",
    "    # 将 stage 列转为 Categorical 并排序（如果需要，假设 stage 有特定顺序）\n",
    "    # 如果你的 stage 是 P1, P2 ... L1, L2 这种，可能需要自定义排序\n",
    "    # 例如: stage_order = ['P1', 'P2', 'P3', 'L1', 'L2', 'L3']\n",
    "    # adata.obs[stage_key] = pd.Categorical(adata.obs[stage_key], categories=stage_order, ordered=True)\n",
    "    # 否则，它会按字母/数字顺序排序\n",
    "    if not pd.api.types.is_categorical_dtype(adata.obs[stage_key]):\n",
    "        adata.obs[stage_key] = adata.obs[stage_key].astype('category')\n",
    "        # 如果需要特定顺序，在这里设置 categories 和 ordered=True\n",
    "        # print(f\"将 {stage_key} 列转换为 category 类型。当前顺序: {adata.obs[stage_key].cat.categories.tolist()}\")\n",
    "\n",
    "\n",
    "    # --- 3.3 计算模块分数 ---\n",
    "    score_a_success = check_and_score_genes(adata, module_a_genes, module_a_name)\n",
    "    score_b_success = check_and_score_genes(adata, module_b_genes, module_b_name)\n",
    "\n",
    "    # --- 3.4 可视化 ---\n",
    "    if 'X_umap' in adata.obsm:\n",
    "        print(\"  绘制 UMAP 图...\")\n",
    "        sc.pl.umap(\n",
    "            adata,\n",
    "            color=[module_a_name, module_b_name] if score_a_success and score_b_success else \\\n",
    "                  ([module_a_name] if score_a_success else []) + ([module_b_name] if score_b_success else []),\n",
    "            cmap=umap_cmap,\n",
    "            title=[f'{dataset} - {module_a_name}', f'{dataset} - {module_b_name}'],\n",
    "            save=f'_{dataset}_umap_scores.png',\n",
    "            show=False,\n",
    "            ncols=1 # 每个图占一行\n",
    "        )\n",
    "\n",
    "    if score_a_success or score_b_success:\n",
    "        sc.pl.violin(\n",
    "            adata,\n",
    "            keys=[module_a_name] * score_a_success + [module_b_name] * score_b_success, # 只包含成功计算的分数\n",
    "            groupby=cell_type_key,\n",
    "            rotation=90,\n",
    "            save=f'_{dataset}_violin_scores.png',\n",
    "            show=False\n",
    "        )\n",
    "\n",
    "    print(\"  绘制阶段性折线图...\")\n",
    "    if score_a_success or score_b_success:\n",
    "        # 提取需要的数据\n",
    "        plot_data = adata.obs[[cell_type_key, stage_key] + \\\n",
    "                              ([module_a_name] if score_a_success else []) + \\\n",
    "                              ([module_b_name] if score_b_success else [])].copy()\n",
    "\n",
    "        # 计算每个 stage 和 celltype 的平均分数\n",
    "        mean_scores = plot_data.groupby([stage_key, cell_type_key]).mean().reset_index()\n",
    "\n",
    "        # 获取 stage 的排序（如果已设置为 categorical ordered）\n",
    "        stage_order = None\n",
    "        if pd.api.types.is_categorical_dtype(mean_scores[stage_key]) and mean_scores[stage_key].cat.ordered:\n",
    "            stage_order = mean_scores[stage_key].cat.categories.tolist()\n",
    "\n",
    "\n",
    "        # 分别为每个模块绘制折线图\n",
    "        plt.figure(figsize=(10, 6)) # 创建新的 figure\n",
    "        if score_a_success:\n",
    "            sns.lineplot(data=mean_scores, x=stage_key, y=module_a_name, hue=cell_type_key,\n",
    "                         marker='o', palette=lineplot_palette, sort= stage_order is None) # 如果没有预设顺序，seaborn 会尝试排序\n",
    "            plt.title(f'{dataset} - Average {module_a_name} by Stage and Cell Type')\n",
    "            plt.ylabel(f'Average {module_a_name}')\n",
    "            plt.xlabel('Stage')\n",
    "            plt.xticks(rotation=45, ha='right')\n",
    "            plt.tight_layout() # 调整布局防止标签重叠\n",
    "            plt.savefig(f'{dataset}_lineplot_{module_a_name}.png', dpi=300)\n",
    "            plt.close() # 关闭当前 figure，为下一个图做准备\n",
    "\n",
    "        if score_b_success:\n",
    "            plt.figure(figsize=(10, 6)) # 创建新的 figure\n",
    "            sns.lineplot(data=mean_scores, x=stage_key, y=module_b_name, hue=cell_type_key,\n",
    "                         marker='o', palette=lineplot_palette, sort= stage_order is None)\n",
    "            plt.title(f'{dataset} - Average {module_b_name} by Stage and Cell Type')\n",
    "            plt.ylabel(f'Average {module_b_name}')\n",
    "            plt.xlabel('Stage')\n",
    "            plt.xticks(rotation=45, ha='right')\n",
    "            plt.tight_layout()\n",
    "            plt.savefig(f'{dataset}_lineplot_{module_b_name}.png', dpi=300)\n",
    "            plt.close() # 关闭当前 figure\n",
    "\n",
    "    print(f\"======= 数据集 {dataset} 处理完成 =======\")\n",
    "\n",
    "    # (可选) 释放内存\n",
    "    del adata\n",
    "    import gc\n",
    "    gc.collect()"
   ]
  },
  {
   "cell_type": "code",
   "execution_count": 5,
   "id": "a8117a3e-a911-4135-8624-c1db7758b9d8",
   "metadata": {},
   "outputs": [
    {
     "name": "stdout",
     "output_type": "stream",
     "text": [
      "\n",
      "所有数据集处理完毕。\n"
     ]
    },
    {
     "ename": "NameError",
     "evalue": "name 'output_dir' is not defined",
     "output_type": "error",
     "traceback": [
      "\u001b[1;31m---------------------------------------------------------------------------\u001b[0m",
      "\u001b[1;31mNameError\u001b[0m                                 Traceback (most recent call last)",
      "Cell \u001b[1;32mIn[5], line 2\u001b[0m\n\u001b[0;32m      1\u001b[0m \u001b[38;5;28mprint\u001b[39m(\u001b[38;5;124m\"\u001b[39m\u001b[38;5;130;01m\\n\u001b[39;00m\u001b[38;5;124m所有数据集处理完毕。\u001b[39m\u001b[38;5;124m\"\u001b[39m)\n\u001b[1;32m----> 2\u001b[0m \u001b[38;5;28mprint\u001b[39m(\u001b[38;5;124mf\u001b[39m\u001b[38;5;124m\"\u001b[39m\u001b[38;5;124m结果图表已保存到: \u001b[39m\u001b[38;5;132;01m{\u001b[39;00moutput_dir\u001b[38;5;132;01m}\u001b[39;00m\u001b[38;5;124m\"\u001b[39m)\n",
      "\u001b[1;31mNameError\u001b[0m: name 'output_dir' is not defined"
     ]
    }
   ],
   "source": [
    "print(\"\\n所有数据集处理完毕。\")\n",
    "print(f\"结果图表已保存到: {output_dir}\")"
   ]
  },
  {
   "cell_type": "code",
   "execution_count": null,
   "id": "8fa9a191-8a63-41c4-a861-b12cd2670233",
   "metadata": {},
   "outputs": [],
   "source": []
  }
 ],
 "metadata": {
  "kernelspec": {
   "display_name": "Python 3.10 Scanpy",
   "language": "python",
   "name": "py310"
  },
  "language_info": {
   "codemirror_mode": {
    "name": "ipython",
    "version": 3
   },
   "file_extension": ".py",
   "mimetype": "text/x-python",
   "name": "python",
   "nbconvert_exporter": "python",
   "pygments_lexer": "ipython3",
   "version": "3.10.15"
  }
 },
 "nbformat": 4,
 "nbformat_minor": 5
}
