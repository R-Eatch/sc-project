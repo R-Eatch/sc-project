{
 "cells": [
  {
   "cell_type": "code",
   "execution_count": 22,
   "id": "4fb997aa-9861-4749-9391-20b1c8452fbe",
   "metadata": {},
   "outputs": [],
   "source": [
    "import scanpy as sc\n",
    "import gc\n",
    "##############################\n",
    "genes_to_plot = [\n",
    "    \"Sbsn\", \"Dmkn\", \"Rbp2\", \"Serpinb2\", \"Sult2b1\", \"Cyp4f39\", \"Ovol1\",\n",
    "    \"Ly6g6c\", \"Cers3\", \"Gltp\", \"Cryba4\", \"Spink5\", \"Scin\", \"Iffo2\",\n",
    "    \"Tmem40\", \"Il1rl2\", \"Clip4\", \"Dsp\", \"Ggh\", \"Prom2\", \"Rhov\", \"Cltb\",\n",
    "    \"Hopx\", \"Mall\", \"Mboat1\", \"Lrrc1\", \"Trim29\", \"Pkp1\"\n",
    "]\n",
    "obs_list=['newcelltype','stage']\n",
    "##############################\n",
    "datasetlist = ['M-MG',\n",
    "               'R-MG',\n",
    "               'S-MG', \n",
    "               'R-AG',\n",
    "                'R-CG',\n",
    "                'S-AG'\n",
    "              ]\n",
    "data_path = \"/data01/sunxuebo/project/scrnaseq/v8-python/\""
   ]
  },
  {
   "cell_type": "code",
   "execution_count": null,
   "id": "f6910523-06e9-4f97-bfb3-09ab061fdc3e",
   "metadata": {},
   "outputs": [],
   "source": [
    "for dataset in datasetlist:\n",
    "    print(f\"正在处理数据集：{dataset}\")\n",
    "    adata = sc.read_h5ad(f\"{data_path}{dataset}/1.subset/{dataset}_cleaned.h5ad\")\n",
    "    adata.X=adata.layers['normalized']\n",
    "    valid_genes = [gene for gene in genes_to_plot if gene in adata.var_names or gene == 'newcelltype' or gene == 'stage']\n",
    "    valid_genes_for_umap=valid_genes+obs_list\n",
    "    sc.pl.umap(\n",
    "        adata,\n",
    "        color=valid_genes_for_umap,\n",
    "        color_map='viridis',\n",
    "        ncols=3,\n",
    "        frameon=False,\n",
    "        legend_loc='on data',\n",
    "        save=f\"_{dataset}_featureplot.png\",\n",
    "        show=False\n",
    "    )\n",
    "    # sc.pl.embedding(\n",
    "    # adata,\n",
    "    # basis='umap',         # Specify which embedding to use (essential!)\n",
    "    # color='pseudotime',\n",
    "    # color_map='plasma',\n",
    "    # frameon=False,\n",
    "    # colorbar_loc=None,\n",
    "    # title=f'{dataset}_pseudotime',# This is the key parameter to remove the colorbar\n",
    "    # save=f\"_{dataset}_pseudotime-umap.pdf\", # Consider a new filename\n",
    "    # show=True\n",
    "    # # You might experiment with the 'size' parameter if points are too large/small\n",
    "    # # size=10 # Example: Adjust marker size (default depends on data size)\n",
    "# )\n",
    "    for obs1 in obs_list:\n",
    "        sc.pl.violin(\n",
    "        adata,\n",
    "        keys= valid_genes,\n",
    "        groupby=obs1, \n",
    "        jitter=0.4,\n",
    "        rotation=90,\n",
    "        size=2,stripplot=False,save=f\"_{dataset}_{obs1}_violin.png\"\n",
    "        )\n",
    "    del adata\n",
    "    gc.collect()\n",
    "print(\"全部绘制完成，带标签的图片已保存至figures目录中。\")"
   ]
  }
 ],
 "metadata": {
  "kernelspec": {
   "display_name": "Python 3.10 Scanpy",
   "language": "python",
   "name": "py310"
  },
  "language_info": {
   "codemirror_mode": {
    "name": "ipython",
    "version": 3
   },
   "file_extension": ".py",
   "mimetype": "text/x-python",
   "name": "python",
   "nbconvert_exporter": "python",
   "pygments_lexer": "ipython3",
   "version": "3.10.15"
  }
 },
 "nbformat": 4,
 "nbformat_minor": 5
}
